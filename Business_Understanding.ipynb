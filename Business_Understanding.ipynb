{
  "nbformat": 4,
  "nbformat_minor": 0,
  "metadata": {
    "colab": {
      "provenance": [],
      "authorship_tag": "ABX9TyPshKYlBK99gvifOTc1tTom",
      "include_colab_link": true
    },
    "kernelspec": {
      "name": "python3",
      "display_name": "Python 3"
    },
    "language_info": {
      "name": "python"
    }
  },
  "cells": [
    {
      "cell_type": "markdown",
      "metadata": {
        "id": "view-in-github",
        "colab_type": "text"
      },
      "source": [
        "<a href=\"https://colab.research.google.com/github/muthmainnahaisyah/DATMIN_MINI_PROJECT/blob/main/Business_Understanding.ipynb\" target=\"_parent\"><img src=\"https://colab.research.google.com/assets/colab-badge.svg\" alt=\"Open In Colab\"/></a>"
      ]
    },
    {
      "cell_type": "markdown",
      "source": [
        "NAMA: MUTHMAINNAH AISYAH\n",
        "NIM: 2209116001\n",
        "KELAS: A1-2022"
      ],
      "metadata": {
        "id": "IMdFcTncurhF"
      }
    },
    {
      "cell_type": "markdown",
      "source": [
        "# **PREDIKSI PENJUALAN PRODUK SPAREPART MOTOR**"
      ],
      "metadata": {
        "id": "36E8Tn4NubI5"
      }
    },
    {
      "cell_type": "markdown",
      "source": [
        "## **BUSINESS UNDERSTANDING**\n",
        "\n",
        "**Tujuan Bisnis**\n",
        "\n",
        "Perusahaan distribusi sparepart motor ingin meningkatkan efisiensi operasional dan strategi pemasaran perusahaan untuk memenuhi kebutuhan pelanggan dengan lebih baik. Untuk memenuhi hal tersebut, perusahaan melakukan analisis dengan memprediksi penjualan produk sparepart. Dengan memprediksi penjualan produk sparepart motor dimasa mendatang, perusahaan dapat mengoptimalkan manajemen stok produk. Hal ini akan membantu perusahaan untuk menghindari stok berlebih yang dapat mengakibatkan pengeluaran yang tidak perlu, serta mengurangi risiko kekurangan barang yang menyebabkan mengecewakan pelanggan.\n",
        "\n",
        "\n",
        "**Menilai Situasi**\n",
        "\n",
        "Perusahaan menghadapi tantangan dalam memperkirakan permintaan sparepart motor dengan akurat, yang dapat menyebabkan stok berlebih atau kekurangan barang. Selain itu, perusahaan ingin memanfaatkan data penjualan sparepart motor untuk menganalisis pola dan tren penjualan perusahaan. Hal ini agar perusahaan dapat merencanakan strategi pemasaran yang lebih efektif dan mengambil keputusan yang lebih baik dalam memanajemen stok produk.\n",
        "\n",
        "**Tujuan Data Mining**\n",
        "\n",
        "Tujuan analisis data dilakukan untuk mengembangkan model prediksi untuk memperkirakan penjualan sparepart motor di masa mendatang berdasarkan data penjualan sparepart motor. Selain itu, model prediksi dikembangkan agar dapat membantu perusahaan dalam mengidentifikasi pola penjualan serta memprediksi permintaan di masa mendatang dengan tingkat akurasi yang tinggi. Sehingga, perusahaan dapat mengoptimalkan persediaan stok produk, meningkatkan efisiensi operasional, dan meningkatkan kepuasan pelanggan.\n",
        "\n",
        "**Perencanaan Proyek**\n",
        "\n",
        "Perencanaan proyek yang dilakukan pertama kali adalah dengan mengumpulkan data penjualan sparepart motor dari sumber yang tersedia. Kemudian, dari data tersebut di proses dan di analisis karakteristik serta pola dari data tersebut untuk mengidentifikasi tren penjualan.  Selanjutnya, dilakukan eksplorasi data yang berfokus pada hubungan antara variabel dalam data tersebut dan mengevaluasi data untuk mengetahui keakuratan dan kelengkapan informasi penjualan, lalu melakukan pengembangan model prediktif. Rencana proyek ini dilakukan untuk memastikan bahwa proyek yang dilakukan akan menghasilkan hasil yang relevan dan bermanfaat bagi perusahaan.\n"
      ],
      "metadata": {
        "id": "JkeEjZQ_u13y"
      }
    }
  ]
}