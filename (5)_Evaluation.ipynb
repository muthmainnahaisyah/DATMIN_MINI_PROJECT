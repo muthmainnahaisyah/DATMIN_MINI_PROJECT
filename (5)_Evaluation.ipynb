{
  "nbformat": 4,
  "nbformat_minor": 0,
  "metadata": {
    "colab": {
      "provenance": [],
      "authorship_tag": "ABX9TyNAhsMkXM36g35enCIoGdDL",
      "include_colab_link": true
    },
    "kernelspec": {
      "name": "python3",
      "display_name": "Python 3"
    },
    "language_info": {
      "name": "python"
    }
  },
  "cells": [
    {
      "cell_type": "markdown",
      "metadata": {
        "id": "view-in-github",
        "colab_type": "text"
      },
      "source": [
        "<a href=\"https://colab.research.google.com/github/muthmainnahaisyah/DATMIN_MINI_PROJECT/blob/main/(5)_Evaluation.ipynb\" target=\"_parent\"><img src=\"https://colab.research.google.com/assets/colab-badge.svg\" alt=\"Open In Colab\"/></a>"
      ]
    },
    {
      "cell_type": "markdown",
      "source": [
        "# **PREDIKSI PENJUALAN PRODUK SPAREPART MOTOR**"
      ],
      "metadata": {
        "id": "0qP4bSVnNrhr"
      }
    },
    {
      "cell_type": "markdown",
      "source": [
        "## **Import Library**"
      ],
      "metadata": {
        "id": "rpTxMWFBOyMh"
      }
    },
    {
      "cell_type": "code",
      "source": [
        "import pandas as pd\n",
        "import matplotlib.pyplot as plt\n",
        "import numpy as np\n",
        "import seaborn as sns"
      ],
      "metadata": {
        "id": "agcmeZA-Qj6F"
      },
      "execution_count": null,
      "outputs": []
    },
    {
      "cell_type": "code",
      "source": [
        "from sklearn.model_selection import train_test_split\n",
        "from sklearn.preprocessing import MinMaxScaler\n",
        "from sklearn.cluster import KMeans\n",
        "from sklearn.cluster import AgglomerativeClustering\n",
        "from sklearn.metrics import silhouette_score, calinski_harabasz_score, davies_bouldin_score\n",
        "from sklearn.feature_selection import SelectKBest, chi2\n",
        "from sklearn.model_selection import KFold"
      ],
      "metadata": {
        "id": "mWjYaMpeuBbU"
      },
      "execution_count": null,
      "outputs": []
    },
    {
      "cell_type": "markdown",
      "source": [
        "## **Business Understanding**"
      ],
      "metadata": {
        "id": "OUdd335CO6d7"
      }
    },
    {
      "cell_type": "markdown",
      "source": [
        "### **Business Objective**"
      ],
      "metadata": {
        "id": "tEA5XrwAP0_U"
      }
    },
    {
      "cell_type": "markdown",
      "source": [
        "Perusahaan distribusi sparepart motor ingin meningkatkan efisiensi operasional dan strategi pemasaran perusahaan untuk memenuhi kebutuhan pelanggan dengan lebih baik. Untuk memenuhi hal tersebut, perusahaan melakukan analisis dengan memprediksi penjualan produk sparepart. Dengan memprediksi penjualan produk sparepart motor dimasa mendatang, perusahaan dapat mengoptimalkan manajemen stok produk. Hal ini akan membantu perusahaan untuk menghindari stok berlebih yang dapat mengakibatkan pengeluaran yang tidak perlu, serta mengurangi risiko kekurangan barang yang menyebabkan mengecewakan pelanggan."
      ],
      "metadata": {
        "id": "4sKk42WXQ2lQ"
      }
    },
    {
      "cell_type": "markdown",
      "source": [
        "### **Assess Situation**"
      ],
      "metadata": {
        "id": "wGdvtYfyP8Sy"
      }
    },
    {
      "cell_type": "markdown",
      "source": [
        "Perusahaan menghadapi tantangan dalam memperkirakan permintaan sparepart motor dengan akurat, yang dapat menyebabkan stok berlebih atau kekurangan barang. Selain itu, perusahaan ingin memanfaatkan data penjualan sparepart motor untuk menganalisis pola dan tren penjualan perusahaan. Hal ini agar perusahaan dapat merencanakan strategi pemasaran yang lebih efektif dan mengambil keputusan yang lebih baik dalam memanajemen stok produk."
      ],
      "metadata": {
        "id": "NHNLarthQ9mE"
      }
    },
    {
      "cell_type": "markdown",
      "source": [
        "### **Data Mining Goals**"
      ],
      "metadata": {
        "id": "WrBtLtT1QD-N"
      }
    },
    {
      "cell_type": "markdown",
      "source": [
        "Tujuan analisis data dilakukan untuk mengembangkan model prediksi untuk memperkirakan penjualan sparepart motor di masa mendatang berdasarkan data penjualan sparepart motor. Selain itu, model prediksi dikembangkan agar dapat membantu perusahaan dalam mengidentifikasi pola penjualan serta memprediksi permintaan di masa mendatang dengan tingkat akurasi yang tinggi. Sehingga, perusahaan dapat mengoptimalkan persediaan stok produk, meningkatkan efisiensi operasional, dan meningkatkan kepuasan pelanggan."
      ],
      "metadata": {
        "id": "HfQ0_DppRCaJ"
      }
    },
    {
      "cell_type": "markdown",
      "source": [
        "### **Project Plan**"
      ],
      "metadata": {
        "id": "SsmRM_1DQGqS"
      }
    },
    {
      "cell_type": "markdown",
      "source": [
        "Perencanaan proyek yang dilakukan pertama kali adalah dengan mengumpulkan data penjualan sparepart motor dari sumber yang tersedia. Kemudian, dari data tersebut di proses dan di analisis karakteristik serta pola dari data tersebut untuk mengidentifikasi tren penjualan.  Selanjutnya, dilakukan eksplorasi data yang berfokus pada hubungan antara variabel dalam data tersebut dan mengevaluasi data untuk mengetahui keakuratan dan kelengkapan informasi penjualan, lalu melakukan pengembangan model prediktif. Rencana proyek ini dilakukan untuk memastikan bahwa proyek yang dilakukan akan menghasilkan hasil yang relevan dan bermanfaat bagi perusahaan."
      ],
      "metadata": {
        "id": "t_wsbgn3RIrv"
      }
    },
    {
      "cell_type": "markdown",
      "source": [
        "## **Data Understanding**"
      ],
      "metadata": {
        "id": "82BDXtFlPSGx"
      }
    },
    {
      "cell_type": "markdown",
      "source": [
        "### **Collect Initial Data**"
      ],
      "metadata": {
        "id": "Q53glOVBQL3n"
      }
    },
    {
      "cell_type": "markdown",
      "source": [
        "Sumber data yang digunakan dalam analisis ini adalah dataset penjualan sparepart motor sebagai data publik yang di dapatkan melalui website kaggle. Lalu, dataset yang telah diunduh dari kaggle di ekspor pada github yang nantinya digunakan dalam analisis ini.\n",
        "\n",
        "**Link Dataset Kaggle:**\n",
        "\n",
        "* https://www.kaggle.com/datasets/devijeganath/motorcycle-sales-analysis/data?select=sales_data.csv\n",
        "\n",
        "\n",
        "**Link Dataset Github:**\n",
        "* https://raw.githubusercontent.com/muthmainnahaisyah/DATMIN_MINI_PROJECT/main/sales_data.csv\n"
      ],
      "metadata": {
        "id": "DOHAHggyU8tN"
      }
    },
    {
      "cell_type": "code",
      "source": [
        "df = pd.read_csv('https://raw.githubusercontent.com/muthmainnahaisyah/DATMIN_MINI_PROJECT/main/sales_data.csv')\n",
        "df.head()"
      ],
      "metadata": {
        "id": "AljLwdG0UaNw",
        "colab": {
          "base_uri": "https://localhost:8080/",
          "height": 206
        },
        "outputId": "2e7e518d-740f-4b2b-a78b-1413be9170c4"
      },
      "execution_count": null,
      "outputs": [
        {
          "output_type": "execute_result",
          "data": {
            "text/plain": [
              "         date warehouse client_type           product_line  quantity  \\\n",
              "0  2021-06-01   Central      Retail          Miscellaneous         8   \n",
              "1  2021-06-01     North      Retail        Breaking system         9   \n",
              "2  2021-06-01     North      Retail  Suspension & traction         8   \n",
              "3  2021-06-01     North   Wholesale           Frame & body        16   \n",
              "4  2021-06-01   Central      Retail                 Engine         2   \n",
              "\n",
              "   unit_price   total      payment  \n",
              "0       16.85  134.83  Credit card  \n",
              "1       19.29  173.61         Cash  \n",
              "2       32.93  263.45  Credit card  \n",
              "3       37.84  605.44     Transfer  \n",
              "4       60.48  120.96  Credit card  "
            ],
            "text/html": [
              "\n",
              "  <div id=\"df-dfaa06eb-5ec4-4e8e-a992-83d81bd64db9\" class=\"colab-df-container\">\n",
              "    <div>\n",
              "<style scoped>\n",
              "    .dataframe tbody tr th:only-of-type {\n",
              "        vertical-align: middle;\n",
              "    }\n",
              "\n",
              "    .dataframe tbody tr th {\n",
              "        vertical-align: top;\n",
              "    }\n",
              "\n",
              "    .dataframe thead th {\n",
              "        text-align: right;\n",
              "    }\n",
              "</style>\n",
              "<table border=\"1\" class=\"dataframe\">\n",
              "  <thead>\n",
              "    <tr style=\"text-align: right;\">\n",
              "      <th></th>\n",
              "      <th>date</th>\n",
              "      <th>warehouse</th>\n",
              "      <th>client_type</th>\n",
              "      <th>product_line</th>\n",
              "      <th>quantity</th>\n",
              "      <th>unit_price</th>\n",
              "      <th>total</th>\n",
              "      <th>payment</th>\n",
              "    </tr>\n",
              "  </thead>\n",
              "  <tbody>\n",
              "    <tr>\n",
              "      <th>0</th>\n",
              "      <td>2021-06-01</td>\n",
              "      <td>Central</td>\n",
              "      <td>Retail</td>\n",
              "      <td>Miscellaneous</td>\n",
              "      <td>8</td>\n",
              "      <td>16.85</td>\n",
              "      <td>134.83</td>\n",
              "      <td>Credit card</td>\n",
              "    </tr>\n",
              "    <tr>\n",
              "      <th>1</th>\n",
              "      <td>2021-06-01</td>\n",
              "      <td>North</td>\n",
              "      <td>Retail</td>\n",
              "      <td>Breaking system</td>\n",
              "      <td>9</td>\n",
              "      <td>19.29</td>\n",
              "      <td>173.61</td>\n",
              "      <td>Cash</td>\n",
              "    </tr>\n",
              "    <tr>\n",
              "      <th>2</th>\n",
              "      <td>2021-06-01</td>\n",
              "      <td>North</td>\n",
              "      <td>Retail</td>\n",
              "      <td>Suspension &amp; traction</td>\n",
              "      <td>8</td>\n",
              "      <td>32.93</td>\n",
              "      <td>263.45</td>\n",
              "      <td>Credit card</td>\n",
              "    </tr>\n",
              "    <tr>\n",
              "      <th>3</th>\n",
              "      <td>2021-06-01</td>\n",
              "      <td>North</td>\n",
              "      <td>Wholesale</td>\n",
              "      <td>Frame &amp; body</td>\n",
              "      <td>16</td>\n",
              "      <td>37.84</td>\n",
              "      <td>605.44</td>\n",
              "      <td>Transfer</td>\n",
              "    </tr>\n",
              "    <tr>\n",
              "      <th>4</th>\n",
              "      <td>2021-06-01</td>\n",
              "      <td>Central</td>\n",
              "      <td>Retail</td>\n",
              "      <td>Engine</td>\n",
              "      <td>2</td>\n",
              "      <td>60.48</td>\n",
              "      <td>120.96</td>\n",
              "      <td>Credit card</td>\n",
              "    </tr>\n",
              "  </tbody>\n",
              "</table>\n",
              "</div>\n",
              "    <div class=\"colab-df-buttons\">\n",
              "\n",
              "  <div class=\"colab-df-container\">\n",
              "    <button class=\"colab-df-convert\" onclick=\"convertToInteractive('df-dfaa06eb-5ec4-4e8e-a992-83d81bd64db9')\"\n",
              "            title=\"Convert this dataframe to an interactive table.\"\n",
              "            style=\"display:none;\">\n",
              "\n",
              "  <svg xmlns=\"http://www.w3.org/2000/svg\" height=\"24px\" viewBox=\"0 -960 960 960\">\n",
              "    <path d=\"M120-120v-720h720v720H120Zm60-500h600v-160H180v160Zm220 220h160v-160H400v160Zm0 220h160v-160H400v160ZM180-400h160v-160H180v160Zm440 0h160v-160H620v160ZM180-180h160v-160H180v160Zm440 0h160v-160H620v160Z\"/>\n",
              "  </svg>\n",
              "    </button>\n",
              "\n",
              "  <style>\n",
              "    .colab-df-container {\n",
              "      display:flex;\n",
              "      gap: 12px;\n",
              "    }\n",
              "\n",
              "    .colab-df-convert {\n",
              "      background-color: #E8F0FE;\n",
              "      border: none;\n",
              "      border-radius: 50%;\n",
              "      cursor: pointer;\n",
              "      display: none;\n",
              "      fill: #1967D2;\n",
              "      height: 32px;\n",
              "      padding: 0 0 0 0;\n",
              "      width: 32px;\n",
              "    }\n",
              "\n",
              "    .colab-df-convert:hover {\n",
              "      background-color: #E2EBFA;\n",
              "      box-shadow: 0px 1px 2px rgba(60, 64, 67, 0.3), 0px 1px 3px 1px rgba(60, 64, 67, 0.15);\n",
              "      fill: #174EA6;\n",
              "    }\n",
              "\n",
              "    .colab-df-buttons div {\n",
              "      margin-bottom: 4px;\n",
              "    }\n",
              "\n",
              "    [theme=dark] .colab-df-convert {\n",
              "      background-color: #3B4455;\n",
              "      fill: #D2E3FC;\n",
              "    }\n",
              "\n",
              "    [theme=dark] .colab-df-convert:hover {\n",
              "      background-color: #434B5C;\n",
              "      box-shadow: 0px 1px 3px 1px rgba(0, 0, 0, 0.15);\n",
              "      filter: drop-shadow(0px 1px 2px rgba(0, 0, 0, 0.3));\n",
              "      fill: #FFFFFF;\n",
              "    }\n",
              "  </style>\n",
              "\n",
              "    <script>\n",
              "      const buttonEl =\n",
              "        document.querySelector('#df-dfaa06eb-5ec4-4e8e-a992-83d81bd64db9 button.colab-df-convert');\n",
              "      buttonEl.style.display =\n",
              "        google.colab.kernel.accessAllowed ? 'block' : 'none';\n",
              "\n",
              "      async function convertToInteractive(key) {\n",
              "        const element = document.querySelector('#df-dfaa06eb-5ec4-4e8e-a992-83d81bd64db9');\n",
              "        const dataTable =\n",
              "          await google.colab.kernel.invokeFunction('convertToInteractive',\n",
              "                                                    [key], {});\n",
              "        if (!dataTable) return;\n",
              "\n",
              "        const docLinkHtml = 'Like what you see? Visit the ' +\n",
              "          '<a target=\"_blank\" href=https://colab.research.google.com/notebooks/data_table.ipynb>data table notebook</a>'\n",
              "          + ' to learn more about interactive tables.';\n",
              "        element.innerHTML = '';\n",
              "        dataTable['output_type'] = 'display_data';\n",
              "        await google.colab.output.renderOutput(dataTable, element);\n",
              "        const docLink = document.createElement('div');\n",
              "        docLink.innerHTML = docLinkHtml;\n",
              "        element.appendChild(docLink);\n",
              "      }\n",
              "    </script>\n",
              "  </div>\n",
              "\n",
              "\n",
              "<div id=\"df-e585fb51-cf1a-4c78-9a3d-585d4c720990\">\n",
              "  <button class=\"colab-df-quickchart\" onclick=\"quickchart('df-e585fb51-cf1a-4c78-9a3d-585d4c720990')\"\n",
              "            title=\"Suggest charts\"\n",
              "            style=\"display:none;\">\n",
              "\n",
              "<svg xmlns=\"http://www.w3.org/2000/svg\" height=\"24px\"viewBox=\"0 0 24 24\"\n",
              "     width=\"24px\">\n",
              "    <g>\n",
              "        <path d=\"M19 3H5c-1.1 0-2 .9-2 2v14c0 1.1.9 2 2 2h14c1.1 0 2-.9 2-2V5c0-1.1-.9-2-2-2zM9 17H7v-7h2v7zm4 0h-2V7h2v10zm4 0h-2v-4h2v4z\"/>\n",
              "    </g>\n",
              "</svg>\n",
              "  </button>\n",
              "\n",
              "<style>\n",
              "  .colab-df-quickchart {\n",
              "      --bg-color: #E8F0FE;\n",
              "      --fill-color: #1967D2;\n",
              "      --hover-bg-color: #E2EBFA;\n",
              "      --hover-fill-color: #174EA6;\n",
              "      --disabled-fill-color: #AAA;\n",
              "      --disabled-bg-color: #DDD;\n",
              "  }\n",
              "\n",
              "  [theme=dark] .colab-df-quickchart {\n",
              "      --bg-color: #3B4455;\n",
              "      --fill-color: #D2E3FC;\n",
              "      --hover-bg-color: #434B5C;\n",
              "      --hover-fill-color: #FFFFFF;\n",
              "      --disabled-bg-color: #3B4455;\n",
              "      --disabled-fill-color: #666;\n",
              "  }\n",
              "\n",
              "  .colab-df-quickchart {\n",
              "    background-color: var(--bg-color);\n",
              "    border: none;\n",
              "    border-radius: 50%;\n",
              "    cursor: pointer;\n",
              "    display: none;\n",
              "    fill: var(--fill-color);\n",
              "    height: 32px;\n",
              "    padding: 0;\n",
              "    width: 32px;\n",
              "  }\n",
              "\n",
              "  .colab-df-quickchart:hover {\n",
              "    background-color: var(--hover-bg-color);\n",
              "    box-shadow: 0 1px 2px rgba(60, 64, 67, 0.3), 0 1px 3px 1px rgba(60, 64, 67, 0.15);\n",
              "    fill: var(--button-hover-fill-color);\n",
              "  }\n",
              "\n",
              "  .colab-df-quickchart-complete:disabled,\n",
              "  .colab-df-quickchart-complete:disabled:hover {\n",
              "    background-color: var(--disabled-bg-color);\n",
              "    fill: var(--disabled-fill-color);\n",
              "    box-shadow: none;\n",
              "  }\n",
              "\n",
              "  .colab-df-spinner {\n",
              "    border: 2px solid var(--fill-color);\n",
              "    border-color: transparent;\n",
              "    border-bottom-color: var(--fill-color);\n",
              "    animation:\n",
              "      spin 1s steps(1) infinite;\n",
              "  }\n",
              "\n",
              "  @keyframes spin {\n",
              "    0% {\n",
              "      border-color: transparent;\n",
              "      border-bottom-color: var(--fill-color);\n",
              "      border-left-color: var(--fill-color);\n",
              "    }\n",
              "    20% {\n",
              "      border-color: transparent;\n",
              "      border-left-color: var(--fill-color);\n",
              "      border-top-color: var(--fill-color);\n",
              "    }\n",
              "    30% {\n",
              "      border-color: transparent;\n",
              "      border-left-color: var(--fill-color);\n",
              "      border-top-color: var(--fill-color);\n",
              "      border-right-color: var(--fill-color);\n",
              "    }\n",
              "    40% {\n",
              "      border-color: transparent;\n",
              "      border-right-color: var(--fill-color);\n",
              "      border-top-color: var(--fill-color);\n",
              "    }\n",
              "    60% {\n",
              "      border-color: transparent;\n",
              "      border-right-color: var(--fill-color);\n",
              "    }\n",
              "    80% {\n",
              "      border-color: transparent;\n",
              "      border-right-color: var(--fill-color);\n",
              "      border-bottom-color: var(--fill-color);\n",
              "    }\n",
              "    90% {\n",
              "      border-color: transparent;\n",
              "      border-bottom-color: var(--fill-color);\n",
              "    }\n",
              "  }\n",
              "</style>\n",
              "\n",
              "  <script>\n",
              "    async function quickchart(key) {\n",
              "      const quickchartButtonEl =\n",
              "        document.querySelector('#' + key + ' button');\n",
              "      quickchartButtonEl.disabled = true;  // To prevent multiple clicks.\n",
              "      quickchartButtonEl.classList.add('colab-df-spinner');\n",
              "      try {\n",
              "        const charts = await google.colab.kernel.invokeFunction(\n",
              "            'suggestCharts', [key], {});\n",
              "      } catch (error) {\n",
              "        console.error('Error during call to suggestCharts:', error);\n",
              "      }\n",
              "      quickchartButtonEl.classList.remove('colab-df-spinner');\n",
              "      quickchartButtonEl.classList.add('colab-df-quickchart-complete');\n",
              "    }\n",
              "    (() => {\n",
              "      let quickchartButtonEl =\n",
              "        document.querySelector('#df-e585fb51-cf1a-4c78-9a3d-585d4c720990 button');\n",
              "      quickchartButtonEl.style.display =\n",
              "        google.colab.kernel.accessAllowed ? 'block' : 'none';\n",
              "    })();\n",
              "  </script>\n",
              "</div>\n",
              "    </div>\n",
              "  </div>\n"
            ],
            "application/vnd.google.colaboratory.intrinsic+json": {
              "type": "dataframe",
              "variable_name": "df",
              "summary": "{\n  \"name\": \"df\",\n  \"rows\": 1000,\n  \"fields\": [\n    {\n      \"column\": \"date\",\n      \"properties\": {\n        \"dtype\": \"object\",\n        \"num_unique_values\": 89,\n        \"samples\": [\n          \"2021-07-15\",\n          \"2021-07-24\",\n          \"2021-07-01\"\n        ],\n        \"semantic_type\": \"\",\n        \"description\": \"\"\n      }\n    },\n    {\n      \"column\": \"warehouse\",\n      \"properties\": {\n        \"dtype\": \"category\",\n        \"num_unique_values\": 3,\n        \"samples\": [\n          \"Central\",\n          \"North\",\n          \"West\"\n        ],\n        \"semantic_type\": \"\",\n        \"description\": \"\"\n      }\n    },\n    {\n      \"column\": \"client_type\",\n      \"properties\": {\n        \"dtype\": \"category\",\n        \"num_unique_values\": 2,\n        \"samples\": [\n          \"Wholesale\",\n          \"Retail\"\n        ],\n        \"semantic_type\": \"\",\n        \"description\": \"\"\n      }\n    },\n    {\n      \"column\": \"product_line\",\n      \"properties\": {\n        \"dtype\": \"category\",\n        \"num_unique_values\": 6,\n        \"samples\": [\n          \"Miscellaneous\",\n          \"Breaking system\"\n        ],\n        \"semantic_type\": \"\",\n        \"description\": \"\"\n      }\n    },\n    {\n      \"column\": \"quantity\",\n      \"properties\": {\n        \"dtype\": \"number\",\n        \"std\": 9,\n        \"min\": 1,\n        \"max\": 40,\n        \"num_unique_values\": 18,\n        \"samples\": [\n          8,\n          9\n        ],\n        \"semantic_type\": \"\",\n        \"description\": \"\"\n      }\n    },\n    {\n      \"column\": \"unit_price\",\n      \"properties\": {\n        \"dtype\": \"number\",\n        \"std\": 12.256488034397837,\n        \"min\": 10.03,\n        \"max\": 66.62,\n        \"num_unique_values\": 875,\n        \"samples\": [\n          40.67,\n          26.76\n        ],\n        \"semantic_type\": \"\",\n        \"description\": \"\"\n      }\n    },\n    {\n      \"column\": \"total\",\n      \"properties\": {\n        \"dtype\": \"number\",\n        \"std\": 345.2275964463851,\n        \"min\": 10.35,\n        \"max\": 2546.33,\n        \"num_unique_values\": 990,\n        \"samples\": [\n          115.15,\n          28.83\n        ],\n        \"semantic_type\": \"\",\n        \"description\": \"\"\n      }\n    },\n    {\n      \"column\": \"payment\",\n      \"properties\": {\n        \"dtype\": \"category\",\n        \"num_unique_values\": 3,\n        \"samples\": [\n          \"Credit card\",\n          \"Cash\"\n        ],\n        \"semantic_type\": \"\",\n        \"description\": \"\"\n      }\n    }\n  ]\n}"
            }
          },
          "metadata": {},
          "execution_count": 4
        }
      ]
    },
    {
      "cell_type": "markdown",
      "source": [
        "### **Describe Data**"
      ],
      "metadata": {
        "id": "jqUVvChEQQao"
      }
    },
    {
      "cell_type": "markdown",
      "source": [
        "#### **Informasi Dasar**"
      ],
      "metadata": {
        "id": "93Gv08t-YWmn"
      }
    },
    {
      "cell_type": "code",
      "source": [
        "num_rows, num_columns = df.shape\n",
        "\n",
        "print(f\"Jumlah Baris: {num_rows}\")\n",
        "print(f\"Jumlah Kolom: {num_columns}\")"
      ],
      "metadata": {
        "colab": {
          "base_uri": "https://localhost:8080/"
        },
        "id": "_z6vhD0kmBJs",
        "outputId": "f470245c-4f30-4684-d1c8-65bb10f3ace7"
      },
      "execution_count": null,
      "outputs": [
        {
          "output_type": "stream",
          "name": "stdout",
          "text": [
            "Jumlah Baris: 1000\n",
            "Jumlah Kolom: 8\n"
          ]
        }
      ]
    },
    {
      "cell_type": "markdown",
      "source": [
        "Dalam dataset penjualan sparepart motor terdiri dari **1000 baris** dan **8 kolom**. Maksudnya disini adalah terdapat sejumlah **1000 record** data penjualan sparepart motor dengan mencakup **8 kolom**."
      ],
      "metadata": {
        "id": "xKp6ktIcrmZe"
      }
    },
    {
      "cell_type": "code",
      "source": [
        "df.count()"
      ],
      "metadata": {
        "colab": {
          "base_uri": "https://localhost:8080/"
        },
        "id": "q-B9aW60wHSS",
        "outputId": "f7ac1fdf-3610-475e-db7c-db145dd20e29"
      },
      "execution_count": null,
      "outputs": [
        {
          "output_type": "execute_result",
          "data": {
            "text/plain": [
              "date            1000\n",
              "warehouse       1000\n",
              "client_type     1000\n",
              "product_line    1000\n",
              "quantity        1000\n",
              "unit_price      1000\n",
              "total           1000\n",
              "payment         1000\n",
              "dtype: int64"
            ]
          },
          "metadata": {},
          "execution_count": 6
        }
      ]
    },
    {
      "cell_type": "markdown",
      "source": [
        "Dengan fungsi count() ditampilkan jumlah record pada setiap kolom. Jadi, ditampilkan nama-nama kolom pada dataset dan dapat dilihat pada setiap kolom terdapat record data yang sama, yaitu **1000**."
      ],
      "metadata": {
        "id": "mJcJpZeewSfa"
      }
    },
    {
      "cell_type": "markdown",
      "source": [
        "#### **Informasi Lanjutan**"
      ],
      "metadata": {
        "id": "9zWa-cVxYihd"
      }
    },
    {
      "cell_type": "code",
      "source": [
        "df.info()"
      ],
      "metadata": {
        "colab": {
          "base_uri": "https://localhost:8080/"
        },
        "id": "Cpv7pqchmCFN",
        "outputId": "620cab77-cd95-4a5e-89d0-eb052aaf1bf8"
      },
      "execution_count": null,
      "outputs": [
        {
          "output_type": "stream",
          "name": "stdout",
          "text": [
            "<class 'pandas.core.frame.DataFrame'>\n",
            "RangeIndex: 1000 entries, 0 to 999\n",
            "Data columns (total 8 columns):\n",
            " #   Column        Non-Null Count  Dtype  \n",
            "---  ------        --------------  -----  \n",
            " 0   date          1000 non-null   object \n",
            " 1   warehouse     1000 non-null   object \n",
            " 2   client_type   1000 non-null   object \n",
            " 3   product_line  1000 non-null   object \n",
            " 4   quantity      1000 non-null   int64  \n",
            " 5   unit_price    1000 non-null   float64\n",
            " 6   total         1000 non-null   float64\n",
            " 7   payment       1000 non-null   object \n",
            "dtypes: float64(2), int64(1), object(5)\n",
            "memory usage: 62.6+ KB\n"
          ]
        }
      ]
    },
    {
      "cell_type": "markdown",
      "source": [
        "Informasi lebih detail mengenai struktur dataset mencakup kolom, non-null count, dan tipe data. Total kolom dalam dataset penjualan sparepart motor adalah **8 kolom**. Tipe data dari kolom-kolom dalam dataset ini terdapat **3 jenis**, yaitu **object/string**, **integer**, dan **float**. Berikut adalah penjelasannya:\n",
        "\n",
        "\n",
        "1. **\"date\"** : Tanggal transaksi pembelian sparepart motor. Non-Null Countnya adalah 1000 dengan tipe data kolom adalah object/string.\n",
        "2. **\"warehouse\"** : Gudang penyimpanan produk. Non-Null Countnya adalah 1000 dengan tipe data kolom adalah object/string.\n",
        "3. **\"client_type\"** : Tipe pelanggan saat melakukan pembelian. Non-Null Countnya adalah 1000 dengan tipe data kolom adalah object/string.\n",
        "4. **\"product_line\"** : Jenis produk sparepart motor. Non-Null Countnya adalah 1000 dengan tipe data kolom adalah object/string.\n",
        "5. **\"quantity\"** : Jumlah unit dari setiap produk. Non-Null Countnya adalah 1000 dengan tipe data kolom adalah integer.\n",
        "6. **\"unit_price\"** : Harga satuan dari setiap produk. Non-Null Countnya adalah 1000 dengan tipe data kolom adalah float.\n",
        "7. **\"total\"** : Total harga transaksi. Non-Null Countnya adalah 1000 dengan tipe data kolom adalah float.\n",
        "8. **\"payment\"** : Jenis pembayaran saat transaksi. Non-Null Countnya adalah 1000 dengan tipe data kolom adalah object/string.\n",
        "\n"
      ],
      "metadata": {
        "id": "ompwM7a4uVkG"
      }
    },
    {
      "cell_type": "markdown",
      "source": [
        "#### **Informasi Statistik Deskriptif**"
      ],
      "metadata": {
        "id": "hcL2WvWmYnAR"
      }
    },
    {
      "cell_type": "markdown",
      "source": [
        "##### Data Numerik"
      ],
      "metadata": {
        "id": "mxkoNrrEuHpj"
      }
    },
    {
      "cell_type": "code",
      "source": [
        "df.describe()"
      ],
      "metadata": {
        "colab": {
          "base_uri": "https://localhost:8080/",
          "height": 300
        },
        "id": "IHWb5W5xF7LK",
        "outputId": "d40b7cca-4342-446a-c295-2fd63f722040"
      },
      "execution_count": null,
      "outputs": [
        {
          "output_type": "execute_result",
          "data": {
            "text/plain": [
              "          quantity   unit_price        total\n",
              "count  1000.000000  1000.000000  1000.000000\n",
              "mean      9.395000    30.322040   289.113000\n",
              "std       9.659207    12.256488   345.227596\n",
              "min       1.000000    10.030000    10.350000\n",
              "25%       4.000000    21.085000    93.687500\n",
              "50%       6.500000    28.570000   178.360000\n",
              "75%      10.000000    37.917500   321.690000\n",
              "max      40.000000    66.620000  2546.330000"
            ],
            "text/html": [
              "\n",
              "  <div id=\"df-2024fb78-515a-4b82-bd40-a11fdd424817\" class=\"colab-df-container\">\n",
              "    <div>\n",
              "<style scoped>\n",
              "    .dataframe tbody tr th:only-of-type {\n",
              "        vertical-align: middle;\n",
              "    }\n",
              "\n",
              "    .dataframe tbody tr th {\n",
              "        vertical-align: top;\n",
              "    }\n",
              "\n",
              "    .dataframe thead th {\n",
              "        text-align: right;\n",
              "    }\n",
              "</style>\n",
              "<table border=\"1\" class=\"dataframe\">\n",
              "  <thead>\n",
              "    <tr style=\"text-align: right;\">\n",
              "      <th></th>\n",
              "      <th>quantity</th>\n",
              "      <th>unit_price</th>\n",
              "      <th>total</th>\n",
              "    </tr>\n",
              "  </thead>\n",
              "  <tbody>\n",
              "    <tr>\n",
              "      <th>count</th>\n",
              "      <td>1000.000000</td>\n",
              "      <td>1000.000000</td>\n",
              "      <td>1000.000000</td>\n",
              "    </tr>\n",
              "    <tr>\n",
              "      <th>mean</th>\n",
              "      <td>9.395000</td>\n",
              "      <td>30.322040</td>\n",
              "      <td>289.113000</td>\n",
              "    </tr>\n",
              "    <tr>\n",
              "      <th>std</th>\n",
              "      <td>9.659207</td>\n",
              "      <td>12.256488</td>\n",
              "      <td>345.227596</td>\n",
              "    </tr>\n",
              "    <tr>\n",
              "      <th>min</th>\n",
              "      <td>1.000000</td>\n",
              "      <td>10.030000</td>\n",
              "      <td>10.350000</td>\n",
              "    </tr>\n",
              "    <tr>\n",
              "      <th>25%</th>\n",
              "      <td>4.000000</td>\n",
              "      <td>21.085000</td>\n",
              "      <td>93.687500</td>\n",
              "    </tr>\n",
              "    <tr>\n",
              "      <th>50%</th>\n",
              "      <td>6.500000</td>\n",
              "      <td>28.570000</td>\n",
              "      <td>178.360000</td>\n",
              "    </tr>\n",
              "    <tr>\n",
              "      <th>75%</th>\n",
              "      <td>10.000000</td>\n",
              "      <td>37.917500</td>\n",
              "      <td>321.690000</td>\n",
              "    </tr>\n",
              "    <tr>\n",
              "      <th>max</th>\n",
              "      <td>40.000000</td>\n",
              "      <td>66.620000</td>\n",
              "      <td>2546.330000</td>\n",
              "    </tr>\n",
              "  </tbody>\n",
              "</table>\n",
              "</div>\n",
              "    <div class=\"colab-df-buttons\">\n",
              "\n",
              "  <div class=\"colab-df-container\">\n",
              "    <button class=\"colab-df-convert\" onclick=\"convertToInteractive('df-2024fb78-515a-4b82-bd40-a11fdd424817')\"\n",
              "            title=\"Convert this dataframe to an interactive table.\"\n",
              "            style=\"display:none;\">\n",
              "\n",
              "  <svg xmlns=\"http://www.w3.org/2000/svg\" height=\"24px\" viewBox=\"0 -960 960 960\">\n",
              "    <path d=\"M120-120v-720h720v720H120Zm60-500h600v-160H180v160Zm220 220h160v-160H400v160Zm0 220h160v-160H400v160ZM180-400h160v-160H180v160Zm440 0h160v-160H620v160ZM180-180h160v-160H180v160Zm440 0h160v-160H620v160Z\"/>\n",
              "  </svg>\n",
              "    </button>\n",
              "\n",
              "  <style>\n",
              "    .colab-df-container {\n",
              "      display:flex;\n",
              "      gap: 12px;\n",
              "    }\n",
              "\n",
              "    .colab-df-convert {\n",
              "      background-color: #E8F0FE;\n",
              "      border: none;\n",
              "      border-radius: 50%;\n",
              "      cursor: pointer;\n",
              "      display: none;\n",
              "      fill: #1967D2;\n",
              "      height: 32px;\n",
              "      padding: 0 0 0 0;\n",
              "      width: 32px;\n",
              "    }\n",
              "\n",
              "    .colab-df-convert:hover {\n",
              "      background-color: #E2EBFA;\n",
              "      box-shadow: 0px 1px 2px rgba(60, 64, 67, 0.3), 0px 1px 3px 1px rgba(60, 64, 67, 0.15);\n",
              "      fill: #174EA6;\n",
              "    }\n",
              "\n",
              "    .colab-df-buttons div {\n",
              "      margin-bottom: 4px;\n",
              "    }\n",
              "\n",
              "    [theme=dark] .colab-df-convert {\n",
              "      background-color: #3B4455;\n",
              "      fill: #D2E3FC;\n",
              "    }\n",
              "\n",
              "    [theme=dark] .colab-df-convert:hover {\n",
              "      background-color: #434B5C;\n",
              "      box-shadow: 0px 1px 3px 1px rgba(0, 0, 0, 0.15);\n",
              "      filter: drop-shadow(0px 1px 2px rgba(0, 0, 0, 0.3));\n",
              "      fill: #FFFFFF;\n",
              "    }\n",
              "  </style>\n",
              "\n",
              "    <script>\n",
              "      const buttonEl =\n",
              "        document.querySelector('#df-2024fb78-515a-4b82-bd40-a11fdd424817 button.colab-df-convert');\n",
              "      buttonEl.style.display =\n",
              "        google.colab.kernel.accessAllowed ? 'block' : 'none';\n",
              "\n",
              "      async function convertToInteractive(key) {\n",
              "        const element = document.querySelector('#df-2024fb78-515a-4b82-bd40-a11fdd424817');\n",
              "        const dataTable =\n",
              "          await google.colab.kernel.invokeFunction('convertToInteractive',\n",
              "                                                    [key], {});\n",
              "        if (!dataTable) return;\n",
              "\n",
              "        const docLinkHtml = 'Like what you see? Visit the ' +\n",
              "          '<a target=\"_blank\" href=https://colab.research.google.com/notebooks/data_table.ipynb>data table notebook</a>'\n",
              "          + ' to learn more about interactive tables.';\n",
              "        element.innerHTML = '';\n",
              "        dataTable['output_type'] = 'display_data';\n",
              "        await google.colab.output.renderOutput(dataTable, element);\n",
              "        const docLink = document.createElement('div');\n",
              "        docLink.innerHTML = docLinkHtml;\n",
              "        element.appendChild(docLink);\n",
              "      }\n",
              "    </script>\n",
              "  </div>\n",
              "\n",
              "\n",
              "<div id=\"df-df0bc8cb-7795-40a3-83f8-18c5f08105b5\">\n",
              "  <button class=\"colab-df-quickchart\" onclick=\"quickchart('df-df0bc8cb-7795-40a3-83f8-18c5f08105b5')\"\n",
              "            title=\"Suggest charts\"\n",
              "            style=\"display:none;\">\n",
              "\n",
              "<svg xmlns=\"http://www.w3.org/2000/svg\" height=\"24px\"viewBox=\"0 0 24 24\"\n",
              "     width=\"24px\">\n",
              "    <g>\n",
              "        <path d=\"M19 3H5c-1.1 0-2 .9-2 2v14c0 1.1.9 2 2 2h14c1.1 0 2-.9 2-2V5c0-1.1-.9-2-2-2zM9 17H7v-7h2v7zm4 0h-2V7h2v10zm4 0h-2v-4h2v4z\"/>\n",
              "    </g>\n",
              "</svg>\n",
              "  </button>\n",
              "\n",
              "<style>\n",
              "  .colab-df-quickchart {\n",
              "      --bg-color: #E8F0FE;\n",
              "      --fill-color: #1967D2;\n",
              "      --hover-bg-color: #E2EBFA;\n",
              "      --hover-fill-color: #174EA6;\n",
              "      --disabled-fill-color: #AAA;\n",
              "      --disabled-bg-color: #DDD;\n",
              "  }\n",
              "\n",
              "  [theme=dark] .colab-df-quickchart {\n",
              "      --bg-color: #3B4455;\n",
              "      --fill-color: #D2E3FC;\n",
              "      --hover-bg-color: #434B5C;\n",
              "      --hover-fill-color: #FFFFFF;\n",
              "      --disabled-bg-color: #3B4455;\n",
              "      --disabled-fill-color: #666;\n",
              "  }\n",
              "\n",
              "  .colab-df-quickchart {\n",
              "    background-color: var(--bg-color);\n",
              "    border: none;\n",
              "    border-radius: 50%;\n",
              "    cursor: pointer;\n",
              "    display: none;\n",
              "    fill: var(--fill-color);\n",
              "    height: 32px;\n",
              "    padding: 0;\n",
              "    width: 32px;\n",
              "  }\n",
              "\n",
              "  .colab-df-quickchart:hover {\n",
              "    background-color: var(--hover-bg-color);\n",
              "    box-shadow: 0 1px 2px rgba(60, 64, 67, 0.3), 0 1px 3px 1px rgba(60, 64, 67, 0.15);\n",
              "    fill: var(--button-hover-fill-color);\n",
              "  }\n",
              "\n",
              "  .colab-df-quickchart-complete:disabled,\n",
              "  .colab-df-quickchart-complete:disabled:hover {\n",
              "    background-color: var(--disabled-bg-color);\n",
              "    fill: var(--disabled-fill-color);\n",
              "    box-shadow: none;\n",
              "  }\n",
              "\n",
              "  .colab-df-spinner {\n",
              "    border: 2px solid var(--fill-color);\n",
              "    border-color: transparent;\n",
              "    border-bottom-color: var(--fill-color);\n",
              "    animation:\n",
              "      spin 1s steps(1) infinite;\n",
              "  }\n",
              "\n",
              "  @keyframes spin {\n",
              "    0% {\n",
              "      border-color: transparent;\n",
              "      border-bottom-color: var(--fill-color);\n",
              "      border-left-color: var(--fill-color);\n",
              "    }\n",
              "    20% {\n",
              "      border-color: transparent;\n",
              "      border-left-color: var(--fill-color);\n",
              "      border-top-color: var(--fill-color);\n",
              "    }\n",
              "    30% {\n",
              "      border-color: transparent;\n",
              "      border-left-color: var(--fill-color);\n",
              "      border-top-color: var(--fill-color);\n",
              "      border-right-color: var(--fill-color);\n",
              "    }\n",
              "    40% {\n",
              "      border-color: transparent;\n",
              "      border-right-color: var(--fill-color);\n",
              "      border-top-color: var(--fill-color);\n",
              "    }\n",
              "    60% {\n",
              "      border-color: transparent;\n",
              "      border-right-color: var(--fill-color);\n",
              "    }\n",
              "    80% {\n",
              "      border-color: transparent;\n",
              "      border-right-color: var(--fill-color);\n",
              "      border-bottom-color: var(--fill-color);\n",
              "    }\n",
              "    90% {\n",
              "      border-color: transparent;\n",
              "      border-bottom-color: var(--fill-color);\n",
              "    }\n",
              "  }\n",
              "</style>\n",
              "\n",
              "  <script>\n",
              "    async function quickchart(key) {\n",
              "      const quickchartButtonEl =\n",
              "        document.querySelector('#' + key + ' button');\n",
              "      quickchartButtonEl.disabled = true;  // To prevent multiple clicks.\n",
              "      quickchartButtonEl.classList.add('colab-df-spinner');\n",
              "      try {\n",
              "        const charts = await google.colab.kernel.invokeFunction(\n",
              "            'suggestCharts', [key], {});\n",
              "      } catch (error) {\n",
              "        console.error('Error during call to suggestCharts:', error);\n",
              "      }\n",
              "      quickchartButtonEl.classList.remove('colab-df-spinner');\n",
              "      quickchartButtonEl.classList.add('colab-df-quickchart-complete');\n",
              "    }\n",
              "    (() => {\n",
              "      let quickchartButtonEl =\n",
              "        document.querySelector('#df-df0bc8cb-7795-40a3-83f8-18c5f08105b5 button');\n",
              "      quickchartButtonEl.style.display =\n",
              "        google.colab.kernel.accessAllowed ? 'block' : 'none';\n",
              "    })();\n",
              "  </script>\n",
              "</div>\n",
              "    </div>\n",
              "  </div>\n"
            ],
            "application/vnd.google.colaboratory.intrinsic+json": {
              "type": "dataframe",
              "summary": "{\n  \"name\": \"df\",\n  \"rows\": 8,\n  \"fields\": [\n    {\n      \"column\": \"quantity\",\n      \"properties\": {\n        \"dtype\": \"number\",\n        \"std\": 349.69193423463753,\n        \"min\": 1.0,\n        \"max\": 1000.0,\n        \"num_unique_values\": 8,\n        \"samples\": [\n          9.395,\n          6.5,\n          1000.0\n        ],\n        \"semantic_type\": \"\",\n        \"description\": \"\"\n      }\n    },\n    {\n      \"column\": \"unit_price\",\n      \"properties\": {\n        \"dtype\": \"number\",\n        \"std\": 343.565535790655,\n        \"min\": 10.03,\n        \"max\": 1000.0,\n        \"num_unique_values\": 8,\n        \"samples\": [\n          30.32204,\n          28.57,\n          1000.0\n        ],\n        \"semantic_type\": \"\",\n        \"description\": \"\"\n      }\n    },\n    {\n      \"column\": \"total\",\n      \"properties\": {\n        \"dtype\": \"number\",\n        \"std\": 842.5308260307787,\n        \"min\": 10.35,\n        \"max\": 2546.33,\n        \"num_unique_values\": 8,\n        \"samples\": [\n          289.113,\n          178.36,\n          1000.0\n        ],\n        \"semantic_type\": \"\",\n        \"description\": \"\"\n      }\n    }\n  ]\n}"
            }
          },
          "metadata": {},
          "execution_count": 8
        }
      ]
    },
    {
      "cell_type": "markdown",
      "source": [
        "Dalam dataset penjualan sparepart motor terdapat kolom yang memiliki nilai numerik. Kolom yang memiliki nilai numerik adalah kolom quantity, unit_price, dan total. Berdasarkan hasil diatas, dapat diketahui **jumlah nilai (count)**, **jumlah rata-rata (mean)**, **standar deviasi (std)**, **nilai minimum (min)**, **nilai percentile (terbagi menjadi tiga, yaitu 25%, 50%, dan 75%)**, dan **nilai maksimum (max)** yang dijabarkan pada tiap kolom numerik yang ada dalam dataset. Berikut penjelasannya:\n",
        "\n",
        "1. **\"quantity\"** : nilai count adalah 1000.000000, nilai mean adalah 9.395000, nilai std adalah 9.659207, nilai min adalah 1.000000, nilai percentile 25% adalah 4.000000, nilai percentile 50% adalah 6.500000, nilai percentile 75% adalah 10.000000, dan nilai max adalah 40.000000.\n",
        "2. **\"unit_price\"** : nilai count adalah 1000.000000, nilai mean adalah 30.322040, nilai std adalah 12.256488, nilai min adalah 10.030000, nilai percentile 25% adalah 21.085000, nilai percentile 50% adalah 28.570000, nilai percentile 75% adalah 37.917500, dan nilai max adalah 66.620000.\n",
        "3. **\"total\"** : nilai count adalah 1000.000000, nilai mean adalah 289.113000, nilai std adalah 345.227596, nilai min adalah 10.350000, nilai percentile 25% adalah 93.687500, nilai percentile 50% adalah 178.360000, nilai percentile 75% adalah 321.690000, dan nilai max adalah 2546.330000."
      ],
      "metadata": {
        "id": "wCqljioUNnjH"
      }
    },
    {
      "cell_type": "markdown",
      "source": [
        "##### Data Kategorikal"
      ],
      "metadata": {
        "id": "ClPGfrTSuJiR"
      }
    },
    {
      "cell_type": "code",
      "source": [
        "df.describe(exclude = np.number)"
      ],
      "metadata": {
        "colab": {
          "base_uri": "https://localhost:8080/",
          "height": 174
        },
        "id": "3ubyJyzBHUyI",
        "outputId": "ecd855ff-f50f-4ab5-9bab-d2a2426eb3b3"
      },
      "execution_count": null,
      "outputs": [
        {
          "output_type": "execute_result",
          "data": {
            "text/plain": [
              "              date warehouse client_type     product_line      payment\n",
              "count         1000      1000        1000             1000         1000\n",
              "unique          89         3           2                6            3\n",
              "top     2021-07-08   Central      Retail  Breaking system  Credit card\n",
              "freq            20       480         775              230          659"
            ],
            "text/html": [
              "\n",
              "  <div id=\"df-8d87ba09-f312-4b31-8298-65e74c6fc7b9\" class=\"colab-df-container\">\n",
              "    <div>\n",
              "<style scoped>\n",
              "    .dataframe tbody tr th:only-of-type {\n",
              "        vertical-align: middle;\n",
              "    }\n",
              "\n",
              "    .dataframe tbody tr th {\n",
              "        vertical-align: top;\n",
              "    }\n",
              "\n",
              "    .dataframe thead th {\n",
              "        text-align: right;\n",
              "    }\n",
              "</style>\n",
              "<table border=\"1\" class=\"dataframe\">\n",
              "  <thead>\n",
              "    <tr style=\"text-align: right;\">\n",
              "      <th></th>\n",
              "      <th>date</th>\n",
              "      <th>warehouse</th>\n",
              "      <th>client_type</th>\n",
              "      <th>product_line</th>\n",
              "      <th>payment</th>\n",
              "    </tr>\n",
              "  </thead>\n",
              "  <tbody>\n",
              "    <tr>\n",
              "      <th>count</th>\n",
              "      <td>1000</td>\n",
              "      <td>1000</td>\n",
              "      <td>1000</td>\n",
              "      <td>1000</td>\n",
              "      <td>1000</td>\n",
              "    </tr>\n",
              "    <tr>\n",
              "      <th>unique</th>\n",
              "      <td>89</td>\n",
              "      <td>3</td>\n",
              "      <td>2</td>\n",
              "      <td>6</td>\n",
              "      <td>3</td>\n",
              "    </tr>\n",
              "    <tr>\n",
              "      <th>top</th>\n",
              "      <td>2021-07-08</td>\n",
              "      <td>Central</td>\n",
              "      <td>Retail</td>\n",
              "      <td>Breaking system</td>\n",
              "      <td>Credit card</td>\n",
              "    </tr>\n",
              "    <tr>\n",
              "      <th>freq</th>\n",
              "      <td>20</td>\n",
              "      <td>480</td>\n",
              "      <td>775</td>\n",
              "      <td>230</td>\n",
              "      <td>659</td>\n",
              "    </tr>\n",
              "  </tbody>\n",
              "</table>\n",
              "</div>\n",
              "    <div class=\"colab-df-buttons\">\n",
              "\n",
              "  <div class=\"colab-df-container\">\n",
              "    <button class=\"colab-df-convert\" onclick=\"convertToInteractive('df-8d87ba09-f312-4b31-8298-65e74c6fc7b9')\"\n",
              "            title=\"Convert this dataframe to an interactive table.\"\n",
              "            style=\"display:none;\">\n",
              "\n",
              "  <svg xmlns=\"http://www.w3.org/2000/svg\" height=\"24px\" viewBox=\"0 -960 960 960\">\n",
              "    <path d=\"M120-120v-720h720v720H120Zm60-500h600v-160H180v160Zm220 220h160v-160H400v160Zm0 220h160v-160H400v160ZM180-400h160v-160H180v160Zm440 0h160v-160H620v160ZM180-180h160v-160H180v160Zm440 0h160v-160H620v160Z\"/>\n",
              "  </svg>\n",
              "    </button>\n",
              "\n",
              "  <style>\n",
              "    .colab-df-container {\n",
              "      display:flex;\n",
              "      gap: 12px;\n",
              "    }\n",
              "\n",
              "    .colab-df-convert {\n",
              "      background-color: #E8F0FE;\n",
              "      border: none;\n",
              "      border-radius: 50%;\n",
              "      cursor: pointer;\n",
              "      display: none;\n",
              "      fill: #1967D2;\n",
              "      height: 32px;\n",
              "      padding: 0 0 0 0;\n",
              "      width: 32px;\n",
              "    }\n",
              "\n",
              "    .colab-df-convert:hover {\n",
              "      background-color: #E2EBFA;\n",
              "      box-shadow: 0px 1px 2px rgba(60, 64, 67, 0.3), 0px 1px 3px 1px rgba(60, 64, 67, 0.15);\n",
              "      fill: #174EA6;\n",
              "    }\n",
              "\n",
              "    .colab-df-buttons div {\n",
              "      margin-bottom: 4px;\n",
              "    }\n",
              "\n",
              "    [theme=dark] .colab-df-convert {\n",
              "      background-color: #3B4455;\n",
              "      fill: #D2E3FC;\n",
              "    }\n",
              "\n",
              "    [theme=dark] .colab-df-convert:hover {\n",
              "      background-color: #434B5C;\n",
              "      box-shadow: 0px 1px 3px 1px rgba(0, 0, 0, 0.15);\n",
              "      filter: drop-shadow(0px 1px 2px rgba(0, 0, 0, 0.3));\n",
              "      fill: #FFFFFF;\n",
              "    }\n",
              "  </style>\n",
              "\n",
              "    <script>\n",
              "      const buttonEl =\n",
              "        document.querySelector('#df-8d87ba09-f312-4b31-8298-65e74c6fc7b9 button.colab-df-convert');\n",
              "      buttonEl.style.display =\n",
              "        google.colab.kernel.accessAllowed ? 'block' : 'none';\n",
              "\n",
              "      async function convertToInteractive(key) {\n",
              "        const element = document.querySelector('#df-8d87ba09-f312-4b31-8298-65e74c6fc7b9');\n",
              "        const dataTable =\n",
              "          await google.colab.kernel.invokeFunction('convertToInteractive',\n",
              "                                                    [key], {});\n",
              "        if (!dataTable) return;\n",
              "\n",
              "        const docLinkHtml = 'Like what you see? Visit the ' +\n",
              "          '<a target=\"_blank\" href=https://colab.research.google.com/notebooks/data_table.ipynb>data table notebook</a>'\n",
              "          + ' to learn more about interactive tables.';\n",
              "        element.innerHTML = '';\n",
              "        dataTable['output_type'] = 'display_data';\n",
              "        await google.colab.output.renderOutput(dataTable, element);\n",
              "        const docLink = document.createElement('div');\n",
              "        docLink.innerHTML = docLinkHtml;\n",
              "        element.appendChild(docLink);\n",
              "      }\n",
              "    </script>\n",
              "  </div>\n",
              "\n",
              "\n",
              "<div id=\"df-ba157eec-d32f-4bf5-b3af-f5c40f1b6352\">\n",
              "  <button class=\"colab-df-quickchart\" onclick=\"quickchart('df-ba157eec-d32f-4bf5-b3af-f5c40f1b6352')\"\n",
              "            title=\"Suggest charts\"\n",
              "            style=\"display:none;\">\n",
              "\n",
              "<svg xmlns=\"http://www.w3.org/2000/svg\" height=\"24px\"viewBox=\"0 0 24 24\"\n",
              "     width=\"24px\">\n",
              "    <g>\n",
              "        <path d=\"M19 3H5c-1.1 0-2 .9-2 2v14c0 1.1.9 2 2 2h14c1.1 0 2-.9 2-2V5c0-1.1-.9-2-2-2zM9 17H7v-7h2v7zm4 0h-2V7h2v10zm4 0h-2v-4h2v4z\"/>\n",
              "    </g>\n",
              "</svg>\n",
              "  </button>\n",
              "\n",
              "<style>\n",
              "  .colab-df-quickchart {\n",
              "      --bg-color: #E8F0FE;\n",
              "      --fill-color: #1967D2;\n",
              "      --hover-bg-color: #E2EBFA;\n",
              "      --hover-fill-color: #174EA6;\n",
              "      --disabled-fill-color: #AAA;\n",
              "      --disabled-bg-color: #DDD;\n",
              "  }\n",
              "\n",
              "  [theme=dark] .colab-df-quickchart {\n",
              "      --bg-color: #3B4455;\n",
              "      --fill-color: #D2E3FC;\n",
              "      --hover-bg-color: #434B5C;\n",
              "      --hover-fill-color: #FFFFFF;\n",
              "      --disabled-bg-color: #3B4455;\n",
              "      --disabled-fill-color: #666;\n",
              "  }\n",
              "\n",
              "  .colab-df-quickchart {\n",
              "    background-color: var(--bg-color);\n",
              "    border: none;\n",
              "    border-radius: 50%;\n",
              "    cursor: pointer;\n",
              "    display: none;\n",
              "    fill: var(--fill-color);\n",
              "    height: 32px;\n",
              "    padding: 0;\n",
              "    width: 32px;\n",
              "  }\n",
              "\n",
              "  .colab-df-quickchart:hover {\n",
              "    background-color: var(--hover-bg-color);\n",
              "    box-shadow: 0 1px 2px rgba(60, 64, 67, 0.3), 0 1px 3px 1px rgba(60, 64, 67, 0.15);\n",
              "    fill: var(--button-hover-fill-color);\n",
              "  }\n",
              "\n",
              "  .colab-df-quickchart-complete:disabled,\n",
              "  .colab-df-quickchart-complete:disabled:hover {\n",
              "    background-color: var(--disabled-bg-color);\n",
              "    fill: var(--disabled-fill-color);\n",
              "    box-shadow: none;\n",
              "  }\n",
              "\n",
              "  .colab-df-spinner {\n",
              "    border: 2px solid var(--fill-color);\n",
              "    border-color: transparent;\n",
              "    border-bottom-color: var(--fill-color);\n",
              "    animation:\n",
              "      spin 1s steps(1) infinite;\n",
              "  }\n",
              "\n",
              "  @keyframes spin {\n",
              "    0% {\n",
              "      border-color: transparent;\n",
              "      border-bottom-color: var(--fill-color);\n",
              "      border-left-color: var(--fill-color);\n",
              "    }\n",
              "    20% {\n",
              "      border-color: transparent;\n",
              "      border-left-color: var(--fill-color);\n",
              "      border-top-color: var(--fill-color);\n",
              "    }\n",
              "    30% {\n",
              "      border-color: transparent;\n",
              "      border-left-color: var(--fill-color);\n",
              "      border-top-color: var(--fill-color);\n",
              "      border-right-color: var(--fill-color);\n",
              "    }\n",
              "    40% {\n",
              "      border-color: transparent;\n",
              "      border-right-color: var(--fill-color);\n",
              "      border-top-color: var(--fill-color);\n",
              "    }\n",
              "    60% {\n",
              "      border-color: transparent;\n",
              "      border-right-color: var(--fill-color);\n",
              "    }\n",
              "    80% {\n",
              "      border-color: transparent;\n",
              "      border-right-color: var(--fill-color);\n",
              "      border-bottom-color: var(--fill-color);\n",
              "    }\n",
              "    90% {\n",
              "      border-color: transparent;\n",
              "      border-bottom-color: var(--fill-color);\n",
              "    }\n",
              "  }\n",
              "</style>\n",
              "\n",
              "  <script>\n",
              "    async function quickchart(key) {\n",
              "      const quickchartButtonEl =\n",
              "        document.querySelector('#' + key + ' button');\n",
              "      quickchartButtonEl.disabled = true;  // To prevent multiple clicks.\n",
              "      quickchartButtonEl.classList.add('colab-df-spinner');\n",
              "      try {\n",
              "        const charts = await google.colab.kernel.invokeFunction(\n",
              "            'suggestCharts', [key], {});\n",
              "      } catch (error) {\n",
              "        console.error('Error during call to suggestCharts:', error);\n",
              "      }\n",
              "      quickchartButtonEl.classList.remove('colab-df-spinner');\n",
              "      quickchartButtonEl.classList.add('colab-df-quickchart-complete');\n",
              "    }\n",
              "    (() => {\n",
              "      let quickchartButtonEl =\n",
              "        document.querySelector('#df-ba157eec-d32f-4bf5-b3af-f5c40f1b6352 button');\n",
              "      quickchartButtonEl.style.display =\n",
              "        google.colab.kernel.accessAllowed ? 'block' : 'none';\n",
              "    })();\n",
              "  </script>\n",
              "</div>\n",
              "    </div>\n",
              "  </div>\n"
            ],
            "application/vnd.google.colaboratory.intrinsic+json": {
              "type": "dataframe",
              "summary": "{\n  \"name\": \"df\",\n  \"rows\": 4,\n  \"fields\": [\n    {\n      \"column\": \"date\",\n      \"properties\": {\n        \"dtype\": \"date\",\n        \"min\": \"1970-01-01 00:00:00.000000020\",\n        \"max\": \"2021-07-08 00:00:00\",\n        \"num_unique_values\": 4,\n        \"samples\": [\n          89,\n          \"20\",\n          \"1000\"\n        ],\n        \"semantic_type\": \"\",\n        \"description\": \"\"\n      }\n    },\n    {\n      \"column\": \"warehouse\",\n      \"properties\": {\n        \"dtype\": \"string\",\n        \"num_unique_values\": 4,\n        \"samples\": [\n          3,\n          \"480\",\n          \"1000\"\n        ],\n        \"semantic_type\": \"\",\n        \"description\": \"\"\n      }\n    },\n    {\n      \"column\": \"client_type\",\n      \"properties\": {\n        \"dtype\": \"string\",\n        \"num_unique_values\": 4,\n        \"samples\": [\n          2,\n          \"775\",\n          \"1000\"\n        ],\n        \"semantic_type\": \"\",\n        \"description\": \"\"\n      }\n    },\n    {\n      \"column\": \"product_line\",\n      \"properties\": {\n        \"dtype\": \"string\",\n        \"num_unique_values\": 4,\n        \"samples\": [\n          6,\n          \"230\",\n          \"1000\"\n        ],\n        \"semantic_type\": \"\",\n        \"description\": \"\"\n      }\n    },\n    {\n      \"column\": \"payment\",\n      \"properties\": {\n        \"dtype\": \"string\",\n        \"num_unique_values\": 4,\n        \"samples\": [\n          3,\n          \"659\",\n          \"1000\"\n        ],\n        \"semantic_type\": \"\",\n        \"description\": \"\"\n      }\n    }\n  ]\n}"
            }
          },
          "metadata": {},
          "execution_count": 9
        }
      ]
    },
    {
      "cell_type": "markdown",
      "source": [
        "Dalam dataset penjualan sparepart motor terdapat kolom yang memiliki data kategorikal. Kolom yang memiliki data kategorikal adalah date, warehouse, client_type, product_line dan payment. Berdasarkan hasil di atas, dapat diketahui **jumlah nilai (count)**, **jumlah data unique (unique)**, **data yang sering muncul (top)** dan **frekuensinya (freq)**. Jadi hasil diatas menampilkan data yang sering muncul dalam dataset dan disertai dengan jumlah frekuensinya. Berikut adalah penjelasannya:\n",
        "\n",
        "1. **\"date\"** : nilai count adalah 1000, data unique adalah 89, data top adalah 2021-07-08, dan jumlah freq adalah 20.\n",
        "2. **\"warehouse\"** : nilai count adalah 1000, data unique adalah 3, data top adalah Central, dan jumlah freq adalah 480.\n",
        "3. **\"client_type\"** : nilai count adalah 1000, data unique adalah 2, data top adalah Retail, dan jumlah freq adalah 775.\n",
        "4. **\"product_line\"** : nilai count adalah 1000, data unique adalah 6, data top adalah Breaking System, dan jumlah freq adalah 230.\n",
        "5. **\"payment\"** : nilai count adalah 1000, data unique adalah 3, data top adalah Credit Card, dan jumlah freq adalah 659."
      ],
      "metadata": {
        "id": "Bb9eTTIVNpPK"
      }
    },
    {
      "cell_type": "markdown",
      "source": [
        "### **Exploratory Data Analysis**"
      ],
      "metadata": {
        "id": "rubGVGQXQTEM"
      }
    },
    {
      "cell_type": "markdown",
      "source": [
        "##### Univariate"
      ],
      "metadata": {
        "id": "3xjKUDxMVdcN"
      }
    },
    {
      "cell_type": "markdown",
      "source": [
        "Berikut adalah visualisasi data yang menampilkan distribusi variabel tunggal."
      ],
      "metadata": {
        "id": "t0yvU5fYW1yV"
      }
    },
    {
      "cell_type": "code",
      "source": [
        "colors = ['#ff6666', '#bfbfbf', '#f0f0f0']\n",
        "\n",
        "visual_warehouse = df['warehouse'].value_counts()\n",
        "visual_warehouse.plot(kind='pie', autopct='%1.1f%%', startangle=0, colors=colors)\n",
        "plt.title('Warehouse')"
      ],
      "metadata": {
        "colab": {
          "base_uri": "https://localhost:8080/",
          "height": 445
        },
        "id": "IPxamr48YXtN",
        "outputId": "86069ffc-3517-47d1-cfbe-8e535f640d03"
      },
      "execution_count": null,
      "outputs": [
        {
          "output_type": "execute_result",
          "data": {
            "text/plain": [
              "Text(0.5, 1.0, 'Warehouse')"
            ]
          },
          "metadata": {},
          "execution_count": 10
        },
        {
          "output_type": "display_data",
          "data": {
            "text/plain": [
              "<Figure size 640x480 with 1 Axes>"
            ],
            "image/png": "[encoded data removed]"
          },
          "metadata": {}
        }
      ]
    },
    {
      "cell_type": "markdown",
      "source": [
        "Berdasarkan visualisasi diatas, dapat dilihat bahwa:\n",
        "* **Central** menunjukkan bahwa sebesar **48%** dari keseluruhan distribusi produk berada di gudang Central. Gudang Central memiliki proporsi terbesar dari total distribusi, sehingga merupakan gudang utama dan pusat distribusi utama.\n",
        "* **North** menunjukkan bahwa sebesar **34%** dari keseluruhan distribusi produk berada di gudang North. Gudang North memiliki proporsi yang signifikan, tetapi tidak sebesar proporsi gudang Central.\n",
        "* **West** menunjukkan bahwa sebesar **18%** dari keseluruhan distribusi produk berada di gudang West. Gudang West memiliki proporsi yang lebih kecil dibandingkan dengan gudang Central dan gudang North. Ini menunjukkan bahwa gudang West memiliki peran yang lebih kecil dalam distribusi produk dibandingkan gudang-gudang lain."
      ],
      "metadata": {
        "id": "NxhM8__Sf50l"
      }
    },
    {
      "cell_type": "code",
      "source": [
        "colors = ['#1e90ff', '#bfbfbf']\n",
        "\n",
        "visual_warehouse = df['client_type'].value_counts()\n",
        "visual_warehouse.plot(kind='pie', autopct='%1.1f%%', startangle=0, colors=colors)\n",
        "plt.title('Client Type')"
      ],
      "metadata": {
        "colab": {
          "base_uri": "https://localhost:8080/",
          "height": 445
        },
        "id": "jVvD_kuqdGii",
        "outputId": "60912e83-407a-4da4-c46b-46a3b6438766"
      },
      "execution_count": null,
      "outputs": [
        {
          "output_type": "execute_result",
          "data": {
            "text/plain": [
              "Text(0.5, 1.0, 'Client Type')"
            ]
          },
          "metadata": {},
          "execution_count": 11
        },
        {
          "output_type": "display_data",
          "data": {
            "text/plain": [
              "<Figure size 640x480 with 1 Axes>"
            ],
            "image/png": "[encoded data removed]"
          },
          "metadata": {}
        }
      ]
    },
    {
      "cell_type": "markdown",
      "source": [
        "Berdasarkan visualisasi diatas, dapat dilihat bahwa:\n",
        "* Sebanyak **77.5%** dari total klien yang melakukan transaksi merupakan klient **retail**. Ini menunjukkan bahwa mayoritas transaksi pada perusahaan dilakukan oleh klien retail yang ingin membeli produk untuk kebutuhan pribadi mereka sendiri.\n",
        "* Sebanyak **22.5%** dari total klien yang melakukan transaksi merupakan klien **grosir (wholesale)**. Meskipun proporsinya lebih kecil dibandingkan dengan klien retail, tetapi klien grosir biasanya membeli produk dengan jumlah yang besar untuk menjualkan kembali kepada konsumen."
      ],
      "metadata": {
        "id": "OQFaL75Rkiz3"
      }
    },
    {
      "cell_type": "code",
      "source": [
        "colors = ['#cccc00', '#bfbfbf', '#f0f0f0']\n",
        "\n",
        "visual_warehouse = df['payment'].value_counts()\n",
        "visual_warehouse.plot(kind='pie', autopct='%1.1f%%', startangle=0, colors=colors)\n",
        "plt.title('Payment')"
      ],
      "metadata": {
        "colab": {
          "base_uri": "https://localhost:8080/",
          "height": 445
        },
        "id": "x1taLd81dtQm",
        "outputId": "fe91eb60-4590-494d-b2bd-88055a1a80c8"
      },
      "execution_count": null,
      "outputs": [
        {
          "output_type": "execute_result",
          "data": {
            "text/plain": [
              "Text(0.5, 1.0, 'Payment')"
            ]
          },
          "metadata": {},
          "execution_count": 12
        },
        {
          "output_type": "display_data",
          "data": {
            "text/plain": [
              "<Figure size 640x480 with 1 Axes>"
            ],
            "image/png": "[encoded data removed]"
          },
          "metadata": {}
        }
      ]
    },
    {
      "cell_type": "markdown",
      "source": [
        "Berdasarkan visualisasi diatas, dapat dilihat bahwa:\n",
        "* Sebanyak **65.9%** dari metode pembayaran dilakukan dengan menggunakan **kartu kredit**. Ini menunjukkan bahwa mayoritas pembayaran dilakukan menggunakan kartu kredit.\n",
        "* Sebanyak **22.5%** dari metode pembayaran dilakukan dengan menggunakan **transfer**. Pembayaran dengan cara transfer banyak dilakukan, tetapi tidak sebanyak yang melakukan pembayaran menggunakan kartu kredit.\n",
        "* Sebanyak **11.6%** dari metode pembayaran dilakukan dengan menggunakan **uang tunai**. Metode pembayaran tunai lebih sedikit dilakukan dibandingkan metode pembayaran lain."
      ],
      "metadata": {
        "id": "XnGbVDJImep4"
      }
    },
    {
      "cell_type": "code",
      "source": [
        "# sns.countplot(df, y = \"product_line\")\n",
        "colors = ['#bfbfbf', '#FF1493', '#bfbfbf', '#bfbfbf', '#bfbfbf', '#bfbfbf' ]\n",
        "\n",
        "sns.countplot(y = \"product_line\",\n",
        "              hue = \"product_line\",\n",
        "              data = df,\n",
        "              legend = False,\n",
        "              palette = colors)\n",
        "              # data = df,\n",
        "              # palette = \"Greens_d\")\n",
        "plt.title('Product Line')"
      ],
      "metadata": {
        "colab": {
          "base_uri": "https://localhost:8080/",
          "height": 489
        },
        "id": "psDOZJRYeP7Q",
        "outputId": "5042074d-fe37-4908-c038-16b4e9ff46c3"
      },
      "execution_count": null,
      "outputs": [
        {
          "output_type": "execute_result",
          "data": {
            "text/plain": [
              "Text(0.5, 1.0, 'Product Line')"
            ]
          },
          "metadata": {},
          "execution_count": 13
        },
        {
          "output_type": "display_data",
          "data": {
            "text/plain": [
              "<Figure size 640x480 with 1 Axes>"
            ],
            "image/png": "[encoded data removed]"
          },
          "metadata": {}
        }
      ]
    },
    {
      "cell_type": "markdown",
      "source": [
        "Berdasarkan visualisasi di atas, dapat dilihat bahwa dari keenam jenis produk sparepart motor (miscellaneous, breaking system, suspension & trantion, frame & body, engine, electrical system) yang paling banyak diminati oleh kalangan pembeli adalah **Breaking System**."
      ],
      "metadata": {
        "id": "O9rsco4cpDdZ"
      }
    },
    {
      "cell_type": "code",
      "source": [
        "sns.histplot(df[\"quantity\"], kde=True)\n",
        "\n",
        "plt.axvline(df[\"quantity\"].mean(), color='red', linestyle='dashed', linewidth=1, label='Mean')\n",
        "plt.axvline(df[\"quantity\"].median(), color='blue', linestyle='dashed', linewidth=1, label='Median')\n",
        "plt.title(\"Distribusi Quantity\")\n",
        "\n",
        "plt.legend()"
      ],
      "metadata": {
        "colab": {
          "base_uri": "https://localhost:8080/",
          "height": 489
        },
        "id": "vrYNy-Au7__M",
        "outputId": "d42b8638-6fe5-414d-b7fa-2b0461fa5508"
      },
      "execution_count": null,
      "outputs": [
        {
          "output_type": "execute_result",
          "data": {
            "text/plain": [
              "<matplotlib.legend.Legend at 0x79aad6655db0>"
            ]
          },
          "metadata": {},
          "execution_count": 14
        },
        {
          "output_type": "display_data",
          "data": {
            "text/plain": [
              "<Figure size 640x480 with 1 Axes>"
            ],
            "image/png": "[encoded data removed]"
          },
          "metadata": {}
        }
      ]
    },
    {
      "cell_type": "markdown",
      "source": [
        "Berdasarkan visualisasi di atas, dapat dilihat bahwa puncak kurva lebih ke kiri dari median dan median lebih ke kiri dari mean, sehingga distibusi data tidak membentuk lonceng sempurna. Artinya adalah dari data tersebut lebih banyak pembelian dengan jumlah kecil dibandingkan dengan pembelian dengan jumlah besar."
      ],
      "metadata": {
        "id": "3L88Ex9uuBNu"
      }
    },
    {
      "cell_type": "code",
      "source": [
        "sns.histplot(df[\"unit_price\"], kde=True)\n",
        "\n",
        "plt.axvline(df[\"unit_price\"].mean(), color='red', linestyle='dashed', linewidth=1, label='Mean')\n",
        "plt.axvline(df[\"unit_price\"].median(), color='blue', linestyle='dashed', linewidth=1, label='Median')\n",
        "plt.title(\"Distribusi Unit Price\")\n",
        "\n",
        "plt.legend()"
      ],
      "metadata": {
        "colab": {
          "base_uri": "https://localhost:8080/",
          "height": 489
        },
        "id": "Y5HBFK3M74CI",
        "outputId": "dbcfa592-c4f2-4dfe-9eef-f5cc13b06829"
      },
      "execution_count": null,
      "outputs": [
        {
          "output_type": "execute_result",
          "data": {
            "text/plain": [
              "<matplotlib.legend.Legend at 0x79aad654e3e0>"
            ]
          },
          "metadata": {},
          "execution_count": 15
        },
        {
          "output_type": "display_data",
          "data": {
            "text/plain": [
              "<Figure size 640x480 with 1 Axes>"
            ],
            "image/png": "[encoded data removed]"
          },
          "metadata": {}
        }
      ]
    },
    {
      "cell_type": "markdown",
      "source": [
        "Berdasarkan visualisasi di atas, dapat dilihat bahwa puncak kurva lebih ke kiri dari median dan median lebih ke kiri dari mean, sehingga distibusi data tidak membentuk lonceng sempurna. Artinya adalah dari data tersebut harga produk yang ditawarkan cenderung lebih banyak yang kecil dibandingkan yang besar."
      ],
      "metadata": {
        "id": "PSv0VD2K3RYy"
      }
    },
    {
      "cell_type": "code",
      "source": [
        "sns.histplot(df[\"total\"], kde=True)\n",
        "\n",
        "plt.axvline(df[\"total\"].mean(), color='red', linestyle='dashed', linewidth=1, label='Mean')\n",
        "plt.axvline(df[\"total\"].median(), color='blue', linestyle='dashed', linewidth=1, label='Median')\n",
        "\n",
        "plt.xlabel(\"Total\")\n",
        "plt.ylabel(\"Density\")\n",
        "plt.title(\"Distribution Total\")\n",
        "\n",
        "plt.legend()"
      ],
      "metadata": {
        "colab": {
          "base_uri": "https://localhost:8080/",
          "height": 489
        },
        "id": "vSj8wdbt4pRw",
        "outputId": "2b2baf57-5b4d-475f-9f35-07b6182fa709"
      },
      "execution_count": null,
      "outputs": [
        {
          "output_type": "execute_result",
          "data": {
            "text/plain": [
              "<matplotlib.legend.Legend at 0x79aad6476f20>"
            ]
          },
          "metadata": {},
          "execution_count": 16
        },
        {
          "output_type": "display_data",
          "data": {
            "text/plain": [
              "<Figure size 640x480 with 1 Axes>"
            ],
            "image/png": "[encoded data removed]"
          },
          "metadata": {}
        }
      ]
    },
    {
      "cell_type": "markdown",
      "source": [
        "Berdasarkan visualisasi di atas, dapat dilihat bahwa puncak kurva lebih ke kiri dari median dan median lebih ke kiri dari mean, sehingga distibusi data tidak membentuk lonceng sempurna. Artinya adalah dari data tersebut lebih banyak pembelian dengan total bayar yang kecil dibandingkan dengan pembelian dengan total bayar yang besar."
      ],
      "metadata": {
        "id": "aF2wF_FU4jMa"
      }
    },
    {
      "cell_type": "markdown",
      "source": [
        "##### Bivariate"
      ],
      "metadata": {
        "id": "xCYS0gg3VjHx"
      }
    },
    {
      "cell_type": "markdown",
      "source": [
        "Berikut adalah visualisasi data yang menampilkan distribusi variabel ganda."
      ],
      "metadata": {
        "id": "VcgAtXEnW_GR"
      }
    },
    {
      "cell_type": "code",
      "source": [
        "sns.countplot(data=df, y=\"product_line\", hue=\"client_type\")\n",
        "plt.xlabel(\"frekuensi\")\n",
        "\n",
        "plt.title(\"Perbandingan pembelian produk berdasarkan tipe pembeli\")"
      ],
      "metadata": {
        "colab": {
          "base_uri": "https://localhost:8080/",
          "height": 489
        },
        "id": "qmZkRf-QQzbp",
        "outputId": "77bdb1a3-0ff7-4f5b-e754-9a3ac59154b2"
      },
      "execution_count": null,
      "outputs": [
        {
          "output_type": "execute_result",
          "data": {
            "text/plain": [
              "Text(0.5, 1.0, 'Perbandingan pembelian produk berdasarkan tipe pembeli')"
            ]
          },
          "metadata": {},
          "execution_count": 17
        },
        {
          "output_type": "display_data",
          "data": {
            "text/plain": [
              "<Figure size 640x480 with 1 Axes>"
            ],
            "image/png": "[encoded data removed]"
          },
          "metadata": {}
        }
      ]
    },
    {
      "cell_type": "markdown",
      "source": [
        "Dari hasil visualisasi di atas dihasilkan sebuah grafik yang menyatakan sebuah perbandingan yang signifikan antara tipe pembeli retail dan wholesale. Hasil menunjukkan bahwa frekuensi pembelian produk miscellaneous, breaking system, suspension & tranction, frame & body, engine, dan electrical system yang dilakukan oleh retail lebih sering ketimbang yang dilakukan oleh wholesale."
      ],
      "metadata": {
        "id": "bSDQ14KXvFoT"
      }
    },
    {
      "cell_type": "code",
      "source": [
        "sns.barplot(data=df,  x=\"quantity\", y=\"product_line\", hue=\"client_type\")\n",
        "\n",
        "plt.title(\"Perbandingan jenis dan jumlah produk berdasarkan tipe pembeli\")"
      ],
      "metadata": {
        "colab": {
          "base_uri": "https://localhost:8080/",
          "height": 489
        },
        "id": "y4mfWsEg7fxF",
        "outputId": "ebe4ea8a-2894-4bea-e74b-f8974fd6ed75"
      },
      "execution_count": null,
      "outputs": [
        {
          "output_type": "execute_result",
          "data": {
            "text/plain": [
              "Text(0.5, 1.0, 'Perbandingan jenis dan jumlah produk berdasarkan tipe pembeli')"
            ]
          },
          "metadata": {},
          "execution_count": 18
        },
        {
          "output_type": "display_data",
          "data": {
            "text/plain": [
              "<Figure size 640x480 with 1 Axes>"
            ],
            "image/png": "[encoded data removed]"
          },
          "metadata": {}
        }
      ]
    },
    {
      "cell_type": "markdown",
      "source": [
        "Dari hasil visualisasi di atas dihasilkan sebuah grafik yang menyatakan sebuah perbandingan yang antara jenis produk dengan quantity berdasarkan tipe pembeli. Hasil dari grafik tersebut menunjukkan bahwa jumlah barang tiap produk yang dibeli oleh wholeshale cenderung lebih banyak, sedangkan jumlah barang tiap produk yang dibeli oleh retail cenderung lebih sedikit."
      ],
      "metadata": {
        "id": "ajjNRHWA_IAu"
      }
    },
    {
      "cell_type": "code",
      "source": [
        "sns.catplot(data=df, x=\"quantity\", y=\"unit_price\", kind = \"point\", errorbar=None)\n",
        "\n",
        "plt.title(\"Hubungan antara harga produk dengan quantity produk\")"
      ],
      "metadata": {
        "colab": {
          "base_uri": "https://localhost:8080/",
          "height": 546
        },
        "id": "lGy5vHyIYk1C",
        "outputId": "db06bb7b-d5e8-4b50-f0cc-d1db8686fae0"
      },
      "execution_count": null,
      "outputs": [
        {
          "output_type": "execute_result",
          "data": {
            "text/plain": [
              "Text(0.5, 1.0, 'Hubungan antara harga produk dengan quantity produk')"
            ]
          },
          "metadata": {},
          "execution_count": 19
        },
        {
          "output_type": "display_data",
          "data": {
            "text/plain": [
              "<Figure size 511.111x500 with 1 Axes>"
            ],
            "image/png": "[encoded data removed]"
          },
          "metadata": {}
        }
      ]
    },
    {
      "cell_type": "markdown",
      "source": [
        "Dari hasil visualisasi di atas dihasilkan sebuah grafik yang menyatakan hubungan antara quantity dengan harga produk. Dapat dilihat bahwa data tidak konstans. Perubahan pada harga produk tidak mempengaruhi quantity dan perubahan tersebut dapat terjadi karena faktor lain. Sehingga grafik tersebut menunjukkan bahwa harga produk tidak mempengaruhi quantity."
      ],
      "metadata": {
        "id": "vElOumGFCmzk"
      }
    },
    {
      "cell_type": "code",
      "source": [
        "sns.catplot(data=df, x=\"quantity\", y=\"total\", kind = \"point\", errorbar=None)\n",
        "\n",
        "plt.title(\"Hubungan antara quantity produk dengan total harga\")"
      ],
      "metadata": {
        "colab": {
          "base_uri": "https://localhost:8080/",
          "height": 546
        },
        "id": "_yDbuMqaYXDl",
        "outputId": "03e6b55c-df30-4304-9196-2ba8fe827456"
      },
      "execution_count": null,
      "outputs": [
        {
          "output_type": "execute_result",
          "data": {
            "text/plain": [
              "Text(0.5, 1.0, 'Hubungan antara quantity produk dengan total harga')"
            ]
          },
          "metadata": {},
          "execution_count": 20
        },
        {
          "output_type": "display_data",
          "data": {
            "text/plain": [
              "<Figure size 511.111x500 with 1 Axes>"
            ],
            "image/png": "[encoded data removed]"
          },
          "metadata": {}
        }
      ]
    },
    {
      "cell_type": "markdown",
      "source": [
        "Dari hasil visualisasi di atas dihasilkan sebuah grafik yang menyatakan sebuah hubungan antara quantity produk yang dibeli pelanggan dengan total harga. Jadi semakin banyak quantity produk yang dibeli oleh pelanggan, maka total harga yang dibayarkan juga semakin besar. Sebaliknya, jika semakin sedikit quantity produk yang dibeli oleh pelanggan, maka semakin sedikit juga total harga yang dibayarkan. Sehingga grafik tersebut menunjukkan bahwa quantity berpengaruh positif terhadap total, dikarenakan setiap meningkatnya quantity akan membuat total juga meningkat."
      ],
      "metadata": {
        "id": "3CO4iiOez9aE"
      }
    },
    {
      "cell_type": "markdown",
      "source": [
        "### **Verify Data Quality**"
      ],
      "metadata": {
        "id": "wLrJBwOUQZN9"
      }
    },
    {
      "cell_type": "markdown",
      "source": [
        "#### Missing Values"
      ],
      "metadata": {
        "id": "ZVSGIXDUY5On"
      }
    },
    {
      "cell_type": "code",
      "source": [
        "missing_values = df.isna().sum()\n",
        "print(f\"Jumlah data kosong:\")\n",
        "missing_values"
      ],
      "metadata": {
        "colab": {
          "base_uri": "https://localhost:8080/"
        },
        "id": "dSpK4Aj2mMkd",
        "outputId": "3808e68c-bce6-4b92-9549-e889342025fa"
      },
      "execution_count": null,
      "outputs": [
        {
          "output_type": "stream",
          "name": "stdout",
          "text": [
            "Jumlah data kosong:\n"
          ]
        },
        {
          "output_type": "execute_result",
          "data": {
            "text/plain": [
              "date            0\n",
              "warehouse       0\n",
              "client_type     0\n",
              "product_line    0\n",
              "quantity        0\n",
              "unit_price      0\n",
              "total           0\n",
              "payment         0\n",
              "dtype: int64"
            ]
          },
          "metadata": {},
          "execution_count": 21
        }
      ]
    },
    {
      "cell_type": "markdown",
      "source": [
        "Berdasarkan hasil diatas, dapat diketahui bahwa tidak ada kolom yang memiliki data kosong atau *NaN* pada dataset penjualan sparepart motor."
      ],
      "metadata": {
        "id": "_PjyLVcwSy8s"
      }
    },
    {
      "cell_type": "markdown",
      "source": [
        "#### Outliers Values"
      ],
      "metadata": {
        "id": "7WEgkjJLY8qs"
      }
    },
    {
      "cell_type": "code",
      "source": [
        "results = []\n",
        "\n",
        "cols = df.select_dtypes(include=['float64', 'int64'])\n",
        "\n",
        "for col in cols:\n",
        "  q1 = df[col].quantile(0.25)\n",
        "  q3 = df[col].quantile(0.75)\n",
        "  iqr = q3 - q1\n",
        "  lower_bound = q1 - 1.5*iqr\n",
        "  upper_bound = q3 + 1.5*iqr\n",
        "  outliers = df[(df[col] < lower_bound) | (df[col] > upper_bound)]\n",
        "  percent_outliers = (len(outliers)/len(df))*100\n",
        "  results.append({'Kolom': col, 'Persentase Outliers': percent_outliers})\n",
        "\n",
        "# Dataframe dari list hasil\n",
        "results_df = pd.DataFrame(results)\n",
        "results_df.set_index('Kolom', inplace=True)\n",
        "results_df = results_df.rename_axis(None, axis=0).rename_axis('Kolom', axis=1)\n",
        "\n",
        "# Tampilkan dataframe\n",
        "display(results_df)"
      ],
      "metadata": {
        "colab": {
          "base_uri": "https://localhost:8080/",
          "height": 143
        },
        "id": "R-a3RfWyXuYE",
        "outputId": "3c65dfc2-6fc2-45ca-edeb-4f91cf4c4de5"
      },
      "execution_count": null,
      "outputs": [
        {
          "output_type": "display_data",
          "data": {
            "text/plain": [
              "Kolom       Persentase Outliers\n",
              "quantity                   13.5\n",
              "unit_price                  1.8\n",
              "total                      10.2"
            ],
            "text/html": [
              "\n",
              "  <div id=\"df-af8176b1-989e-4f29-b67b-89c9215dc0e0\" class=\"colab-df-container\">\n",
              "    <div>\n",
              "<style scoped>\n",
              "    .dataframe tbody tr th:only-of-type {\n",
              "        vertical-align: middle;\n",
              "    }\n",
              "\n",
              "    .dataframe tbody tr th {\n",
              "        vertical-align: top;\n",
              "    }\n",
              "\n",
              "    .dataframe thead th {\n",
              "        text-align: right;\n",
              "    }\n",
              "</style>\n",
              "<table border=\"1\" class=\"dataframe\">\n",
              "  <thead>\n",
              "    <tr style=\"text-align: right;\">\n",
              "      <th>Kolom</th>\n",
              "      <th>Persentase Outliers</th>\n",
              "    </tr>\n",
              "  </thead>\n",
              "  <tbody>\n",
              "    <tr>\n",
              "      <th>quantity</th>\n",
              "      <td>13.5</td>\n",
              "    </tr>\n",
              "    <tr>\n",
              "      <th>unit_price</th>\n",
              "      <td>1.8</td>\n",
              "    </tr>\n",
              "    <tr>\n",
              "      <th>total</th>\n",
              "      <td>10.2</td>\n",
              "    </tr>\n",
              "  </tbody>\n",
              "</table>\n",
              "</div>\n",
              "    <div class=\"colab-df-buttons\">\n",
              "\n",
              "  <div class=\"colab-df-container\">\n",
              "    <button class=\"colab-df-convert\" onclick=\"convertToInteractive('df-af8176b1-989e-4f29-b67b-89c9215dc0e0')\"\n",
              "            title=\"Convert this dataframe to an interactive table.\"\n",
              "            style=\"display:none;\">\n",
              "\n",
              "  <svg xmlns=\"http://www.w3.org/2000/svg\" height=\"24px\" viewBox=\"0 -960 960 960\">\n",
              "    <path d=\"M120-120v-720h720v720H120Zm60-500h600v-160H180v160Zm220 220h160v-160H400v160Zm0 220h160v-160H400v160ZM180-400h160v-160H180v160Zm440 0h160v-160H620v160ZM180-180h160v-160H180v160Zm440 0h160v-160H620v160Z\"/>\n",
              "  </svg>\n",
              "    </button>\n",
              "\n",
              "  <style>\n",
              "    .colab-df-container {\n",
              "      display:flex;\n",
              "      gap: 12px;\n",
              "    }\n",
              "\n",
              "    .colab-df-convert {\n",
              "      background-color: #E8F0FE;\n",
              "      border: none;\n",
              "      border-radius: 50%;\n",
              "      cursor: pointer;\n",
              "      display: none;\n",
              "      fill: #1967D2;\n",
              "      height: 32px;\n",
              "      padding: 0 0 0 0;\n",
              "      width: 32px;\n",
              "    }\n",
              "\n",
              "    .colab-df-convert:hover {\n",
              "      background-color: #E2EBFA;\n",
              "      box-shadow: 0px 1px 2px rgba(60, 64, 67, 0.3), 0px 1px 3px 1px rgba(60, 64, 67, 0.15);\n",
              "      fill: #174EA6;\n",
              "    }\n",
              "\n",
              "    .colab-df-buttons div {\n",
              "      margin-bottom: 4px;\n",
              "    }\n",
              "\n",
              "    [theme=dark] .colab-df-convert {\n",
              "      background-color: #3B4455;\n",
              "      fill: #D2E3FC;\n",
              "    }\n",
              "\n",
              "    [theme=dark] .colab-df-convert:hover {\n",
              "      background-color: #434B5C;\n",
              "      box-shadow: 0px 1px 3px 1px rgba(0, 0, 0, 0.15);\n",
              "      filter: drop-shadow(0px 1px 2px rgba(0, 0, 0, 0.3));\n",
              "      fill: #FFFFFF;\n",
              "    }\n",
              "  </style>\n",
              "\n",
              "    <script>\n",
              "      const buttonEl =\n",
              "        document.querySelector('#df-af8176b1-989e-4f29-b67b-89c9215dc0e0 button.colab-df-convert');\n",
              "      buttonEl.style.display =\n",
              "        google.colab.kernel.accessAllowed ? 'block' : 'none';\n",
              "\n",
              "      async function convertToInteractive(key) {\n",
              "        const element = document.querySelector('#df-af8176b1-989e-4f29-b67b-89c9215dc0e0');\n",
              "        const dataTable =\n",
              "          await google.colab.kernel.invokeFunction('convertToInteractive',\n",
              "                                                    [key], {});\n",
              "        if (!dataTable) return;\n",
              "\n",
              "        const docLinkHtml = 'Like what you see? Visit the ' +\n",
              "          '<a target=\"_blank\" href=https://colab.research.google.com/notebooks/data_table.ipynb>data table notebook</a>'\n",
              "          + ' to learn more about interactive tables.';\n",
              "        element.innerHTML = '';\n",
              "        dataTable['output_type'] = 'display_data';\n",
              "        await google.colab.output.renderOutput(dataTable, element);\n",
              "        const docLink = document.createElement('div');\n",
              "        docLink.innerHTML = docLinkHtml;\n",
              "        element.appendChild(docLink);\n",
              "      }\n",
              "    </script>\n",
              "  </div>\n",
              "\n",
              "\n",
              "<div id=\"df-dead70e8-7b55-4e06-aa6b-65f717f98e0b\">\n",
              "  <button class=\"colab-df-quickchart\" onclick=\"quickchart('df-dead70e8-7b55-4e06-aa6b-65f717f98e0b')\"\n",
              "            title=\"Suggest charts\"\n",
              "            style=\"display:none;\">\n",
              "\n",
              "<svg xmlns=\"http://www.w3.org/2000/svg\" height=\"24px\"viewBox=\"0 0 24 24\"\n",
              "     width=\"24px\">\n",
              "    <g>\n",
              "        <path d=\"M19 3H5c-1.1 0-2 .9-2 2v14c0 1.1.9 2 2 2h14c1.1 0 2-.9 2-2V5c0-1.1-.9-2-2-2zM9 17H7v-7h2v7zm4 0h-2V7h2v10zm4 0h-2v-4h2v4z\"/>\n",
              "    </g>\n",
              "</svg>\n",
              "  </button>\n",
              "\n",
              "<style>\n",
              "  .colab-df-quickchart {\n",
              "      --bg-color: #E8F0FE;\n",
              "      --fill-color: #1967D2;\n",
              "      --hover-bg-color: #E2EBFA;\n",
              "      --hover-fill-color: #174EA6;\n",
              "      --disabled-fill-color: #AAA;\n",
              "      --disabled-bg-color: #DDD;\n",
              "  }\n",
              "\n",
              "  [theme=dark] .colab-df-quickchart {\n",
              "      --bg-color: #3B4455;\n",
              "      --fill-color: #D2E3FC;\n",
              "      --hover-bg-color: #434B5C;\n",
              "      --hover-fill-color: #FFFFFF;\n",
              "      --disabled-bg-color: #3B4455;\n",
              "      --disabled-fill-color: #666;\n",
              "  }\n",
              "\n",
              "  .colab-df-quickchart {\n",
              "    background-color: var(--bg-color);\n",
              "    border: none;\n",
              "    border-radius: 50%;\n",
              "    cursor: pointer;\n",
              "    display: none;\n",
              "    fill: var(--fill-color);\n",
              "    height: 32px;\n",
              "    padding: 0;\n",
              "    width: 32px;\n",
              "  }\n",
              "\n",
              "  .colab-df-quickchart:hover {\n",
              "    background-color: var(--hover-bg-color);\n",
              "    box-shadow: 0 1px 2px rgba(60, 64, 67, 0.3), 0 1px 3px 1px rgba(60, 64, 67, 0.15);\n",
              "    fill: var(--button-hover-fill-color);\n",
              "  }\n",
              "\n",
              "  .colab-df-quickchart-complete:disabled,\n",
              "  .colab-df-quickchart-complete:disabled:hover {\n",
              "    background-color: var(--disabled-bg-color);\n",
              "    fill: var(--disabled-fill-color);\n",
              "    box-shadow: none;\n",
              "  }\n",
              "\n",
              "  .colab-df-spinner {\n",
              "    border: 2px solid var(--fill-color);\n",
              "    border-color: transparent;\n",
              "    border-bottom-color: var(--fill-color);\n",
              "    animation:\n",
              "      spin 1s steps(1) infinite;\n",
              "  }\n",
              "\n",
              "  @keyframes spin {\n",
              "    0% {\n",
              "      border-color: transparent;\n",
              "      border-bottom-color: var(--fill-color);\n",
              "      border-left-color: var(--fill-color);\n",
              "    }\n",
              "    20% {\n",
              "      border-color: transparent;\n",
              "      border-left-color: var(--fill-color);\n",
              "      border-top-color: var(--fill-color);\n",
              "    }\n",
              "    30% {\n",
              "      border-color: transparent;\n",
              "      border-left-color: var(--fill-color);\n",
              "      border-top-color: var(--fill-color);\n",
              "      border-right-color: var(--fill-color);\n",
              "    }\n",
              "    40% {\n",
              "      border-color: transparent;\n",
              "      border-right-color: var(--fill-color);\n",
              "      border-top-color: var(--fill-color);\n",
              "    }\n",
              "    60% {\n",
              "      border-color: transparent;\n",
              "      border-right-color: var(--fill-color);\n",
              "    }\n",
              "    80% {\n",
              "      border-color: transparent;\n",
              "      border-right-color: var(--fill-color);\n",
              "      border-bottom-color: var(--fill-color);\n",
              "    }\n",
              "    90% {\n",
              "      border-color: transparent;\n",
              "      border-bottom-color: var(--fill-color);\n",
              "    }\n",
              "  }\n",
              "</style>\n",
              "\n",
              "  <script>\n",
              "    async function quickchart(key) {\n",
              "      const quickchartButtonEl =\n",
              "        document.querySelector('#' + key + ' button');\n",
              "      quickchartButtonEl.disabled = true;  // To prevent multiple clicks.\n",
              "      quickchartButtonEl.classList.add('colab-df-spinner');\n",
              "      try {\n",
              "        const charts = await google.colab.kernel.invokeFunction(\n",
              "            'suggestCharts', [key], {});\n",
              "      } catch (error) {\n",
              "        console.error('Error during call to suggestCharts:', error);\n",
              "      }\n",
              "      quickchartButtonEl.classList.remove('colab-df-spinner');\n",
              "      quickchartButtonEl.classList.add('colab-df-quickchart-complete');\n",
              "    }\n",
              "    (() => {\n",
              "      let quickchartButtonEl =\n",
              "        document.querySelector('#df-dead70e8-7b55-4e06-aa6b-65f717f98e0b button');\n",
              "      quickchartButtonEl.style.display =\n",
              "        google.colab.kernel.accessAllowed ? 'block' : 'none';\n",
              "    })();\n",
              "  </script>\n",
              "</div>\n",
              "    </div>\n",
              "  </div>\n"
            ],
            "application/vnd.google.colaboratory.intrinsic+json": {
              "type": "dataframe",
              "variable_name": "results_df",
              "summary": "{\n  \"name\": \"results_df\",\n  \"rows\": 3,\n  \"fields\": [\n    {\n      \"column\": \"Persentase Outliers\",\n      \"properties\": {\n        \"dtype\": \"number\",\n        \"std\": 6.032412452742269,\n        \"min\": 1.7999999999999998,\n        \"max\": 13.5,\n        \"num_unique_values\": 3,\n        \"samples\": [\n          13.5,\n          1.7999999999999998,\n          10.2\n        ],\n        \"semantic_type\": \"\",\n        \"description\": \"\"\n      }\n    }\n  ]\n}"
            }
          },
          "metadata": {}
        }
      ]
    },
    {
      "cell_type": "markdown",
      "source": [
        "Berdasarkan hasil di atas, menunjukkan persentase outliers pada kolom tertentu. Berikut adalah penjelasannya:\n",
        "\n",
        "* Persentase outliers pada kolom quantity menunjukkan persentase sebesar **13.5%** yang artinya terdapat banyak quantity pembelian yang lebih besar dari mayoritas quantity pembelian lainnya.\n",
        "* Persentase outliers pada kolom unit_price menunjukkan persentasi sebesar **1.8%** yang artinya terdapat beberapa harga produk yang lebih besar dari mayoritas harga produk lainnya.\n",
        "* Persentase outliers pada kolom total menunjukkan persentase sebesar **10.2%** yang artinya terdapat banyak total harga yang lebih besar dari mayoritas harga produk lainnya.\n",
        "\n",
        "Dari hasil tersebut outliers akan dipertimbangkan karena beberapa kolom memiliki jumlah data outliers yang banyak dan persentasenya melebihi 5%. Outliers nantinya dapat mempengaruhi dalam melakukan analisis."
      ],
      "metadata": {
        "id": "FwvCJ0DjS1PS"
      }
    },
    {
      "cell_type": "markdown",
      "source": [
        "#### Duplicated Values"
      ],
      "metadata": {
        "id": "i7DVZODGY_vy"
      }
    },
    {
      "cell_type": "code",
      "source": [
        "df[df.duplicated()]"
      ],
      "metadata": {
        "colab": {
          "base_uri": "https://localhost:8080/",
          "height": 53
        },
        "id": "G1wFXBbHS-_G",
        "outputId": "c66553e1-93bf-460e-9288-8441719b1a04"
      },
      "execution_count": null,
      "outputs": [
        {
          "output_type": "execute_result",
          "data": {
            "text/plain": [
              "Empty DataFrame\n",
              "Columns: [date, warehouse, client_type, product_line, quantity, unit_price, total, payment]\n",
              "Index: []"
            ],
            "text/html": [
              "\n",
              "  <div id=\"df-4c72cd10-9645-4ef2-a4cf-aea66f8a55c3\" class=\"colab-df-container\">\n",
              "    <div>\n",
              "<style scoped>\n",
              "    .dataframe tbody tr th:only-of-type {\n",
              "        vertical-align: middle;\n",
              "    }\n",
              "\n",
              "    .dataframe tbody tr th {\n",
              "        vertical-align: top;\n",
              "    }\n",
              "\n",
              "    .dataframe thead th {\n",
              "        text-align: right;\n",
              "    }\n",
              "</style>\n",
              "<table border=\"1\" class=\"dataframe\">\n",
              "  <thead>\n",
              "    <tr style=\"text-align: right;\">\n",
              "      <th></th>\n",
              "      <th>date</th>\n",
              "      <th>warehouse</th>\n",
              "      <th>client_type</th>\n",
              "      <th>product_line</th>\n",
              "      <th>quantity</th>\n",
              "      <th>unit_price</th>\n",
              "      <th>total</th>\n",
              "      <th>payment</th>\n",
              "    </tr>\n",
              "  </thead>\n",
              "  <tbody>\n",
              "  </tbody>\n",
              "</table>\n",
              "</div>\n",
              "    <div class=\"colab-df-buttons\">\n",
              "\n",
              "  <div class=\"colab-df-container\">\n",
              "    <button class=\"colab-df-convert\" onclick=\"convertToInteractive('df-4c72cd10-9645-4ef2-a4cf-aea66f8a55c3')\"\n",
              "            title=\"Convert this dataframe to an interactive table.\"\n",
              "            style=\"display:none;\">\n",
              "\n",
              "  <svg xmlns=\"http://www.w3.org/2000/svg\" height=\"24px\" viewBox=\"0 -960 960 960\">\n",
              "    <path d=\"M120-120v-720h720v720H120Zm60-500h600v-160H180v160Zm220 220h160v-160H400v160Zm0 220h160v-160H400v160ZM180-400h160v-160H180v160Zm440 0h160v-160H620v160ZM180-180h160v-160H180v160Zm440 0h160v-160H620v160Z\"/>\n",
              "  </svg>\n",
              "    </button>\n",
              "\n",
              "  <style>\n",
              "    .colab-df-container {\n",
              "      display:flex;\n",
              "      gap: 12px;\n",
              "    }\n",
              "\n",
              "    .colab-df-convert {\n",
              "      background-color: #E8F0FE;\n",
              "      border: none;\n",
              "      border-radius: 50%;\n",
              "      cursor: pointer;\n",
              "      display: none;\n",
              "      fill: #1967D2;\n",
              "      height: 32px;\n",
              "      padding: 0 0 0 0;\n",
              "      width: 32px;\n",
              "    }\n",
              "\n",
              "    .colab-df-convert:hover {\n",
              "      background-color: #E2EBFA;\n",
              "      box-shadow: 0px 1px 2px rgba(60, 64, 67, 0.3), 0px 1px 3px 1px rgba(60, 64, 67, 0.15);\n",
              "      fill: #174EA6;\n",
              "    }\n",
              "\n",
              "    .colab-df-buttons div {\n",
              "      margin-bottom: 4px;\n",
              "    }\n",
              "\n",
              "    [theme=dark] .colab-df-convert {\n",
              "      background-color: #3B4455;\n",
              "      fill: #D2E3FC;\n",
              "    }\n",
              "\n",
              "    [theme=dark] .colab-df-convert:hover {\n",
              "      background-color: #434B5C;\n",
              "      box-shadow: 0px 1px 3px 1px rgba(0, 0, 0, 0.15);\n",
              "      filter: drop-shadow(0px 1px 2px rgba(0, 0, 0, 0.3));\n",
              "      fill: #FFFFFF;\n",
              "    }\n",
              "  </style>\n",
              "\n",
              "    <script>\n",
              "      const buttonEl =\n",
              "        document.querySelector('#df-4c72cd10-9645-4ef2-a4cf-aea66f8a55c3 button.colab-df-convert');\n",
              "      buttonEl.style.display =\n",
              "        google.colab.kernel.accessAllowed ? 'block' : 'none';\n",
              "\n",
              "      async function convertToInteractive(key) {\n",
              "        const element = document.querySelector('#df-4c72cd10-9645-4ef2-a4cf-aea66f8a55c3');\n",
              "        const dataTable =\n",
              "          await google.colab.kernel.invokeFunction('convertToInteractive',\n",
              "                                                    [key], {});\n",
              "        if (!dataTable) return;\n",
              "\n",
              "        const docLinkHtml = 'Like what you see? Visit the ' +\n",
              "          '<a target=\"_blank\" href=https://colab.research.google.com/notebooks/data_table.ipynb>data table notebook</a>'\n",
              "          + ' to learn more about interactive tables.';\n",
              "        element.innerHTML = '';\n",
              "        dataTable['output_type'] = 'display_data';\n",
              "        await google.colab.output.renderOutput(dataTable, element);\n",
              "        const docLink = document.createElement('div');\n",
              "        docLink.innerHTML = docLinkHtml;\n",
              "        element.appendChild(docLink);\n",
              "      }\n",
              "    </script>\n",
              "  </div>\n",
              "\n",
              "    </div>\n",
              "  </div>\n"
            ],
            "application/vnd.google.colaboratory.intrinsic+json": {
              "type": "dataframe",
              "repr_error": "Out of range float values are not JSON compliant: nan"
            }
          },
          "metadata": {},
          "execution_count": 23
        }
      ]
    },
    {
      "cell_type": "markdown",
      "source": [
        "Berdasarkan hasil di atas, dapat diketahui bahwa tidak ada baris yang terduplikasi pada dataset penjualan sparepart motor."
      ],
      "metadata": {
        "id": "r6Xu8DE4S4fA"
      }
    },
    {
      "cell_type": "markdown",
      "source": [
        "## **Data Preparation**"
      ],
      "metadata": {
        "id": "-Df9KuG9nqKc"
      }
    },
    {
      "cell_type": "markdown",
      "source": [
        "### **Data Cleaning**"
      ],
      "metadata": {
        "id": "kZIFh8TLn2z8"
      }
    },
    {
      "cell_type": "markdown",
      "source": [
        "#### **Penanganan Missing Values**"
      ],
      "metadata": {
        "id": "YVA0Ow23omWK"
      }
    },
    {
      "cell_type": "markdown",
      "source": [
        "**Melakukan Pengecekan Missing Values**\n",
        "\n",
        "Pengecekan ini dilakukan untuk melihat apakah terdapat missing values pada dataframe. Jika terdapat missing values, maka akan dilakukan sebuah penanganan."
      ],
      "metadata": {
        "id": "pVVuWD6ko-87"
      }
    },
    {
      "cell_type": "code",
      "source": [
        "print((df.isna().sum() / len(df)) * 100)"
      ],
      "metadata": {
        "colab": {
          "base_uri": "https://localhost:8080/"
        },
        "id": "naX5sztFpEVn",
        "outputId": "ab7ed98a-b273-47cd-8b45-8c01570440f7"
      },
      "execution_count": null,
      "outputs": [
        {
          "output_type": "stream",
          "name": "stdout",
          "text": [
            "date            0.0\n",
            "warehouse       0.0\n",
            "client_type     0.0\n",
            "product_line    0.0\n",
            "quantity        0.0\n",
            "unit_price      0.0\n",
            "total           0.0\n",
            "payment         0.0\n",
            "dtype: float64\n"
          ]
        }
      ]
    },
    {
      "cell_type": "markdown",
      "source": [
        "Dapat dilihat pada tabel diatas bahwa pada tiap kolom dari dataframe yang dianalisis tidak terdapat sebuah missing values atau nilai yang kosong. Sehingga, dapat disimpulkan bahwa dataframe terhindar dari missing values dan tidak perlu dilakukan penanganan lebih lanjut."
      ],
      "metadata": {
        "id": "UA9Ar519pLRF"
      }
    },
    {
      "cell_type": "markdown",
      "source": [
        "#### **Penanganan Duplicated Values**"
      ],
      "metadata": {
        "id": "sNSO3mneoxx8"
      }
    },
    {
      "cell_type": "markdown",
      "source": [
        "**Melakukan Pengecekan Duplicated Values**\n",
        "\n",
        "Pengecekan ini dilakukan untuk melihat apakah terdapat duplicated values pada dataframe. Jika terdapat duplicated values, maka akan dilakukan sebuah penangana."
      ],
      "metadata": {
        "id": "ePhldgA6pPju"
      }
    },
    {
      "cell_type": "code",
      "source": [
        "df[df.duplicated()]"
      ],
      "metadata": {
        "colab": {
          "base_uri": "https://localhost:8080/",
          "height": 53
        },
        "id": "53dy8-1qpTeT",
        "outputId": "9b25f2f9-02c0-40ce-b6ac-d182704a625b"
      },
      "execution_count": null,
      "outputs": [
        {
          "output_type": "execute_result",
          "data": {
            "text/plain": [
              "Empty DataFrame\n",
              "Columns: [date, warehouse, client_type, product_line, quantity, unit_price, total, payment]\n",
              "Index: []"
            ],
            "text/html": [
              "\n",
              "  <div id=\"df-59d21691-e0f8-425f-a64d-1a9356a3aa1e\" class=\"colab-df-container\">\n",
              "    <div>\n",
              "<style scoped>\n",
              "    .dataframe tbody tr th:only-of-type {\n",
              "        vertical-align: middle;\n",
              "    }\n",
              "\n",
              "    .dataframe tbody tr th {\n",
              "        vertical-align: top;\n",
              "    }\n",
              "\n",
              "    .dataframe thead th {\n",
              "        text-align: right;\n",
              "    }\n",
              "</style>\n",
              "<table border=\"1\" class=\"dataframe\">\n",
              "  <thead>\n",
              "    <tr style=\"text-align: right;\">\n",
              "      <th></th>\n",
              "      <th>date</th>\n",
              "      <th>warehouse</th>\n",
              "      <th>client_type</th>\n",
              "      <th>product_line</th>\n",
              "      <th>quantity</th>\n",
              "      <th>unit_price</th>\n",
              "      <th>total</th>\n",
              "      <th>payment</th>\n",
              "    </tr>\n",
              "  </thead>\n",
              "  <tbody>\n",
              "  </tbody>\n",
              "</table>\n",
              "</div>\n",
              "    <div class=\"colab-df-buttons\">\n",
              "\n",
              "  <div class=\"colab-df-container\">\n",
              "    <button class=\"colab-df-convert\" onclick=\"convertToInteractive('df-59d21691-e0f8-425f-a64d-1a9356a3aa1e')\"\n",
              "            title=\"Convert this dataframe to an interactive table.\"\n",
              "            style=\"display:none;\">\n",
              "\n",
              "  <svg xmlns=\"http://www.w3.org/2000/svg\" height=\"24px\" viewBox=\"0 -960 960 960\">\n",
              "    <path d=\"M120-120v-720h720v720H120Zm60-500h600v-160H180v160Zm220 220h160v-160H400v160Zm0 220h160v-160H400v160ZM180-400h160v-160H180v160Zm440 0h160v-160H620v160ZM180-180h160v-160H180v160Zm440 0h160v-160H620v160Z\"/>\n",
              "  </svg>\n",
              "    </button>\n",
              "\n",
              "  <style>\n",
              "    .colab-df-container {\n",
              "      display:flex;\n",
              "      gap: 12px;\n",
              "    }\n",
              "\n",
              "    .colab-df-convert {\n",
              "      background-color: #E8F0FE;\n",
              "      border: none;\n",
              "      border-radius: 50%;\n",
              "      cursor: pointer;\n",
              "      display: none;\n",
              "      fill: #1967D2;\n",
              "      height: 32px;\n",
              "      padding: 0 0 0 0;\n",
              "      width: 32px;\n",
              "    }\n",
              "\n",
              "    .colab-df-convert:hover {\n",
              "      background-color: #E2EBFA;\n",
              "      box-shadow: 0px 1px 2px rgba(60, 64, 67, 0.3), 0px 1px 3px 1px rgba(60, 64, 67, 0.15);\n",
              "      fill: #174EA6;\n",
              "    }\n",
              "\n",
              "    .colab-df-buttons div {\n",
              "      margin-bottom: 4px;\n",
              "    }\n",
              "\n",
              "    [theme=dark] .colab-df-convert {\n",
              "      background-color: #3B4455;\n",
              "      fill: #D2E3FC;\n",
              "    }\n",
              "\n",
              "    [theme=dark] .colab-df-convert:hover {\n",
              "      background-color: #434B5C;\n",
              "      box-shadow: 0px 1px 3px 1px rgba(0, 0, 0, 0.15);\n",
              "      filter: drop-shadow(0px 1px 2px rgba(0, 0, 0, 0.3));\n",
              "      fill: #FFFFFF;\n",
              "    }\n",
              "  </style>\n",
              "\n",
              "    <script>\n",
              "      const buttonEl =\n",
              "        document.querySelector('#df-59d21691-e0f8-425f-a64d-1a9356a3aa1e button.colab-df-convert');\n",
              "      buttonEl.style.display =\n",
              "        google.colab.kernel.accessAllowed ? 'block' : 'none';\n",
              "\n",
              "      async function convertToInteractive(key) {\n",
              "        const element = document.querySelector('#df-59d21691-e0f8-425f-a64d-1a9356a3aa1e');\n",
              "        const dataTable =\n",
              "          await google.colab.kernel.invokeFunction('convertToInteractive',\n",
              "                                                    [key], {});\n",
              "        if (!dataTable) return;\n",
              "\n",
              "        const docLinkHtml = 'Like what you see? Visit the ' +\n",
              "          '<a target=\"_blank\" href=https://colab.research.google.com/notebooks/data_table.ipynb>data table notebook</a>'\n",
              "          + ' to learn more about interactive tables.';\n",
              "        element.innerHTML = '';\n",
              "        dataTable['output_type'] = 'display_data';\n",
              "        await google.colab.output.renderOutput(dataTable, element);\n",
              "        const docLink = document.createElement('div');\n",
              "        docLink.innerHTML = docLinkHtml;\n",
              "        element.appendChild(docLink);\n",
              "      }\n",
              "    </script>\n",
              "  </div>\n",
              "\n",
              "    </div>\n",
              "  </div>\n"
            ],
            "application/vnd.google.colaboratory.intrinsic+json": {
              "type": "dataframe",
              "repr_error": "Out of range float values are not JSON compliant: nan"
            }
          },
          "metadata": {},
          "execution_count": 25
        }
      ]
    },
    {
      "cell_type": "markdown",
      "source": [
        "Dapat dilihat pada hasil diatas bahwa pada tiap baris dari dataframe yang dianalisis tidak terdapat sebuah duplicated values atau duplikasi data. Sehingga, dapat disimpulkan bahwa dataframe terhindar dari duplicated values dan tidak perlu dilakukan penanganan lebih lanjut."
      ],
      "metadata": {
        "id": "0i582ccMpe-x"
      }
    },
    {
      "cell_type": "markdown",
      "source": [
        "#### **Penanganan Outliers Values**"
      ],
      "metadata": {
        "id": "cJ-_gU4Ao4JG"
      }
    },
    {
      "cell_type": "markdown",
      "source": [
        "**Melakukan Pengecekan Outliers Values**\n",
        "\n",
        "Pengecekan ini dilakukan untuk melihat apakah terdapat outliers values pada dataframe. Jika terdapat outliers values, maka akan dilakukan sebuah penanganan."
      ],
      "metadata": {
        "id": "1qdUJatxpjFE"
      }
    },
    {
      "cell_type": "code",
      "source": [
        "results = []\n",
        "\n",
        "cols = df.select_dtypes(include=['float64', 'int64'])\n",
        "\n",
        "for col in cols:\n",
        "  q1 = df[col].quantile(0.25)\n",
        "  q3 = df[col].quantile(0.75)\n",
        "  iqr = q3 - q1\n",
        "  lower_bound = q1 - 1.5*iqr\n",
        "  upper_bound = q3 + 1.5*iqr\n",
        "  outliers = df[(df[col] < lower_bound) | (df[col] > upper_bound)]\n",
        "  percent_outliers = (len(outliers)/len(df))*100\n",
        "  results.append({'Kolom': col, 'Persentase Outliers': percent_outliers})\n",
        "\n",
        "# Dataframe dari list hasil\n",
        "results_df = pd.DataFrame(results)\n",
        "results_df.set_index('Kolom', inplace=True)\n",
        "results_df = results_df.rename_axis(None, axis=0).rename_axis('Kolom', axis=1)\n",
        "\n",
        "# Tampilkan dataframe\n",
        "display(results_df)"
      ],
      "metadata": {
        "colab": {
          "base_uri": "https://localhost:8080/",
          "height": 143
        },
        "id": "nTNLAu84pyyO",
        "outputId": "7bc91895-2449-4958-90c4-23758ff48f1a"
      },
      "execution_count": null,
      "outputs": [
        {
          "output_type": "display_data",
          "data": {
            "text/plain": [
              "Kolom       Persentase Outliers\n",
              "quantity                   13.5\n",
              "unit_price                  1.8\n",
              "total                      10.2"
            ],
            "text/html": [
              "\n",
              "  <div id=\"df-9b501dda-3dcc-46b2-9d2c-03210ec6582e\" class=\"colab-df-container\">\n",
              "    <div>\n",
              "<style scoped>\n",
              "    .dataframe tbody tr th:only-of-type {\n",
              "        vertical-align: middle;\n",
              "    }\n",
              "\n",
              "    .dataframe tbody tr th {\n",
              "        vertical-align: top;\n",
              "    }\n",
              "\n",
              "    .dataframe thead th {\n",
              "        text-align: right;\n",
              "    }\n",
              "</style>\n",
              "<table border=\"1\" class=\"dataframe\">\n",
              "  <thead>\n",
              "    <tr style=\"text-align: right;\">\n",
              "      <th>Kolom</th>\n",
              "      <th>Persentase Outliers</th>\n",
              "    </tr>\n",
              "  </thead>\n",
              "  <tbody>\n",
              "    <tr>\n",
              "      <th>quantity</th>\n",
              "      <td>13.5</td>\n",
              "    </tr>\n",
              "    <tr>\n",
              "      <th>unit_price</th>\n",
              "      <td>1.8</td>\n",
              "    </tr>\n",
              "    <tr>\n",
              "      <th>total</th>\n",
              "      <td>10.2</td>\n",
              "    </tr>\n",
              "  </tbody>\n",
              "</table>\n",
              "</div>\n",
              "    <div class=\"colab-df-buttons\">\n",
              "\n",
              "  <div class=\"colab-df-container\">\n",
              "    <button class=\"colab-df-convert\" onclick=\"convertToInteractive('df-9b501dda-3dcc-46b2-9d2c-03210ec6582e')\"\n",
              "            title=\"Convert this dataframe to an interactive table.\"\n",
              "            style=\"display:none;\">\n",
              "\n",
              "  <svg xmlns=\"http://www.w3.org/2000/svg\" height=\"24px\" viewBox=\"0 -960 960 960\">\n",
              "    <path d=\"M120-120v-720h720v720H120Zm60-500h600v-160H180v160Zm220 220h160v-160H400v160Zm0 220h160v-160H400v160ZM180-400h160v-160H180v160Zm440 0h160v-160H620v160ZM180-180h160v-160H180v160Zm440 0h160v-160H620v160Z\"/>\n",
              "  </svg>\n",
              "    </button>\n",
              "\n",
              "  <style>\n",
              "    .colab-df-container {\n",
              "      display:flex;\n",
              "      gap: 12px;\n",
              "    }\n",
              "\n",
              "    .colab-df-convert {\n",
              "      background-color: #E8F0FE;\n",
              "      border: none;\n",
              "      border-radius: 50%;\n",
              "      cursor: pointer;\n",
              "      display: none;\n",
              "      fill: #1967D2;\n",
              "      height: 32px;\n",
              "      padding: 0 0 0 0;\n",
              "      width: 32px;\n",
              "    }\n",
              "\n",
              "    .colab-df-convert:hover {\n",
              "      background-color: #E2EBFA;\n",
              "      box-shadow: 0px 1px 2px rgba(60, 64, 67, 0.3), 0px 1px 3px 1px rgba(60, 64, 67, 0.15);\n",
              "      fill: #174EA6;\n",
              "    }\n",
              "\n",
              "    .colab-df-buttons div {\n",
              "      margin-bottom: 4px;\n",
              "    }\n",
              "\n",
              "    [theme=dark] .colab-df-convert {\n",
              "      background-color: #3B4455;\n",
              "      fill: #D2E3FC;\n",
              "    }\n",
              "\n",
              "    [theme=dark] .colab-df-convert:hover {\n",
              "      background-color: #434B5C;\n",
              "      box-shadow: 0px 1px 3px 1px rgba(0, 0, 0, 0.15);\n",
              "      filter: drop-shadow(0px 1px 2px rgba(0, 0, 0, 0.3));\n",
              "      fill: #FFFFFF;\n",
              "    }\n",
              "  </style>\n",
              "\n",
              "    <script>\n",
              "      const buttonEl =\n",
              "        document.querySelector('#df-9b501dda-3dcc-46b2-9d2c-03210ec6582e button.colab-df-convert');\n",
              "      buttonEl.style.display =\n",
              "        google.colab.kernel.accessAllowed ? 'block' : 'none';\n",
              "\n",
              "      async function convertToInteractive(key) {\n",
              "        const element = document.querySelector('#df-9b501dda-3dcc-46b2-9d2c-03210ec6582e');\n",
              "        const dataTable =\n",
              "          await google.colab.kernel.invokeFunction('convertToInteractive',\n",
              "                                                    [key], {});\n",
              "        if (!dataTable) return;\n",
              "\n",
              "        const docLinkHtml = 'Like what you see? Visit the ' +\n",
              "          '<a target=\"_blank\" href=https://colab.research.google.com/notebooks/data_table.ipynb>data table notebook</a>'\n",
              "          + ' to learn more about interactive tables.';\n",
              "        element.innerHTML = '';\n",
              "        dataTable['output_type'] = 'display_data';\n",
              "        await google.colab.output.renderOutput(dataTable, element);\n",
              "        const docLink = document.createElement('div');\n",
              "        docLink.innerHTML = docLinkHtml;\n",
              "        element.appendChild(docLink);\n",
              "      }\n",
              "    </script>\n",
              "  </div>\n",
              "\n",
              "\n",
              "<div id=\"df-cf6ea004-1169-45b7-8965-d0ddcb5bea1f\">\n",
              "  <button class=\"colab-df-quickchart\" onclick=\"quickchart('df-cf6ea004-1169-45b7-8965-d0ddcb5bea1f')\"\n",
              "            title=\"Suggest charts\"\n",
              "            style=\"display:none;\">\n",
              "\n",
              "<svg xmlns=\"http://www.w3.org/2000/svg\" height=\"24px\"viewBox=\"0 0 24 24\"\n",
              "     width=\"24px\">\n",
              "    <g>\n",
              "        <path d=\"M19 3H5c-1.1 0-2 .9-2 2v14c0 1.1.9 2 2 2h14c1.1 0 2-.9 2-2V5c0-1.1-.9-2-2-2zM9 17H7v-7h2v7zm4 0h-2V7h2v10zm4 0h-2v-4h2v4z\"/>\n",
              "    </g>\n",
              "</svg>\n",
              "  </button>\n",
              "\n",
              "<style>\n",
              "  .colab-df-quickchart {\n",
              "      --bg-color: #E8F0FE;\n",
              "      --fill-color: #1967D2;\n",
              "      --hover-bg-color: #E2EBFA;\n",
              "      --hover-fill-color: #174EA6;\n",
              "      --disabled-fill-color: #AAA;\n",
              "      --disabled-bg-color: #DDD;\n",
              "  }\n",
              "\n",
              "  [theme=dark] .colab-df-quickchart {\n",
              "      --bg-color: #3B4455;\n",
              "      --fill-color: #D2E3FC;\n",
              "      --hover-bg-color: #434B5C;\n",
              "      --hover-fill-color: #FFFFFF;\n",
              "      --disabled-bg-color: #3B4455;\n",
              "      --disabled-fill-color: #666;\n",
              "  }\n",
              "\n",
              "  .colab-df-quickchart {\n",
              "    background-color: var(--bg-color);\n",
              "    border: none;\n",
              "    border-radius: 50%;\n",
              "    cursor: pointer;\n",
              "    display: none;\n",
              "    fill: var(--fill-color);\n",
              "    height: 32px;\n",
              "    padding: 0;\n",
              "    width: 32px;\n",
              "  }\n",
              "\n",
              "  .colab-df-quickchart:hover {\n",
              "    background-color: var(--hover-bg-color);\n",
              "    box-shadow: 0 1px 2px rgba(60, 64, 67, 0.3), 0 1px 3px 1px rgba(60, 64, 67, 0.15);\n",
              "    fill: var(--button-hover-fill-color);\n",
              "  }\n",
              "\n",
              "  .colab-df-quickchart-complete:disabled,\n",
              "  .colab-df-quickchart-complete:disabled:hover {\n",
              "    background-color: var(--disabled-bg-color);\n",
              "    fill: var(--disabled-fill-color);\n",
              "    box-shadow: none;\n",
              "  }\n",
              "\n",
              "  .colab-df-spinner {\n",
              "    border: 2px solid var(--fill-color);\n",
              "    border-color: transparent;\n",
              "    border-bottom-color: var(--fill-color);\n",
              "    animation:\n",
              "      spin 1s steps(1) infinite;\n",
              "  }\n",
              "\n",
              "  @keyframes spin {\n",
              "    0% {\n",
              "      border-color: transparent;\n",
              "      border-bottom-color: var(--fill-color);\n",
              "      border-left-color: var(--fill-color);\n",
              "    }\n",
              "    20% {\n",
              "      border-color: transparent;\n",
              "      border-left-color: var(--fill-color);\n",
              "      border-top-color: var(--fill-color);\n",
              "    }\n",
              "    30% {\n",
              "      border-color: transparent;\n",
              "      border-left-color: var(--fill-color);\n",
              "      border-top-color: var(--fill-color);\n",
              "      border-right-color: var(--fill-color);\n",
              "    }\n",
              "    40% {\n",
              "      border-color: transparent;\n",
              "      border-right-color: var(--fill-color);\n",
              "      border-top-color: var(--fill-color);\n",
              "    }\n",
              "    60% {\n",
              "      border-color: transparent;\n",
              "      border-right-color: var(--fill-color);\n",
              "    }\n",
              "    80% {\n",
              "      border-color: transparent;\n",
              "      border-right-color: var(--fill-color);\n",
              "      border-bottom-color: var(--fill-color);\n",
              "    }\n",
              "    90% {\n",
              "      border-color: transparent;\n",
              "      border-bottom-color: var(--fill-color);\n",
              "    }\n",
              "  }\n",
              "</style>\n",
              "\n",
              "  <script>\n",
              "    async function quickchart(key) {\n",
              "      const quickchartButtonEl =\n",
              "        document.querySelector('#' + key + ' button');\n",
              "      quickchartButtonEl.disabled = true;  // To prevent multiple clicks.\n",
              "      quickchartButtonEl.classList.add('colab-df-spinner');\n",
              "      try {\n",
              "        const charts = await google.colab.kernel.invokeFunction(\n",
              "            'suggestCharts', [key], {});\n",
              "      } catch (error) {\n",
              "        console.error('Error during call to suggestCharts:', error);\n",
              "      }\n",
              "      quickchartButtonEl.classList.remove('colab-df-spinner');\n",
              "      quickchartButtonEl.classList.add('colab-df-quickchart-complete');\n",
              "    }\n",
              "    (() => {\n",
              "      let quickchartButtonEl =\n",
              "        document.querySelector('#df-cf6ea004-1169-45b7-8965-d0ddcb5bea1f button');\n",
              "      quickchartButtonEl.style.display =\n",
              "        google.colab.kernel.accessAllowed ? 'block' : 'none';\n",
              "    })();\n",
              "  </script>\n",
              "</div>\n",
              "    </div>\n",
              "  </div>\n"
            ],
            "application/vnd.google.colaboratory.intrinsic+json": {
              "type": "dataframe",
              "variable_name": "results_df",
              "summary": "{\n  \"name\": \"results_df\",\n  \"rows\": 3,\n  \"fields\": [\n    {\n      \"column\": \"Persentase Outliers\",\n      \"properties\": {\n        \"dtype\": \"number\",\n        \"std\": 6.032412452742269,\n        \"min\": 1.7999999999999998,\n        \"max\": 13.5,\n        \"num_unique_values\": 3,\n        \"samples\": [\n          13.5,\n          1.7999999999999998,\n          10.2\n        ],\n        \"semantic_type\": \"\",\n        \"description\": \"\"\n      }\n    }\n  ]\n}"
            }
          },
          "metadata": {}
        }
      ]
    },
    {
      "cell_type": "code",
      "source": [
        "boxplot = df.boxplot(grid=False, rot=45,  figsize=(8,6))"
      ],
      "metadata": {
        "colab": {
          "base_uri": "https://localhost:8080/",
          "height": 567
        },
        "id": "c0Zp4VSCsakN",
        "outputId": "8dc44dc4-9d80-4038-b4b8-b2ace72e5fb9"
      },
      "execution_count": null,
      "outputs": [
        {
          "output_type": "display_data",
          "data": {
            "text/plain": [
              "<Figure size 800x600 with 1 Axes>"
            ],
            "image/png": "[encoded data removed]"
          },
          "metadata": {}
        }
      ]
    },
    {
      "cell_type": "markdown",
      "source": [
        "Dari hasil diatas ditampilkan persentase outliers pada kolom numerik dari dataframe yang dianalisis. Kolom yang ditampilkan adalah quantity dengan persentase **13.5%**, unit_price dengan persentase **1.8%**, dan total dengan persentase **10.2%**. Dikarenakan terdapat persentase outliers yang dibawah 10%, maka perlu dilakukan penghapusan outliers pada kolom unit_price."
      ],
      "metadata": {
        "id": "2y50Ak2-qCN_"
      }
    },
    {
      "cell_type": "markdown",
      "source": [
        "Kemudian dapat dilihat juga dari boxplot yang telah ditampilkan, bahwa terdapat titik-titik outliers yang berjarak cukup jauh pada kolom total. Oleh karena itu, perlu dilakukan imputasi dengan metode flooring dan capping."
      ],
      "metadata": {
        "id": "ROKTY76mrQjR"
      }
    },
    {
      "cell_type": "code",
      "source": [
        "Q1 = df['unit_price'].quantile(0.25)\n",
        "Q3 = df['unit_price'].quantile(0.75)\n",
        "IQR = Q3 - Q1\n",
        "lower_bound = Q1 - 1.5 * IQR\n",
        "upper_bound = Q3 + 1.5 * IQR\n",
        "\n",
        "df = df[(df['unit_price'] >= lower_bound) & (df['unit_price'] <= upper_bound)]"
      ],
      "metadata": {
        "id": "EiJhivHWtAgT"
      },
      "execution_count": null,
      "outputs": []
    },
    {
      "cell_type": "markdown",
      "source": [
        "Kode diatas adalah kode untuk menghapus outliers pada kolom unit_price."
      ],
      "metadata": {
        "id": "dlilvxGttIOn"
      }
    },
    {
      "cell_type": "code",
      "source": [
        "Q1 = df['total'].quantile(0.25)\n",
        "Q3 = df['total'].quantile(0.75)\n",
        "IQR = Q3 - Q1\n",
        "whisker_width = 1.5\n",
        "lower_whisker = Q1 -(whisker_width * IQR)\n",
        "upper_whisker = Q3 + (whisker_width * IQR)\n",
        "df['total']=np.where(df['total']>upper_whisker,upper_whisker,np.where(df['total']<lower_whisker,lower_whisker,df['total']))"
      ],
      "metadata": {
        "colab": {
          "base_uri": "https://localhost:8080/"
        },
        "id": "JtWtK4zjtQoc",
        "outputId": "59ce4447-96c9-44bb-c720-c31787bb6adb"
      },
      "execution_count": null,
      "outputs": [
        {
          "output_type": "stream",
          "name": "stderr",
          "text": [
            "<ipython-input-29-56d7a43e3334>:7: SettingWithCopyWarning: \n",
            "A value is trying to be set on a copy of a slice from a DataFrame.\n",
            "Try using .loc[row_indexer,col_indexer] = value instead\n",
            "\n",
            "See the caveats in the documentation: https://pandas.pydata.org/pandas-docs/stable/user_guide/indexing.html#returning-a-view-versus-a-copy\n",
            "  df['total']=np.where(df['total']>upper_whisker,upper_whisker,np.where(df['total']<lower_whisker,lower_whisker,df['total']))\n"
          ]
        }
      ]
    },
    {
      "cell_type": "markdown",
      "source": [
        "Kode diatas adalah kode untuk mengimputasi outliers pada kolom total."
      ],
      "metadata": {
        "id": "_pVl3zHktq5E"
      }
    },
    {
      "cell_type": "code",
      "source": [
        "results = []\n",
        "\n",
        "cols = df.select_dtypes(include=['float64', 'int64'])\n",
        "\n",
        "for col in cols:\n",
        "  q1 = df[col].quantile(0.25)\n",
        "  q3 = df[col].quantile(0.75)\n",
        "  iqr = q3 - q1\n",
        "  lower_bound = q1 - 1.5*iqr\n",
        "  upper_bound = q3 + 1.5*iqr\n",
        "  outliers = df[(df[col] < lower_bound) | (df[col] > upper_bound)]\n",
        "  percent_outliers = (len(outliers)/len(df))*100\n",
        "  results.append({'Kolom': col, 'Persentase Outliers': percent_outliers})\n",
        "\n",
        "# Dataframe dari list hasil\n",
        "results_df = pd.DataFrame(results)\n",
        "results_df.set_index('Kolom', inplace=True)\n",
        "results_df = results_df.rename_axis(None, axis=0).rename_axis('Kolom', axis=1)\n",
        "\n",
        "# Tampilkan dataframe\n",
        "display(results_df)"
      ],
      "metadata": {
        "colab": {
          "base_uri": "https://localhost:8080/",
          "height": 143
        },
        "id": "g1Rq2g3kthNu",
        "outputId": "81b1cbf7-1cdf-41f3-d8a8-1be3e57ef96d"
      },
      "execution_count": null,
      "outputs": [
        {
          "output_type": "display_data",
          "data": {
            "text/plain": [
              "Kolom       Persentase Outliers\n",
              "quantity              13.441955\n",
              "unit_price             0.407332\n",
              "total                  0.000000"
            ],
            "text/html": [
              "\n",
              "  <div id=\"df-5086ca1e-c8e8-4f22-962a-15613f13bcf9\" class=\"colab-df-container\">\n",
              "    <div>\n",
              "<style scoped>\n",
              "    .dataframe tbody tr th:only-of-type {\n",
              "        vertical-align: middle;\n",
              "    }\n",
              "\n",
              "    .dataframe tbody tr th {\n",
              "        vertical-align: top;\n",
              "    }\n",
              "\n",
              "    .dataframe thead th {\n",
              "        text-align: right;\n",
              "    }\n",
              "</style>\n",
              "<table border=\"1\" class=\"dataframe\">\n",
              "  <thead>\n",
              "    <tr style=\"text-align: right;\">\n",
              "      <th>Kolom</th>\n",
              "      <th>Persentase Outliers</th>\n",
              "    </tr>\n",
              "  </thead>\n",
              "  <tbody>\n",
              "    <tr>\n",
              "      <th>quantity</th>\n",
              "      <td>13.441955</td>\n",
              "    </tr>\n",
              "    <tr>\n",
              "      <th>unit_price</th>\n",
              "      <td>0.407332</td>\n",
              "    </tr>\n",
              "    <tr>\n",
              "      <th>total</th>\n",
              "      <td>0.000000</td>\n",
              "    </tr>\n",
              "  </tbody>\n",
              "</table>\n",
              "</div>\n",
              "    <div class=\"colab-df-buttons\">\n",
              "\n",
              "  <div class=\"colab-df-container\">\n",
              "    <button class=\"colab-df-convert\" onclick=\"convertToInteractive('df-5086ca1e-c8e8-4f22-962a-15613f13bcf9')\"\n",
              "            title=\"Convert this dataframe to an interactive table.\"\n",
              "            style=\"display:none;\">\n",
              "\n",
              "  <svg xmlns=\"http://www.w3.org/2000/svg\" height=\"24px\" viewBox=\"0 -960 960 960\">\n",
              "    <path d=\"M120-120v-720h720v720H120Zm60-500h600v-160H180v160Zm220 220h160v-160H400v160Zm0 220h160v-160H400v160ZM180-400h160v-160H180v160Zm440 0h160v-160H620v160ZM180-180h160v-160H180v160Zm440 0h160v-160H620v160Z\"/>\n",
              "  </svg>\n",
              "    </button>\n",
              "\n",
              "  <style>\n",
              "    .colab-df-container {\n",
              "      display:flex;\n",
              "      gap: 12px;\n",
              "    }\n",
              "\n",
              "    .colab-df-convert {\n",
              "      background-color: #E8F0FE;\n",
              "      border: none;\n",
              "      border-radius: 50%;\n",
              "      cursor: pointer;\n",
              "      display: none;\n",
              "      fill: #1967D2;\n",
              "      height: 32px;\n",
              "      padding: 0 0 0 0;\n",
              "      width: 32px;\n",
              "    }\n",
              "\n",
              "    .colab-df-convert:hover {\n",
              "      background-color: #E2EBFA;\n",
              "      box-shadow: 0px 1px 2px rgba(60, 64, 67, 0.3), 0px 1px 3px 1px rgba(60, 64, 67, 0.15);\n",
              "      fill: #174EA6;\n",
              "    }\n",
              "\n",
              "    .colab-df-buttons div {\n",
              "      margin-bottom: 4px;\n",
              "    }\n",
              "\n",
              "    [theme=dark] .colab-df-convert {\n",
              "      background-color: #3B4455;\n",
              "      fill: #D2E3FC;\n",
              "    }\n",
              "\n",
              "    [theme=dark] .colab-df-convert:hover {\n",
              "      background-color: #434B5C;\n",
              "      box-shadow: 0px 1px 3px 1px rgba(0, 0, 0, 0.15);\n",
              "      filter: drop-shadow(0px 1px 2px rgba(0, 0, 0, 0.3));\n",
              "      fill: #FFFFFF;\n",
              "    }\n",
              "  </style>\n",
              "\n",
              "    <script>\n",
              "      const buttonEl =\n",
              "        document.querySelector('#df-5086ca1e-c8e8-4f22-962a-15613f13bcf9 button.colab-df-convert');\n",
              "      buttonEl.style.display =\n",
              "        google.colab.kernel.accessAllowed ? 'block' : 'none';\n",
              "\n",
              "      async function convertToInteractive(key) {\n",
              "        const element = document.querySelector('#df-5086ca1e-c8e8-4f22-962a-15613f13bcf9');\n",
              "        const dataTable =\n",
              "          await google.colab.kernel.invokeFunction('convertToInteractive',\n",
              "                                                    [key], {});\n",
              "        if (!dataTable) return;\n",
              "\n",
              "        const docLinkHtml = 'Like what you see? Visit the ' +\n",
              "          '<a target=\"_blank\" href=https://colab.research.google.com/notebooks/data_table.ipynb>data table notebook</a>'\n",
              "          + ' to learn more about interactive tables.';\n",
              "        element.innerHTML = '';\n",
              "        dataTable['output_type'] = 'display_data';\n",
              "        await google.colab.output.renderOutput(dataTable, element);\n",
              "        const docLink = document.createElement('div');\n",
              "        docLink.innerHTML = docLinkHtml;\n",
              "        element.appendChild(docLink);\n",
              "      }\n",
              "    </script>\n",
              "  </div>\n",
              "\n",
              "\n",
              "<div id=\"df-59350112-0141-4249-96ff-59f27f7f5912\">\n",
              "  <button class=\"colab-df-quickchart\" onclick=\"quickchart('df-59350112-0141-4249-96ff-59f27f7f5912')\"\n",
              "            title=\"Suggest charts\"\n",
              "            style=\"display:none;\">\n",
              "\n",
              "<svg xmlns=\"http://www.w3.org/2000/svg\" height=\"24px\"viewBox=\"0 0 24 24\"\n",
              "     width=\"24px\">\n",
              "    <g>\n",
              "        <path d=\"M19 3H5c-1.1 0-2 .9-2 2v14c0 1.1.9 2 2 2h14c1.1 0 2-.9 2-2V5c0-1.1-.9-2-2-2zM9 17H7v-7h2v7zm4 0h-2V7h2v10zm4 0h-2v-4h2v4z\"/>\n",
              "    </g>\n",
              "</svg>\n",
              "  </button>\n",
              "\n",
              "<style>\n",
              "  .colab-df-quickchart {\n",
              "      --bg-color: #E8F0FE;\n",
              "      --fill-color: #1967D2;\n",
              "      --hover-bg-color: #E2EBFA;\n",
              "      --hover-fill-color: #174EA6;\n",
              "      --disabled-fill-color: #AAA;\n",
              "      --disabled-bg-color: #DDD;\n",
              "  }\n",
              "\n",
              "  [theme=dark] .colab-df-quickchart {\n",
              "      --bg-color: #3B4455;\n",
              "      --fill-color: #D2E3FC;\n",
              "      --hover-bg-color: #434B5C;\n",
              "      --hover-fill-color: #FFFFFF;\n",
              "      --disabled-bg-color: #3B4455;\n",
              "      --disabled-fill-color: #666;\n",
              "  }\n",
              "\n",
              "  .colab-df-quickchart {\n",
              "    background-color: var(--bg-color);\n",
              "    border: none;\n",
              "    border-radius: 50%;\n",
              "    cursor: pointer;\n",
              "    display: none;\n",
              "    fill: var(--fill-color);\n",
              "    height: 32px;\n",
              "    padding: 0;\n",
              "    width: 32px;\n",
              "  }\n",
              "\n",
              "  .colab-df-quickchart:hover {\n",
              "    background-color: var(--hover-bg-color);\n",
              "    box-shadow: 0 1px 2px rgba(60, 64, 67, 0.3), 0 1px 3px 1px rgba(60, 64, 67, 0.15);\n",
              "    fill: var(--button-hover-fill-color);\n",
              "  }\n",
              "\n",
              "  .colab-df-quickchart-complete:disabled,\n",
              "  .colab-df-quickchart-complete:disabled:hover {\n",
              "    background-color: var(--disabled-bg-color);\n",
              "    fill: var(--disabled-fill-color);\n",
              "    box-shadow: none;\n",
              "  }\n",
              "\n",
              "  .colab-df-spinner {\n",
              "    border: 2px solid var(--fill-color);\n",
              "    border-color: transparent;\n",
              "    border-bottom-color: var(--fill-color);\n",
              "    animation:\n",
              "      spin 1s steps(1) infinite;\n",
              "  }\n",
              "\n",
              "  @keyframes spin {\n",
              "    0% {\n",
              "      border-color: transparent;\n",
              "      border-bottom-color: var(--fill-color);\n",
              "      border-left-color: var(--fill-color);\n",
              "    }\n",
              "    20% {\n",
              "      border-color: transparent;\n",
              "      border-left-color: var(--fill-color);\n",
              "      border-top-color: var(--fill-color);\n",
              "    }\n",
              "    30% {\n",
              "      border-color: transparent;\n",
              "      border-left-color: var(--fill-color);\n",
              "      border-top-color: var(--fill-color);\n",
              "      border-right-color: var(--fill-color);\n",
              "    }\n",
              "    40% {\n",
              "      border-color: transparent;\n",
              "      border-right-color: var(--fill-color);\n",
              "      border-top-color: var(--fill-color);\n",
              "    }\n",
              "    60% {\n",
              "      border-color: transparent;\n",
              "      border-right-color: var(--fill-color);\n",
              "    }\n",
              "    80% {\n",
              "      border-color: transparent;\n",
              "      border-right-color: var(--fill-color);\n",
              "      border-bottom-color: var(--fill-color);\n",
              "    }\n",
              "    90% {\n",
              "      border-color: transparent;\n",
              "      border-bottom-color: var(--fill-color);\n",
              "    }\n",
              "  }\n",
              "</style>\n",
              "\n",
              "  <script>\n",
              "    async function quickchart(key) {\n",
              "      const quickchartButtonEl =\n",
              "        document.querySelector('#' + key + ' button');\n",
              "      quickchartButtonEl.disabled = true;  // To prevent multiple clicks.\n",
              "      quickchartButtonEl.classList.add('colab-df-spinner');\n",
              "      try {\n",
              "        const charts = await google.colab.kernel.invokeFunction(\n",
              "            'suggestCharts', [key], {});\n",
              "      } catch (error) {\n",
              "        console.error('Error during call to suggestCharts:', error);\n",
              "      }\n",
              "      quickchartButtonEl.classList.remove('colab-df-spinner');\n",
              "      quickchartButtonEl.classList.add('colab-df-quickchart-complete');\n",
              "    }\n",
              "    (() => {\n",
              "      let quickchartButtonEl =\n",
              "        document.querySelector('#df-59350112-0141-4249-96ff-59f27f7f5912 button');\n",
              "      quickchartButtonEl.style.display =\n",
              "        google.colab.kernel.accessAllowed ? 'block' : 'none';\n",
              "    })();\n",
              "  </script>\n",
              "</div>\n",
              "    </div>\n",
              "  </div>\n"
            ],
            "application/vnd.google.colaboratory.intrinsic+json": {
              "type": "dataframe",
              "variable_name": "results_df",
              "summary": "{\n  \"name\": \"results_df\",\n  \"rows\": 3,\n  \"fields\": [\n    {\n      \"column\": \"Persentase Outliers\",\n      \"properties\": {\n        \"dtype\": \"number\",\n        \"std\": 7.645842892220549,\n        \"min\": 0.0,\n        \"max\": 13.441955193482688,\n        \"num_unique_values\": 3,\n        \"samples\": [\n          13.441955193482688,\n          0.40733197556008144,\n          0.0\n        ],\n        \"semantic_type\": \"\",\n        \"description\": \"\"\n      }\n    }\n  ]\n}"
            }
          },
          "metadata": {}
        }
      ]
    },
    {
      "cell_type": "code",
      "source": [
        "boxplot = df.boxplot(grid=False, rot=45,  figsize=(8,6))"
      ],
      "metadata": {
        "colab": {
          "base_uri": "https://localhost:8080/",
          "height": 567
        },
        "id": "5htSA2Tyt16Z",
        "outputId": "451202eb-3bef-4e3f-a485-c058146b2d63"
      },
      "execution_count": null,
      "outputs": [
        {
          "output_type": "display_data",
          "data": {
            "text/plain": [
              "<Figure size 800x600 with 1 Axes>"
            ],
            "image/png": "[encoded data removed]"
          },
          "metadata": {}
        }
      ]
    },
    {
      "cell_type": "markdown",
      "source": [
        "Jadi, setelah melakukan proses menghapusan dan mengimputasi outliers dari dataframe yang akan dianalisis, maka akan ditampilkan hasil seperti diatas, yaitu pada tabel persentase outliers dan boxplot."
      ],
      "metadata": {
        "id": "vZIq_8hPuBZb"
      }
    },
    {
      "cell_type": "markdown",
      "source": [
        "### **Construct Data**"
      ],
      "metadata": {
        "id": "pf5DmwCSoZv3"
      }
    },
    {
      "cell_type": "markdown",
      "source": [
        "#### **Melakukan Penambahan Kolom**"
      ],
      "metadata": {
        "id": "3QV2xVxi3Bok"
      }
    },
    {
      "cell_type": "markdown",
      "source": [
        "Untuk membantu dan memudahkan proses analisis, perlu dilakukan construct data dengan mengubah struktur data agar sesuai dengan kebutuhan analisis. Pada dataframe yang dianalisis terdapat kolom date yang mencakup tanggal, bulan, dan tahun yang digabungkan menjadi satu. Untuk memudahkan analisis dilakukan penambahan kolom baru, yaitu bulan."
      ],
      "metadata": {
        "id": "XhrquGM-onDE"
      }
    },
    {
      "cell_type": "code",
      "source": [
        "# Membuat kolom baru untuk bulan\n",
        "df['date'] = pd.to_datetime(df['date'])\n",
        "df['bulan'] = df['date'].dt.month\n",
        "\n",
        "# Membuat dictionary nama bulan\n",
        "nama_bulan = {1: 'January', 2: 'February', 3: 'March', 4: 'April', 5: 'May', 6: 'June', 7: 'July', 8: 'August', 9: 'September', 10: 'October', 11: 'November', 12: 'December'}\n",
        "\n",
        "# Mengonversi nilai bulan menjadi nama bulan\n",
        "df['bulan'] = df['bulan'].map(nama_bulan)\n",
        "\n",
        "# Menampilkan dataframe\n",
        "print(df)"
      ],
      "metadata": {
        "colab": {
          "base_uri": "https://localhost:8080/"
        },
        "id": "khK7TJ-Iw7C5",
        "outputId": "a223dc00-c06d-471d-aa4f-8b7133c1018b"
      },
      "execution_count": null,
      "outputs": [
        {
          "output_type": "stream",
          "name": "stdout",
          "text": [
            "          date warehouse client_type           product_line  quantity  \\\n",
            "0   2021-06-01   Central      Retail          Miscellaneous         8   \n",
            "1   2021-06-01     North      Retail        Breaking system         9   \n",
            "2   2021-06-01     North      Retail  Suspension & traction         8   \n",
            "3   2021-06-01     North   Wholesale           Frame & body        16   \n",
            "4   2021-06-01   Central      Retail                 Engine         2   \n",
            "..         ...       ...         ...                    ...       ...   \n",
            "995 2021-08-28   Central      Retail      Electrical system         9   \n",
            "996 2021-08-28      West   Wholesale        Breaking system        32   \n",
            "997 2021-08-28      West   Wholesale      Electrical system        12   \n",
            "998 2021-08-28     North      Retail           Frame & body         5   \n",
            "999 2021-08-28     North   Wholesale      Electrical system        20   \n",
            "\n",
            "     unit_price   total      payment   bulan  \n",
            "0         16.85  134.83  Credit card    June  \n",
            "1         19.29  173.61         Cash    June  \n",
            "2         32.93  263.45  Credit card    June  \n",
            "3         37.84  605.44     Transfer    June  \n",
            "4         60.48  120.96  Credit card    June  \n",
            "..          ...     ...          ...     ...  \n",
            "995       32.87  295.83  Credit card  August  \n",
            "996       10.03  320.96     Transfer  August  \n",
            "997       32.80  393.64     Transfer  August  \n",
            "998       48.25  241.23         Cash  August  \n",
            "999       27.41  548.13     Transfer  August  \n",
            "\n",
            "[982 rows x 9 columns]\n"
          ]
        },
        {
          "output_type": "stream",
          "name": "stderr",
          "text": [
            "<ipython-input-32-5761d185e81a>:2: SettingWithCopyWarning: \n",
            "A value is trying to be set on a copy of a slice from a DataFrame.\n",
            "Try using .loc[row_indexer,col_indexer] = value instead\n",
            "\n",
            "See the caveats in the documentation: https://pandas.pydata.org/pandas-docs/stable/user_guide/indexing.html#returning-a-view-versus-a-copy\n",
            "  df['date'] = pd.to_datetime(df['date'])\n",
            "<ipython-input-32-5761d185e81a>:3: SettingWithCopyWarning: \n",
            "A value is trying to be set on a copy of a slice from a DataFrame.\n",
            "Try using .loc[row_indexer,col_indexer] = value instead\n",
            "\n",
            "See the caveats in the documentation: https://pandas.pydata.org/pandas-docs/stable/user_guide/indexing.html#returning-a-view-versus-a-copy\n",
            "  df['bulan'] = df['date'].dt.month\n",
            "<ipython-input-32-5761d185e81a>:9: SettingWithCopyWarning: \n",
            "A value is trying to be set on a copy of a slice from a DataFrame.\n",
            "Try using .loc[row_indexer,col_indexer] = value instead\n",
            "\n",
            "See the caveats in the documentation: https://pandas.pydata.org/pandas-docs/stable/user_guide/indexing.html#returning-a-view-versus-a-copy\n",
            "  df['bulan'] = df['bulan'].map(nama_bulan)\n"
          ]
        }
      ]
    },
    {
      "cell_type": "markdown",
      "source": [
        "#### **Pengecekan Hasil**"
      ],
      "metadata": {
        "id": "0HUTXWR63JYW"
      }
    },
    {
      "cell_type": "code",
      "source": [
        "df.head()"
      ],
      "metadata": {
        "colab": {
          "base_uri": "https://localhost:8080/",
          "height": 206
        },
        "id": "mJoiGCECw7zK",
        "outputId": "3c6dacab-7987-49f8-d5c5-aefba1344a26"
      },
      "execution_count": null,
      "outputs": [
        {
          "output_type": "execute_result",
          "data": {
            "text/plain": [
              "        date warehouse client_type           product_line  quantity  \\\n",
              "0 2021-06-01   Central      Retail          Miscellaneous         8   \n",
              "1 2021-06-01     North      Retail        Breaking system         9   \n",
              "2 2021-06-01     North      Retail  Suspension & traction         8   \n",
              "3 2021-06-01     North   Wholesale           Frame & body        16   \n",
              "4 2021-06-01   Central      Retail                 Engine         2   \n",
              "\n",
              "   unit_price   total      payment bulan  \n",
              "0       16.85  134.83  Credit card  June  \n",
              "1       19.29  173.61         Cash  June  \n",
              "2       32.93  263.45  Credit card  June  \n",
              "3       37.84  605.44     Transfer  June  \n",
              "4       60.48  120.96  Credit card  June  "
            ],
            "text/html": [
              "\n",
              "  <div id=\"df-27494b57-ffbb-4860-83e5-d0eada638bd8\" class=\"colab-df-container\">\n",
              "    <div>\n",
              "<style scoped>\n",
              "    .dataframe tbody tr th:only-of-type {\n",
              "        vertical-align: middle;\n",
              "    }\n",
              "\n",
              "    .dataframe tbody tr th {\n",
              "        vertical-align: top;\n",
              "    }\n",
              "\n",
              "    .dataframe thead th {\n",
              "        text-align: right;\n",
              "    }\n",
              "</style>\n",
              "<table border=\"1\" class=\"dataframe\">\n",
              "  <thead>\n",
              "    <tr style=\"text-align: right;\">\n",
              "      <th></th>\n",
              "      <th>date</th>\n",
              "      <th>warehouse</th>\n",
              "      <th>client_type</th>\n",
              "      <th>product_line</th>\n",
              "      <th>quantity</th>\n",
              "      <th>unit_price</th>\n",
              "      <th>total</th>\n",
              "      <th>payment</th>\n",
              "      <th>bulan</th>\n",
              "    </tr>\n",
              "  </thead>\n",
              "  <tbody>\n",
              "    <tr>\n",
              "      <th>0</th>\n",
              "      <td>2021-06-01</td>\n",
              "      <td>Central</td>\n",
              "      <td>Retail</td>\n",
              "      <td>Miscellaneous</td>\n",
              "      <td>8</td>\n",
              "      <td>16.85</td>\n",
              "      <td>134.83</td>\n",
              "      <td>Credit card</td>\n",
              "      <td>June</td>\n",
              "    </tr>\n",
              "    <tr>\n",
              "      <th>1</th>\n",
              "      <td>2021-06-01</td>\n",
              "      <td>North</td>\n",
              "      <td>Retail</td>\n",
              "      <td>Breaking system</td>\n",
              "      <td>9</td>\n",
              "      <td>19.29</td>\n",
              "      <td>173.61</td>\n",
              "      <td>Cash</td>\n",
              "      <td>June</td>\n",
              "    </tr>\n",
              "    <tr>\n",
              "      <th>2</th>\n",
              "      <td>2021-06-01</td>\n",
              "      <td>North</td>\n",
              "      <td>Retail</td>\n",
              "      <td>Suspension &amp; traction</td>\n",
              "      <td>8</td>\n",
              "      <td>32.93</td>\n",
              "      <td>263.45</td>\n",
              "      <td>Credit card</td>\n",
              "      <td>June</td>\n",
              "    </tr>\n",
              "    <tr>\n",
              "      <th>3</th>\n",
              "      <td>2021-06-01</td>\n",
              "      <td>North</td>\n",
              "      <td>Wholesale</td>\n",
              "      <td>Frame &amp; body</td>\n",
              "      <td>16</td>\n",
              "      <td>37.84</td>\n",
              "      <td>605.44</td>\n",
              "      <td>Transfer</td>\n",
              "      <td>June</td>\n",
              "    </tr>\n",
              "    <tr>\n",
              "      <th>4</th>\n",
              "      <td>2021-06-01</td>\n",
              "      <td>Central</td>\n",
              "      <td>Retail</td>\n",
              "      <td>Engine</td>\n",
              "      <td>2</td>\n",
              "      <td>60.48</td>\n",
              "      <td>120.96</td>\n",
              "      <td>Credit card</td>\n",
              "      <td>June</td>\n",
              "    </tr>\n",
              "  </tbody>\n",
              "</table>\n",
              "</div>\n",
              "    <div class=\"colab-df-buttons\">\n",
              "\n",
              "  <div class=\"colab-df-container\">\n",
              "    <button class=\"colab-df-convert\" onclick=\"convertToInteractive('df-27494b57-ffbb-4860-83e5-d0eada638bd8')\"\n",
              "            title=\"Convert this dataframe to an interactive table.\"\n",
              "            style=\"display:none;\">\n",
              "\n",
              "  <svg xmlns=\"http://www.w3.org/2000/svg\" height=\"24px\" viewBox=\"0 -960 960 960\">\n",
              "    <path d=\"M120-120v-720h720v720H120Zm60-500h600v-160H180v160Zm220 220h160v-160H400v160Zm0 220h160v-160H400v160ZM180-400h160v-160H180v160Zm440 0h160v-160H620v160ZM180-180h160v-160H180v160Zm440 0h160v-160H620v160Z\"/>\n",
              "  </svg>\n",
              "    </button>\n",
              "\n",
              "  <style>\n",
              "    .colab-df-container {\n",
              "      display:flex;\n",
              "      gap: 12px;\n",
              "    }\n",
              "\n",
              "    .colab-df-convert {\n",
              "      background-color: #E8F0FE;\n",
              "      border: none;\n",
              "      border-radius: 50%;\n",
              "      cursor: pointer;\n",
              "      display: none;\n",
              "      fill: #1967D2;\n",
              "      height: 32px;\n",
              "      padding: 0 0 0 0;\n",
              "      width: 32px;\n",
              "    }\n",
              "\n",
              "    .colab-df-convert:hover {\n",
              "      background-color: #E2EBFA;\n",
              "      box-shadow: 0px 1px 2px rgba(60, 64, 67, 0.3), 0px 1px 3px 1px rgba(60, 64, 67, 0.15);\n",
              "      fill: #174EA6;\n",
              "    }\n",
              "\n",
              "    .colab-df-buttons div {\n",
              "      margin-bottom: 4px;\n",
              "    }\n",
              "\n",
              "    [theme=dark] .colab-df-convert {\n",
              "      background-color: #3B4455;\n",
              "      fill: #D2E3FC;\n",
              "    }\n",
              "\n",
              "    [theme=dark] .colab-df-convert:hover {\n",
              "      background-color: #434B5C;\n",
              "      box-shadow: 0px 1px 3px 1px rgba(0, 0, 0, 0.15);\n",
              "      filter: drop-shadow(0px 1px 2px rgba(0, 0, 0, 0.3));\n",
              "      fill: #FFFFFF;\n",
              "    }\n",
              "  </style>\n",
              "\n",
              "    <script>\n",
              "      const buttonEl =\n",
              "        document.querySelector('#df-27494b57-ffbb-4860-83e5-d0eada638bd8 button.colab-df-convert');\n",
              "      buttonEl.style.display =\n",
              "        google.colab.kernel.accessAllowed ? 'block' : 'none';\n",
              "\n",
              "      async function convertToInteractive(key) {\n",
              "        const element = document.querySelector('#df-27494b57-ffbb-4860-83e5-d0eada638bd8');\n",
              "        const dataTable =\n",
              "          await google.colab.kernel.invokeFunction('convertToInteractive',\n",
              "                                                    [key], {});\n",
              "        if (!dataTable) return;\n",
              "\n",
              "        const docLinkHtml = 'Like what you see? Visit the ' +\n",
              "          '<a target=\"_blank\" href=https://colab.research.google.com/notebooks/data_table.ipynb>data table notebook</a>'\n",
              "          + ' to learn more about interactive tables.';\n",
              "        element.innerHTML = '';\n",
              "        dataTable['output_type'] = 'display_data';\n",
              "        await google.colab.output.renderOutput(dataTable, element);\n",
              "        const docLink = document.createElement('div');\n",
              "        docLink.innerHTML = docLinkHtml;\n",
              "        element.appendChild(docLink);\n",
              "      }\n",
              "    </script>\n",
              "  </div>\n",
              "\n",
              "\n",
              "<div id=\"df-72a2db5f-9db8-4ca2-bba7-d105a70651de\">\n",
              "  <button class=\"colab-df-quickchart\" onclick=\"quickchart('df-72a2db5f-9db8-4ca2-bba7-d105a70651de')\"\n",
              "            title=\"Suggest charts\"\n",
              "            style=\"display:none;\">\n",
              "\n",
              "<svg xmlns=\"http://www.w3.org/2000/svg\" height=\"24px\"viewBox=\"0 0 24 24\"\n",
              "     width=\"24px\">\n",
              "    <g>\n",
              "        <path d=\"M19 3H5c-1.1 0-2 .9-2 2v14c0 1.1.9 2 2 2h14c1.1 0 2-.9 2-2V5c0-1.1-.9-2-2-2zM9 17H7v-7h2v7zm4 0h-2V7h2v10zm4 0h-2v-4h2v4z\"/>\n",
              "    </g>\n",
              "</svg>\n",
              "  </button>\n",
              "\n",
              "<style>\n",
              "  .colab-df-quickchart {\n",
              "      --bg-color: #E8F0FE;\n",
              "      --fill-color: #1967D2;\n",
              "      --hover-bg-color: #E2EBFA;\n",
              "      --hover-fill-color: #174EA6;\n",
              "      --disabled-fill-color: #AAA;\n",
              "      --disabled-bg-color: #DDD;\n",
              "  }\n",
              "\n",
              "  [theme=dark] .colab-df-quickchart {\n",
              "      --bg-color: #3B4455;\n",
              "      --fill-color: #D2E3FC;\n",
              "      --hover-bg-color: #434B5C;\n",
              "      --hover-fill-color: #FFFFFF;\n",
              "      --disabled-bg-color: #3B4455;\n",
              "      --disabled-fill-color: #666;\n",
              "  }\n",
              "\n",
              "  .colab-df-quickchart {\n",
              "    background-color: var(--bg-color);\n",
              "    border: none;\n",
              "    border-radius: 50%;\n",
              "    cursor: pointer;\n",
              "    display: none;\n",
              "    fill: var(--fill-color);\n",
              "    height: 32px;\n",
              "    padding: 0;\n",
              "    width: 32px;\n",
              "  }\n",
              "\n",
              "  .colab-df-quickchart:hover {\n",
              "    background-color: var(--hover-bg-color);\n",
              "    box-shadow: 0 1px 2px rgba(60, 64, 67, 0.3), 0 1px 3px 1px rgba(60, 64, 67, 0.15);\n",
              "    fill: var(--button-hover-fill-color);\n",
              "  }\n",
              "\n",
              "  .colab-df-quickchart-complete:disabled,\n",
              "  .colab-df-quickchart-complete:disabled:hover {\n",
              "    background-color: var(--disabled-bg-color);\n",
              "    fill: var(--disabled-fill-color);\n",
              "    box-shadow: none;\n",
              "  }\n",
              "\n",
              "  .colab-df-spinner {\n",
              "    border: 2px solid var(--fill-color);\n",
              "    border-color: transparent;\n",
              "    border-bottom-color: var(--fill-color);\n",
              "    animation:\n",
              "      spin 1s steps(1) infinite;\n",
              "  }\n",
              "\n",
              "  @keyframes spin {\n",
              "    0% {\n",
              "      border-color: transparent;\n",
              "      border-bottom-color: var(--fill-color);\n",
              "      border-left-color: var(--fill-color);\n",
              "    }\n",
              "    20% {\n",
              "      border-color: transparent;\n",
              "      border-left-color: var(--fill-color);\n",
              "      border-top-color: var(--fill-color);\n",
              "    }\n",
              "    30% {\n",
              "      border-color: transparent;\n",
              "      border-left-color: var(--fill-color);\n",
              "      border-top-color: var(--fill-color);\n",
              "      border-right-color: var(--fill-color);\n",
              "    }\n",
              "    40% {\n",
              "      border-color: transparent;\n",
              "      border-right-color: var(--fill-color);\n",
              "      border-top-color: var(--fill-color);\n",
              "    }\n",
              "    60% {\n",
              "      border-color: transparent;\n",
              "      border-right-color: var(--fill-color);\n",
              "    }\n",
              "    80% {\n",
              "      border-color: transparent;\n",
              "      border-right-color: var(--fill-color);\n",
              "      border-bottom-color: var(--fill-color);\n",
              "    }\n",
              "    90% {\n",
              "      border-color: transparent;\n",
              "      border-bottom-color: var(--fill-color);\n",
              "    }\n",
              "  }\n",
              "</style>\n",
              "\n",
              "  <script>\n",
              "    async function quickchart(key) {\n",
              "      const quickchartButtonEl =\n",
              "        document.querySelector('#' + key + ' button');\n",
              "      quickchartButtonEl.disabled = true;  // To prevent multiple clicks.\n",
              "      quickchartButtonEl.classList.add('colab-df-spinner');\n",
              "      try {\n",
              "        const charts = await google.colab.kernel.invokeFunction(\n",
              "            'suggestCharts', [key], {});\n",
              "      } catch (error) {\n",
              "        console.error('Error during call to suggestCharts:', error);\n",
              "      }\n",
              "      quickchartButtonEl.classList.remove('colab-df-spinner');\n",
              "      quickchartButtonEl.classList.add('colab-df-quickchart-complete');\n",
              "    }\n",
              "    (() => {\n",
              "      let quickchartButtonEl =\n",
              "        document.querySelector('#df-72a2db5f-9db8-4ca2-bba7-d105a70651de button');\n",
              "      quickchartButtonEl.style.display =\n",
              "        google.colab.kernel.accessAllowed ? 'block' : 'none';\n",
              "    })();\n",
              "  </script>\n",
              "</div>\n",
              "    </div>\n",
              "  </div>\n"
            ],
            "application/vnd.google.colaboratory.intrinsic+json": {
              "type": "dataframe",
              "variable_name": "df",
              "summary": "{\n  \"name\": \"df\",\n  \"rows\": 982,\n  \"fields\": [\n    {\n      \"column\": \"date\",\n      \"properties\": {\n        \"dtype\": \"date\",\n        \"min\": \"2021-06-01 00:00:00\",\n        \"max\": \"2021-08-28 00:00:00\",\n        \"num_unique_values\": 89,\n        \"samples\": [\n          \"2021-07-15 00:00:00\",\n          \"2021-07-24 00:00:00\",\n          \"2021-07-01 00:00:00\"\n        ],\n        \"semantic_type\": \"\",\n        \"description\": \"\"\n      }\n    },\n    {\n      \"column\": \"warehouse\",\n      \"properties\": {\n        \"dtype\": \"category\",\n        \"num_unique_values\": 3,\n        \"samples\": [\n          \"Central\",\n          \"North\",\n          \"West\"\n        ],\n        \"semantic_type\": \"\",\n        \"description\": \"\"\n      }\n    },\n    {\n      \"column\": \"client_type\",\n      \"properties\": {\n        \"dtype\": \"category\",\n        \"num_unique_values\": 2,\n        \"samples\": [\n          \"Wholesale\",\n          \"Retail\"\n        ],\n        \"semantic_type\": \"\",\n        \"description\": \"\"\n      }\n    },\n    {\n      \"column\": \"product_line\",\n      \"properties\": {\n        \"dtype\": \"category\",\n        \"num_unique_values\": 6,\n        \"samples\": [\n          \"Miscellaneous\",\n          \"Breaking system\"\n        ],\n        \"semantic_type\": \"\",\n        \"description\": \"\"\n      }\n    },\n    {\n      \"column\": \"quantity\",\n      \"properties\": {\n        \"dtype\": \"number\",\n        \"std\": 9,\n        \"min\": 1,\n        \"max\": 40,\n        \"num_unique_values\": 18,\n        \"samples\": [\n          8,\n          9\n        ],\n        \"semantic_type\": \"\",\n        \"description\": \"\"\n      }\n    },\n    {\n      \"column\": \"unit_price\",\n      \"properties\": {\n        \"dtype\": \"number\",\n        \"std\": 11.43063075957737,\n        \"min\": 10.03,\n        \"max\": 63.15,\n        \"num_unique_values\": 857,\n        \"samples\": [\n          40.48,\n          32.72\n        ],\n        \"semantic_type\": \"\",\n        \"description\": \"\"\n      }\n    },\n    {\n      \"column\": \"total\",\n      \"properties\": {\n        \"dtype\": \"number\",\n        \"std\": 191.22551733184764,\n        \"min\": 10.35,\n        \"max\": 646.3774999999999,\n        \"num_unique_values\": 874,\n        \"samples\": [\n          237.02,\n          135.49\n        ],\n        \"semantic_type\": \"\",\n        \"description\": \"\"\n      }\n    },\n    {\n      \"column\": \"payment\",\n      \"properties\": {\n        \"dtype\": \"category\",\n        \"num_unique_values\": 3,\n        \"samples\": [\n          \"Credit card\",\n          \"Cash\"\n        ],\n        \"semantic_type\": \"\",\n        \"description\": \"\"\n      }\n    },\n    {\n      \"column\": \"bulan\",\n      \"properties\": {\n        \"dtype\": \"category\",\n        \"num_unique_values\": 3,\n        \"samples\": [\n          \"June\",\n          \"July\"\n        ],\n        \"semantic_type\": \"\",\n        \"description\": \"\"\n      }\n    }\n  ]\n}"
            }
          },
          "metadata": {},
          "execution_count": 33
        }
      ]
    },
    {
      "cell_type": "markdown",
      "source": [
        "Setelah dilakukan proses penambahan kolom, yaitu kolom bulan, maka struktur data dari dataframe telah berubah."
      ],
      "metadata": {
        "id": "7xWzPX8Ww97v"
      }
    },
    {
      "cell_type": "markdown",
      "source": [
        "### **Data Reduction**"
      ],
      "metadata": {
        "id": "6UPIh1nUodYL"
      }
    },
    {
      "cell_type": "markdown",
      "source": [
        "#### **Penghapusan Kolom**"
      ],
      "metadata": {
        "id": "NnCy-vga3TkD"
      }
    },
    {
      "cell_type": "markdown",
      "source": [
        "Dapat dianalisis dari dataframe penjualan produk sparepart motor, bahwa sebelumnya telah ditambahkan kolom bulan. Karena kolom bulan sudah cukup mewakili, maka kolom date perlu dihapuskan agar tidak membuat bingung saat melakukan proses analisis."
      ],
      "metadata": {
        "id": "nqm2-d9fonfy"
      }
    },
    {
      "cell_type": "code",
      "source": [
        "df = df.drop(['date'], axis=1)"
      ],
      "metadata": {
        "id": "OWXctGTm00m9"
      },
      "execution_count": null,
      "outputs": []
    },
    {
      "cell_type": "markdown",
      "source": [
        "#### **Pengecekan Hasil**"
      ],
      "metadata": {
        "id": "owRGYgnv3XoE"
      }
    },
    {
      "cell_type": "code",
      "source": [
        "df.head()"
      ],
      "metadata": {
        "colab": {
          "base_uri": "https://localhost:8080/",
          "height": 206
        },
        "id": "kfVGwvjE09mC",
        "outputId": "de681298-7d28-4d56-f771-d4f34744263a"
      },
      "execution_count": null,
      "outputs": [
        {
          "output_type": "execute_result",
          "data": {
            "text/plain": [
              "  warehouse client_type           product_line  quantity  unit_price   total  \\\n",
              "0   Central      Retail          Miscellaneous         8       16.85  134.83   \n",
              "1     North      Retail        Breaking system         9       19.29  173.61   \n",
              "2     North      Retail  Suspension & traction         8       32.93  263.45   \n",
              "3     North   Wholesale           Frame & body        16       37.84  605.44   \n",
              "4   Central      Retail                 Engine         2       60.48  120.96   \n",
              "\n",
              "       payment bulan  \n",
              "0  Credit card  June  \n",
              "1         Cash  June  \n",
              "2  Credit card  June  \n",
              "3     Transfer  June  \n",
              "4  Credit card  June  "
            ],
            "text/html": [
              "\n",
              "  <div id=\"df-8d6aee50-97a4-4feb-99fb-ab3e14cce53d\" class=\"colab-df-container\">\n",
              "    <div>\n",
              "<style scoped>\n",
              "    .dataframe tbody tr th:only-of-type {\n",
              "        vertical-align: middle;\n",
              "    }\n",
              "\n",
              "    .dataframe tbody tr th {\n",
              "        vertical-align: top;\n",
              "    }\n",
              "\n",
              "    .dataframe thead th {\n",
              "        text-align: right;\n",
              "    }\n",
              "</style>\n",
              "<table border=\"1\" class=\"dataframe\">\n",
              "  <thead>\n",
              "    <tr style=\"text-align: right;\">\n",
              "      <th></th>\n",
              "      <th>warehouse</th>\n",
              "      <th>client_type</th>\n",
              "      <th>product_line</th>\n",
              "      <th>quantity</th>\n",
              "      <th>unit_price</th>\n",
              "      <th>total</th>\n",
              "      <th>payment</th>\n",
              "      <th>bulan</th>\n",
              "    </tr>\n",
              "  </thead>\n",
              "  <tbody>\n",
              "    <tr>\n",
              "      <th>0</th>\n",
              "      <td>Central</td>\n",
              "      <td>Retail</td>\n",
              "      <td>Miscellaneous</td>\n",
              "      <td>8</td>\n",
              "      <td>16.85</td>\n",
              "      <td>134.83</td>\n",
              "      <td>Credit card</td>\n",
              "      <td>June</td>\n",
              "    </tr>\n",
              "    <tr>\n",
              "      <th>1</th>\n",
              "      <td>North</td>\n",
              "      <td>Retail</td>\n",
              "      <td>Breaking system</td>\n",
              "      <td>9</td>\n",
              "      <td>19.29</td>\n",
              "      <td>173.61</td>\n",
              "      <td>Cash</td>\n",
              "      <td>June</td>\n",
              "    </tr>\n",
              "    <tr>\n",
              "      <th>2</th>\n",
              "      <td>North</td>\n",
              "      <td>Retail</td>\n",
              "      <td>Suspension &amp; traction</td>\n",
              "      <td>8</td>\n",
              "      <td>32.93</td>\n",
              "      <td>263.45</td>\n",
              "      <td>Credit card</td>\n",
              "      <td>June</td>\n",
              "    </tr>\n",
              "    <tr>\n",
              "      <th>3</th>\n",
              "      <td>North</td>\n",
              "      <td>Wholesale</td>\n",
              "      <td>Frame &amp; body</td>\n",
              "      <td>16</td>\n",
              "      <td>37.84</td>\n",
              "      <td>605.44</td>\n",
              "      <td>Transfer</td>\n",
              "      <td>June</td>\n",
              "    </tr>\n",
              "    <tr>\n",
              "      <th>4</th>\n",
              "      <td>Central</td>\n",
              "      <td>Retail</td>\n",
              "      <td>Engine</td>\n",
              "      <td>2</td>\n",
              "      <td>60.48</td>\n",
              "      <td>120.96</td>\n",
              "      <td>Credit card</td>\n",
              "      <td>June</td>\n",
              "    </tr>\n",
              "  </tbody>\n",
              "</table>\n",
              "</div>\n",
              "    <div class=\"colab-df-buttons\">\n",
              "\n",
              "  <div class=\"colab-df-container\">\n",
              "    <button class=\"colab-df-convert\" onclick=\"convertToInteractive('df-8d6aee50-97a4-4feb-99fb-ab3e14cce53d')\"\n",
              "            title=\"Convert this dataframe to an interactive table.\"\n",
              "            style=\"display:none;\">\n",
              "\n",
              "  <svg xmlns=\"http://www.w3.org/2000/svg\" height=\"24px\" viewBox=\"0 -960 960 960\">\n",
              "    <path d=\"M120-120v-720h720v720H120Zm60-500h600v-160H180v160Zm220 220h160v-160H400v160Zm0 220h160v-160H400v160ZM180-400h160v-160H180v160Zm440 0h160v-160H620v160ZM180-180h160v-160H180v160Zm440 0h160v-160H620v160Z\"/>\n",
              "  </svg>\n",
              "    </button>\n",
              "\n",
              "  <style>\n",
              "    .colab-df-container {\n",
              "      display:flex;\n",
              "      gap: 12px;\n",
              "    }\n",
              "\n",
              "    .colab-df-convert {\n",
              "      background-color: #E8F0FE;\n",
              "      border: none;\n",
              "      border-radius: 50%;\n",
              "      cursor: pointer;\n",
              "      display: none;\n",
              "      fill: #1967D2;\n",
              "      height: 32px;\n",
              "      padding: 0 0 0 0;\n",
              "      width: 32px;\n",
              "    }\n",
              "\n",
              "    .colab-df-convert:hover {\n",
              "      background-color: #E2EBFA;\n",
              "      box-shadow: 0px 1px 2px rgba(60, 64, 67, 0.3), 0px 1px 3px 1px rgba(60, 64, 67, 0.15);\n",
              "      fill: #174EA6;\n",
              "    }\n",
              "\n",
              "    .colab-df-buttons div {\n",
              "      margin-bottom: 4px;\n",
              "    }\n",
              "\n",
              "    [theme=dark] .colab-df-convert {\n",
              "      background-color: #3B4455;\n",
              "      fill: #D2E3FC;\n",
              "    }\n",
              "\n",
              "    [theme=dark] .colab-df-convert:hover {\n",
              "      background-color: #434B5C;\n",
              "      box-shadow: 0px 1px 3px 1px rgba(0, 0, 0, 0.15);\n",
              "      filter: drop-shadow(0px 1px 2px rgba(0, 0, 0, 0.3));\n",
              "      fill: #FFFFFF;\n",
              "    }\n",
              "  </style>\n",
              "\n",
              "    <script>\n",
              "      const buttonEl =\n",
              "        document.querySelector('#df-8d6aee50-97a4-4feb-99fb-ab3e14cce53d button.colab-df-convert');\n",
              "      buttonEl.style.display =\n",
              "        google.colab.kernel.accessAllowed ? 'block' : 'none';\n",
              "\n",
              "      async function convertToInteractive(key) {\n",
              "        const element = document.querySelector('#df-8d6aee50-97a4-4feb-99fb-ab3e14cce53d');\n",
              "        const dataTable =\n",
              "          await google.colab.kernel.invokeFunction('convertToInteractive',\n",
              "                                                    [key], {});\n",
              "        if (!dataTable) return;\n",
              "\n",
              "        const docLinkHtml = 'Like what you see? Visit the ' +\n",
              "          '<a target=\"_blank\" href=https://colab.research.google.com/notebooks/data_table.ipynb>data table notebook</a>'\n",
              "          + ' to learn more about interactive tables.';\n",
              "        element.innerHTML = '';\n",
              "        dataTable['output_type'] = 'display_data';\n",
              "        await google.colab.output.renderOutput(dataTable, element);\n",
              "        const docLink = document.createElement('div');\n",
              "        docLink.innerHTML = docLinkHtml;\n",
              "        element.appendChild(docLink);\n",
              "      }\n",
              "    </script>\n",
              "  </div>\n",
              "\n",
              "\n",
              "<div id=\"df-ca8c99e3-1b03-4b77-ae17-89e7eeada035\">\n",
              "  <button class=\"colab-df-quickchart\" onclick=\"quickchart('df-ca8c99e3-1b03-4b77-ae17-89e7eeada035')\"\n",
              "            title=\"Suggest charts\"\n",
              "            style=\"display:none;\">\n",
              "\n",
              "<svg xmlns=\"http://www.w3.org/2000/svg\" height=\"24px\"viewBox=\"0 0 24 24\"\n",
              "     width=\"24px\">\n",
              "    <g>\n",
              "        <path d=\"M19 3H5c-1.1 0-2 .9-2 2v14c0 1.1.9 2 2 2h14c1.1 0 2-.9 2-2V5c0-1.1-.9-2-2-2zM9 17H7v-7h2v7zm4 0h-2V7h2v10zm4 0h-2v-4h2v4z\"/>\n",
              "    </g>\n",
              "</svg>\n",
              "  </button>\n",
              "\n",
              "<style>\n",
              "  .colab-df-quickchart {\n",
              "      --bg-color: #E8F0FE;\n",
              "      --fill-color: #1967D2;\n",
              "      --hover-bg-color: #E2EBFA;\n",
              "      --hover-fill-color: #174EA6;\n",
              "      --disabled-fill-color: #AAA;\n",
              "      --disabled-bg-color: #DDD;\n",
              "  }\n",
              "\n",
              "  [theme=dark] .colab-df-quickchart {\n",
              "      --bg-color: #3B4455;\n",
              "      --fill-color: #D2E3FC;\n",
              "      --hover-bg-color: #434B5C;\n",
              "      --hover-fill-color: #FFFFFF;\n",
              "      --disabled-bg-color: #3B4455;\n",
              "      --disabled-fill-color: #666;\n",
              "  }\n",
              "\n",
              "  .colab-df-quickchart {\n",
              "    background-color: var(--bg-color);\n",
              "    border: none;\n",
              "    border-radius: 50%;\n",
              "    cursor: pointer;\n",
              "    display: none;\n",
              "    fill: var(--fill-color);\n",
              "    height: 32px;\n",
              "    padding: 0;\n",
              "    width: 32px;\n",
              "  }\n",
              "\n",
              "  .colab-df-quickchart:hover {\n",
              "    background-color: var(--hover-bg-color);\n",
              "    box-shadow: 0 1px 2px rgba(60, 64, 67, 0.3), 0 1px 3px 1px rgba(60, 64, 67, 0.15);\n",
              "    fill: var(--button-hover-fill-color);\n",
              "  }\n",
              "\n",
              "  .colab-df-quickchart-complete:disabled,\n",
              "  .colab-df-quickchart-complete:disabled:hover {\n",
              "    background-color: var(--disabled-bg-color);\n",
              "    fill: var(--disabled-fill-color);\n",
              "    box-shadow: none;\n",
              "  }\n",
              "\n",
              "  .colab-df-spinner {\n",
              "    border: 2px solid var(--fill-color);\n",
              "    border-color: transparent;\n",
              "    border-bottom-color: var(--fill-color);\n",
              "    animation:\n",
              "      spin 1s steps(1) infinite;\n",
              "  }\n",
              "\n",
              "  @keyframes spin {\n",
              "    0% {\n",
              "      border-color: transparent;\n",
              "      border-bottom-color: var(--fill-color);\n",
              "      border-left-color: var(--fill-color);\n",
              "    }\n",
              "    20% {\n",
              "      border-color: transparent;\n",
              "      border-left-color: var(--fill-color);\n",
              "      border-top-color: var(--fill-color);\n",
              "    }\n",
              "    30% {\n",
              "      border-color: transparent;\n",
              "      border-left-color: var(--fill-color);\n",
              "      border-top-color: var(--fill-color);\n",
              "      border-right-color: var(--fill-color);\n",
              "    }\n",
              "    40% {\n",
              "      border-color: transparent;\n",
              "      border-right-color: var(--fill-color);\n",
              "      border-top-color: var(--fill-color);\n",
              "    }\n",
              "    60% {\n",
              "      border-color: transparent;\n",
              "      border-right-color: var(--fill-color);\n",
              "    }\n",
              "    80% {\n",
              "      border-color: transparent;\n",
              "      border-right-color: var(--fill-color);\n",
              "      border-bottom-color: var(--fill-color);\n",
              "    }\n",
              "    90% {\n",
              "      border-color: transparent;\n",
              "      border-bottom-color: var(--fill-color);\n",
              "    }\n",
              "  }\n",
              "</style>\n",
              "\n",
              "  <script>\n",
              "    async function quickchart(key) {\n",
              "      const quickchartButtonEl =\n",
              "        document.querySelector('#' + key + ' button');\n",
              "      quickchartButtonEl.disabled = true;  // To prevent multiple clicks.\n",
              "      quickchartButtonEl.classList.add('colab-df-spinner');\n",
              "      try {\n",
              "        const charts = await google.colab.kernel.invokeFunction(\n",
              "            'suggestCharts', [key], {});\n",
              "      } catch (error) {\n",
              "        console.error('Error during call to suggestCharts:', error);\n",
              "      }\n",
              "      quickchartButtonEl.classList.remove('colab-df-spinner');\n",
              "      quickchartButtonEl.classList.add('colab-df-quickchart-complete');\n",
              "    }\n",
              "    (() => {\n",
              "      let quickchartButtonEl =\n",
              "        document.querySelector('#df-ca8c99e3-1b03-4b77-ae17-89e7eeada035 button');\n",
              "      quickchartButtonEl.style.display =\n",
              "        google.colab.kernel.accessAllowed ? 'block' : 'none';\n",
              "    })();\n",
              "  </script>\n",
              "</div>\n",
              "    </div>\n",
              "  </div>\n"
            ],
            "application/vnd.google.colaboratory.intrinsic+json": {
              "type": "dataframe",
              "variable_name": "df",
              "summary": "{\n  \"name\": \"df\",\n  \"rows\": 982,\n  \"fields\": [\n    {\n      \"column\": \"warehouse\",\n      \"properties\": {\n        \"dtype\": \"category\",\n        \"num_unique_values\": 3,\n        \"samples\": [\n          \"Central\",\n          \"North\",\n          \"West\"\n        ],\n        \"semantic_type\": \"\",\n        \"description\": \"\"\n      }\n    },\n    {\n      \"column\": \"client_type\",\n      \"properties\": {\n        \"dtype\": \"category\",\n        \"num_unique_values\": 2,\n        \"samples\": [\n          \"Wholesale\",\n          \"Retail\"\n        ],\n        \"semantic_type\": \"\",\n        \"description\": \"\"\n      }\n    },\n    {\n      \"column\": \"product_line\",\n      \"properties\": {\n        \"dtype\": \"category\",\n        \"num_unique_values\": 6,\n        \"samples\": [\n          \"Miscellaneous\",\n          \"Breaking system\"\n        ],\n        \"semantic_type\": \"\",\n        \"description\": \"\"\n      }\n    },\n    {\n      \"column\": \"quantity\",\n      \"properties\": {\n        \"dtype\": \"number\",\n        \"std\": 9,\n        \"min\": 1,\n        \"max\": 40,\n        \"num_unique_values\": 18,\n        \"samples\": [\n          8,\n          9\n        ],\n        \"semantic_type\": \"\",\n        \"description\": \"\"\n      }\n    },\n    {\n      \"column\": \"unit_price\",\n      \"properties\": {\n        \"dtype\": \"number\",\n        \"std\": 11.43063075957737,\n        \"min\": 10.03,\n        \"max\": 63.15,\n        \"num_unique_values\": 857,\n        \"samples\": [\n          40.48,\n          32.72\n        ],\n        \"semantic_type\": \"\",\n        \"description\": \"\"\n      }\n    },\n    {\n      \"column\": \"total\",\n      \"properties\": {\n        \"dtype\": \"number\",\n        \"std\": 191.22551733184764,\n        \"min\": 10.35,\n        \"max\": 646.3774999999999,\n        \"num_unique_values\": 874,\n        \"samples\": [\n          237.02,\n          135.49\n        ],\n        \"semantic_type\": \"\",\n        \"description\": \"\"\n      }\n    },\n    {\n      \"column\": \"payment\",\n      \"properties\": {\n        \"dtype\": \"category\",\n        \"num_unique_values\": 3,\n        \"samples\": [\n          \"Credit card\",\n          \"Cash\"\n        ],\n        \"semantic_type\": \"\",\n        \"description\": \"\"\n      }\n    },\n    {\n      \"column\": \"bulan\",\n      \"properties\": {\n        \"dtype\": \"category\",\n        \"num_unique_values\": 3,\n        \"samples\": [\n          \"June\",\n          \"July\"\n        ],\n        \"semantic_type\": \"\",\n        \"description\": \"\"\n      }\n    }\n  ]\n}"
            }
          },
          "metadata": {},
          "execution_count": 35
        }
      ]
    },
    {
      "cell_type": "markdown",
      "source": [
        "Hasil diatas adalah dataframe terbaru dengan kolom date yang dihapuskan, karena sudah terdapat kolom bulan."
      ],
      "metadata": {
        "id": "rtQtDzhB1ADT"
      }
    },
    {
      "cell_type": "markdown",
      "source": [
        "### **Data Transformation**"
      ],
      "metadata": {
        "id": "Jm2Sh4cBog1D"
      }
    },
    {
      "cell_type": "markdown",
      "source": [
        "#### **Melakukan Mapping**"
      ],
      "metadata": {
        "id": "yVMccetfooH9"
      }
    },
    {
      "cell_type": "markdown",
      "source": [
        "Dari dataframe yang dianalisis, perlu dilakukan transformasi data dengan melakukan proses mapping dengan menerapkan metode ordinal encoding. Mapping ini dilakukan untuk mengubah kolom kategorikal menjadi numerik guna memudahkan dalam melakukan analisis kedepannya."
      ],
      "metadata": {
        "id": "kEsQsW_X3kTd"
      }
    },
    {
      "cell_type": "code",
      "source": [
        "df['warehouse'] = df['warehouse'].map({'Central':0,'West':1, 'North':2})\n",
        "df['client_type'] = df['client_type'].map({'Retail': 0, 'Wholesale': 1})\n",
        "df['product_line'] = df['product_line'].map({'Breaking system': 0, 'Electrical system': 1, 'Engine': 2,\n",
        "                                             'Frame & body': 3, 'Miscellaneous': 4, 'Suspension & traction': 5})\n",
        "df['payment'] = df['payment'].map({'Cash': 0, 'Credit card': 1, 'Transfer': 2})\n",
        "df['bulan'] = df['bulan'].map({'June': 0, 'July': 1, 'August': 2})"
      ],
      "metadata": {
        "id": "Timu723i2xZq"
      },
      "execution_count": null,
      "outputs": []
    },
    {
      "cell_type": "markdown",
      "source": [
        "Kolom kategorical yang diubah menjadi numerik ada 3, yaitu sebagai berikut.\n",
        "\n",
        "1. warehouse : data pada warehouse di representasikan dengan angka 0 sebagai central, 1 sebagai west, dan 2 sebagai north.\n",
        "2. client_type : data pada client_type direpresentasikan dengan angka 0 sebagai retail dan 1 sebagai wholesale.\n",
        "3. product_line : data pada product_client direpresentasikan dengan angka 0 sebagai breaking system, 1 sebagai electrical system, 2 sebagai engine, 3 sebagai frame & body, 4 sebagai miscellaneous, dan 5 sebagai suspension & tranction.\n",
        "4. payment : data pada payment direpresentasikan dengan angka 0 sebagai cash, 1 sebagai credit card, dan 2 sebagai transfer.\n",
        "5. bulan : data pada bulan direpresentasikan dengan angka 0 sebagai june, 1 sebagai july, dan 2 sebagai august.\n",
        "\n"
      ],
      "metadata": {
        "id": "WNiD1LuR4jPu"
      }
    },
    {
      "cell_type": "markdown",
      "source": [
        "#### **Pengecekan Hasil**"
      ],
      "metadata": {
        "id": "iWER7ZSQ3pmD"
      }
    },
    {
      "cell_type": "code",
      "source": [
        "df.head()"
      ],
      "metadata": {
        "colab": {
          "base_uri": "https://localhost:8080/",
          "height": 206
        },
        "id": "DDN4bLV821xX",
        "outputId": "0c328512-59e5-4fbf-d1a4-5e28f47f23f2"
      },
      "execution_count": null,
      "outputs": [
        {
          "output_type": "execute_result",
          "data": {
            "text/plain": [
              "   warehouse  client_type  product_line  quantity  unit_price   total  \\\n",
              "0          0            0             4         8       16.85  134.83   \n",
              "1          2            0             0         9       19.29  173.61   \n",
              "2          2            0             5         8       32.93  263.45   \n",
              "3          2            1             3        16       37.84  605.44   \n",
              "4          0            0             2         2       60.48  120.96   \n",
              "\n",
              "   payment  bulan  \n",
              "0        1      0  \n",
              "1        0      0  \n",
              "2        1      0  \n",
              "3        2      0  \n",
              "4        1      0  "
            ],
            "text/html": [
              "\n",
              "  <div id=\"df-b7cd462b-aafa-4e32-b569-4a9b1d849d4c\" class=\"colab-df-container\">\n",
              "    <div>\n",
              "<style scoped>\n",
              "    .dataframe tbody tr th:only-of-type {\n",
              "        vertical-align: middle;\n",
              "    }\n",
              "\n",
              "    .dataframe tbody tr th {\n",
              "        vertical-align: top;\n",
              "    }\n",
              "\n",
              "    .dataframe thead th {\n",
              "        text-align: right;\n",
              "    }\n",
              "</style>\n",
              "<table border=\"1\" class=\"dataframe\">\n",
              "  <thead>\n",
              "    <tr style=\"text-align: right;\">\n",
              "      <th></th>\n",
              "      <th>warehouse</th>\n",
              "      <th>client_type</th>\n",
              "      <th>product_line</th>\n",
              "      <th>quantity</th>\n",
              "      <th>unit_price</th>\n",
              "      <th>total</th>\n",
              "      <th>payment</th>\n",
              "      <th>bulan</th>\n",
              "    </tr>\n",
              "  </thead>\n",
              "  <tbody>\n",
              "    <tr>\n",
              "      <th>0</th>\n",
              "      <td>0</td>\n",
              "      <td>0</td>\n",
              "      <td>4</td>\n",
              "      <td>8</td>\n",
              "      <td>16.85</td>\n",
              "      <td>134.83</td>\n",
              "      <td>1</td>\n",
              "      <td>0</td>\n",
              "    </tr>\n",
              "    <tr>\n",
              "      <th>1</th>\n",
              "      <td>2</td>\n",
              "      <td>0</td>\n",
              "      <td>0</td>\n",
              "      <td>9</td>\n",
              "      <td>19.29</td>\n",
              "      <td>173.61</td>\n",
              "      <td>0</td>\n",
              "      <td>0</td>\n",
              "    </tr>\n",
              "    <tr>\n",
              "      <th>2</th>\n",
              "      <td>2</td>\n",
              "      <td>0</td>\n",
              "      <td>5</td>\n",
              "      <td>8</td>\n",
              "      <td>32.93</td>\n",
              "      <td>263.45</td>\n",
              "      <td>1</td>\n",
              "      <td>0</td>\n",
              "    </tr>\n",
              "    <tr>\n",
              "      <th>3</th>\n",
              "      <td>2</td>\n",
              "      <td>1</td>\n",
              "      <td>3</td>\n",
              "      <td>16</td>\n",
              "      <td>37.84</td>\n",
              "      <td>605.44</td>\n",
              "      <td>2</td>\n",
              "      <td>0</td>\n",
              "    </tr>\n",
              "    <tr>\n",
              "      <th>4</th>\n",
              "      <td>0</td>\n",
              "      <td>0</td>\n",
              "      <td>2</td>\n",
              "      <td>2</td>\n",
              "      <td>60.48</td>\n",
              "      <td>120.96</td>\n",
              "      <td>1</td>\n",
              "      <td>0</td>\n",
              "    </tr>\n",
              "  </tbody>\n",
              "</table>\n",
              "</div>\n",
              "    <div class=\"colab-df-buttons\">\n",
              "\n",
              "  <div class=\"colab-df-container\">\n",
              "    <button class=\"colab-df-convert\" onclick=\"convertToInteractive('df-b7cd462b-aafa-4e32-b569-4a9b1d849d4c')\"\n",
              "            title=\"Convert this dataframe to an interactive table.\"\n",
              "            style=\"display:none;\">\n",
              "\n",
              "  <svg xmlns=\"http://www.w3.org/2000/svg\" height=\"24px\" viewBox=\"0 -960 960 960\">\n",
              "    <path d=\"M120-120v-720h720v720H120Zm60-500h600v-160H180v160Zm220 220h160v-160H400v160Zm0 220h160v-160H400v160ZM180-400h160v-160H180v160Zm440 0h160v-160H620v160ZM180-180h160v-160H180v160Zm440 0h160v-160H620v160Z\"/>\n",
              "  </svg>\n",
              "    </button>\n",
              "\n",
              "  <style>\n",
              "    .colab-df-container {\n",
              "      display:flex;\n",
              "      gap: 12px;\n",
              "    }\n",
              "\n",
              "    .colab-df-convert {\n",
              "      background-color: #E8F0FE;\n",
              "      border: none;\n",
              "      border-radius: 50%;\n",
              "      cursor: pointer;\n",
              "      display: none;\n",
              "      fill: #1967D2;\n",
              "      height: 32px;\n",
              "      padding: 0 0 0 0;\n",
              "      width: 32px;\n",
              "    }\n",
              "\n",
              "    .colab-df-convert:hover {\n",
              "      background-color: #E2EBFA;\n",
              "      box-shadow: 0px 1px 2px rgba(60, 64, 67, 0.3), 0px 1px 3px 1px rgba(60, 64, 67, 0.15);\n",
              "      fill: #174EA6;\n",
              "    }\n",
              "\n",
              "    .colab-df-buttons div {\n",
              "      margin-bottom: 4px;\n",
              "    }\n",
              "\n",
              "    [theme=dark] .colab-df-convert {\n",
              "      background-color: #3B4455;\n",
              "      fill: #D2E3FC;\n",
              "    }\n",
              "\n",
              "    [theme=dark] .colab-df-convert:hover {\n",
              "      background-color: #434B5C;\n",
              "      box-shadow: 0px 1px 3px 1px rgba(0, 0, 0, 0.15);\n",
              "      filter: drop-shadow(0px 1px 2px rgba(0, 0, 0, 0.3));\n",
              "      fill: #FFFFFF;\n",
              "    }\n",
              "  </style>\n",
              "\n",
              "    <script>\n",
              "      const buttonEl =\n",
              "        document.querySelector('#df-b7cd462b-aafa-4e32-b569-4a9b1d849d4c button.colab-df-convert');\n",
              "      buttonEl.style.display =\n",
              "        google.colab.kernel.accessAllowed ? 'block' : 'none';\n",
              "\n",
              "      async function convertToInteractive(key) {\n",
              "        const element = document.querySelector('#df-b7cd462b-aafa-4e32-b569-4a9b1d849d4c');\n",
              "        const dataTable =\n",
              "          await google.colab.kernel.invokeFunction('convertToInteractive',\n",
              "                                                    [key], {});\n",
              "        if (!dataTable) return;\n",
              "\n",
              "        const docLinkHtml = 'Like what you see? Visit the ' +\n",
              "          '<a target=\"_blank\" href=https://colab.research.google.com/notebooks/data_table.ipynb>data table notebook</a>'\n",
              "          + ' to learn more about interactive tables.';\n",
              "        element.innerHTML = '';\n",
              "        dataTable['output_type'] = 'display_data';\n",
              "        await google.colab.output.renderOutput(dataTable, element);\n",
              "        const docLink = document.createElement('div');\n",
              "        docLink.innerHTML = docLinkHtml;\n",
              "        element.appendChild(docLink);\n",
              "      }\n",
              "    </script>\n",
              "  </div>\n",
              "\n",
              "\n",
              "<div id=\"df-15099402-fc31-4a02-8163-17dc69c08737\">\n",
              "  <button class=\"colab-df-quickchart\" onclick=\"quickchart('df-15099402-fc31-4a02-8163-17dc69c08737')\"\n",
              "            title=\"Suggest charts\"\n",
              "            style=\"display:none;\">\n",
              "\n",
              "<svg xmlns=\"http://www.w3.org/2000/svg\" height=\"24px\"viewBox=\"0 0 24 24\"\n",
              "     width=\"24px\">\n",
              "    <g>\n",
              "        <path d=\"M19 3H5c-1.1 0-2 .9-2 2v14c0 1.1.9 2 2 2h14c1.1 0 2-.9 2-2V5c0-1.1-.9-2-2-2zM9 17H7v-7h2v7zm4 0h-2V7h2v10zm4 0h-2v-4h2v4z\"/>\n",
              "    </g>\n",
              "</svg>\n",
              "  </button>\n",
              "\n",
              "<style>\n",
              "  .colab-df-quickchart {\n",
              "      --bg-color: #E8F0FE;\n",
              "      --fill-color: #1967D2;\n",
              "      --hover-bg-color: #E2EBFA;\n",
              "      --hover-fill-color: #174EA6;\n",
              "      --disabled-fill-color: #AAA;\n",
              "      --disabled-bg-color: #DDD;\n",
              "  }\n",
              "\n",
              "  [theme=dark] .colab-df-quickchart {\n",
              "      --bg-color: #3B4455;\n",
              "      --fill-color: #D2E3FC;\n",
              "      --hover-bg-color: #434B5C;\n",
              "      --hover-fill-color: #FFFFFF;\n",
              "      --disabled-bg-color: #3B4455;\n",
              "      --disabled-fill-color: #666;\n",
              "  }\n",
              "\n",
              "  .colab-df-quickchart {\n",
              "    background-color: var(--bg-color);\n",
              "    border: none;\n",
              "    border-radius: 50%;\n",
              "    cursor: pointer;\n",
              "    display: none;\n",
              "    fill: var(--fill-color);\n",
              "    height: 32px;\n",
              "    padding: 0;\n",
              "    width: 32px;\n",
              "  }\n",
              "\n",
              "  .colab-df-quickchart:hover {\n",
              "    background-color: var(--hover-bg-color);\n",
              "    box-shadow: 0 1px 2px rgba(60, 64, 67, 0.3), 0 1px 3px 1px rgba(60, 64, 67, 0.15);\n",
              "    fill: var(--button-hover-fill-color);\n",
              "  }\n",
              "\n",
              "  .colab-df-quickchart-complete:disabled,\n",
              "  .colab-df-quickchart-complete:disabled:hover {\n",
              "    background-color: var(--disabled-bg-color);\n",
              "    fill: var(--disabled-fill-color);\n",
              "    box-shadow: none;\n",
              "  }\n",
              "\n",
              "  .colab-df-spinner {\n",
              "    border: 2px solid var(--fill-color);\n",
              "    border-color: transparent;\n",
              "    border-bottom-color: var(--fill-color);\n",
              "    animation:\n",
              "      spin 1s steps(1) infinite;\n",
              "  }\n",
              "\n",
              "  @keyframes spin {\n",
              "    0% {\n",
              "      border-color: transparent;\n",
              "      border-bottom-color: var(--fill-color);\n",
              "      border-left-color: var(--fill-color);\n",
              "    }\n",
              "    20% {\n",
              "      border-color: transparent;\n",
              "      border-left-color: var(--fill-color);\n",
              "      border-top-color: var(--fill-color);\n",
              "    }\n",
              "    30% {\n",
              "      border-color: transparent;\n",
              "      border-left-color: var(--fill-color);\n",
              "      border-top-color: var(--fill-color);\n",
              "      border-right-color: var(--fill-color);\n",
              "    }\n",
              "    40% {\n",
              "      border-color: transparent;\n",
              "      border-right-color: var(--fill-color);\n",
              "      border-top-color: var(--fill-color);\n",
              "    }\n",
              "    60% {\n",
              "      border-color: transparent;\n",
              "      border-right-color: var(--fill-color);\n",
              "    }\n",
              "    80% {\n",
              "      border-color: transparent;\n",
              "      border-right-color: var(--fill-color);\n",
              "      border-bottom-color: var(--fill-color);\n",
              "    }\n",
              "    90% {\n",
              "      border-color: transparent;\n",
              "      border-bottom-color: var(--fill-color);\n",
              "    }\n",
              "  }\n",
              "</style>\n",
              "\n",
              "  <script>\n",
              "    async function quickchart(key) {\n",
              "      const quickchartButtonEl =\n",
              "        document.querySelector('#' + key + ' button');\n",
              "      quickchartButtonEl.disabled = true;  // To prevent multiple clicks.\n",
              "      quickchartButtonEl.classList.add('colab-df-spinner');\n",
              "      try {\n",
              "        const charts = await google.colab.kernel.invokeFunction(\n",
              "            'suggestCharts', [key], {});\n",
              "      } catch (error) {\n",
              "        console.error('Error during call to suggestCharts:', error);\n",
              "      }\n",
              "      quickchartButtonEl.classList.remove('colab-df-spinner');\n",
              "      quickchartButtonEl.classList.add('colab-df-quickchart-complete');\n",
              "    }\n",
              "    (() => {\n",
              "      let quickchartButtonEl =\n",
              "        document.querySelector('#df-15099402-fc31-4a02-8163-17dc69c08737 button');\n",
              "      quickchartButtonEl.style.display =\n",
              "        google.colab.kernel.accessAllowed ? 'block' : 'none';\n",
              "    })();\n",
              "  </script>\n",
              "</div>\n",
              "    </div>\n",
              "  </div>\n"
            ],
            "application/vnd.google.colaboratory.intrinsic+json": {
              "type": "dataframe",
              "variable_name": "df",
              "summary": "{\n  \"name\": \"df\",\n  \"rows\": 982,\n  \"fields\": [\n    {\n      \"column\": \"warehouse\",\n      \"properties\": {\n        \"dtype\": \"number\",\n        \"std\": 0,\n        \"min\": 0,\n        \"max\": 2,\n        \"num_unique_values\": 3,\n        \"samples\": [\n          0,\n          2,\n          1\n        ],\n        \"semantic_type\": \"\",\n        \"description\": \"\"\n      }\n    },\n    {\n      \"column\": \"client_type\",\n      \"properties\": {\n        \"dtype\": \"number\",\n        \"std\": 0,\n        \"min\": 0,\n        \"max\": 1,\n        \"num_unique_values\": 2,\n        \"samples\": [\n          1,\n          0\n        ],\n        \"semantic_type\": \"\",\n        \"description\": \"\"\n      }\n    },\n    {\n      \"column\": \"product_line\",\n      \"properties\": {\n        \"dtype\": \"number\",\n        \"std\": 1,\n        \"min\": 0,\n        \"max\": 5,\n        \"num_unique_values\": 6,\n        \"samples\": [\n          4,\n          0\n        ],\n        \"semantic_type\": \"\",\n        \"description\": \"\"\n      }\n    },\n    {\n      \"column\": \"quantity\",\n      \"properties\": {\n        \"dtype\": \"number\",\n        \"std\": 9,\n        \"min\": 1,\n        \"max\": 40,\n        \"num_unique_values\": 18,\n        \"samples\": [\n          8,\n          9\n        ],\n        \"semantic_type\": \"\",\n        \"description\": \"\"\n      }\n    },\n    {\n      \"column\": \"unit_price\",\n      \"properties\": {\n        \"dtype\": \"number\",\n        \"std\": 11.43063075957737,\n        \"min\": 10.03,\n        \"max\": 63.15,\n        \"num_unique_values\": 857,\n        \"samples\": [\n          40.48,\n          32.72\n        ],\n        \"semantic_type\": \"\",\n        \"description\": \"\"\n      }\n    },\n    {\n      \"column\": \"total\",\n      \"properties\": {\n        \"dtype\": \"number\",\n        \"std\": 191.22551733184764,\n        \"min\": 10.35,\n        \"max\": 646.3774999999999,\n        \"num_unique_values\": 874,\n        \"samples\": [\n          237.02,\n          135.49\n        ],\n        \"semantic_type\": \"\",\n        \"description\": \"\"\n      }\n    },\n    {\n      \"column\": \"payment\",\n      \"properties\": {\n        \"dtype\": \"number\",\n        \"std\": 0,\n        \"min\": 0,\n        \"max\": 2,\n        \"num_unique_values\": 3,\n        \"samples\": [\n          1,\n          0\n        ],\n        \"semantic_type\": \"\",\n        \"description\": \"\"\n      }\n    },\n    {\n      \"column\": \"bulan\",\n      \"properties\": {\n        \"dtype\": \"number\",\n        \"std\": 0,\n        \"min\": 0,\n        \"max\": 2,\n        \"num_unique_values\": 3,\n        \"samples\": [\n          0,\n          1\n        ],\n        \"semantic_type\": \"\",\n        \"description\": \"\"\n      }\n    }\n  ]\n}"
            }
          },
          "metadata": {},
          "execution_count": 37
        }
      ]
    },
    {
      "cell_type": "markdown",
      "source": [
        "Hasil diatas adalah hasil dari transformasi data dari yang awalnya kategorikal menjadi numerik. Proses transformasi ini berguna untuk mempermudah proses analisis kedepannya."
      ],
      "metadata": {
        "id": "NQk5cCzW6N0T"
      }
    },
    {
      "cell_type": "markdown",
      "source": [
        "### **Konversi Dataframe**"
      ],
      "metadata": {
        "id": "yuk26ogV6lii"
      }
    },
    {
      "cell_type": "code",
      "source": [
        "df.to_csv('Data Cleaned.csv', index=False)"
      ],
      "metadata": {
        "id": "cVkRE4if6iKl"
      },
      "execution_count": null,
      "outputs": []
    },
    {
      "cell_type": "markdown",
      "source": [
        "## **Modelling**"
      ],
      "metadata": {
        "id": "m9MPsws7uk1v"
      }
    },
    {
      "cell_type": "markdown",
      "source": [
        "### **Select Modelling Techniques**"
      ],
      "metadata": {
        "id": "mQsHCUPguu5G"
      }
    },
    {
      "cell_type": "markdown",
      "source": [
        "Dalam analisis yang dilakukan kali ini menggunakan model asosiatif. Model asosiatif digunakan untuk mengidentifikasi pola-pola hubungan antara produk-produk dalam penjualan produk sparepart motor. Lebih khusus lagi, untuk melihat korelasi antara produk-produk yang sering dibeli bersama-sama oleh pelanggan. Dengan menggunakan model asosiatif akan mendapat gambaran hubungan antara produk-produk yang akan berguna untuk perusahaan di masa depan. Dalam analisis model asosiatif, terdapat dua jenis algoritma yang digunakan, yaitu K-Means dan Hierarchical Clustering.\n",
        "\n",
        "1. **K-Means** : algoritma ini adalah salah satu algoritma yang digunakan untuk analisis klaster yang digunakan untuk mengelompokkan data berdasarkan variabel berdasarkan jarak antara data terhadap titik cendoid klaster yang didapatkan melalui proses berulang sebanyak jumlah k. Analisis yang dilakukan menggunakan k-means pada dataframe penjualan produk sparepart motor bertujuan untuk untuk mengelompokkan data penjualan produk sparepart motor berdasarkan pola pembelian produk yang serupa.\n",
        "\n",
        "2. **Hierarchical Clustering** : algoritma ini adalah salah satu algoritma yang digunakan untuk analisis klaster dengan membangun sebuah hirarki dari data dengan mengelompokkan entitas-entitas yang memiliki kesamaan dengan tujuan menghasilkan representasi visual hubungan entitas-entitas tersebut. Analisis yang dilakukan menggunakan hierarchical clustering pada dataframe penjualan produk sparepart motor bertujuan untuk membangun hirarki dari data penjualan produk sparepart motor dengan mengelompokkan produk-produk yang memiliki kesamaan."
      ],
      "metadata": {
        "id": "y0EZjavt5XmR"
      }
    },
    {
      "cell_type": "markdown",
      "source": [
        "### **Pre-Processing**"
      ],
      "metadata": {
        "id": "ilVhBn_wu3L3"
      }
    },
    {
      "cell_type": "markdown",
      "source": [
        "#### **Normalisasi Data**"
      ],
      "metadata": {
        "id": "5TjkLff7ycEi"
      }
    },
    {
      "cell_type": "code",
      "source": [
        "x_final = df"
      ],
      "metadata": {
        "id": "vzsElPKPPFVj"
      },
      "execution_count": null,
      "outputs": []
    },
    {
      "cell_type": "code",
      "source": [
        "scaler = MinMaxScaler()\n",
        "\n",
        "x_final_norm = scaler.fit_transform(x_final)"
      ],
      "metadata": {
        "id": "QTV9fW16yg_2"
      },
      "execution_count": null,
      "outputs": []
    },
    {
      "cell_type": "markdown",
      "source": [
        "Dilakukan sebuah normalisasi data dari dataframe yang ada dengan tujuan untuk menyederhanakan perbandingan antar fitur, mempercepat konvergensi algoritma, dan meningkatkan hasil model. Normalisasi dilakukan untuk mengubah rentang tiap kolom numerik menjadi 0 hingga 1 untuk setiap nilainya."
      ],
      "metadata": {
        "id": "o5XBl4U8REr2"
      }
    },
    {
      "cell_type": "code",
      "source": [
        "df_x_final_norm = pd.DataFrame(x_final_norm, columns=x_final.columns)\n",
        "\n",
        "display(df_x_final_norm)"
      ],
      "metadata": {
        "colab": {
          "base_uri": "https://localhost:8080/",
          "height": 423
        },
        "id": "tIDnRY2PPTrs",
        "outputId": "b37a7336-30e0-453e-f51e-d0bd0acf676b"
      },
      "execution_count": null,
      "outputs": [
        {
          "output_type": "display_data",
          "data": {
            "text/plain": [
              "     warehouse  client_type  product_line  quantity  unit_price     total  \\\n",
              "0          0.0          0.0           0.8  0.179487    0.128389  0.195715   \n",
              "1          1.0          0.0           0.0  0.205128    0.174322  0.256687   \n",
              "2          1.0          0.0           1.0  0.179487    0.431099  0.397939   \n",
              "3          1.0          1.0           0.6  0.384615    0.523532  0.935636   \n",
              "4          0.0          0.0           0.4  0.025641    0.949736  0.173908   \n",
              "..         ...          ...           ...       ...         ...       ...   \n",
              "977        0.0          0.0           0.2  0.205128    0.429970  0.448849   \n",
              "978        0.5          1.0           0.0  0.794872    0.000000  0.488359   \n",
              "979        0.5          1.0           0.2  0.282051    0.428652  0.602631   \n",
              "980        1.0          0.0           0.6  0.102564    0.719503  0.363003   \n",
              "981        1.0          1.0           0.2  0.487179    0.327184  0.845529   \n",
              "\n",
              "     payment  bulan  \n",
              "0        0.5    0.0  \n",
              "1        0.0    0.0  \n",
              "2        0.5    0.0  \n",
              "3        1.0    0.0  \n",
              "4        0.5    0.0  \n",
              "..       ...    ...  \n",
              "977      0.5    1.0  \n",
              "978      1.0    1.0  \n",
              "979      1.0    1.0  \n",
              "980      0.0    1.0  \n",
              "981      1.0    1.0  \n",
              "\n",
              "[982 rows x 8 columns]"
            ],
            "text/html": [
              "\n",
              "  <div id=\"df-e3c6dc63-ffeb-4188-9ac3-9a9635d7d868\" class=\"colab-df-container\">\n",
              "    <div>\n",
              "<style scoped>\n",
              "    .dataframe tbody tr th:only-of-type {\n",
              "        vertical-align: middle;\n",
              "    }\n",
              "\n",
              "    .dataframe tbody tr th {\n",
              "        vertical-align: top;\n",
              "    }\n",
              "\n",
              "    .dataframe thead th {\n",
              "        text-align: right;\n",
              "    }\n",
              "</style>\n",
              "<table border=\"1\" class=\"dataframe\">\n",
              "  <thead>\n",
              "    <tr style=\"text-align: right;\">\n",
              "      <th></th>\n",
              "      <th>warehouse</th>\n",
              "      <th>client_type</th>\n",
              "      <th>product_line</th>\n",
              "      <th>quantity</th>\n",
              "      <th>unit_price</th>\n",
              "      <th>total</th>\n",
              "      <th>payment</th>\n",
              "      <th>bulan</th>\n",
              "    </tr>\n",
              "  </thead>\n",
              "  <tbody>\n",
              "    <tr>\n",
              "      <th>0</th>\n",
              "      <td>0.0</td>\n",
              "      <td>0.0</td>\n",
              "      <td>0.8</td>\n",
              "      <td>0.179487</td>\n",
              "      <td>0.128389</td>\n",
              "      <td>0.195715</td>\n",
              "      <td>0.5</td>\n",
              "      <td>0.0</td>\n",
              "    </tr>\n",
              "    <tr>\n",
              "      <th>1</th>\n",
              "      <td>1.0</td>\n",
              "      <td>0.0</td>\n",
              "      <td>0.0</td>\n",
              "      <td>0.205128</td>\n",
              "      <td>0.174322</td>\n",
              "      <td>0.256687</td>\n",
              "      <td>0.0</td>\n",
              "      <td>0.0</td>\n",
              "    </tr>\n",
              "    <tr>\n",
              "      <th>2</th>\n",
              "      <td>1.0</td>\n",
              "      <td>0.0</td>\n",
              "      <td>1.0</td>\n",
              "      <td>0.179487</td>\n",
              "      <td>0.431099</td>\n",
              "      <td>0.397939</td>\n",
              "      <td>0.5</td>\n",
              "      <td>0.0</td>\n",
              "    </tr>\n",
              "    <tr>\n",
              "      <th>3</th>\n",
              "      <td>1.0</td>\n",
              "      <td>1.0</td>\n",
              "      <td>0.6</td>\n",
              "      <td>0.384615</td>\n",
              "      <td>0.523532</td>\n",
              "      <td>0.935636</td>\n",
              "      <td>1.0</td>\n",
              "      <td>0.0</td>\n",
              "    </tr>\n",
              "    <tr>\n",
              "      <th>4</th>\n",
              "      <td>0.0</td>\n",
              "      <td>0.0</td>\n",
              "      <td>0.4</td>\n",
              "      <td>0.025641</td>\n",
              "      <td>0.949736</td>\n",
              "      <td>0.173908</td>\n",
              "      <td>0.5</td>\n",
              "      <td>0.0</td>\n",
              "    </tr>\n",
              "    <tr>\n",
              "      <th>...</th>\n",
              "      <td>...</td>\n",
              "      <td>...</td>\n",
              "      <td>...</td>\n",
              "      <td>...</td>\n",
              "      <td>...</td>\n",
              "      <td>...</td>\n",
              "      <td>...</td>\n",
              "      <td>...</td>\n",
              "    </tr>\n",
              "    <tr>\n",
              "      <th>977</th>\n",
              "      <td>0.0</td>\n",
              "      <td>0.0</td>\n",
              "      <td>0.2</td>\n",
              "      <td>0.205128</td>\n",
              "      <td>0.429970</td>\n",
              "      <td>0.448849</td>\n",
              "      <td>0.5</td>\n",
              "      <td>1.0</td>\n",
              "    </tr>\n",
              "    <tr>\n",
              "      <th>978</th>\n",
              "      <td>0.5</td>\n",
              "      <td>1.0</td>\n",
              "      <td>0.0</td>\n",
              "      <td>0.794872</td>\n",
              "      <td>0.000000</td>\n",
              "      <td>0.488359</td>\n",
              "      <td>1.0</td>\n",
              "      <td>1.0</td>\n",
              "    </tr>\n",
              "    <tr>\n",
              "      <th>979</th>\n",
              "      <td>0.5</td>\n",
              "      <td>1.0</td>\n",
              "      <td>0.2</td>\n",
              "      <td>0.282051</td>\n",
              "      <td>0.428652</td>\n",
              "      <td>0.602631</td>\n",
              "      <td>1.0</td>\n",
              "      <td>1.0</td>\n",
              "    </tr>\n",
              "    <tr>\n",
              "      <th>980</th>\n",
              "      <td>1.0</td>\n",
              "      <td>0.0</td>\n",
              "      <td>0.6</td>\n",
              "      <td>0.102564</td>\n",
              "      <td>0.719503</td>\n",
              "      <td>0.363003</td>\n",
              "      <td>0.0</td>\n",
              "      <td>1.0</td>\n",
              "    </tr>\n",
              "    <tr>\n",
              "      <th>981</th>\n",
              "      <td>1.0</td>\n",
              "      <td>1.0</td>\n",
              "      <td>0.2</td>\n",
              "      <td>0.487179</td>\n",
              "      <td>0.327184</td>\n",
              "      <td>0.845529</td>\n",
              "      <td>1.0</td>\n",
              "      <td>1.0</td>\n",
              "    </tr>\n",
              "  </tbody>\n",
              "</table>\n",
              "<p>982 rows × 8 columns</p>\n",
              "</div>\n",
              "    <div class=\"colab-df-buttons\">\n",
              "\n",
              "  <div class=\"colab-df-container\">\n",
              "    <button class=\"colab-df-convert\" onclick=\"convertToInteractive('df-e3c6dc63-ffeb-4188-9ac3-9a9635d7d868')\"\n",
              "            title=\"Convert this dataframe to an interactive table.\"\n",
              "            style=\"display:none;\">\n",
              "\n",
              "  <svg xmlns=\"http://www.w3.org/2000/svg\" height=\"24px\" viewBox=\"0 -960 960 960\">\n",
              "    <path d=\"M120-120v-720h720v720H120Zm60-500h600v-160H180v160Zm220 220h160v-160H400v160Zm0 220h160v-160H400v160ZM180-400h160v-160H180v160Zm440 0h160v-160H620v160ZM180-180h160v-160H180v160Zm440 0h160v-160H620v160Z\"/>\n",
              "  </svg>\n",
              "    </button>\n",
              "\n",
              "  <style>\n",
              "    .colab-df-container {\n",
              "      display:flex;\n",
              "      gap: 12px;\n",
              "    }\n",
              "\n",
              "    .colab-df-convert {\n",
              "      background-color: #E8F0FE;\n",
              "      border: none;\n",
              "      border-radius: 50%;\n",
              "      cursor: pointer;\n",
              "      display: none;\n",
              "      fill: #1967D2;\n",
              "      height: 32px;\n",
              "      padding: 0 0 0 0;\n",
              "      width: 32px;\n",
              "    }\n",
              "\n",
              "    .colab-df-convert:hover {\n",
              "      background-color: #E2EBFA;\n",
              "      box-shadow: 0px 1px 2px rgba(60, 64, 67, 0.3), 0px 1px 3px 1px rgba(60, 64, 67, 0.15);\n",
              "      fill: #174EA6;\n",
              "    }\n",
              "\n",
              "    .colab-df-buttons div {\n",
              "      margin-bottom: 4px;\n",
              "    }\n",
              "\n",
              "    [theme=dark] .colab-df-convert {\n",
              "      background-color: #3B4455;\n",
              "      fill: #D2E3FC;\n",
              "    }\n",
              "\n",
              "    [theme=dark] .colab-df-convert:hover {\n",
              "      background-color: #434B5C;\n",
              "      box-shadow: 0px 1px 3px 1px rgba(0, 0, 0, 0.15);\n",
              "      filter: drop-shadow(0px 1px 2px rgba(0, 0, 0, 0.3));\n",
              "      fill: #FFFFFF;\n",
              "    }\n",
              "  </style>\n",
              "\n",
              "    <script>\n",
              "      const buttonEl =\n",
              "        document.querySelector('#df-e3c6dc63-ffeb-4188-9ac3-9a9635d7d868 button.colab-df-convert');\n",
              "      buttonEl.style.display =\n",
              "        google.colab.kernel.accessAllowed ? 'block' : 'none';\n",
              "\n",
              "      async function convertToInteractive(key) {\n",
              "        const element = document.querySelector('#df-e3c6dc63-ffeb-4188-9ac3-9a9635d7d868');\n",
              "        const dataTable =\n",
              "          await google.colab.kernel.invokeFunction('convertToInteractive',\n",
              "                                                    [key], {});\n",
              "        if (!dataTable) return;\n",
              "\n",
              "        const docLinkHtml = 'Like what you see? Visit the ' +\n",
              "          '<a target=\"_blank\" href=https://colab.research.google.com/notebooks/data_table.ipynb>data table notebook</a>'\n",
              "          + ' to learn more about interactive tables.';\n",
              "        element.innerHTML = '';\n",
              "        dataTable['output_type'] = 'display_data';\n",
              "        await google.colab.output.renderOutput(dataTable, element);\n",
              "        const docLink = document.createElement('div');\n",
              "        docLink.innerHTML = docLinkHtml;\n",
              "        element.appendChild(docLink);\n",
              "      }\n",
              "    </script>\n",
              "  </div>\n",
              "\n",
              "\n",
              "<div id=\"df-518dcda0-812a-4745-967b-e74d5953c7b5\">\n",
              "  <button class=\"colab-df-quickchart\" onclick=\"quickchart('df-518dcda0-812a-4745-967b-e74d5953c7b5')\"\n",
              "            title=\"Suggest charts\"\n",
              "            style=\"display:none;\">\n",
              "\n",
              "<svg xmlns=\"http://www.w3.org/2000/svg\" height=\"24px\"viewBox=\"0 0 24 24\"\n",
              "     width=\"24px\">\n",
              "    <g>\n",
              "        <path d=\"M19 3H5c-1.1 0-2 .9-2 2v14c0 1.1.9 2 2 2h14c1.1 0 2-.9 2-2V5c0-1.1-.9-2-2-2zM9 17H7v-7h2v7zm4 0h-2V7h2v10zm4 0h-2v-4h2v4z\"/>\n",
              "    </g>\n",
              "</svg>\n",
              "  </button>\n",
              "\n",
              "<style>\n",
              "  .colab-df-quickchart {\n",
              "      --bg-color: #E8F0FE;\n",
              "      --fill-color: #1967D2;\n",
              "      --hover-bg-color: #E2EBFA;\n",
              "      --hover-fill-color: #174EA6;\n",
              "      --disabled-fill-color: #AAA;\n",
              "      --disabled-bg-color: #DDD;\n",
              "  }\n",
              "\n",
              "  [theme=dark] .colab-df-quickchart {\n",
              "      --bg-color: #3B4455;\n",
              "      --fill-color: #D2E3FC;\n",
              "      --hover-bg-color: #434B5C;\n",
              "      --hover-fill-color: #FFFFFF;\n",
              "      --disabled-bg-color: #3B4455;\n",
              "      --disabled-fill-color: #666;\n",
              "  }\n",
              "\n",
              "  .colab-df-quickchart {\n",
              "    background-color: var(--bg-color);\n",
              "    border: none;\n",
              "    border-radius: 50%;\n",
              "    cursor: pointer;\n",
              "    display: none;\n",
              "    fill: var(--fill-color);\n",
              "    height: 32px;\n",
              "    padding: 0;\n",
              "    width: 32px;\n",
              "  }\n",
              "\n",
              "  .colab-df-quickchart:hover {\n",
              "    background-color: var(--hover-bg-color);\n",
              "    box-shadow: 0 1px 2px rgba(60, 64, 67, 0.3), 0 1px 3px 1px rgba(60, 64, 67, 0.15);\n",
              "    fill: var(--button-hover-fill-color);\n",
              "  }\n",
              "\n",
              "  .colab-df-quickchart-complete:disabled,\n",
              "  .colab-df-quickchart-complete:disabled:hover {\n",
              "    background-color: var(--disabled-bg-color);\n",
              "    fill: var(--disabled-fill-color);\n",
              "    box-shadow: none;\n",
              "  }\n",
              "\n",
              "  .colab-df-spinner {\n",
              "    border: 2px solid var(--fill-color);\n",
              "    border-color: transparent;\n",
              "    border-bottom-color: var(--fill-color);\n",
              "    animation:\n",
              "      spin 1s steps(1) infinite;\n",
              "  }\n",
              "\n",
              "  @keyframes spin {\n",
              "    0% {\n",
              "      border-color: transparent;\n",
              "      border-bottom-color: var(--fill-color);\n",
              "      border-left-color: var(--fill-color);\n",
              "    }\n",
              "    20% {\n",
              "      border-color: transparent;\n",
              "      border-left-color: var(--fill-color);\n",
              "      border-top-color: var(--fill-color);\n",
              "    }\n",
              "    30% {\n",
              "      border-color: transparent;\n",
              "      border-left-color: var(--fill-color);\n",
              "      border-top-color: var(--fill-color);\n",
              "      border-right-color: var(--fill-color);\n",
              "    }\n",
              "    40% {\n",
              "      border-color: transparent;\n",
              "      border-right-color: var(--fill-color);\n",
              "      border-top-color: var(--fill-color);\n",
              "    }\n",
              "    60% {\n",
              "      border-color: transparent;\n",
              "      border-right-color: var(--fill-color);\n",
              "    }\n",
              "    80% {\n",
              "      border-color: transparent;\n",
              "      border-right-color: var(--fill-color);\n",
              "      border-bottom-color: var(--fill-color);\n",
              "    }\n",
              "    90% {\n",
              "      border-color: transparent;\n",
              "      border-bottom-color: var(--fill-color);\n",
              "    }\n",
              "  }\n",
              "</style>\n",
              "\n",
              "  <script>\n",
              "    async function quickchart(key) {\n",
              "      const quickchartButtonEl =\n",
              "        document.querySelector('#' + key + ' button');\n",
              "      quickchartButtonEl.disabled = true;  // To prevent multiple clicks.\n",
              "      quickchartButtonEl.classList.add('colab-df-spinner');\n",
              "      try {\n",
              "        const charts = await google.colab.kernel.invokeFunction(\n",
              "            'suggestCharts', [key], {});\n",
              "      } catch (error) {\n",
              "        console.error('Error during call to suggestCharts:', error);\n",
              "      }\n",
              "      quickchartButtonEl.classList.remove('colab-df-spinner');\n",
              "      quickchartButtonEl.classList.add('colab-df-quickchart-complete');\n",
              "    }\n",
              "    (() => {\n",
              "      let quickchartButtonEl =\n",
              "        document.querySelector('#df-518dcda0-812a-4745-967b-e74d5953c7b5 button');\n",
              "      quickchartButtonEl.style.display =\n",
              "        google.colab.kernel.accessAllowed ? 'block' : 'none';\n",
              "    })();\n",
              "  </script>\n",
              "</div>\n",
              "    </div>\n",
              "  </div>\n"
            ],
            "application/vnd.google.colaboratory.intrinsic+json": {
              "type": "dataframe",
              "variable_name": "df_x_final_norm",
              "summary": "{\n  \"name\": \"df_x_final_norm\",\n  \"rows\": 982,\n  \"fields\": [\n    {\n      \"column\": \"warehouse\",\n      \"properties\": {\n        \"dtype\": \"number\",\n        \"std\": 0.4484049093390554,\n        \"min\": 0.0,\n        \"max\": 1.0,\n        \"num_unique_values\": 3,\n        \"samples\": [\n          0.0,\n          1.0,\n          0.5\n        ],\n        \"semantic_type\": \"\",\n        \"description\": \"\"\n      }\n    },\n    {\n      \"column\": \"client_type\",\n      \"properties\": {\n        \"dtype\": \"number\",\n        \"std\": 0.4178286518636813,\n        \"min\": 0.0,\n        \"max\": 1.0,\n        \"num_unique_values\": 2,\n        \"samples\": [\n          1.0,\n          0.0\n        ],\n        \"semantic_type\": \"\",\n        \"description\": \"\"\n      }\n    },\n    {\n      \"column\": \"product_line\",\n      \"properties\": {\n        \"dtype\": \"number\",\n        \"std\": 0.3842439218042846,\n        \"min\": 0.0,\n        \"max\": 1.0,\n        \"num_unique_values\": 6,\n        \"samples\": [\n          0.8,\n          0.0\n        ],\n        \"semantic_type\": \"\",\n        \"description\": \"\"\n      }\n    },\n    {\n      \"column\": \"quantity\",\n      \"properties\": {\n        \"dtype\": \"number\",\n        \"std\": 0.2468496699722162,\n        \"min\": 0.0,\n        \"max\": 0.9999999999999999,\n        \"num_unique_values\": 18,\n        \"samples\": [\n          0.1794871794871795,\n          0.20512820512820512\n        ],\n        \"semantic_type\": \"\",\n        \"description\": \"\"\n      }\n    },\n    {\n      \"column\": \"unit_price\",\n      \"properties\": {\n        \"dtype\": \"number\",\n        \"std\": 0.21518506701011617,\n        \"min\": 0.0,\n        \"max\": 1.0000000000000002,\n        \"num_unique_values\": 857,\n        \"samples\": [\n          0.573230421686747,\n          0.42714608433734935\n        ],\n        \"semantic_type\": \"\",\n        \"description\": \"\"\n      }\n    },\n    {\n      \"column\": \"total\",\n      \"properties\": {\n        \"dtype\": \"number\",\n        \"std\": 0.30065605234340914,\n        \"min\": 0.0,\n        \"max\": 1.0,\n        \"num_unique_values\": 874,\n        \"samples\": [\n          0.3563839613853176,\n          0.19675249890924532\n        ],\n        \"semantic_type\": \"\",\n        \"description\": \"\"\n      }\n    },\n    {\n      \"column\": \"payment\",\n      \"properties\": {\n        \"dtype\": \"number\",\n        \"std\": 0.28705557349687477,\n        \"min\": 0.0,\n        \"max\": 1.0,\n        \"num_unique_values\": 3,\n        \"samples\": [\n          0.5,\n          0.0\n        ],\n        \"semantic_type\": \"\",\n        \"description\": \"\"\n      }\n    },\n    {\n      \"column\": \"bulan\",\n      \"properties\": {\n        \"dtype\": \"number\",\n        \"std\": 0.4050113139142177,\n        \"min\": 0.0,\n        \"max\": 1.0,\n        \"num_unique_values\": 3,\n        \"samples\": [\n          0.0,\n          0.5\n        ],\n        \"semantic_type\": \"\",\n        \"description\": \"\"\n      }\n    }\n  ]\n}"
            }
          },
          "metadata": {}
        }
      ]
    },
    {
      "cell_type": "markdown",
      "source": [
        "Hasil diatas ditampilkan sebuah hasil dari normalisasi yang dilakukan pada dataframe yang digunakan untuk dilakukan analisis. Dan Normalisasi  tersebut membuat rentang tiap kolom numerik menjadi 0 hingga 1."
      ],
      "metadata": {
        "id": "4BqBsGiBR2wW"
      }
    },
    {
      "cell_type": "markdown",
      "source": [
        "#### **Validasi Silang**"
      ],
      "metadata": {
        "id": "cT-Ptt59QpdK"
      }
    },
    {
      "cell_type": "code",
      "source": [
        "inertia_values = []\n",
        "\n",
        "k_range = range(2, 10)\n",
        "\n",
        "for k in k_range:\n",
        "    kmeans = KMeans(n_clusters=k, random_state=42)\n",
        "    kmeans.fit(x_final_norm)\n",
        "    inertia_values.append(kmeans.inertia_)\n",
        "\n",
        "plt.plot(k_range, inertia_values, marker='o')\n",
        "plt.xlabel('Number of clusters (K)')\n",
        "plt.ylabel('Inertia')\n",
        "plt.title('Elbow Method for Optimal K')\n",
        "plt.xticks(k_range)\n",
        "plt.show()"
      ],
      "metadata": {
        "colab": {
          "base_uri": "https://localhost:8080/",
          "height": 770
        },
        "id": "sFTW6CtEQ2Q2",
        "outputId": "e1f7daca-6ef0-4100-dc27-622989023367"
      },
      "execution_count": null,
      "outputs": [
        {
          "output_type": "stream",
          "name": "stderr",
          "text": [
            "/usr/local/lib/python3.10/dist-packages/sklearn/cluster/_kmeans.py:870: FutureWarning: The default value of `n_init` will change from 10 to 'auto' in 1.4. Set the value of `n_init` explicitly to suppress the warning\n",
            "  warnings.warn(\n",
            "/usr/local/lib/python3.10/dist-packages/sklearn/cluster/_kmeans.py:870: FutureWarning: The default value of `n_init` will change from 10 to 'auto' in 1.4. Set the value of `n_init` explicitly to suppress the warning\n",
            "  warnings.warn(\n",
            "/usr/local/lib/python3.10/dist-packages/sklearn/cluster/_kmeans.py:870: FutureWarning: The default value of `n_init` will change from 10 to 'auto' in 1.4. Set the value of `n_init` explicitly to suppress the warning\n",
            "  warnings.warn(\n",
            "/usr/local/lib/python3.10/dist-packages/sklearn/cluster/_kmeans.py:870: FutureWarning: The default value of `n_init` will change from 10 to 'auto' in 1.4. Set the value of `n_init` explicitly to suppress the warning\n",
            "  warnings.warn(\n",
            "/usr/local/lib/python3.10/dist-packages/sklearn/cluster/_kmeans.py:870: FutureWarning: The default value of `n_init` will change from 10 to 'auto' in 1.4. Set the value of `n_init` explicitly to suppress the warning\n",
            "  warnings.warn(\n",
            "/usr/local/lib/python3.10/dist-packages/sklearn/cluster/_kmeans.py:870: FutureWarning: The default value of `n_init` will change from 10 to 'auto' in 1.4. Set the value of `n_init` explicitly to suppress the warning\n",
            "  warnings.warn(\n",
            "/usr/local/lib/python3.10/dist-packages/sklearn/cluster/_kmeans.py:870: FutureWarning: The default value of `n_init` will change from 10 to 'auto' in 1.4. Set the value of `n_init` explicitly to suppress the warning\n",
            "  warnings.warn(\n",
            "/usr/local/lib/python3.10/dist-packages/sklearn/cluster/_kmeans.py:870: FutureWarning: The default value of `n_init` will change from 10 to 'auto' in 1.4. Set the value of `n_init` explicitly to suppress the warning\n",
            "  warnings.warn(\n"
          ]
        },
        {
          "output_type": "display_data",
          "data": {
            "text/plain": [
              "<Figure size 640x480 with 1 Axes>"
            ],
            "image/png": "[encoded data removed]"
          },
          "metadata": {}
        }
      ]
    },
    {
      "cell_type": "markdown",
      "source": [
        "Validasi silang dilakukan pada model asosiatif yang digunakan untuk menemukan jumlah klaster yang optimal. Pada hasil diatas dilakukan validasi silang dengan metode elbow untuk menemukan jumlah klaster optimal dari 2 hingga 9. Untuk menemukannya dilihat dari titik di mana kurva elbow mulai menunjukkan penurunan yang kurang signifikan dan berbentuk seperti siku. Sehingga, dapat disimpulkan dari hasil validasi silang tersebut bahwa jumlah klaster yang optimal adalah 3."
      ],
      "metadata": {
        "id": "NFCcqPF7S_Hg"
      }
    },
    {
      "cell_type": "markdown",
      "source": [
        "### **Build Model**\n",
        "\n"
      ],
      "metadata": {
        "id": "nhXlADT-u6N5"
      }
    },
    {
      "cell_type": "markdown",
      "source": [
        "#### **K-Means**"
      ],
      "metadata": {
        "id": "xFAB4hdfUVgM"
      }
    },
    {
      "cell_type": "code",
      "source": [
        "kmeans = KMeans(n_clusters=3, random_state=42)\n",
        "kmeans.fit(x_final_norm)"
      ],
      "metadata": {
        "colab": {
          "base_uri": "https://localhost:8080/",
          "height": 129
        },
        "id": "W_zzx9m9VIe3",
        "outputId": "b1cc31a3-7012-46fd-aae1-15c848248698"
      },
      "execution_count": null,
      "outputs": [
        {
          "output_type": "stream",
          "name": "stderr",
          "text": [
            "/usr/local/lib/python3.10/dist-packages/sklearn/cluster/_kmeans.py:870: FutureWarning: The default value of `n_init` will change from 10 to 'auto' in 1.4. Set the value of `n_init` explicitly to suppress the warning\n",
            "  warnings.warn(\n"
          ]
        },
        {
          "output_type": "execute_result",
          "data": {
            "text/plain": [
              "KMeans(n_clusters=3, random_state=42)"
            ],
            "text/html": [
              "<style>#sk-container-id-1 {color: black;background-color: white;}#sk-container-id-1 pre{padding: 0;}#sk-container-id-1 div.sk-toggleable {background-color: white;}#sk-container-id-1 label.sk-toggleable__label {cursor: pointer;display: block;width: 100%;margin-bottom: 0;padding: 0.3em;box-sizing: border-box;text-align: center;}#sk-container-id-1 label.sk-toggleable__label-arrow:before {content: \"▸\";float: left;margin-right: 0.25em;color: #696969;}#sk-container-id-1 label.sk-toggleable__label-arrow:hover:before {color: black;}#sk-container-id-1 div.sk-estimator:hover label.sk-toggleable__label-arrow:before {color: black;}#sk-container-id-1 div.sk-toggleable__content {max-height: 0;max-width: 0;overflow: hidden;text-align: left;background-color: #f0f8ff;}#sk-container-id-1 div.sk-toggleable__content pre {margin: 0.2em;color: black;border-radius: 0.25em;background-color: #f0f8ff;}#sk-container-id-1 input.sk-toggleable__control:checked~div.sk-toggleable__content {max-height: 200px;max-width: 100%;overflow: auto;}#sk-container-id-1 input.sk-toggleable__control:checked~label.sk-toggleable__label-arrow:before {content: \"▾\";}#sk-container-id-1 div.sk-estimator input.sk-toggleable__control:checked~label.sk-toggleable__label {background-color: #d4ebff;}#sk-container-id-1 div.sk-label input.sk-toggleable__control:checked~label.sk-toggleable__label {background-color: #d4ebff;}#sk-container-id-1 input.sk-hidden--visually {border: 0;clip: rect(1px 1px 1px 1px);clip: rect(1px, 1px, 1px, 1px);height: 1px;margin: -1px;overflow: hidden;padding: 0;position: absolute;width: 1px;}#sk-container-id-1 div.sk-estimator {font-family: monospace;background-color: #f0f8ff;border: 1px dotted black;border-radius: 0.25em;box-sizing: border-box;margin-bottom: 0.5em;}#sk-container-id-1 div.sk-estimator:hover {background-color: #d4ebff;}#sk-container-id-1 div.sk-parallel-item::after {content: \"\";width: 100%;border-bottom: 1px solid gray;flex-grow: 1;}#sk-container-id-1 div.sk-label:hover label.sk-toggleable__label {background-color: #d4ebff;}#sk-container-id-1 div.sk-serial::before {content: \"\";position: absolute;border-left: 1px solid gray;box-sizing: border-box;top: 0;bottom: 0;left: 50%;z-index: 0;}#sk-container-id-1 div.sk-serial {display: flex;flex-direction: column;align-items: center;background-color: white;padding-right: 0.2em;padding-left: 0.2em;position: relative;}#sk-container-id-1 div.sk-item {position: relative;z-index: 1;}#sk-container-id-1 div.sk-parallel {display: flex;align-items: stretch;justify-content: center;background-color: white;position: relative;}#sk-container-id-1 div.sk-item::before, #sk-container-id-1 div.sk-parallel-item::before {content: \"\";position: absolute;border-left: 1px solid gray;box-sizing: border-box;top: 0;bottom: 0;left: 50%;z-index: -1;}#sk-container-id-1 div.sk-parallel-item {display: flex;flex-direction: column;z-index: 1;position: relative;background-color: white;}#sk-container-id-1 div.sk-parallel-item:first-child::after {align-self: flex-end;width: 50%;}#sk-container-id-1 div.sk-parallel-item:last-child::after {align-self: flex-start;width: 50%;}#sk-container-id-1 div.sk-parallel-item:only-child::after {width: 0;}#sk-container-id-1 div.sk-dashed-wrapped {border: 1px dashed gray;margin: 0 0.4em 0.5em 0.4em;box-sizing: border-box;padding-bottom: 0.4em;background-color: white;}#sk-container-id-1 div.sk-label label {font-family: monospace;font-weight: bold;display: inline-block;line-height: 1.2em;}#sk-container-id-1 div.sk-label-container {text-align: center;}#sk-container-id-1 div.sk-container {/* jupyter's `normalize.less` sets `[hidden] { display: none; }` but bootstrap.min.css set `[hidden] { display: none !important; }` so we also need the `!important` here to be able to override the default hidden behavior on the sphinx rendered scikit-learn.org. See: https://github.com/scikit-learn/scikit-learn/issues/21755 */display: inline-block !important;position: relative;}#sk-container-id-1 div.sk-text-repr-fallback {display: none;}</style><div id=\"sk-container-id-1\" class=\"sk-top-container\"><div class=\"sk-text-repr-fallback\"><pre>KMeans(n_clusters=3, random_state=42)</pre><b>In a Jupyter environment, please rerun this cell to show the HTML representation or trust the notebook. <br />On GitHub, the HTML representation is unable to render, please try loading this page with nbviewer.org.</b></div><div class=\"sk-container\" hidden><div class=\"sk-item\"><div class=\"sk-estimator sk-toggleable\"><input class=\"sk-toggleable__control sk-hidden--visually\" id=\"sk-estimator-id-1\" type=\"checkbox\" checked><label for=\"sk-estimator-id-1\" class=\"sk-toggleable__label sk-toggleable__label-arrow\">KMeans</label><div class=\"sk-toggleable__content\"><pre>KMeans(n_clusters=3, random_state=42)</pre></div></div></div></div></div>"
            ]
          },
          "metadata": {},
          "execution_count": 43
        }
      ]
    },
    {
      "cell_type": "markdown",
      "source": [
        "Dalam melakukan build model k-means langkah awal dilakukan normalisasi data dan menentukan jumlah kluster. Selanjutnya menginisiasikan syntax seperti diatas dalam melakukan build model k-means. Pada k-means menggunakan 3 kluster dan menggunakan data yang telah dinormalisasikan."
      ],
      "metadata": {
        "id": "QRohBxoeaB76"
      }
    },
    {
      "cell_type": "markdown",
      "source": [
        "#### **Hierarchical Clustering**"
      ],
      "metadata": {
        "id": "v5NfJUilU2QE"
      }
    },
    {
      "cell_type": "code",
      "source": [
        "hc = AgglomerativeClustering(n_clusters=3, affinity='euclidean', linkage='ward')\n",
        "hc.fit(x_final_norm)"
      ],
      "metadata": {
        "colab": {
          "base_uri": "https://localhost:8080/",
          "height": 129
        },
        "id": "6GbVbmTyVJDQ",
        "outputId": "bf1f1723-ee21-4276-d21a-1013725918fb"
      },
      "execution_count": null,
      "outputs": [
        {
          "output_type": "stream",
          "name": "stderr",
          "text": [
            "/usr/local/lib/python3.10/dist-packages/sklearn/cluster/_agglomerative.py:983: FutureWarning: Attribute `affinity` was deprecated in version 1.2 and will be removed in 1.4. Use `metric` instead\n",
            "  warnings.warn(\n"
          ]
        },
        {
          "output_type": "execute_result",
          "data": {
            "text/plain": [
              "AgglomerativeClustering(affinity='euclidean', n_clusters=3)"
            ],
            "text/html": [
              "<style>#sk-container-id-2 {color: black;background-color: white;}#sk-container-id-2 pre{padding: 0;}#sk-container-id-2 div.sk-toggleable {background-color: white;}#sk-container-id-2 label.sk-toggleable__label {cursor: pointer;display: block;width: 100%;margin-bottom: 0;padding: 0.3em;box-sizing: border-box;text-align: center;}#sk-container-id-2 label.sk-toggleable__label-arrow:before {content: \"▸\";float: left;margin-right: 0.25em;color: #696969;}#sk-container-id-2 label.sk-toggleable__label-arrow:hover:before {color: black;}#sk-container-id-2 div.sk-estimator:hover label.sk-toggleable__label-arrow:before {color: black;}#sk-container-id-2 div.sk-toggleable__content {max-height: 0;max-width: 0;overflow: hidden;text-align: left;background-color: #f0f8ff;}#sk-container-id-2 div.sk-toggleable__content pre {margin: 0.2em;color: black;border-radius: 0.25em;background-color: #f0f8ff;}#sk-container-id-2 input.sk-toggleable__control:checked~div.sk-toggleable__content {max-height: 200px;max-width: 100%;overflow: auto;}#sk-container-id-2 input.sk-toggleable__control:checked~label.sk-toggleable__label-arrow:before {content: \"▾\";}#sk-container-id-2 div.sk-estimator input.sk-toggleable__control:checked~label.sk-toggleable__label {background-color: #d4ebff;}#sk-container-id-2 div.sk-label input.sk-toggleable__control:checked~label.sk-toggleable__label {background-color: #d4ebff;}#sk-container-id-2 input.sk-hidden--visually {border: 0;clip: rect(1px 1px 1px 1px);clip: rect(1px, 1px, 1px, 1px);height: 1px;margin: -1px;overflow: hidden;padding: 0;position: absolute;width: 1px;}#sk-container-id-2 div.sk-estimator {font-family: monospace;background-color: #f0f8ff;border: 1px dotted black;border-radius: 0.25em;box-sizing: border-box;margin-bottom: 0.5em;}#sk-container-id-2 div.sk-estimator:hover {background-color: #d4ebff;}#sk-container-id-2 div.sk-parallel-item::after {content: \"\";width: 100%;border-bottom: 1px solid gray;flex-grow: 1;}#sk-container-id-2 div.sk-label:hover label.sk-toggleable__label {background-color: #d4ebff;}#sk-container-id-2 div.sk-serial::before {content: \"\";position: absolute;border-left: 1px solid gray;box-sizing: border-box;top: 0;bottom: 0;left: 50%;z-index: 0;}#sk-container-id-2 div.sk-serial {display: flex;flex-direction: column;align-items: center;background-color: white;padding-right: 0.2em;padding-left: 0.2em;position: relative;}#sk-container-id-2 div.sk-item {position: relative;z-index: 1;}#sk-container-id-2 div.sk-parallel {display: flex;align-items: stretch;justify-content: center;background-color: white;position: relative;}#sk-container-id-2 div.sk-item::before, #sk-container-id-2 div.sk-parallel-item::before {content: \"\";position: absolute;border-left: 1px solid gray;box-sizing: border-box;top: 0;bottom: 0;left: 50%;z-index: -1;}#sk-container-id-2 div.sk-parallel-item {display: flex;flex-direction: column;z-index: 1;position: relative;background-color: white;}#sk-container-id-2 div.sk-parallel-item:first-child::after {align-self: flex-end;width: 50%;}#sk-container-id-2 div.sk-parallel-item:last-child::after {align-self: flex-start;width: 50%;}#sk-container-id-2 div.sk-parallel-item:only-child::after {width: 0;}#sk-container-id-2 div.sk-dashed-wrapped {border: 1px dashed gray;margin: 0 0.4em 0.5em 0.4em;box-sizing: border-box;padding-bottom: 0.4em;background-color: white;}#sk-container-id-2 div.sk-label label {font-family: monospace;font-weight: bold;display: inline-block;line-height: 1.2em;}#sk-container-id-2 div.sk-label-container {text-align: center;}#sk-container-id-2 div.sk-container {/* jupyter's `normalize.less` sets `[hidden] { display: none; }` but bootstrap.min.css set `[hidden] { display: none !important; }` so we also need the `!important` here to be able to override the default hidden behavior on the sphinx rendered scikit-learn.org. See: https://github.com/scikit-learn/scikit-learn/issues/21755 */display: inline-block !important;position: relative;}#sk-container-id-2 div.sk-text-repr-fallback {display: none;}</style><div id=\"sk-container-id-2\" class=\"sk-top-container\"><div class=\"sk-text-repr-fallback\"><pre>AgglomerativeClustering(affinity=&#x27;euclidean&#x27;, n_clusters=3)</pre><b>In a Jupyter environment, please rerun this cell to show the HTML representation or trust the notebook. <br />On GitHub, the HTML representation is unable to render, please try loading this page with nbviewer.org.</b></div><div class=\"sk-container\" hidden><div class=\"sk-item\"><div class=\"sk-estimator sk-toggleable\"><input class=\"sk-toggleable__control sk-hidden--visually\" id=\"sk-estimator-id-2\" type=\"checkbox\" checked><label for=\"sk-estimator-id-2\" class=\"sk-toggleable__label sk-toggleable__label-arrow\">AgglomerativeClustering</label><div class=\"sk-toggleable__content\"><pre>AgglomerativeClustering(affinity=&#x27;euclidean&#x27;, n_clusters=3)</pre></div></div></div></div></div>"
            ]
          },
          "metadata": {},
          "execution_count": 44
        }
      ]
    },
    {
      "cell_type": "markdown",
      "source": [
        "Dalam melakukan build model hierarchical clustering langkah awal dilakukan normalisasi data dan menentukan jumlah kluster. Selanjutnya menginisiasikan syntax seperti diatas dalam melakukan build model hierarchical clustering. Pada hierarchical clustering menggunakan 3 cluster dan menggunakan data yang telah dinormalisasikan."
      ],
      "metadata": {
        "id": "RjW8l_SbapUI"
      }
    },
    {
      "cell_type": "markdown",
      "source": [
        "### **Begins and Compare Predict**"
      ],
      "metadata": {
        "id": "mvQjZWnnzANC"
      }
    },
    {
      "cell_type": "code",
      "source": [
        "kmeans_clust = kmeans.predict(x_final_norm)\n",
        "hierarchy_clust = hc.fit_predict(x_final_norm)"
      ],
      "metadata": {
        "id": "Vn9t7jyUzE0A",
        "colab": {
          "base_uri": "https://localhost:8080/"
        },
        "outputId": "456c0977-593f-442c-fc45-41b2dd882faf"
      },
      "execution_count": null,
      "outputs": [
        {
          "output_type": "stream",
          "name": "stderr",
          "text": [
            "/usr/local/lib/python3.10/dist-packages/sklearn/cluster/_agglomerative.py:983: FutureWarning: Attribute `affinity` was deprecated in version 1.2 and will be removed in 1.4. Use `metric` instead\n",
            "  warnings.warn(\n"
          ]
        }
      ]
    },
    {
      "cell_type": "code",
      "source": [
        "x_final = pd.DataFrame(x_final).reset_index(drop=True)\n",
        "\n",
        "kmeans_col = pd.DataFrame(kmeans_clust, columns=[\"kmeans_cluster\"])\n",
        "hierarchy_col = pd.DataFrame(hierarchy_clust, columns=[\"hierarchy_cluster\"])\n",
        "\n",
        "combined_data_assoc = pd.concat([x_final, kmeans_col, hierarchy_col], axis=1)"
      ],
      "metadata": {
        "id": "QbRDhbeO5ZU5"
      },
      "execution_count": null,
      "outputs": []
    },
    {
      "cell_type": "code",
      "source": [
        "combined_data_assoc.head()"
      ],
      "metadata": {
        "id": "0TLzbhjM5cIq",
        "colab": {
          "base_uri": "https://localhost:8080/",
          "height": 206
        },
        "outputId": "86b3f681-4e16-4681-a448-26ad7ea86b25"
      },
      "execution_count": null,
      "outputs": [
        {
          "output_type": "execute_result",
          "data": {
            "text/plain": [
              "   warehouse  client_type  product_line  quantity  unit_price   total  \\\n",
              "0          0            0             4         8       16.85  134.83   \n",
              "1          2            0             0         9       19.29  173.61   \n",
              "2          2            0             5         8       32.93  263.45   \n",
              "3          2            1             3        16       37.84  605.44   \n",
              "4          0            0             2         2       60.48  120.96   \n",
              "\n",
              "   payment  bulan  kmeans_cluster  hierarchy_cluster  \n",
              "0        1      0               0                  0  \n",
              "1        0      0               1                  2  \n",
              "2        1      0               1                  0  \n",
              "3        2      0               2                  1  \n",
              "4        1      0               0                  0  "
            ],
            "text/html": [
              "\n",
              "  <div id=\"df-7f406a04-13d2-439f-a3fb-06d9522a7ff8\" class=\"colab-df-container\">\n",
              "    <div>\n",
              "<style scoped>\n",
              "    .dataframe tbody tr th:only-of-type {\n",
              "        vertical-align: middle;\n",
              "    }\n",
              "\n",
              "    .dataframe tbody tr th {\n",
              "        vertical-align: top;\n",
              "    }\n",
              "\n",
              "    .dataframe thead th {\n",
              "        text-align: right;\n",
              "    }\n",
              "</style>\n",
              "<table border=\"1\" class=\"dataframe\">\n",
              "  <thead>\n",
              "    <tr style=\"text-align: right;\">\n",
              "      <th></th>\n",
              "      <th>warehouse</th>\n",
              "      <th>client_type</th>\n",
              "      <th>product_line</th>\n",
              "      <th>quantity</th>\n",
              "      <th>unit_price</th>\n",
              "      <th>total</th>\n",
              "      <th>payment</th>\n",
              "      <th>bulan</th>\n",
              "      <th>kmeans_cluster</th>\n",
              "      <th>hierarchy_cluster</th>\n",
              "    </tr>\n",
              "  </thead>\n",
              "  <tbody>\n",
              "    <tr>\n",
              "      <th>0</th>\n",
              "      <td>0</td>\n",
              "      <td>0</td>\n",
              "      <td>4</td>\n",
              "      <td>8</td>\n",
              "      <td>16.85</td>\n",
              "      <td>134.83</td>\n",
              "      <td>1</td>\n",
              "      <td>0</td>\n",
              "      <td>0</td>\n",
              "      <td>0</td>\n",
              "    </tr>\n",
              "    <tr>\n",
              "      <th>1</th>\n",
              "      <td>2</td>\n",
              "      <td>0</td>\n",
              "      <td>0</td>\n",
              "      <td>9</td>\n",
              "      <td>19.29</td>\n",
              "      <td>173.61</td>\n",
              "      <td>0</td>\n",
              "      <td>0</td>\n",
              "      <td>1</td>\n",
              "      <td>2</td>\n",
              "    </tr>\n",
              "    <tr>\n",
              "      <th>2</th>\n",
              "      <td>2</td>\n",
              "      <td>0</td>\n",
              "      <td>5</td>\n",
              "      <td>8</td>\n",
              "      <td>32.93</td>\n",
              "      <td>263.45</td>\n",
              "      <td>1</td>\n",
              "      <td>0</td>\n",
              "      <td>1</td>\n",
              "      <td>0</td>\n",
              "    </tr>\n",
              "    <tr>\n",
              "      <th>3</th>\n",
              "      <td>2</td>\n",
              "      <td>1</td>\n",
              "      <td>3</td>\n",
              "      <td>16</td>\n",
              "      <td>37.84</td>\n",
              "      <td>605.44</td>\n",
              "      <td>2</td>\n",
              "      <td>0</td>\n",
              "      <td>2</td>\n",
              "      <td>1</td>\n",
              "    </tr>\n",
              "    <tr>\n",
              "      <th>4</th>\n",
              "      <td>0</td>\n",
              "      <td>0</td>\n",
              "      <td>2</td>\n",
              "      <td>2</td>\n",
              "      <td>60.48</td>\n",
              "      <td>120.96</td>\n",
              "      <td>1</td>\n",
              "      <td>0</td>\n",
              "      <td>0</td>\n",
              "      <td>0</td>\n",
              "    </tr>\n",
              "  </tbody>\n",
              "</table>\n",
              "</div>\n",
              "    <div class=\"colab-df-buttons\">\n",
              "\n",
              "  <div class=\"colab-df-container\">\n",
              "    <button class=\"colab-df-convert\" onclick=\"convertToInteractive('df-7f406a04-13d2-439f-a3fb-06d9522a7ff8')\"\n",
              "            title=\"Convert this dataframe to an interactive table.\"\n",
              "            style=\"display:none;\">\n",
              "\n",
              "  <svg xmlns=\"http://www.w3.org/2000/svg\" height=\"24px\" viewBox=\"0 -960 960 960\">\n",
              "    <path d=\"M120-120v-720h720v720H120Zm60-500h600v-160H180v160Zm220 220h160v-160H400v160Zm0 220h160v-160H400v160ZM180-400h160v-160H180v160Zm440 0h160v-160H620v160ZM180-180h160v-160H180v160Zm440 0h160v-160H620v160Z\"/>\n",
              "  </svg>\n",
              "    </button>\n",
              "\n",
              "  <style>\n",
              "    .colab-df-container {\n",
              "      display:flex;\n",
              "      gap: 12px;\n",
              "    }\n",
              "\n",
              "    .colab-df-convert {\n",
              "      background-color: #E8F0FE;\n",
              "      border: none;\n",
              "      border-radius: 50%;\n",
              "      cursor: pointer;\n",
              "      display: none;\n",
              "      fill: #1967D2;\n",
              "      height: 32px;\n",
              "      padding: 0 0 0 0;\n",
              "      width: 32px;\n",
              "    }\n",
              "\n",
              "    .colab-df-convert:hover {\n",
              "      background-color: #E2EBFA;\n",
              "      box-shadow: 0px 1px 2px rgba(60, 64, 67, 0.3), 0px 1px 3px 1px rgba(60, 64, 67, 0.15);\n",
              "      fill: #174EA6;\n",
              "    }\n",
              "\n",
              "    .colab-df-buttons div {\n",
              "      margin-bottom: 4px;\n",
              "    }\n",
              "\n",
              "    [theme=dark] .colab-df-convert {\n",
              "      background-color: #3B4455;\n",
              "      fill: #D2E3FC;\n",
              "    }\n",
              "\n",
              "    [theme=dark] .colab-df-convert:hover {\n",
              "      background-color: #434B5C;\n",
              "      box-shadow: 0px 1px 3px 1px rgba(0, 0, 0, 0.15);\n",
              "      filter: drop-shadow(0px 1px 2px rgba(0, 0, 0, 0.3));\n",
              "      fill: #FFFFFF;\n",
              "    }\n",
              "  </style>\n",
              "\n",
              "    <script>\n",
              "      const buttonEl =\n",
              "        document.querySelector('#df-7f406a04-13d2-439f-a3fb-06d9522a7ff8 button.colab-df-convert');\n",
              "      buttonEl.style.display =\n",
              "        google.colab.kernel.accessAllowed ? 'block' : 'none';\n",
              "\n",
              "      async function convertToInteractive(key) {\n",
              "        const element = document.querySelector('#df-7f406a04-13d2-439f-a3fb-06d9522a7ff8');\n",
              "        const dataTable =\n",
              "          await google.colab.kernel.invokeFunction('convertToInteractive',\n",
              "                                                    [key], {});\n",
              "        if (!dataTable) return;\n",
              "\n",
              "        const docLinkHtml = 'Like what you see? Visit the ' +\n",
              "          '<a target=\"_blank\" href=https://colab.research.google.com/notebooks/data_table.ipynb>data table notebook</a>'\n",
              "          + ' to learn more about interactive tables.';\n",
              "        element.innerHTML = '';\n",
              "        dataTable['output_type'] = 'display_data';\n",
              "        await google.colab.output.renderOutput(dataTable, element);\n",
              "        const docLink = document.createElement('div');\n",
              "        docLink.innerHTML = docLinkHtml;\n",
              "        element.appendChild(docLink);\n",
              "      }\n",
              "    </script>\n",
              "  </div>\n",
              "\n",
              "\n",
              "<div id=\"df-28bdab1b-3c66-44e1-ae4b-78c1b08ecb1e\">\n",
              "  <button class=\"colab-df-quickchart\" onclick=\"quickchart('df-28bdab1b-3c66-44e1-ae4b-78c1b08ecb1e')\"\n",
              "            title=\"Suggest charts\"\n",
              "            style=\"display:none;\">\n",
              "\n",
              "<svg xmlns=\"http://www.w3.org/2000/svg\" height=\"24px\"viewBox=\"0 0 24 24\"\n",
              "     width=\"24px\">\n",
              "    <g>\n",
              "        <path d=\"M19 3H5c-1.1 0-2 .9-2 2v14c0 1.1.9 2 2 2h14c1.1 0 2-.9 2-2V5c0-1.1-.9-2-2-2zM9 17H7v-7h2v7zm4 0h-2V7h2v10zm4 0h-2v-4h2v4z\"/>\n",
              "    </g>\n",
              "</svg>\n",
              "  </button>\n",
              "\n",
              "<style>\n",
              "  .colab-df-quickchart {\n",
              "      --bg-color: #E8F0FE;\n",
              "      --fill-color: #1967D2;\n",
              "      --hover-bg-color: #E2EBFA;\n",
              "      --hover-fill-color: #174EA6;\n",
              "      --disabled-fill-color: #AAA;\n",
              "      --disabled-bg-color: #DDD;\n",
              "  }\n",
              "\n",
              "  [theme=dark] .colab-df-quickchart {\n",
              "      --bg-color: #3B4455;\n",
              "      --fill-color: #D2E3FC;\n",
              "      --hover-bg-color: #434B5C;\n",
              "      --hover-fill-color: #FFFFFF;\n",
              "      --disabled-bg-color: #3B4455;\n",
              "      --disabled-fill-color: #666;\n",
              "  }\n",
              "\n",
              "  .colab-df-quickchart {\n",
              "    background-color: var(--bg-color);\n",
              "    border: none;\n",
              "    border-radius: 50%;\n",
              "    cursor: pointer;\n",
              "    display: none;\n",
              "    fill: var(--fill-color);\n",
              "    height: 32px;\n",
              "    padding: 0;\n",
              "    width: 32px;\n",
              "  }\n",
              "\n",
              "  .colab-df-quickchart:hover {\n",
              "    background-color: var(--hover-bg-color);\n",
              "    box-shadow: 0 1px 2px rgba(60, 64, 67, 0.3), 0 1px 3px 1px rgba(60, 64, 67, 0.15);\n",
              "    fill: var(--button-hover-fill-color);\n",
              "  }\n",
              "\n",
              "  .colab-df-quickchart-complete:disabled,\n",
              "  .colab-df-quickchart-complete:disabled:hover {\n",
              "    background-color: var(--disabled-bg-color);\n",
              "    fill: var(--disabled-fill-color);\n",
              "    box-shadow: none;\n",
              "  }\n",
              "\n",
              "  .colab-df-spinner {\n",
              "    border: 2px solid var(--fill-color);\n",
              "    border-color: transparent;\n",
              "    border-bottom-color: var(--fill-color);\n",
              "    animation:\n",
              "      spin 1s steps(1) infinite;\n",
              "  }\n",
              "\n",
              "  @keyframes spin {\n",
              "    0% {\n",
              "      border-color: transparent;\n",
              "      border-bottom-color: var(--fill-color);\n",
              "      border-left-color: var(--fill-color);\n",
              "    }\n",
              "    20% {\n",
              "      border-color: transparent;\n",
              "      border-left-color: var(--fill-color);\n",
              "      border-top-color: var(--fill-color);\n",
              "    }\n",
              "    30% {\n",
              "      border-color: transparent;\n",
              "      border-left-color: var(--fill-color);\n",
              "      border-top-color: var(--fill-color);\n",
              "      border-right-color: var(--fill-color);\n",
              "    }\n",
              "    40% {\n",
              "      border-color: transparent;\n",
              "      border-right-color: var(--fill-color);\n",
              "      border-top-color: var(--fill-color);\n",
              "    }\n",
              "    60% {\n",
              "      border-color: transparent;\n",
              "      border-right-color: var(--fill-color);\n",
              "    }\n",
              "    80% {\n",
              "      border-color: transparent;\n",
              "      border-right-color: var(--fill-color);\n",
              "      border-bottom-color: var(--fill-color);\n",
              "    }\n",
              "    90% {\n",
              "      border-color: transparent;\n",
              "      border-bottom-color: var(--fill-color);\n",
              "    }\n",
              "  }\n",
              "</style>\n",
              "\n",
              "  <script>\n",
              "    async function quickchart(key) {\n",
              "      const quickchartButtonEl =\n",
              "        document.querySelector('#' + key + ' button');\n",
              "      quickchartButtonEl.disabled = true;  // To prevent multiple clicks.\n",
              "      quickchartButtonEl.classList.add('colab-df-spinner');\n",
              "      try {\n",
              "        const charts = await google.colab.kernel.invokeFunction(\n",
              "            'suggestCharts', [key], {});\n",
              "      } catch (error) {\n",
              "        console.error('Error during call to suggestCharts:', error);\n",
              "      }\n",
              "      quickchartButtonEl.classList.remove('colab-df-spinner');\n",
              "      quickchartButtonEl.classList.add('colab-df-quickchart-complete');\n",
              "    }\n",
              "    (() => {\n",
              "      let quickchartButtonEl =\n",
              "        document.querySelector('#df-28bdab1b-3c66-44e1-ae4b-78c1b08ecb1e button');\n",
              "      quickchartButtonEl.style.display =\n",
              "        google.colab.kernel.accessAllowed ? 'block' : 'none';\n",
              "    })();\n",
              "  </script>\n",
              "</div>\n",
              "    </div>\n",
              "  </div>\n"
            ],
            "application/vnd.google.colaboratory.intrinsic+json": {
              "type": "dataframe",
              "variable_name": "combined_data_assoc",
              "summary": "{\n  \"name\": \"combined_data_assoc\",\n  \"rows\": 982,\n  \"fields\": [\n    {\n      \"column\": \"warehouse\",\n      \"properties\": {\n        \"dtype\": \"number\",\n        \"std\": 0,\n        \"min\": 0,\n        \"max\": 2,\n        \"num_unique_values\": 3,\n        \"samples\": [\n          0,\n          2,\n          1\n        ],\n        \"semantic_type\": \"\",\n        \"description\": \"\"\n      }\n    },\n    {\n      \"column\": \"client_type\",\n      \"properties\": {\n        \"dtype\": \"number\",\n        \"std\": 0,\n        \"min\": 0,\n        \"max\": 1,\n        \"num_unique_values\": 2,\n        \"samples\": [\n          1,\n          0\n        ],\n        \"semantic_type\": \"\",\n        \"description\": \"\"\n      }\n    },\n    {\n      \"column\": \"product_line\",\n      \"properties\": {\n        \"dtype\": \"number\",\n        \"std\": 1,\n        \"min\": 0,\n        \"max\": 5,\n        \"num_unique_values\": 6,\n        \"samples\": [\n          4,\n          0\n        ],\n        \"semantic_type\": \"\",\n        \"description\": \"\"\n      }\n    },\n    {\n      \"column\": \"quantity\",\n      \"properties\": {\n        \"dtype\": \"number\",\n        \"std\": 9,\n        \"min\": 1,\n        \"max\": 40,\n        \"num_unique_values\": 18,\n        \"samples\": [\n          8,\n          9\n        ],\n        \"semantic_type\": \"\",\n        \"description\": \"\"\n      }\n    },\n    {\n      \"column\": \"unit_price\",\n      \"properties\": {\n        \"dtype\": \"number\",\n        \"std\": 11.43063075957737,\n        \"min\": 10.03,\n        \"max\": 63.15,\n        \"num_unique_values\": 857,\n        \"samples\": [\n          40.48,\n          32.72\n        ],\n        \"semantic_type\": \"\",\n        \"description\": \"\"\n      }\n    },\n    {\n      \"column\": \"total\",\n      \"properties\": {\n        \"dtype\": \"number\",\n        \"std\": 191.22551733184764,\n        \"min\": 10.35,\n        \"max\": 646.3774999999999,\n        \"num_unique_values\": 874,\n        \"samples\": [\n          237.02,\n          135.49\n        ],\n        \"semantic_type\": \"\",\n        \"description\": \"\"\n      }\n    },\n    {\n      \"column\": \"payment\",\n      \"properties\": {\n        \"dtype\": \"number\",\n        \"std\": 0,\n        \"min\": 0,\n        \"max\": 2,\n        \"num_unique_values\": 3,\n        \"samples\": [\n          1,\n          0\n        ],\n        \"semantic_type\": \"\",\n        \"description\": \"\"\n      }\n    },\n    {\n      \"column\": \"bulan\",\n      \"properties\": {\n        \"dtype\": \"number\",\n        \"std\": 0,\n        \"min\": 0,\n        \"max\": 2,\n        \"num_unique_values\": 3,\n        \"samples\": [\n          0,\n          1\n        ],\n        \"semantic_type\": \"\",\n        \"description\": \"\"\n      }\n    },\n    {\n      \"column\": \"kmeans_cluster\",\n      \"properties\": {\n        \"dtype\": \"int32\",\n        \"num_unique_values\": 3,\n        \"samples\": [\n          0,\n          1\n        ],\n        \"semantic_type\": \"\",\n        \"description\": \"\"\n      }\n    },\n    {\n      \"column\": \"hierarchy_cluster\",\n      \"properties\": {\n        \"dtype\": \"number\",\n        \"std\": 0,\n        \"min\": 0,\n        \"max\": 2,\n        \"num_unique_values\": 3,\n        \"samples\": [\n          0,\n          2\n        ],\n        \"semantic_type\": \"\",\n        \"description\": \"\"\n      }\n    }\n  ]\n}"
            }
          },
          "metadata": {},
          "execution_count": 47
        }
      ]
    },
    {
      "cell_type": "markdown",
      "source": [
        "Setelah semua proses modelling dilakukan, makan ditampilkan dataframe yang telah digabungkan dengan hasil prediksi dari model asosiatif yang dibuat untuk membandingkan hasil dari semua algoritma yang digunakan, yaitu k-means dan hierarchical clustering."
      ],
      "metadata": {
        "id": "UcPQh5b_bvPN"
      }
    },
    {
      "cell_type": "markdown",
      "source": [
        "## **Evaluation**"
      ],
      "metadata": {
        "id": "n5sl4FA4BJvl"
      }
    },
    {
      "cell_type": "markdown",
      "source": [
        "### **Evaluate Results**"
      ],
      "metadata": {
        "id": "a6JNblsQBOd2"
      }
    },
    {
      "cell_type": "code",
      "source": [
        "silhouette_avg_kmeans = silhouette_score(x_final_norm, kmeans.labels_)\n",
        "ch_score_kmeans = calinski_harabasz_score(x_final_norm, kmeans.labels_)\n",
        "db_score_kmeans = davies_bouldin_score(x_final_norm, kmeans.labels_)\n",
        "\n",
        "silhouette_avg_hc = silhouette_score(x_final_norm, hierarchy_clust)\n",
        "ch_score_hc = calinski_harabasz_score(x_final_norm, hierarchy_clust)\n",
        "db_score_hc = davies_bouldin_score(x_final_norm, hierarchy_clust)\n",
        "\n",
        "metrics = [\"Silhouette Score\", \"Calinski-Harabasz Score\", \"Davies-Bouldin Score\"]\n",
        "scores_kmeans = [silhouette_avg_kmeans, ch_score_kmeans, db_score_kmeans]\n",
        "scores_hc = [silhouette_avg_hc, ch_score_hc, db_score_hc]\n",
        "\n",
        "df_scores = pd.DataFrame({'': metrics,\n",
        "                          'KMeans Score': scores_kmeans,\n",
        "                          'Agglomerative Clustering Score': scores_hc})\n",
        "\n",
        "df_scores = df_scores.set_index('')\n",
        "\n",
        "df_scores = df_scores.T\n",
        "\n",
        "display(df_scores)"
      ],
      "metadata": {
        "colab": {
          "base_uri": "https://localhost:8080/",
          "height": 112
        },
        "id": "nxZZX8edXLlG",
        "outputId": "baa2bee5-4b66-4b77-d470-3a2d363bc15a"
      },
      "execution_count": null,
      "outputs": [
        {
          "output_type": "display_data",
          "data": {
            "text/plain": [
              "                                Silhouette Score  Calinski-Harabasz Score  \\\n",
              "KMeans Score                            0.265384               415.967384   \n",
              "Agglomerative Clustering Score          0.244320               379.939730   \n",
              "\n",
              "                                Davies-Bouldin Score  \n",
              "KMeans Score                                1.426523  \n",
              "Agglomerative Clustering Score              1.561643  "
            ],
            "text/html": [
              "\n",
              "  <div id=\"df-b2b35655-eb07-4190-bde5-846370e753d6\" class=\"colab-df-container\">\n",
              "    <div>\n",
              "<style scoped>\n",
              "    .dataframe tbody tr th:only-of-type {\n",
              "        vertical-align: middle;\n",
              "    }\n",
              "\n",
              "    .dataframe tbody tr th {\n",
              "        vertical-align: top;\n",
              "    }\n",
              "\n",
              "    .dataframe thead th {\n",
              "        text-align: right;\n",
              "    }\n",
              "</style>\n",
              "<table border=\"1\" class=\"dataframe\">\n",
              "  <thead>\n",
              "    <tr style=\"text-align: right;\">\n",
              "      <th></th>\n",
              "      <th>Silhouette Score</th>\n",
              "      <th>Calinski-Harabasz Score</th>\n",
              "      <th>Davies-Bouldin Score</th>\n",
              "    </tr>\n",
              "  </thead>\n",
              "  <tbody>\n",
              "    <tr>\n",
              "      <th>KMeans Score</th>\n",
              "      <td>0.265384</td>\n",
              "      <td>415.967384</td>\n",
              "      <td>1.426523</td>\n",
              "    </tr>\n",
              "    <tr>\n",
              "      <th>Agglomerative Clustering Score</th>\n",
              "      <td>0.244320</td>\n",
              "      <td>379.939730</td>\n",
              "      <td>1.561643</td>\n",
              "    </tr>\n",
              "  </tbody>\n",
              "</table>\n",
              "</div>\n",
              "    <div class=\"colab-df-buttons\">\n",
              "\n",
              "  <div class=\"colab-df-container\">\n",
              "    <button class=\"colab-df-convert\" onclick=\"convertToInteractive('df-b2b35655-eb07-4190-bde5-846370e753d6')\"\n",
              "            title=\"Convert this dataframe to an interactive table.\"\n",
              "            style=\"display:none;\">\n",
              "\n",
              "  <svg xmlns=\"http://www.w3.org/2000/svg\" height=\"24px\" viewBox=\"0 -960 960 960\">\n",
              "    <path d=\"M120-120v-720h720v720H120Zm60-500h600v-160H180v160Zm220 220h160v-160H400v160Zm0 220h160v-160H400v160ZM180-400h160v-160H180v160Zm440 0h160v-160H620v160ZM180-180h160v-160H180v160Zm440 0h160v-160H620v160Z\"/>\n",
              "  </svg>\n",
              "    </button>\n",
              "\n",
              "  <style>\n",
              "    .colab-df-container {\n",
              "      display:flex;\n",
              "      gap: 12px;\n",
              "    }\n",
              "\n",
              "    .colab-df-convert {\n",
              "      background-color: #E8F0FE;\n",
              "      border: none;\n",
              "      border-radius: 50%;\n",
              "      cursor: pointer;\n",
              "      display: none;\n",
              "      fill: #1967D2;\n",
              "      height: 32px;\n",
              "      padding: 0 0 0 0;\n",
              "      width: 32px;\n",
              "    }\n",
              "\n",
              "    .colab-df-convert:hover {\n",
              "      background-color: #E2EBFA;\n",
              "      box-shadow: 0px 1px 2px rgba(60, 64, 67, 0.3), 0px 1px 3px 1px rgba(60, 64, 67, 0.15);\n",
              "      fill: #174EA6;\n",
              "    }\n",
              "\n",
              "    .colab-df-buttons div {\n",
              "      margin-bottom: 4px;\n",
              "    }\n",
              "\n",
              "    [theme=dark] .colab-df-convert {\n",
              "      background-color: #3B4455;\n",
              "      fill: #D2E3FC;\n",
              "    }\n",
              "\n",
              "    [theme=dark] .colab-df-convert:hover {\n",
              "      background-color: #434B5C;\n",
              "      box-shadow: 0px 1px 3px 1px rgba(0, 0, 0, 0.15);\n",
              "      filter: drop-shadow(0px 1px 2px rgba(0, 0, 0, 0.3));\n",
              "      fill: #FFFFFF;\n",
              "    }\n",
              "  </style>\n",
              "\n",
              "    <script>\n",
              "      const buttonEl =\n",
              "        document.querySelector('#df-b2b35655-eb07-4190-bde5-846370e753d6 button.colab-df-convert');\n",
              "      buttonEl.style.display =\n",
              "        google.colab.kernel.accessAllowed ? 'block' : 'none';\n",
              "\n",
              "      async function convertToInteractive(key) {\n",
              "        const element = document.querySelector('#df-b2b35655-eb07-4190-bde5-846370e753d6');\n",
              "        const dataTable =\n",
              "          await google.colab.kernel.invokeFunction('convertToInteractive',\n",
              "                                                    [key], {});\n",
              "        if (!dataTable) return;\n",
              "\n",
              "        const docLinkHtml = 'Like what you see? Visit the ' +\n",
              "          '<a target=\"_blank\" href=https://colab.research.google.com/notebooks/data_table.ipynb>data table notebook</a>'\n",
              "          + ' to learn more about interactive tables.';\n",
              "        element.innerHTML = '';\n",
              "        dataTable['output_type'] = 'display_data';\n",
              "        await google.colab.output.renderOutput(dataTable, element);\n",
              "        const docLink = document.createElement('div');\n",
              "        docLink.innerHTML = docLinkHtml;\n",
              "        element.appendChild(docLink);\n",
              "      }\n",
              "    </script>\n",
              "  </div>\n",
              "\n",
              "\n",
              "<div id=\"df-8add6f9a-65da-4c49-b3c0-d4cc34b537bc\">\n",
              "  <button class=\"colab-df-quickchart\" onclick=\"quickchart('df-8add6f9a-65da-4c49-b3c0-d4cc34b537bc')\"\n",
              "            title=\"Suggest charts\"\n",
              "            style=\"display:none;\">\n",
              "\n",
              "<svg xmlns=\"http://www.w3.org/2000/svg\" height=\"24px\"viewBox=\"0 0 24 24\"\n",
              "     width=\"24px\">\n",
              "    <g>\n",
              "        <path d=\"M19 3H5c-1.1 0-2 .9-2 2v14c0 1.1.9 2 2 2h14c1.1 0 2-.9 2-2V5c0-1.1-.9-2-2-2zM9 17H7v-7h2v7zm4 0h-2V7h2v10zm4 0h-2v-4h2v4z\"/>\n",
              "    </g>\n",
              "</svg>\n",
              "  </button>\n",
              "\n",
              "<style>\n",
              "  .colab-df-quickchart {\n",
              "      --bg-color: #E8F0FE;\n",
              "      --fill-color: #1967D2;\n",
              "      --hover-bg-color: #E2EBFA;\n",
              "      --hover-fill-color: #174EA6;\n",
              "      --disabled-fill-color: #AAA;\n",
              "      --disabled-bg-color: #DDD;\n",
              "  }\n",
              "\n",
              "  [theme=dark] .colab-df-quickchart {\n",
              "      --bg-color: #3B4455;\n",
              "      --fill-color: #D2E3FC;\n",
              "      --hover-bg-color: #434B5C;\n",
              "      --hover-fill-color: #FFFFFF;\n",
              "      --disabled-bg-color: #3B4455;\n",
              "      --disabled-fill-color: #666;\n",
              "  }\n",
              "\n",
              "  .colab-df-quickchart {\n",
              "    background-color: var(--bg-color);\n",
              "    border: none;\n",
              "    border-radius: 50%;\n",
              "    cursor: pointer;\n",
              "    display: none;\n",
              "    fill: var(--fill-color);\n",
              "    height: 32px;\n",
              "    padding: 0;\n",
              "    width: 32px;\n",
              "  }\n",
              "\n",
              "  .colab-df-quickchart:hover {\n",
              "    background-color: var(--hover-bg-color);\n",
              "    box-shadow: 0 1px 2px rgba(60, 64, 67, 0.3), 0 1px 3px 1px rgba(60, 64, 67, 0.15);\n",
              "    fill: var(--button-hover-fill-color);\n",
              "  }\n",
              "\n",
              "  .colab-df-quickchart-complete:disabled,\n",
              "  .colab-df-quickchart-complete:disabled:hover {\n",
              "    background-color: var(--disabled-bg-color);\n",
              "    fill: var(--disabled-fill-color);\n",
              "    box-shadow: none;\n",
              "  }\n",
              "\n",
              "  .colab-df-spinner {\n",
              "    border: 2px solid var(--fill-color);\n",
              "    border-color: transparent;\n",
              "    border-bottom-color: var(--fill-color);\n",
              "    animation:\n",
              "      spin 1s steps(1) infinite;\n",
              "  }\n",
              "\n",
              "  @keyframes spin {\n",
              "    0% {\n",
              "      border-color: transparent;\n",
              "      border-bottom-color: var(--fill-color);\n",
              "      border-left-color: var(--fill-color);\n",
              "    }\n",
              "    20% {\n",
              "      border-color: transparent;\n",
              "      border-left-color: var(--fill-color);\n",
              "      border-top-color: var(--fill-color);\n",
              "    }\n",
              "    30% {\n",
              "      border-color: transparent;\n",
              "      border-left-color: var(--fill-color);\n",
              "      border-top-color: var(--fill-color);\n",
              "      border-right-color: var(--fill-color);\n",
              "    }\n",
              "    40% {\n",
              "      border-color: transparent;\n",
              "      border-right-color: var(--fill-color);\n",
              "      border-top-color: var(--fill-color);\n",
              "    }\n",
              "    60% {\n",
              "      border-color: transparent;\n",
              "      border-right-color: var(--fill-color);\n",
              "    }\n",
              "    80% {\n",
              "      border-color: transparent;\n",
              "      border-right-color: var(--fill-color);\n",
              "      border-bottom-color: var(--fill-color);\n",
              "    }\n",
              "    90% {\n",
              "      border-color: transparent;\n",
              "      border-bottom-color: var(--fill-color);\n",
              "    }\n",
              "  }\n",
              "</style>\n",
              "\n",
              "  <script>\n",
              "    async function quickchart(key) {\n",
              "      const quickchartButtonEl =\n",
              "        document.querySelector('#' + key + ' button');\n",
              "      quickchartButtonEl.disabled = true;  // To prevent multiple clicks.\n",
              "      quickchartButtonEl.classList.add('colab-df-spinner');\n",
              "      try {\n",
              "        const charts = await google.colab.kernel.invokeFunction(\n",
              "            'suggestCharts', [key], {});\n",
              "      } catch (error) {\n",
              "        console.error('Error during call to suggestCharts:', error);\n",
              "      }\n",
              "      quickchartButtonEl.classList.remove('colab-df-spinner');\n",
              "      quickchartButtonEl.classList.add('colab-df-quickchart-complete');\n",
              "    }\n",
              "    (() => {\n",
              "      let quickchartButtonEl =\n",
              "        document.querySelector('#df-8add6f9a-65da-4c49-b3c0-d4cc34b537bc button');\n",
              "      quickchartButtonEl.style.display =\n",
              "        google.colab.kernel.accessAllowed ? 'block' : 'none';\n",
              "    })();\n",
              "  </script>\n",
              "</div>\n",
              "    </div>\n",
              "  </div>\n"
            ],
            "application/vnd.google.colaboratory.intrinsic+json": {
              "type": "dataframe",
              "variable_name": "df_scores",
              "summary": "{\n  \"name\": \"df_scores\",\n  \"rows\": 2,\n  \"fields\": [\n    {\n      \"column\": \"Silhouette Score\",\n      \"properties\": {\n        \"dtype\": \"number\",\n        \"std\": 0.014894339861166023,\n        \"min\": 0.24432033475905163,\n        \"max\": 0.2653841121933068,\n        \"num_unique_values\": 2,\n        \"samples\": [\n          0.24432033475905163,\n          0.2653841121933068\n        ],\n        \"semantic_type\": \"\",\n        \"description\": \"\"\n      }\n    },\n    {\n      \"column\": \"Calinski-Harabasz Score\",\n      \"properties\": {\n        \"dtype\": \"number\",\n        \"std\": 25.47539835655531,\n        \"min\": 379.93973019817685,\n        \"max\": 415.9673840608746,\n        \"num_unique_values\": 2,\n        \"samples\": [\n          379.93973019817685,\n          415.9673840608746\n        ],\n        \"semantic_type\": \"\",\n        \"description\": \"\"\n      }\n    },\n    {\n      \"column\": \"Davies-Bouldin Score\",\n      \"properties\": {\n        \"dtype\": \"number\",\n        \"std\": 0.09554418988284485,\n        \"min\": 1.426523217256511,\n        \"max\": 1.5616431063947804,\n        \"num_unique_values\": 2,\n        \"samples\": [\n          1.5616431063947804,\n          1.426523217256511\n        ],\n        \"semantic_type\": \"\",\n        \"description\": \"\"\n      }\n    }\n  ]\n}"
            }
          },
          "metadata": {}
        }
      ]
    },
    {
      "cell_type": "markdown",
      "source": [
        "Dari hasil perhitungan score dalam tahap evaluate results, dapat dinyatakan bahwa:\n",
        "\n",
        "1. **KMeans Score** memiliki Silhuette Score sebesar 0.265384 yang menunjukkan bahwa data cenderung cocok dengan kluster terbagi. Lalu terdapat juga Calinski-Harabasz Score sebesar 415.967384 yang menunjukkan bahwa kluster terpisah dengan baik. Kemudian, untuk Davies-Bouldin Score sebesar 1.426523 yang menunjukkan bahwa kluster memiliki pemisahan yang baik juga.\n",
        "2. **Agglomerative Clustering Score** memiliki Silhuette Score sebesar 0.244320, jika dibandingkan dengan KMeans, score yang dimiliki Agglomerative Clustering lebih rendah sehingga menunjukkan bahwa data KMeans lebih cocok ketimbang Agglomerative Clustering. Lalu terdapat juga Calinski-Harabasz Score sebesar 397.939730, semakin besar scorenya maka akan semakin baik juga kluster terpisah. Namun, jika membandingkan score Agglomerative dengan KMeans menunjukkan bahwa score Agglomerative lebih rendah dibandingkan dengan KMeans. Kemudian, untuk Davies-Bouldin Score sebesar 1.561643. Semakin rendah scorenya, maka semakin baik juga pemisahannya, namun jika dibandingkan score Agglomerative Cluster lebih tinggi ketimbang KMeans.\n",
        "\n",
        "Sehingga dapat disimpulkan bahwa diantara kedua model tersebut, model K-Means cenderung memberikan hasil yang lebih baik ketimbang Agglomerative Clustering/Hierarchical Clustering. Hal tersebut terlihat dari score Silhuette dan Calinski-Harabasz yang tinggi dan score Davies-Bouldin yang rendah. Ini menunjukkan hasil yang optimal dan algoritma tersebut cukup ideal untuk dilakukan pengukuran."
      ],
      "metadata": {
        "id": "10fnf5ehYEIk"
      }
    },
    {
      "cell_type": "markdown",
      "source": [
        "### **Review Process**"
      ],
      "metadata": {
        "id": "vEohWvnPBddG"
      }
    },
    {
      "cell_type": "markdown",
      "source": [
        "#### **Cross Validation**"
      ],
      "metadata": {
        "id": "6dJMbsmpw9mx"
      }
    },
    {
      "cell_type": "markdown",
      "source": [
        "##### **KFold**"
      ],
      "metadata": {
        "id": "jn480YsrIIKg"
      }
    },
    {
      "cell_type": "markdown",
      "source": [
        "###### K-Means"
      ],
      "metadata": {
        "id": "Am4u5IwCzZ45"
      }
    },
    {
      "cell_type": "code",
      "source": [
        "# Inisialisasi KFold\n",
        "kmeans = KMeans(n_clusters=3, n_init=10)\n",
        "kf = KFold(n_splits=5, shuffle=True, random_state=42)\n",
        "\n",
        "# Lists untuk menyimpan skor validasi silang\n",
        "silhouette_scores = []\n",
        "ch_scores = []\n",
        "db_scores = []\n",
        "\n",
        "# Iterasi melalui setiap lipatan\n",
        "for train_index, test_index in kf.split(x_final_norm):\n",
        "    x_train, x_test = x_final_norm[train_index], x_final_norm[test_index]\n",
        "\n",
        "    # Melatih model KMeans\n",
        "    kmeans.fit(x_train)\n",
        "    kmeans_labels = kmeans.predict(x_test)\n",
        "\n",
        "    # Menghitung skor untuk KMeans\n",
        "    silhouette_scores.append(silhouette_avg_kmeans)\n",
        "    ch_scores.append(ch_score_kmeans)\n",
        "    db_scores.append(db_score_kmeans)\n",
        "\n",
        "# Menghitung rata-rata skor dari validasi silang\n",
        "avg_kmeans_silhouette = sum(silhouette_scores) / len(silhouette_scores)\n",
        "avg_kmeans_ch = sum(ch_scores) / len(ch_scores)\n",
        "avg_kmeans_db = sum(db_scores) / len(db_scores)\n",
        "\n",
        "# Menampilkan hasil validasi silang\n",
        "print(\"Average Silhouette Score (KFold - KM):\", avg_kmeans_silhouette)\n",
        "print(\"Average Calinski-Harabasz Score (KFold - KM):\", avg_kmeans_ch)\n",
        "print(\"Average Davies-Bouldin Score (KFold - KM):\", avg_kmeans_db)\n"
      ],
      "metadata": {
        "colab": {
          "base_uri": "https://localhost:8080/"
        },
        "id": "JsXUl8ddzkG9",
        "outputId": "a458ed20-5027-4bd0-8840-0fc422b294b9"
      },
      "execution_count": null,
      "outputs": [
        {
          "output_type": "stream",
          "name": "stdout",
          "text": [
            "Average Silhouette Score (KFold - KM): 0.27034727362922123\n",
            "Average Calinski-Harabasz Score (KFold - KM): 83.26341320514344\n",
            "Average Davies-Bouldin Score (KFold - KM): 1.394671690425639\n"
          ]
        }
      ]
    },
    {
      "cell_type": "markdown",
      "source": [
        " Langkah di atas dilakukan untuk evaluasi kinerja model KMeans dalam tugas clustering menggunakan pendekatan validasi silang KFold. Melalui proses ini, data dibagi menjadi lipatan yang saling terpisah untuk memvalidasi model secara lebih akurat. Setiap lipatan digunakan sebagai data uji sementara yang lainnya sebagai data latih. Model KMeans dilatih pada data latih dari setiap lipatan dan kemudian dievaluasi menggunakan data uji untuk menghitung skor evaluasi seperti silhouette score, Calinski-Harabasz score, dan Davies-Bouldin score. Skor-skor ini kemudian dirata-ratakan untuk memberikan gambaran yang lebih menyeluruh tentang kinerja model KMeans secara keseluruhan. Tujuan dari evaluasi ini adalah untuk memahami seberapa baik model mampu melakukan pengelompokan data menjadi kluster yang bermakna dan seberapa optimal model tersebut terhadap variasi dalam data, sehingga memungkinkan pemilihan model yang paling sesuai untuk tujuan analisis data yang dihadapi."
      ],
      "metadata": {
        "id": "iRatyxd4-lcv"
      }
    },
    {
      "cell_type": "markdown",
      "source": [
        "###### Hierarchical Clustering"
      ],
      "metadata": {
        "id": "8Ze38WQ3zfQf"
      }
    },
    {
      "cell_type": "code",
      "source": [
        "# Inisialisasi KFold\n",
        "kf = KFold(n_splits=5, shuffle=True, random_state=42)\n",
        "\n",
        "# Lists untuk menyimpan skor validasi silang\n",
        "silhouette_scores = []\n",
        "ch_scores = []\n",
        "db_scores = []\n",
        "\n",
        "# Iterasi melalui setiap lipatan\n",
        "for train_index, test_index in kf.split(x_final_norm):\n",
        "    x_train, x_test = x_final_norm[train_index], x_final_norm[test_index]\n",
        "\n",
        "    # Membuat dan menyesuaikan model Hierarchical Clustering\n",
        "    hierarchy_clust = AgglomerativeClustering(n_clusters=3)  # Sesuaikan dengan jumlah klaster yang diinginkan\n",
        "    hierarchy_clust.fit(x_train)\n",
        "    hierarchy_labels = hierarchy_clust.fit_predict(x_test)\n",
        "\n",
        "    # Menghitung skor untuk Hierarchical Clustering\n",
        "    silhouette_scores.append(silhouette_avg_hierarchy)\n",
        "    ch_scores.append(ch_score_hierarchy)\n",
        "    db_scores.append(db_score_hierarchy)\n",
        "\n",
        "# Menghitung rata-rata skor dari validasi silang\n",
        "avg_hierarchy_silhouette = sum(silhouette_scores) / len(silhouette_scores)\n",
        "avg_hierarchy_ch = sum(ch_scores) / len(ch_scores)\n",
        "avg_hierarchy_db = sum(db_scores) / len(db_scores)\n",
        "\n",
        "# Menampilkan hasil validasi silang\n",
        "print(\"Average Silhouette Score (KFold - HC):\", avg_hierarchy_silhouette)\n",
        "print(\"Average Calinski-Harabasz Score (KFold - HC):\", avg_hierarchy_ch)\n",
        "print(\"Average Davies-Bouldin Score (KFold - HC):\", avg_hierarchy_db)\n"
      ],
      "metadata": {
        "colab": {
          "base_uri": "https://localhost:8080/"
        },
        "id": "iDPYAl5Izkw8",
        "outputId": "ca184a38-9258-44ad-871e-157b35155ce1"
      },
      "execution_count": null,
      "outputs": [
        {
          "output_type": "stream",
          "name": "stdout",
          "text": [
            "Average Silhouette Score (KFold - HC): 0.25237229230435854\n",
            "Average Calinski-Harabasz Score (KFold - HC): 77.48415924842318\n",
            "Average Davies-Bouldin Score (KFold - HC): 1.4803398882348084\n"
          ]
        }
      ]
    },
    {
      "cell_type": "markdown",
      "source": [
        "Langkah di atas dilakukan untuk evaluasi kinerja Hierarchical Clustering menggunakan pendekatan validasi silang KFold. Melalui proses ini, data dibagi menjadi lipatan yang saling terpisah untuk memvalidasi model secara lebih akurat. Setiap lipatan digunakan sebagai data uji sementara yang lainnya sebagai data latih. Model Hierarchical Clustering dilatih pada data latih dari setiap lipatan dan kemudian dievaluasi menggunakan data uji untuk menghitung skor evaluasi seperti silhouette score, Calinski-Harabasz score, dan Davies-Bouldin score. Skor-skor ini kemudian dirata-ratakan untuk memberikan gambaran yang lebih menyeluruh tentang kinerja model Hierarchical Clustering secara keseluruhan. Tujuan dari evaluasi ini adalah untuk memahami seberapa baik model mampu melakukan pengelompokan data menjadi kluster yang bermakna dan seberapa optimal model tersebut terhadap variasi dalam data, sehingga memungkinkan pemilihan model yang paling sesuai untuk tujuan analisis data yang dihadapi."
      ],
      "metadata": {
        "id": "3Sw4lGZIC1Fp"
      }
    },
    {
      "cell_type": "markdown",
      "source": [
        "###### Hasil"
      ],
      "metadata": {
        "id": "vJkpLap_IRx8"
      }
    },
    {
      "cell_type": "markdown",
      "source": [
        "Jadi, dari kedua langkah yang dilakukan tersebut didapatkan bahwa model KMeans lebih optimal dibandingkan dengan model Hierarchical Clustering saat dilihat melalui rata-rata yang sudah melalui proses perhitungan dari score evaluasi silhouette score, Calinski-Harabasz score, dan Davies-Bouldin score."
      ],
      "metadata": {
        "id": "ttgUDPTfIWuv"
      }
    },
    {
      "cell_type": "markdown",
      "source": [
        "##### **Validasi Silang KMeans dan Hierarchical Clustering**"
      ],
      "metadata": {
        "id": "Vx3ciDwoHvLt"
      }
    },
    {
      "cell_type": "code",
      "source": [
        "# Inisialisasi KMeans\n",
        "kmeans = KMeans(n_clusters=3, n_init=10)\n",
        "\n",
        "# Inisialisasi Hierarchical Clustering\n",
        "hierarchy_clust = AgglomerativeClustering(n_clusters=3)\n",
        "\n",
        "# Inisialisasi KFold\n",
        "kf = KFold(n_splits=5, shuffle=True, random_state=42)\n",
        "\n",
        "# Lists untuk menyimpan skor validasi silang\n",
        "kmeans_scores = {'silhouette': [], 'calinski_harabasz': [], 'davies_bouldin': []}\n",
        "hierarchy_scores = {'silhouette': [], 'calinski_harabasz': [], 'davies_bouldin': []}\n",
        "\n",
        "# Iterasi melalui setiap lipatan\n",
        "for train_index, test_index in kf.split(x_final_norm):\n",
        "    x_train, x_test = x_final_norm[train_index], x_final_norm[test_index]\n",
        "\n",
        "    # Melatih model KMeans\n",
        "    kmeans.fit(x_train)\n",
        "    kmeans_labels = kmeans.predict(x_test)\n",
        "\n",
        "    silhouette_kmeans = silhouette_score(x_test, kmeans_labels)\n",
        "    ch_kmeans = calinski_harabasz_score(x_test, kmeans_labels)\n",
        "    db_kmeans = davies_bouldin_score(x_test, kmeans_labels)\n",
        "\n",
        "    kmeans_scores['silhouette'].append(silhouette_kmeans)\n",
        "    kmeans_scores['calinski_harabasz'].append(ch_kmeans)\n",
        "    kmeans_scores['davies_bouldin'].append(db_kmeans)\n",
        "\n",
        "    # Melatih model Hierarchical Clustering\n",
        "    hierarchy_clust.fit(x_train)\n",
        "    hierarchy_labels = hierarchy_clust.fit_predict(x_test)\n",
        "\n",
        "    silhouette_hierarchy = silhouette_score(x_test, hierarchy_labels)\n",
        "    ch_hierarchy = calinski_harabasz_score(x_test, hierarchy_labels)\n",
        "    db_hierarchy = davies_bouldin_score(x_test, hierarchy_labels)\n",
        "\n",
        "    hierarchy_scores['silhouette'].append(silhouette_hierarchy)\n",
        "    hierarchy_scores['calinski_harabasz'].append(ch_hierarchy)\n",
        "    hierarchy_scores['davies_bouldin'].append(db_hierarchy)\n",
        "\n",
        "# Buat dataframe dari hasil validasi silang\n",
        "df_kmeans_scores = pd.DataFrame(kmeans_scores)\n",
        "df_hierarchy_scores = pd.DataFrame(hierarchy_scores)\n",
        "\n",
        "# Tampilkan visualisasi hasil validasi silang dengan lineplot\n",
        "plt.figure(figsize=(15, 5))\n",
        "\n",
        "plt.subplot(1, 3, 1)\n",
        "sns.lineplot(data=df_kmeans_scores['silhouette'], markers=True, label='KMeans')\n",
        "sns.lineplot(data=df_hierarchy_scores['silhouette'], markers=True, label='Hierarchical Clustering')\n",
        "plt.title('Silhouette Score')\n",
        "plt.xlabel('Fold')\n",
        "plt.ylabel('Score')\n",
        "\n",
        "plt.subplot(1, 3, 2)\n",
        "sns.lineplot(data=df_kmeans_scores['calinski_harabasz'], markers=True, label='KMeans')\n",
        "sns.lineplot(data=df_hierarchy_scores['calinski_harabasz'], markers=True, label='Hierarchical Clustering')\n",
        "plt.title('Calinski-Harabasz Score')\n",
        "plt.xlabel('Fold')\n",
        "plt.ylabel('Score')\n",
        "\n",
        "plt.subplot(1, 3, 3)\n",
        "sns.lineplot(data=df_kmeans_scores['davies_bouldin'], markers=True, label='KMeans')\n",
        "sns.lineplot(data=df_hierarchy_scores['davies_bouldin'], markers=True, label='Hierarchical Clustering')\n",
        "plt.title('Davies-Bouldin Score')\n",
        "plt.xlabel('Fold')\n",
        "plt.ylabel('Score')\n",
        "\n",
        "plt.tight_layout()\n",
        "plt.show()"
      ],
      "metadata": {
        "colab": {
          "base_uri": "https://localhost:8080/",
          "height": 398
        },
        "id": "u40_vOzpFXXO",
        "outputId": "68c0e3ca-7026-4a73-9400-764b2933efd2"
      },
      "execution_count": null,
      "outputs": [
        {
          "output_type": "display_data",
          "data": {
            "text/plain": [
              "<Figure size 1500x500 with 3 Axes>"
            ],
            "image/png": "[encoded data removed]"
          },
          "metadata": {}
        }
      ]
    },
    {
      "cell_type": "markdown",
      "source": [
        "Berdasarkan validasi silang yang dilakukan dan disajikan dalam bentuk plot, maka dapat dinyatakan bahwa:\n",
        "\n",
        "1. **Silhouette Score**: Silhouette score mengukur seberapa baik setiap data point diklasifikasikan dalam clusternya. Skor yang lebih tinggi menunjukkan clustering yang lebih baik. Plot ini menunjukkan silhouette score untuk berbagai jumlah fold dan KMeans memiliki skor yang lebih tinggi.\n",
        "\n",
        "2. **Calinski-Harabasz Score**: Calinski-Harabasz score adalah metrik lain untuk mengevaluasi clustering. Skor yang lebih tinggi menunjukkan clustering yang lebih baik. Plot ini menunjukkan Calinski-Harabasz score untuk berbagai jumlah fold dan KMeans memiliki skor yang lebih tinggi.\n",
        "\n",
        "3. **Davies-Bouldin Score**: Davies-Bouldin score adalah metrik yang mengukur scatter antar cluster. Skor yang lebih rendah menunjukkan clustering yang lebih baik. Plot ini menunjukkan Davies-Bouldin score untuk berbagai jumlah fold dan KMeans memiliki skor yang lebih rendah.\n",
        "\n",
        "Jadi, dapat disimpulkan bahwa KMeans adalah algoritma yang lebih optimal dibandingkan dengan Hierarchical Clustering."
      ],
      "metadata": {
        "id": "g5Z6vgslKeRy"
      }
    },
    {
      "cell_type": "markdown",
      "source": [
        "#### **Feature Selection**"
      ],
      "metadata": {
        "id": "Atj6MyUsBwKZ"
      }
    },
    {
      "cell_type": "code",
      "source": [
        "selector = SelectKBest(score_func=chi2, k=3)\n",
        "\n",
        "kmeans_clust = KMeans(n_clusters=3, random_state=42)\n",
        "\n",
        "kmeans_clust.fit(x_final_norm)\n",
        "cluster_labels = kmeans_clust.labels_\n",
        "selector.fit(x_final_norm, cluster_labels)\n",
        "feature_ranks = selector.scores_\n",
        "feature_names = df_x_final_norm.columns\n",
        "\n",
        "feature_ranks_df = pd.DataFrame({'Feature': feature_names, 'Rank': feature_ranks})\n",
        "feature_ranks_df = feature_ranks_df.sort_values(by='Rank', ascending=False)\n",
        "\n",
        "plt.figure(figsize=(10, 6))\n",
        "plt.barh(feature_ranks_df['Feature'], feature_ranks_df['Rank'], color='skyblue')\n",
        "plt.xlabel('Rank')\n",
        "plt.ylabel('Feature')\n",
        "plt.title('K-Means Feature Ranking')\n",
        "plt.gca().invert_yaxis()\n",
        "plt.show()"
      ],
      "metadata": {
        "colab": {
          "base_uri": "https://localhost:8080/",
          "height": 619
        },
        "id": "rJEVL2ltcFZ7",
        "outputId": "8baee512-009e-4e1f-a147-b285e94a5710"
      },
      "execution_count": null,
      "outputs": [
        {
          "output_type": "stream",
          "name": "stderr",
          "text": [
            "/usr/local/lib/python3.10/dist-packages/sklearn/cluster/_kmeans.py:870: FutureWarning: The default value of `n_init` will change from 10 to 'auto' in 1.4. Set the value of `n_init` explicitly to suppress the warning\n",
            "  warnings.warn(\n"
          ]
        },
        {
          "output_type": "display_data",
          "data": {
            "text/plain": [
              "<Figure size 1000x600 with 1 Axes>"
            ],
            "image/png": "[encoded data removed]"
          },
          "metadata": {}
        }
      ]
    },
    {
      "cell_type": "markdown",
      "source": [
        "Setelah melakukan cross validation ditentukan bahwa model KMeans adalah algoritma yang paling optimal. Kemudian, dari model tersebut ditentukan fitur-fitur yang memiliki pengaruh terhadap algoritma tersebut dan didapatkan hasil seperti di atas. Dapat dilihat bahwa client_type adalah yang paling berpengaruh karena memiliki rank paling tinggi pertama, diikuti dengan warehouse dengan rank kedua, quantity dengan rank ketiga, total dengan rank keempat, payment dengan rank kelima, dst. Fitur-fitur tersebutlah yang nantinya berpengaruh pada algoritma kedepannya pada saat melakukan analisis."
      ],
      "metadata": {
        "id": "73VGpmqwVS_t"
      }
    },
    {
      "cell_type": "markdown",
      "source": [
        "#### **Tuning Hyperparameter**"
      ],
      "metadata": {
        "id": "xInvtxUhB1TY"
      }
    },
    {
      "cell_type": "code",
      "source": [
        "from sklearn.cluster import KMeans\n",
        "from sklearn.metrics import silhouette_score\n",
        "from sklearn.model_selection import KFold\n",
        "import numpy as np\n",
        "\n",
        "# Inisialisasi KMeans sebelum tuning\n",
        "kmeans_before_tuning = KMeans(n_clusters=3, n_init=10)\n",
        "\n",
        "# Inisialisasi KMeans setelah tuning\n",
        "kmeans_after_tuning = KMeans(n_clusters=3, init='k-means++', n_init=20, max_iter=300)\n",
        "\n",
        "# Inisialisasi KFold\n",
        "kf = KFold(n_splits=5, shuffle=True, random_state=42)\n",
        "\n",
        "# Lists untuk menyimpan skor silhouette sebelum dan sesudah tuning\n",
        "silhouette_scores_before_tuning = []\n",
        "silhouette_scores_after_tuning = []\n",
        "\n",
        "# Iterasi melalui setiap lipatan\n",
        "for train_index, test_index in kf.split(x_final_norm):\n",
        "    x_train, x_test = x_final_norm[train_index], x_final_norm[test_index]\n",
        "\n",
        "    # Melatih model KMeans sebelum tuning\n",
        "    kmeans_before_tuning.fit(x_train)\n",
        "    kmeans_labels_before_tuning = kmeans_before_tuning.predict(x_test)\n",
        "    silhouette_avg_before_tuning = silhouette_score(x_test, kmeans_labels_before_tuning)\n",
        "    silhouette_scores_before_tuning.append(silhouette_avg_before_tuning)\n",
        "\n",
        "    # Melatih model KMeans setelah tuning\n",
        "    kmeans_after_tuning.fit(x_train)\n",
        "    kmeans_labels_after_tuning = kmeans_after_tuning.predict(x_test)\n",
        "    silhouette_avg_after_tuning = silhouette_score(x_test, kmeans_labels_after_tuning)\n",
        "    silhouette_scores_after_tuning.append(silhouette_avg_after_tuning)\n",
        "\n",
        "# Menghitung rata-rata skor silhouette sebelum dan sesudah tuning\n",
        "avg_silhouette_before_tuning = np.mean(silhouette_scores_before_tuning)\n",
        "avg_silhouette_after_tuning = np.mean(silhouette_scores_after_tuning)\n",
        "\n",
        "# Menampilkan hasil\n",
        "print(\"Rata-rata Skor Silhouette Sebelum Tuning:\", avg_silhouette_before_tuning)\n",
        "print(\"Rata-rata Skor Silhouette Sesudah Tuning:\", avg_silhouette_after_tuning)\n"
      ],
      "metadata": {
        "colab": {
          "base_uri": "https://localhost:8080/"
        },
        "id": "2ShWbsjfWXRB",
        "outputId": "1d68db4b-79af-4d5c-ed11-6507fc7a000a"
      },
      "execution_count": null,
      "outputs": [
        {
          "output_type": "stream",
          "name": "stdout",
          "text": [
            "Rata-rata Skor Silhouette Sebelum Tuning: 0.2649535574518572\n",
            "Rata-rata Skor Silhouette Sesudah Tuning: 0.26548957468749335\n"
          ]
        }
      ]
    },
    {
      "cell_type": "markdown",
      "source": [
        "Seperti yang diketahui sebelumnya bahwa KMeans adalah algoritma yang lebih optimal dibandingkan algoritma lain, sehingga langkah selanjutnya yang dilakukan adalah tuning hyperparameter. Tuning Hyperparameter dilakukan pada KMeans sebagai algoritma yang paling optimal untuk melihat perbandingan kinerja algoritma dari sebelum dan sesudah dilakukan tuning. Dapat dilihat hasil tuning diatas bahwa skor sesudah melakukan tuning sedikit meningkat dibandingkan dengan sebelum dilakukan tuning. Dengan demikian, dapat dikatakan bahwa jika mengalami peningkatan menandakan bahwa data dalam keadaan baik."
      ],
      "metadata": {
        "id": "0uXtomHraQ4G"
      }
    },
    {
      "cell_type": "markdown",
      "source": [
        "### **Determine Next Steps**"
      ],
      "metadata": {
        "id": "HPVMeIN0Bg_P"
      }
    },
    {
      "cell_type": "markdown",
      "source": [
        "Dalam tahapan evaluasi adalah tahap yang dilakukan untuk dilakukan pengembangan pada model dengan mengevaluasi hasil yang sebelumnya telah dilakukan. Jadi yang pertama dilakukan adalah melakukan evaluate resul dengan hasil bahwa model KMeans adalah algoritma yang optimal. Kemudian untuk memastikan hal tersebut dilakukan review process dengan melakukan cross validation, fiture selection, dan tuning hyperparameter. Dengan dilakukannya ketiga hal tersebut didapatkan hasil bahwa KMeans merupakan model yang cocok untuk digunakan dalam analisis ini dan terdapat fitur-fitur ikut mempengaruhi, serta setelah dilakukan tuning hyperparameter didapatkan hasil bahwa data yang digunakan dalam keadaan baik karena hasil setelah dilakukan tuning sedikit mengalami peningkatan. Dengan demikian, proses analisis dapat dilanjutkan ketahap selanjutnya dengan menggunakan model KMeans sebagai algoritma yang lebih optimal dibandingkan dengan model Hierarchical Clustering."
      ],
      "metadata": {
        "id": "jS4IC3_DBq8-"
      }
    }
  ]
}