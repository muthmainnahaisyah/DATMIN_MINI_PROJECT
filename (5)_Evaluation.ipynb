{
  "nbformat": 4,
  "nbformat_minor": 0,
  "metadata": {
    "colab": {
      "provenance": [],
      "authorship_tag": "ABX9TyNzrvxi2Uyl2GVI3ojML2W7",
      "include_colab_link": true
    },
    "kernelspec": {
      "name": "python3",
      "display_name": "Python 3"
    },
    "language_info": {
      "name": "python"
    }
  },
  "cells": [
    {
      "cell_type": "markdown",
      "metadata": {
        "id": "view-in-github",
        "colab_type": "text"
      },
      "source": [
        "<a href=\"https://colab.research.google.com/github/muthmainnahaisyah/DATMIN_MINI_PROJECT/blob/main/(5)_Evaluation.ipynb\" target=\"_parent\"><img src=\"https://colab.research.google.com/assets/colab-badge.svg\" alt=\"Open In Colab\"/></a>"
      ]
    },
    {
      "cell_type": "markdown",
      "source": [
        "# **PREDIKSI PENJUALAN PRODUK SPAREPART MOTOR**"
      ],
      "metadata": {
        "id": "0qP4bSVnNrhr"
      }
    },
    {
      "cell_type": "markdown",
      "source": [
        "## **Import Library**"
      ],
      "metadata": {
        "id": "rpTxMWFBOyMh"
      }
    },
    {
      "cell_type": "code",
      "source": [
        "import pandas as pd\n",
        "import matplotlib.pyplot as plt\n",
        "import numpy as np\n",
        "import seaborn as sns"
      ],
      "metadata": {
        "id": "agcmeZA-Qj6F"
      },
      "execution_count": 119,
      "outputs": []
    },
    {
      "cell_type": "code",
      "source": [
        "from sklearn.model_selection import train_test_split\n",
        "from sklearn.preprocessing import MinMaxScaler\n",
        "from sklearn.cluster import KMeans\n",
        "from sklearn.cluster import AgglomerativeClustering\n",
        "from sklearn.metrics import silhouette_score, calinski_harabasz_score, davies_bouldin_score\n",
        "from sklearn.feature_selection import SelectKBest, chi2\n",
        "from sklearn.model_selection import KFold"
      ],
      "metadata": {
        "id": "mWjYaMpeuBbU"
      },
      "execution_count": 171,
      "outputs": []
    },
    {
      "cell_type": "markdown",
      "source": [
        "## **Business Understanding**"
      ],
      "metadata": {
        "id": "OUdd335CO6d7"
      }
    },
    {
      "cell_type": "markdown",
      "source": [
        "### **Business Objective**"
      ],
      "metadata": {
        "id": "tEA5XrwAP0_U"
      }
    },
    {
      "cell_type": "markdown",
      "source": [
        "Perusahaan distribusi sparepart motor ingin meningkatkan efisiensi operasional dan strategi pemasaran perusahaan untuk memenuhi kebutuhan pelanggan dengan lebih baik. Untuk memenuhi hal tersebut, perusahaan melakukan analisis dengan memprediksi penjualan produk sparepart. Dengan memprediksi penjualan produk sparepart motor dimasa mendatang, perusahaan dapat mengoptimalkan manajemen stok produk. Hal ini akan membantu perusahaan untuk menghindari stok berlebih yang dapat mengakibatkan pengeluaran yang tidak perlu, serta mengurangi risiko kekurangan barang yang menyebabkan mengecewakan pelanggan."
      ],
      "metadata": {
        "id": "4sKk42WXQ2lQ"
      }
    },
    {
      "cell_type": "markdown",
      "source": [
        "### **Assess Situation**"
      ],
      "metadata": {
        "id": "wGdvtYfyP8Sy"
      }
    },
    {
      "cell_type": "markdown",
      "source": [
        "Perusahaan menghadapi tantangan dalam memperkirakan permintaan sparepart motor dengan akurat, yang dapat menyebabkan stok berlebih atau kekurangan barang. Selain itu, perusahaan ingin memanfaatkan data penjualan sparepart motor untuk menganalisis pola dan tren penjualan perusahaan. Hal ini agar perusahaan dapat merencanakan strategi pemasaran yang lebih efektif dan mengambil keputusan yang lebih baik dalam memanajemen stok produk."
      ],
      "metadata": {
        "id": "NHNLarthQ9mE"
      }
    },
    {
      "cell_type": "markdown",
      "source": [
        "### **Data Mining Goals**"
      ],
      "metadata": {
        "id": "WrBtLtT1QD-N"
      }
    },
    {
      "cell_type": "markdown",
      "source": [
        "Tujuan analisis data dilakukan untuk mengembangkan model prediksi untuk memperkirakan penjualan sparepart motor di masa mendatang berdasarkan data penjualan sparepart motor. Selain itu, model prediksi dikembangkan agar dapat membantu perusahaan dalam mengidentifikasi pola penjualan serta memprediksi permintaan di masa mendatang dengan tingkat akurasi yang tinggi. Sehingga, perusahaan dapat mengoptimalkan persediaan stok produk, meningkatkan efisiensi operasional, dan meningkatkan kepuasan pelanggan."
      ],
      "metadata": {
        "id": "HfQ0_DppRCaJ"
      }
    },
    {
      "cell_type": "markdown",
      "source": [
        "### **Project Plan**"
      ],
      "metadata": {
        "id": "SsmRM_1DQGqS"
      }
    },
    {
      "cell_type": "markdown",
      "source": [
        "Perencanaan proyek yang dilakukan pertama kali adalah dengan mengumpulkan data penjualan sparepart motor dari sumber yang tersedia. Kemudian, dari data tersebut di proses dan di analisis karakteristik serta pola dari data tersebut untuk mengidentifikasi tren penjualan.  Selanjutnya, dilakukan eksplorasi data yang berfokus pada hubungan antara variabel dalam data tersebut dan mengevaluasi data untuk mengetahui keakuratan dan kelengkapan informasi penjualan, lalu melakukan pengembangan model prediktif. Rencana proyek ini dilakukan untuk memastikan bahwa proyek yang dilakukan akan menghasilkan hasil yang relevan dan bermanfaat bagi perusahaan."
      ],
      "metadata": {
        "id": "t_wsbgn3RIrv"
      }
    },
    {
      "cell_type": "markdown",
      "source": [
        "## **Data Understanding**"
      ],
      "metadata": {
        "id": "82BDXtFlPSGx"
      }
    },
    {
      "cell_type": "markdown",
      "source": [
        "### **Collect Initial Data**"
      ],
      "metadata": {
        "id": "Q53glOVBQL3n"
      }
    },
    {
      "cell_type": "markdown",
      "source": [
        "Sumber data yang digunakan dalam analisis ini adalah dataset penjualan sparepart motor sebagai data publik yang di dapatkan melalui website kaggle. Lalu, dataset yang telah diunduh dari kaggle di ekspor pada github yang nantinya digunakan dalam analisis ini.\n",
        "\n",
        "**Link Dataset Kaggle:**\n",
        "\n",
        "* https://www.kaggle.com/datasets/devijeganath/motorcycle-sales-analysis/data?select=sales_data.csv\n",
        "\n",
        "\n",
        "**Link Dataset Github:**\n",
        "* https://raw.githubusercontent.com/muthmainnahaisyah/DATMIN_MINI_PROJECT/main/sales_data.csv\n"
      ],
      "metadata": {
        "id": "DOHAHggyU8tN"
      }
    },
    {
      "cell_type": "code",
      "source": [
        "df = pd.read_csv('https://raw.githubusercontent.com/muthmainnahaisyah/DATMIN_MINI_PROJECT/main/sales_data.csv')\n",
        "df.head()"
      ],
      "metadata": {
        "id": "AljLwdG0UaNw",
        "colab": {
          "base_uri": "https://localhost:8080/",
          "height": 206
        },
        "outputId": "d2cd9914-e151-431b-84a9-39ce78255bad"
      },
      "execution_count": 121,
      "outputs": [
        {
          "output_type": "execute_result",
          "data": {
            "text/plain": [
              "         date warehouse client_type           product_line  quantity  \\\n",
              "0  2021-06-01   Central      Retail          Miscellaneous         8   \n",
              "1  2021-06-01     North      Retail        Breaking system         9   \n",
              "2  2021-06-01     North      Retail  Suspension & traction         8   \n",
              "3  2021-06-01     North   Wholesale           Frame & body        16   \n",
              "4  2021-06-01   Central      Retail                 Engine         2   \n",
              "\n",
              "   unit_price   total      payment  \n",
              "0       16.85  134.83  Credit card  \n",
              "1       19.29  173.61         Cash  \n",
              "2       32.93  263.45  Credit card  \n",
              "3       37.84  605.44     Transfer  \n",
              "4       60.48  120.96  Credit card  "
            ],
            "text/html": [
              "\n",
              "  <div id=\"df-2ad8f8bc-f7ae-4702-b955-ff6ba10c30f8\" class=\"colab-df-container\">\n",
              "    <div>\n",
              "<style scoped>\n",
              "    .dataframe tbody tr th:only-of-type {\n",
              "        vertical-align: middle;\n",
              "    }\n",
              "\n",
              "    .dataframe tbody tr th {\n",
              "        vertical-align: top;\n",
              "    }\n",
              "\n",
              "    .dataframe thead th {\n",
              "        text-align: right;\n",
              "    }\n",
              "</style>\n",
              "<table border=\"1\" class=\"dataframe\">\n",
              "  <thead>\n",
              "    <tr style=\"text-align: right;\">\n",
              "      <th></th>\n",
              "      <th>date</th>\n",
              "      <th>warehouse</th>\n",
              "      <th>client_type</th>\n",
              "      <th>product_line</th>\n",
              "      <th>quantity</th>\n",
              "      <th>unit_price</th>\n",
              "      <th>total</th>\n",
              "      <th>payment</th>\n",
              "    </tr>\n",
              "  </thead>\n",
              "  <tbody>\n",
              "    <tr>\n",
              "      <th>0</th>\n",
              "      <td>2021-06-01</td>\n",
              "      <td>Central</td>\n",
              "      <td>Retail</td>\n",
              "      <td>Miscellaneous</td>\n",
              "      <td>8</td>\n",
              "      <td>16.85</td>\n",
              "      <td>134.83</td>\n",
              "      <td>Credit card</td>\n",
              "    </tr>\n",
              "    <tr>\n",
              "      <th>1</th>\n",
              "      <td>2021-06-01</td>\n",
              "      <td>North</td>\n",
              "      <td>Retail</td>\n",
              "      <td>Breaking system</td>\n",
              "      <td>9</td>\n",
              "      <td>19.29</td>\n",
              "      <td>173.61</td>\n",
              "      <td>Cash</td>\n",
              "    </tr>\n",
              "    <tr>\n",
              "      <th>2</th>\n",
              "      <td>2021-06-01</td>\n",
              "      <td>North</td>\n",
              "      <td>Retail</td>\n",
              "      <td>Suspension &amp; traction</td>\n",
              "      <td>8</td>\n",
              "      <td>32.93</td>\n",
              "      <td>263.45</td>\n",
              "      <td>Credit card</td>\n",
              "    </tr>\n",
              "    <tr>\n",
              "      <th>3</th>\n",
              "      <td>2021-06-01</td>\n",
              "      <td>North</td>\n",
              "      <td>Wholesale</td>\n",
              "      <td>Frame &amp; body</td>\n",
              "      <td>16</td>\n",
              "      <td>37.84</td>\n",
              "      <td>605.44</td>\n",
              "      <td>Transfer</td>\n",
              "    </tr>\n",
              "    <tr>\n",
              "      <th>4</th>\n",
              "      <td>2021-06-01</td>\n",
              "      <td>Central</td>\n",
              "      <td>Retail</td>\n",
              "      <td>Engine</td>\n",
              "      <td>2</td>\n",
              "      <td>60.48</td>\n",
              "      <td>120.96</td>\n",
              "      <td>Credit card</td>\n",
              "    </tr>\n",
              "  </tbody>\n",
              "</table>\n",
              "</div>\n",
              "    <div class=\"colab-df-buttons\">\n",
              "\n",
              "  <div class=\"colab-df-container\">\n",
              "    <button class=\"colab-df-convert\" onclick=\"convertToInteractive('df-2ad8f8bc-f7ae-4702-b955-ff6ba10c30f8')\"\n",
              "            title=\"Convert this dataframe to an interactive table.\"\n",
              "            style=\"display:none;\">\n",
              "\n",
              "  <svg xmlns=\"http://www.w3.org/2000/svg\" height=\"24px\" viewBox=\"0 -960 960 960\">\n",
              "    <path d=\"M120-120v-720h720v720H120Zm60-500h600v-160H180v160Zm220 220h160v-160H400v160Zm0 220h160v-160H400v160ZM180-400h160v-160H180v160Zm440 0h160v-160H620v160ZM180-180h160v-160H180v160Zm440 0h160v-160H620v160Z\"/>\n",
              "  </svg>\n",
              "    </button>\n",
              "\n",
              "  <style>\n",
              "    .colab-df-container {\n",
              "      display:flex;\n",
              "      gap: 12px;\n",
              "    }\n",
              "\n",
              "    .colab-df-convert {\n",
              "      background-color: #E8F0FE;\n",
              "      border: none;\n",
              "      border-radius: 50%;\n",
              "      cursor: pointer;\n",
              "      display: none;\n",
              "      fill: #1967D2;\n",
              "      height: 32px;\n",
              "      padding: 0 0 0 0;\n",
              "      width: 32px;\n",
              "    }\n",
              "\n",
              "    .colab-df-convert:hover {\n",
              "      background-color: #E2EBFA;\n",
              "      box-shadow: 0px 1px 2px rgba(60, 64, 67, 0.3), 0px 1px 3px 1px rgba(60, 64, 67, 0.15);\n",
              "      fill: #174EA6;\n",
              "    }\n",
              "\n",
              "    .colab-df-buttons div {\n",
              "      margin-bottom: 4px;\n",
              "    }\n",
              "\n",
              "    [theme=dark] .colab-df-convert {\n",
              "      background-color: #3B4455;\n",
              "      fill: #D2E3FC;\n",
              "    }\n",
              "\n",
              "    [theme=dark] .colab-df-convert:hover {\n",
              "      background-color: #434B5C;\n",
              "      box-shadow: 0px 1px 3px 1px rgba(0, 0, 0, 0.15);\n",
              "      filter: drop-shadow(0px 1px 2px rgba(0, 0, 0, 0.3));\n",
              "      fill: #FFFFFF;\n",
              "    }\n",
              "  </style>\n",
              "\n",
              "    <script>\n",
              "      const buttonEl =\n",
              "        document.querySelector('#df-2ad8f8bc-f7ae-4702-b955-ff6ba10c30f8 button.colab-df-convert');\n",
              "      buttonEl.style.display =\n",
              "        google.colab.kernel.accessAllowed ? 'block' : 'none';\n",
              "\n",
              "      async function convertToInteractive(key) {\n",
              "        const element = document.querySelector('#df-2ad8f8bc-f7ae-4702-b955-ff6ba10c30f8');\n",
              "        const dataTable =\n",
              "          await google.colab.kernel.invokeFunction('convertToInteractive',\n",
              "                                                    [key], {});\n",
              "        if (!dataTable) return;\n",
              "\n",
              "        const docLinkHtml = 'Like what you see? Visit the ' +\n",
              "          '<a target=\"_blank\" href=https://colab.research.google.com/notebooks/data_table.ipynb>data table notebook</a>'\n",
              "          + ' to learn more about interactive tables.';\n",
              "        element.innerHTML = '';\n",
              "        dataTable['output_type'] = 'display_data';\n",
              "        await google.colab.output.renderOutput(dataTable, element);\n",
              "        const docLink = document.createElement('div');\n",
              "        docLink.innerHTML = docLinkHtml;\n",
              "        element.appendChild(docLink);\n",
              "      }\n",
              "    </script>\n",
              "  </div>\n",
              "\n",
              "\n",
              "<div id=\"df-8bcbceb4-1aa0-4217-a2df-7d3122479637\">\n",
              "  <button class=\"colab-df-quickchart\" onclick=\"quickchart('df-8bcbceb4-1aa0-4217-a2df-7d3122479637')\"\n",
              "            title=\"Suggest charts\"\n",
              "            style=\"display:none;\">\n",
              "\n",
              "<svg xmlns=\"http://www.w3.org/2000/svg\" height=\"24px\"viewBox=\"0 0 24 24\"\n",
              "     width=\"24px\">\n",
              "    <g>\n",
              "        <path d=\"M19 3H5c-1.1 0-2 .9-2 2v14c0 1.1.9 2 2 2h14c1.1 0 2-.9 2-2V5c0-1.1-.9-2-2-2zM9 17H7v-7h2v7zm4 0h-2V7h2v10zm4 0h-2v-4h2v4z\"/>\n",
              "    </g>\n",
              "</svg>\n",
              "  </button>\n",
              "\n",
              "<style>\n",
              "  .colab-df-quickchart {\n",
              "      --bg-color: #E8F0FE;\n",
              "      --fill-color: #1967D2;\n",
              "      --hover-bg-color: #E2EBFA;\n",
              "      --hover-fill-color: #174EA6;\n",
              "      --disabled-fill-color: #AAA;\n",
              "      --disabled-bg-color: #DDD;\n",
              "  }\n",
              "\n",
              "  [theme=dark] .colab-df-quickchart {\n",
              "      --bg-color: #3B4455;\n",
              "      --fill-color: #D2E3FC;\n",
              "      --hover-bg-color: #434B5C;\n",
              "      --hover-fill-color: #FFFFFF;\n",
              "      --disabled-bg-color: #3B4455;\n",
              "      --disabled-fill-color: #666;\n",
              "  }\n",
              "\n",
              "  .colab-df-quickchart {\n",
              "    background-color: var(--bg-color);\n",
              "    border: none;\n",
              "    border-radius: 50%;\n",
              "    cursor: pointer;\n",
              "    display: none;\n",
              "    fill: var(--fill-color);\n",
              "    height: 32px;\n",
              "    padding: 0;\n",
              "    width: 32px;\n",
              "  }\n",
              "\n",
              "  .colab-df-quickchart:hover {\n",
              "    background-color: var(--hover-bg-color);\n",
              "    box-shadow: 0 1px 2px rgba(60, 64, 67, 0.3), 0 1px 3px 1px rgba(60, 64, 67, 0.15);\n",
              "    fill: var(--button-hover-fill-color);\n",
              "  }\n",
              "\n",
              "  .colab-df-quickchart-complete:disabled,\n",
              "  .colab-df-quickchart-complete:disabled:hover {\n",
              "    background-color: var(--disabled-bg-color);\n",
              "    fill: var(--disabled-fill-color);\n",
              "    box-shadow: none;\n",
              "  }\n",
              "\n",
              "  .colab-df-spinner {\n",
              "    border: 2px solid var(--fill-color);\n",
              "    border-color: transparent;\n",
              "    border-bottom-color: var(--fill-color);\n",
              "    animation:\n",
              "      spin 1s steps(1) infinite;\n",
              "  }\n",
              "\n",
              "  @keyframes spin {\n",
              "    0% {\n",
              "      border-color: transparent;\n",
              "      border-bottom-color: var(--fill-color);\n",
              "      border-left-color: var(--fill-color);\n",
              "    }\n",
              "    20% {\n",
              "      border-color: transparent;\n",
              "      border-left-color: var(--fill-color);\n",
              "      border-top-color: var(--fill-color);\n",
              "    }\n",
              "    30% {\n",
              "      border-color: transparent;\n",
              "      border-left-color: var(--fill-color);\n",
              "      border-top-color: var(--fill-color);\n",
              "      border-right-color: var(--fill-color);\n",
              "    }\n",
              "    40% {\n",
              "      border-color: transparent;\n",
              "      border-right-color: var(--fill-color);\n",
              "      border-top-color: var(--fill-color);\n",
              "    }\n",
              "    60% {\n",
              "      border-color: transparent;\n",
              "      border-right-color: var(--fill-color);\n",
              "    }\n",
              "    80% {\n",
              "      border-color: transparent;\n",
              "      border-right-color: var(--fill-color);\n",
              "      border-bottom-color: var(--fill-color);\n",
              "    }\n",
              "    90% {\n",
              "      border-color: transparent;\n",
              "      border-bottom-color: var(--fill-color);\n",
              "    }\n",
              "  }\n",
              "</style>\n",
              "\n",
              "  <script>\n",
              "    async function quickchart(key) {\n",
              "      const quickchartButtonEl =\n",
              "        document.querySelector('#' + key + ' button');\n",
              "      quickchartButtonEl.disabled = true;  // To prevent multiple clicks.\n",
              "      quickchartButtonEl.classList.add('colab-df-spinner');\n",
              "      try {\n",
              "        const charts = await google.colab.kernel.invokeFunction(\n",
              "            'suggestCharts', [key], {});\n",
              "      } catch (error) {\n",
              "        console.error('Error during call to suggestCharts:', error);\n",
              "      }\n",
              "      quickchartButtonEl.classList.remove('colab-df-spinner');\n",
              "      quickchartButtonEl.classList.add('colab-df-quickchart-complete');\n",
              "    }\n",
              "    (() => {\n",
              "      let quickchartButtonEl =\n",
              "        document.querySelector('#df-8bcbceb4-1aa0-4217-a2df-7d3122479637 button');\n",
              "      quickchartButtonEl.style.display =\n",
              "        google.colab.kernel.accessAllowed ? 'block' : 'none';\n",
              "    })();\n",
              "  </script>\n",
              "</div>\n",
              "    </div>\n",
              "  </div>\n"
            ],
            "application/vnd.google.colaboratory.intrinsic+json": {
              "type": "dataframe",
              "variable_name": "df",
              "summary": "{\n  \"name\": \"df\",\n  \"rows\": 1000,\n  \"fields\": [\n    {\n      \"column\": \"date\",\n      \"properties\": {\n        \"dtype\": \"object\",\n        \"num_unique_values\": 89,\n        \"samples\": [\n          \"2021-07-15\",\n          \"2021-07-24\",\n          \"2021-07-01\"\n        ],\n        \"semantic_type\": \"\",\n        \"description\": \"\"\n      }\n    },\n    {\n      \"column\": \"warehouse\",\n      \"properties\": {\n        \"dtype\": \"category\",\n        \"num_unique_values\": 3,\n        \"samples\": [\n          \"Central\",\n          \"North\",\n          \"West\"\n        ],\n        \"semantic_type\": \"\",\n        \"description\": \"\"\n      }\n    },\n    {\n      \"column\": \"client_type\",\n      \"properties\": {\n        \"dtype\": \"category\",\n        \"num_unique_values\": 2,\n        \"samples\": [\n          \"Wholesale\",\n          \"Retail\"\n        ],\n        \"semantic_type\": \"\",\n        \"description\": \"\"\n      }\n    },\n    {\n      \"column\": \"product_line\",\n      \"properties\": {\n        \"dtype\": \"category\",\n        \"num_unique_values\": 6,\n        \"samples\": [\n          \"Miscellaneous\",\n          \"Breaking system\"\n        ],\n        \"semantic_type\": \"\",\n        \"description\": \"\"\n      }\n    },\n    {\n      \"column\": \"quantity\",\n      \"properties\": {\n        \"dtype\": \"number\",\n        \"std\": 9,\n        \"min\": 1,\n        \"max\": 40,\n        \"num_unique_values\": 18,\n        \"samples\": [\n          8,\n          9\n        ],\n        \"semantic_type\": \"\",\n        \"description\": \"\"\n      }\n    },\n    {\n      \"column\": \"unit_price\",\n      \"properties\": {\n        \"dtype\": \"number\",\n        \"std\": 12.256488034397837,\n        \"min\": 10.03,\n        \"max\": 66.62,\n        \"num_unique_values\": 875,\n        \"samples\": [\n          40.67,\n          26.76\n        ],\n        \"semantic_type\": \"\",\n        \"description\": \"\"\n      }\n    },\n    {\n      \"column\": \"total\",\n      \"properties\": {\n        \"dtype\": \"number\",\n        \"std\": 345.2275964463851,\n        \"min\": 10.35,\n        \"max\": 2546.33,\n        \"num_unique_values\": 990,\n        \"samples\": [\n          115.15,\n          28.83\n        ],\n        \"semantic_type\": \"\",\n        \"description\": \"\"\n      }\n    },\n    {\n      \"column\": \"payment\",\n      \"properties\": {\n        \"dtype\": \"category\",\n        \"num_unique_values\": 3,\n        \"samples\": [\n          \"Credit card\",\n          \"Cash\"\n        ],\n        \"semantic_type\": \"\",\n        \"description\": \"\"\n      }\n    }\n  ]\n}"
            }
          },
          "metadata": {},
          "execution_count": 121
        }
      ]
    },
    {
      "cell_type": "markdown",
      "source": [
        "### **Describe Data**"
      ],
      "metadata": {
        "id": "jqUVvChEQQao"
      }
    },
    {
      "cell_type": "markdown",
      "source": [
        "#### **Informasi Dasar**"
      ],
      "metadata": {
        "id": "93Gv08t-YWmn"
      }
    },
    {
      "cell_type": "code",
      "source": [
        "num_rows, num_columns = df.shape\n",
        "\n",
        "print(f\"Jumlah Baris: {num_rows}\")\n",
        "print(f\"Jumlah Kolom: {num_columns}\")"
      ],
      "metadata": {
        "colab": {
          "base_uri": "https://localhost:8080/"
        },
        "id": "_z6vhD0kmBJs",
        "outputId": "179d4e68-b17e-4da1-d7a3-e99815a76467"
      },
      "execution_count": 122,
      "outputs": [
        {
          "output_type": "stream",
          "name": "stdout",
          "text": [
            "Jumlah Baris: 1000\n",
            "Jumlah Kolom: 8\n"
          ]
        }
      ]
    },
    {
      "cell_type": "markdown",
      "source": [
        "Dalam dataset penjualan sparepart motor terdiri dari **1000 baris** dan **8 kolom**. Maksudnya disini adalah terdapat sejumlah **1000 record** data penjualan sparepart motor dengan mencakup **8 kolom**."
      ],
      "metadata": {
        "id": "xKp6ktIcrmZe"
      }
    },
    {
      "cell_type": "code",
      "source": [
        "df.count()"
      ],
      "metadata": {
        "colab": {
          "base_uri": "https://localhost:8080/"
        },
        "id": "q-B9aW60wHSS",
        "outputId": "a0fb83c3-bc4d-4e1e-cb8b-ec07f3144009"
      },
      "execution_count": 123,
      "outputs": [
        {
          "output_type": "execute_result",
          "data": {
            "text/plain": [
              "date            1000\n",
              "warehouse       1000\n",
              "client_type     1000\n",
              "product_line    1000\n",
              "quantity        1000\n",
              "unit_price      1000\n",
              "total           1000\n",
              "payment         1000\n",
              "dtype: int64"
            ]
          },
          "metadata": {},
          "execution_count": 123
        }
      ]
    },
    {
      "cell_type": "markdown",
      "source": [
        "Dengan fungsi count() ditampilkan jumlah record pada setiap kolom. Jadi, ditampilkan nama-nama kolom pada dataset dan dapat dilihat pada setiap kolom terdapat record data yang sama, yaitu **1000**."
      ],
      "metadata": {
        "id": "mJcJpZeewSfa"
      }
    },
    {
      "cell_type": "markdown",
      "source": [
        "#### **Informasi Lanjutan**"
      ],
      "metadata": {
        "id": "9zWa-cVxYihd"
      }
    },
    {
      "cell_type": "code",
      "source": [
        "df.info()"
      ],
      "metadata": {
        "colab": {
          "base_uri": "https://localhost:8080/"
        },
        "id": "Cpv7pqchmCFN",
        "outputId": "b912aeb7-dbca-42f1-960c-203022cd880b"
      },
      "execution_count": 124,
      "outputs": [
        {
          "output_type": "stream",
          "name": "stdout",
          "text": [
            "<class 'pandas.core.frame.DataFrame'>\n",
            "RangeIndex: 1000 entries, 0 to 999\n",
            "Data columns (total 8 columns):\n",
            " #   Column        Non-Null Count  Dtype  \n",
            "---  ------        --------------  -----  \n",
            " 0   date          1000 non-null   object \n",
            " 1   warehouse     1000 non-null   object \n",
            " 2   client_type   1000 non-null   object \n",
            " 3   product_line  1000 non-null   object \n",
            " 4   quantity      1000 non-null   int64  \n",
            " 5   unit_price    1000 non-null   float64\n",
            " 6   total         1000 non-null   float64\n",
            " 7   payment       1000 non-null   object \n",
            "dtypes: float64(2), int64(1), object(5)\n",
            "memory usage: 62.6+ KB\n"
          ]
        }
      ]
    },
    {
      "cell_type": "markdown",
      "source": [
        "Informasi lebih detail mengenai struktur dataset mencakup kolom, non-null count, dan tipe data. Total kolom dalam dataset penjualan sparepart motor adalah **8 kolom**. Tipe data dari kolom-kolom dalam dataset ini terdapat **3 jenis**, yaitu **object/string**, **integer**, dan **float**. Berikut adalah penjelasannya:\n",
        "\n",
        "\n",
        "1. **\"date\"** : Tanggal transaksi pembelian sparepart motor. Non-Null Countnya adalah 1000 dengan tipe data kolom adalah object/string.\n",
        "2. **\"warehouse\"** : Gudang penyimpanan produk. Non-Null Countnya adalah 1000 dengan tipe data kolom adalah object/string.\n",
        "3. **\"client_type\"** : Tipe pelanggan saat melakukan pembelian. Non-Null Countnya adalah 1000 dengan tipe data kolom adalah object/string.\n",
        "4. **\"product_line\"** : Jenis produk sparepart motor. Non-Null Countnya adalah 1000 dengan tipe data kolom adalah object/string.\n",
        "5. **\"quantity\"** : Jumlah unit dari setiap produk. Non-Null Countnya adalah 1000 dengan tipe data kolom adalah integer.\n",
        "6. **\"unit_price\"** : Harga satuan dari setiap produk. Non-Null Countnya adalah 1000 dengan tipe data kolom adalah float.\n",
        "7. **\"total\"** : Total harga transaksi. Non-Null Countnya adalah 1000 dengan tipe data kolom adalah float.\n",
        "8. **\"payment\"** : Jenis pembayaran saat transaksi. Non-Null Countnya adalah 1000 dengan tipe data kolom adalah object/string.\n",
        "\n"
      ],
      "metadata": {
        "id": "ompwM7a4uVkG"
      }
    },
    {
      "cell_type": "markdown",
      "source": [
        "#### **Informasi Statistik Deskriptif**"
      ],
      "metadata": {
        "id": "hcL2WvWmYnAR"
      }
    },
    {
      "cell_type": "markdown",
      "source": [
        "##### Data Numerik"
      ],
      "metadata": {
        "id": "mxkoNrrEuHpj"
      }
    },
    {
      "cell_type": "code",
      "source": [
        "df.describe()"
      ],
      "metadata": {
        "colab": {
          "base_uri": "https://localhost:8080/",
          "height": 300
        },
        "id": "IHWb5W5xF7LK",
        "outputId": "0bed89b6-9722-4b91-9197-b5e23e9a6dd3"
      },
      "execution_count": 125,
      "outputs": [
        {
          "output_type": "execute_result",
          "data": {
            "text/plain": [
              "          quantity   unit_price        total\n",
              "count  1000.000000  1000.000000  1000.000000\n",
              "mean      9.395000    30.322040   289.113000\n",
              "std       9.659207    12.256488   345.227596\n",
              "min       1.000000    10.030000    10.350000\n",
              "25%       4.000000    21.085000    93.687500\n",
              "50%       6.500000    28.570000   178.360000\n",
              "75%      10.000000    37.917500   321.690000\n",
              "max      40.000000    66.620000  2546.330000"
            ],
            "text/html": [
              "\n",
              "  <div id=\"df-949c7d01-6f26-4209-bbc3-a47161447127\" class=\"colab-df-container\">\n",
              "    <div>\n",
              "<style scoped>\n",
              "    .dataframe tbody tr th:only-of-type {\n",
              "        vertical-align: middle;\n",
              "    }\n",
              "\n",
              "    .dataframe tbody tr th {\n",
              "        vertical-align: top;\n",
              "    }\n",
              "\n",
              "    .dataframe thead th {\n",
              "        text-align: right;\n",
              "    }\n",
              "</style>\n",
              "<table border=\"1\" class=\"dataframe\">\n",
              "  <thead>\n",
              "    <tr style=\"text-align: right;\">\n",
              "      <th></th>\n",
              "      <th>quantity</th>\n",
              "      <th>unit_price</th>\n",
              "      <th>total</th>\n",
              "    </tr>\n",
              "  </thead>\n",
              "  <tbody>\n",
              "    <tr>\n",
              "      <th>count</th>\n",
              "      <td>1000.000000</td>\n",
              "      <td>1000.000000</td>\n",
              "      <td>1000.000000</td>\n",
              "    </tr>\n",
              "    <tr>\n",
              "      <th>mean</th>\n",
              "      <td>9.395000</td>\n",
              "      <td>30.322040</td>\n",
              "      <td>289.113000</td>\n",
              "    </tr>\n",
              "    <tr>\n",
              "      <th>std</th>\n",
              "      <td>9.659207</td>\n",
              "      <td>12.256488</td>\n",
              "      <td>345.227596</td>\n",
              "    </tr>\n",
              "    <tr>\n",
              "      <th>min</th>\n",
              "      <td>1.000000</td>\n",
              "      <td>10.030000</td>\n",
              "      <td>10.350000</td>\n",
              "    </tr>\n",
              "    <tr>\n",
              "      <th>25%</th>\n",
              "      <td>4.000000</td>\n",
              "      <td>21.085000</td>\n",
              "      <td>93.687500</td>\n",
              "    </tr>\n",
              "    <tr>\n",
              "      <th>50%</th>\n",
              "      <td>6.500000</td>\n",
              "      <td>28.570000</td>\n",
              "      <td>178.360000</td>\n",
              "    </tr>\n",
              "    <tr>\n",
              "      <th>75%</th>\n",
              "      <td>10.000000</td>\n",
              "      <td>37.917500</td>\n",
              "      <td>321.690000</td>\n",
              "    </tr>\n",
              "    <tr>\n",
              "      <th>max</th>\n",
              "      <td>40.000000</td>\n",
              "      <td>66.620000</td>\n",
              "      <td>2546.330000</td>\n",
              "    </tr>\n",
              "  </tbody>\n",
              "</table>\n",
              "</div>\n",
              "    <div class=\"colab-df-buttons\">\n",
              "\n",
              "  <div class=\"colab-df-container\">\n",
              "    <button class=\"colab-df-convert\" onclick=\"convertToInteractive('df-949c7d01-6f26-4209-bbc3-a47161447127')\"\n",
              "            title=\"Convert this dataframe to an interactive table.\"\n",
              "            style=\"display:none;\">\n",
              "\n",
              "  <svg xmlns=\"http://www.w3.org/2000/svg\" height=\"24px\" viewBox=\"0 -960 960 960\">\n",
              "    <path d=\"M120-120v-720h720v720H120Zm60-500h600v-160H180v160Zm220 220h160v-160H400v160Zm0 220h160v-160H400v160ZM180-400h160v-160H180v160Zm440 0h160v-160H620v160ZM180-180h160v-160H180v160Zm440 0h160v-160H620v160Z\"/>\n",
              "  </svg>\n",
              "    </button>\n",
              "\n",
              "  <style>\n",
              "    .colab-df-container {\n",
              "      display:flex;\n",
              "      gap: 12px;\n",
              "    }\n",
              "\n",
              "    .colab-df-convert {\n",
              "      background-color: #E8F0FE;\n",
              "      border: none;\n",
              "      border-radius: 50%;\n",
              "      cursor: pointer;\n",
              "      display: none;\n",
              "      fill: #1967D2;\n",
              "      height: 32px;\n",
              "      padding: 0 0 0 0;\n",
              "      width: 32px;\n",
              "    }\n",
              "\n",
              "    .colab-df-convert:hover {\n",
              "      background-color: #E2EBFA;\n",
              "      box-shadow: 0px 1px 2px rgba(60, 64, 67, 0.3), 0px 1px 3px 1px rgba(60, 64, 67, 0.15);\n",
              "      fill: #174EA6;\n",
              "    }\n",
              "\n",
              "    .colab-df-buttons div {\n",
              "      margin-bottom: 4px;\n",
              "    }\n",
              "\n",
              "    [theme=dark] .colab-df-convert {\n",
              "      background-color: #3B4455;\n",
              "      fill: #D2E3FC;\n",
              "    }\n",
              "\n",
              "    [theme=dark] .colab-df-convert:hover {\n",
              "      background-color: #434B5C;\n",
              "      box-shadow: 0px 1px 3px 1px rgba(0, 0, 0, 0.15);\n",
              "      filter: drop-shadow(0px 1px 2px rgba(0, 0, 0, 0.3));\n",
              "      fill: #FFFFFF;\n",
              "    }\n",
              "  </style>\n",
              "\n",
              "    <script>\n",
              "      const buttonEl =\n",
              "        document.querySelector('#df-949c7d01-6f26-4209-bbc3-a47161447127 button.colab-df-convert');\n",
              "      buttonEl.style.display =\n",
              "        google.colab.kernel.accessAllowed ? 'block' : 'none';\n",
              "\n",
              "      async function convertToInteractive(key) {\n",
              "        const element = document.querySelector('#df-949c7d01-6f26-4209-bbc3-a47161447127');\n",
              "        const dataTable =\n",
              "          await google.colab.kernel.invokeFunction('convertToInteractive',\n",
              "                                                    [key], {});\n",
              "        if (!dataTable) return;\n",
              "\n",
              "        const docLinkHtml = 'Like what you see? Visit the ' +\n",
              "          '<a target=\"_blank\" href=https://colab.research.google.com/notebooks/data_table.ipynb>data table notebook</a>'\n",
              "          + ' to learn more about interactive tables.';\n",
              "        element.innerHTML = '';\n",
              "        dataTable['output_type'] = 'display_data';\n",
              "        await google.colab.output.renderOutput(dataTable, element);\n",
              "        const docLink = document.createElement('div');\n",
              "        docLink.innerHTML = docLinkHtml;\n",
              "        element.appendChild(docLink);\n",
              "      }\n",
              "    </script>\n",
              "  </div>\n",
              "\n",
              "\n",
              "<div id=\"df-87655490-17b3-4647-b9d2-9c7a53bb7f3a\">\n",
              "  <button class=\"colab-df-quickchart\" onclick=\"quickchart('df-87655490-17b3-4647-b9d2-9c7a53bb7f3a')\"\n",
              "            title=\"Suggest charts\"\n",
              "            style=\"display:none;\">\n",
              "\n",
              "<svg xmlns=\"http://www.w3.org/2000/svg\" height=\"24px\"viewBox=\"0 0 24 24\"\n",
              "     width=\"24px\">\n",
              "    <g>\n",
              "        <path d=\"M19 3H5c-1.1 0-2 .9-2 2v14c0 1.1.9 2 2 2h14c1.1 0 2-.9 2-2V5c0-1.1-.9-2-2-2zM9 17H7v-7h2v7zm4 0h-2V7h2v10zm4 0h-2v-4h2v4z\"/>\n",
              "    </g>\n",
              "</svg>\n",
              "  </button>\n",
              "\n",
              "<style>\n",
              "  .colab-df-quickchart {\n",
              "      --bg-color: #E8F0FE;\n",
              "      --fill-color: #1967D2;\n",
              "      --hover-bg-color: #E2EBFA;\n",
              "      --hover-fill-color: #174EA6;\n",
              "      --disabled-fill-color: #AAA;\n",
              "      --disabled-bg-color: #DDD;\n",
              "  }\n",
              "\n",
              "  [theme=dark] .colab-df-quickchart {\n",
              "      --bg-color: #3B4455;\n",
              "      --fill-color: #D2E3FC;\n",
              "      --hover-bg-color: #434B5C;\n",
              "      --hover-fill-color: #FFFFFF;\n",
              "      --disabled-bg-color: #3B4455;\n",
              "      --disabled-fill-color: #666;\n",
              "  }\n",
              "\n",
              "  .colab-df-quickchart {\n",
              "    background-color: var(--bg-color);\n",
              "    border: none;\n",
              "    border-radius: 50%;\n",
              "    cursor: pointer;\n",
              "    display: none;\n",
              "    fill: var(--fill-color);\n",
              "    height: 32px;\n",
              "    padding: 0;\n",
              "    width: 32px;\n",
              "  }\n",
              "\n",
              "  .colab-df-quickchart:hover {\n",
              "    background-color: var(--hover-bg-color);\n",
              "    box-shadow: 0 1px 2px rgba(60, 64, 67, 0.3), 0 1px 3px 1px rgba(60, 64, 67, 0.15);\n",
              "    fill: var(--button-hover-fill-color);\n",
              "  }\n",
              "\n",
              "  .colab-df-quickchart-complete:disabled,\n",
              "  .colab-df-quickchart-complete:disabled:hover {\n",
              "    background-color: var(--disabled-bg-color);\n",
              "    fill: var(--disabled-fill-color);\n",
              "    box-shadow: none;\n",
              "  }\n",
              "\n",
              "  .colab-df-spinner {\n",
              "    border: 2px solid var(--fill-color);\n",
              "    border-color: transparent;\n",
              "    border-bottom-color: var(--fill-color);\n",
              "    animation:\n",
              "      spin 1s steps(1) infinite;\n",
              "  }\n",
              "\n",
              "  @keyframes spin {\n",
              "    0% {\n",
              "      border-color: transparent;\n",
              "      border-bottom-color: var(--fill-color);\n",
              "      border-left-color: var(--fill-color);\n",
              "    }\n",
              "    20% {\n",
              "      border-color: transparent;\n",
              "      border-left-color: var(--fill-color);\n",
              "      border-top-color: var(--fill-color);\n",
              "    }\n",
              "    30% {\n",
              "      border-color: transparent;\n",
              "      border-left-color: var(--fill-color);\n",
              "      border-top-color: var(--fill-color);\n",
              "      border-right-color: var(--fill-color);\n",
              "    }\n",
              "    40% {\n",
              "      border-color: transparent;\n",
              "      border-right-color: var(--fill-color);\n",
              "      border-top-color: var(--fill-color);\n",
              "    }\n",
              "    60% {\n",
              "      border-color: transparent;\n",
              "      border-right-color: var(--fill-color);\n",
              "    }\n",
              "    80% {\n",
              "      border-color: transparent;\n",
              "      border-right-color: var(--fill-color);\n",
              "      border-bottom-color: var(--fill-color);\n",
              "    }\n",
              "    90% {\n",
              "      border-color: transparent;\n",
              "      border-bottom-color: var(--fill-color);\n",
              "    }\n",
              "  }\n",
              "</style>\n",
              "\n",
              "  <script>\n",
              "    async function quickchart(key) {\n",
              "      const quickchartButtonEl =\n",
              "        document.querySelector('#' + key + ' button');\n",
              "      quickchartButtonEl.disabled = true;  // To prevent multiple clicks.\n",
              "      quickchartButtonEl.classList.add('colab-df-spinner');\n",
              "      try {\n",
              "        const charts = await google.colab.kernel.invokeFunction(\n",
              "            'suggestCharts', [key], {});\n",
              "      } catch (error) {\n",
              "        console.error('Error during call to suggestCharts:', error);\n",
              "      }\n",
              "      quickchartButtonEl.classList.remove('colab-df-spinner');\n",
              "      quickchartButtonEl.classList.add('colab-df-quickchart-complete');\n",
              "    }\n",
              "    (() => {\n",
              "      let quickchartButtonEl =\n",
              "        document.querySelector('#df-87655490-17b3-4647-b9d2-9c7a53bb7f3a button');\n",
              "      quickchartButtonEl.style.display =\n",
              "        google.colab.kernel.accessAllowed ? 'block' : 'none';\n",
              "    })();\n",
              "  </script>\n",
              "</div>\n",
              "    </div>\n",
              "  </div>\n"
            ],
            "application/vnd.google.colaboratory.intrinsic+json": {
              "type": "dataframe",
              "summary": "{\n  \"name\": \"df\",\n  \"rows\": 8,\n  \"fields\": [\n    {\n      \"column\": \"quantity\",\n      \"properties\": {\n        \"dtype\": \"number\",\n        \"std\": 349.69193423463753,\n        \"min\": 1.0,\n        \"max\": 1000.0,\n        \"num_unique_values\": 8,\n        \"samples\": [\n          9.395,\n          6.5,\n          1000.0\n        ],\n        \"semantic_type\": \"\",\n        \"description\": \"\"\n      }\n    },\n    {\n      \"column\": \"unit_price\",\n      \"properties\": {\n        \"dtype\": \"number\",\n        \"std\": 343.565535790655,\n        \"min\": 10.03,\n        \"max\": 1000.0,\n        \"num_unique_values\": 8,\n        \"samples\": [\n          30.32204,\n          28.57,\n          1000.0\n        ],\n        \"semantic_type\": \"\",\n        \"description\": \"\"\n      }\n    },\n    {\n      \"column\": \"total\",\n      \"properties\": {\n        \"dtype\": \"number\",\n        \"std\": 842.5308260307787,\n        \"min\": 10.35,\n        \"max\": 2546.33,\n        \"num_unique_values\": 8,\n        \"samples\": [\n          289.113,\n          178.36,\n          1000.0\n        ],\n        \"semantic_type\": \"\",\n        \"description\": \"\"\n      }\n    }\n  ]\n}"
            }
          },
          "metadata": {},
          "execution_count": 125
        }
      ]
    },
    {
      "cell_type": "markdown",
      "source": [
        "Dalam dataset penjualan sparepart motor terdapat kolom yang memiliki nilai numerik. Kolom yang memiliki nilai numerik adalah kolom quantity, unit_price, dan total. Berdasarkan hasil diatas, dapat diketahui **jumlah nilai (count)**, **jumlah rata-rata (mean)**, **standar deviasi (std)**, **nilai minimum (min)**, **nilai percentile (terbagi menjadi tiga, yaitu 25%, 50%, dan 75%)**, dan **nilai maksimum (max)** yang dijabarkan pada tiap kolom numerik yang ada dalam dataset. Berikut penjelasannya:\n",
        "\n",
        "1. **\"quantity\"** : nilai count adalah 1000.000000, nilai mean adalah 9.395000, nilai std adalah 9.659207, nilai min adalah 1.000000, nilai percentile 25% adalah 4.000000, nilai percentile 50% adalah 6.500000, nilai percentile 75% adalah 10.000000, dan nilai max adalah 40.000000.\n",
        "2. **\"unit_price\"** : nilai count adalah 1000.000000, nilai mean adalah 30.322040, nilai std adalah 12.256488, nilai min adalah 10.030000, nilai percentile 25% adalah 21.085000, nilai percentile 50% adalah 28.570000, nilai percentile 75% adalah 37.917500, dan nilai max adalah 66.620000.\n",
        "3. **\"total\"** : nilai count adalah 1000.000000, nilai mean adalah 289.113000, nilai std adalah 345.227596, nilai min adalah 10.350000, nilai percentile 25% adalah 93.687500, nilai percentile 50% adalah 178.360000, nilai percentile 75% adalah 321.690000, dan nilai max adalah 2546.330000."
      ],
      "metadata": {
        "id": "wCqljioUNnjH"
      }
    },
    {
      "cell_type": "markdown",
      "source": [
        "##### Data Kategorikal"
      ],
      "metadata": {
        "id": "ClPGfrTSuJiR"
      }
    },
    {
      "cell_type": "code",
      "source": [
        "df.describe(exclude = np.number)"
      ],
      "metadata": {
        "colab": {
          "base_uri": "https://localhost:8080/",
          "height": 174
        },
        "id": "3ubyJyzBHUyI",
        "outputId": "a2a60ed4-30f7-4f29-fe3d-8d608349ae15"
      },
      "execution_count": 126,
      "outputs": [
        {
          "output_type": "execute_result",
          "data": {
            "text/plain": [
              "              date warehouse client_type     product_line      payment\n",
              "count         1000      1000        1000             1000         1000\n",
              "unique          89         3           2                6            3\n",
              "top     2021-07-08   Central      Retail  Breaking system  Credit card\n",
              "freq            20       480         775              230          659"
            ],
            "text/html": [
              "\n",
              "  <div id=\"df-c2f88661-706d-476f-84f0-d7c1a0ade2c8\" class=\"colab-df-container\">\n",
              "    <div>\n",
              "<style scoped>\n",
              "    .dataframe tbody tr th:only-of-type {\n",
              "        vertical-align: middle;\n",
              "    }\n",
              "\n",
              "    .dataframe tbody tr th {\n",
              "        vertical-align: top;\n",
              "    }\n",
              "\n",
              "    .dataframe thead th {\n",
              "        text-align: right;\n",
              "    }\n",
              "</style>\n",
              "<table border=\"1\" class=\"dataframe\">\n",
              "  <thead>\n",
              "    <tr style=\"text-align: right;\">\n",
              "      <th></th>\n",
              "      <th>date</th>\n",
              "      <th>warehouse</th>\n",
              "      <th>client_type</th>\n",
              "      <th>product_line</th>\n",
              "      <th>payment</th>\n",
              "    </tr>\n",
              "  </thead>\n",
              "  <tbody>\n",
              "    <tr>\n",
              "      <th>count</th>\n",
              "      <td>1000</td>\n",
              "      <td>1000</td>\n",
              "      <td>1000</td>\n",
              "      <td>1000</td>\n",
              "      <td>1000</td>\n",
              "    </tr>\n",
              "    <tr>\n",
              "      <th>unique</th>\n",
              "      <td>89</td>\n",
              "      <td>3</td>\n",
              "      <td>2</td>\n",
              "      <td>6</td>\n",
              "      <td>3</td>\n",
              "    </tr>\n",
              "    <tr>\n",
              "      <th>top</th>\n",
              "      <td>2021-07-08</td>\n",
              "      <td>Central</td>\n",
              "      <td>Retail</td>\n",
              "      <td>Breaking system</td>\n",
              "      <td>Credit card</td>\n",
              "    </tr>\n",
              "    <tr>\n",
              "      <th>freq</th>\n",
              "      <td>20</td>\n",
              "      <td>480</td>\n",
              "      <td>775</td>\n",
              "      <td>230</td>\n",
              "      <td>659</td>\n",
              "    </tr>\n",
              "  </tbody>\n",
              "</table>\n",
              "</div>\n",
              "    <div class=\"colab-df-buttons\">\n",
              "\n",
              "  <div class=\"colab-df-container\">\n",
              "    <button class=\"colab-df-convert\" onclick=\"convertToInteractive('df-c2f88661-706d-476f-84f0-d7c1a0ade2c8')\"\n",
              "            title=\"Convert this dataframe to an interactive table.\"\n",
              "            style=\"display:none;\">\n",
              "\n",
              "  <svg xmlns=\"http://www.w3.org/2000/svg\" height=\"24px\" viewBox=\"0 -960 960 960\">\n",
              "    <path d=\"M120-120v-720h720v720H120Zm60-500h600v-160H180v160Zm220 220h160v-160H400v160Zm0 220h160v-160H400v160ZM180-400h160v-160H180v160Zm440 0h160v-160H620v160ZM180-180h160v-160H180v160Zm440 0h160v-160H620v160Z\"/>\n",
              "  </svg>\n",
              "    </button>\n",
              "\n",
              "  <style>\n",
              "    .colab-df-container {\n",
              "      display:flex;\n",
              "      gap: 12px;\n",
              "    }\n",
              "\n",
              "    .colab-df-convert {\n",
              "      background-color: #E8F0FE;\n",
              "      border: none;\n",
              "      border-radius: 50%;\n",
              "      cursor: pointer;\n",
              "      display: none;\n",
              "      fill: #1967D2;\n",
              "      height: 32px;\n",
              "      padding: 0 0 0 0;\n",
              "      width: 32px;\n",
              "    }\n",
              "\n",
              "    .colab-df-convert:hover {\n",
              "      background-color: #E2EBFA;\n",
              "      box-shadow: 0px 1px 2px rgba(60, 64, 67, 0.3), 0px 1px 3px 1px rgba(60, 64, 67, 0.15);\n",
              "      fill: #174EA6;\n",
              "    }\n",
              "\n",
              "    .colab-df-buttons div {\n",
              "      margin-bottom: 4px;\n",
              "    }\n",
              "\n",
              "    [theme=dark] .colab-df-convert {\n",
              "      background-color: #3B4455;\n",
              "      fill: #D2E3FC;\n",
              "    }\n",
              "\n",
              "    [theme=dark] .colab-df-convert:hover {\n",
              "      background-color: #434B5C;\n",
              "      box-shadow: 0px 1px 3px 1px rgba(0, 0, 0, 0.15);\n",
              "      filter: drop-shadow(0px 1px 2px rgba(0, 0, 0, 0.3));\n",
              "      fill: #FFFFFF;\n",
              "    }\n",
              "  </style>\n",
              "\n",
              "    <script>\n",
              "      const buttonEl =\n",
              "        document.querySelector('#df-c2f88661-706d-476f-84f0-d7c1a0ade2c8 button.colab-df-convert');\n",
              "      buttonEl.style.display =\n",
              "        google.colab.kernel.accessAllowed ? 'block' : 'none';\n",
              "\n",
              "      async function convertToInteractive(key) {\n",
              "        const element = document.querySelector('#df-c2f88661-706d-476f-84f0-d7c1a0ade2c8');\n",
              "        const dataTable =\n",
              "          await google.colab.kernel.invokeFunction('convertToInteractive',\n",
              "                                                    [key], {});\n",
              "        if (!dataTable) return;\n",
              "\n",
              "        const docLinkHtml = 'Like what you see? Visit the ' +\n",
              "          '<a target=\"_blank\" href=https://colab.research.google.com/notebooks/data_table.ipynb>data table notebook</a>'\n",
              "          + ' to learn more about interactive tables.';\n",
              "        element.innerHTML = '';\n",
              "        dataTable['output_type'] = 'display_data';\n",
              "        await google.colab.output.renderOutput(dataTable, element);\n",
              "        const docLink = document.createElement('div');\n",
              "        docLink.innerHTML = docLinkHtml;\n",
              "        element.appendChild(docLink);\n",
              "      }\n",
              "    </script>\n",
              "  </div>\n",
              "\n",
              "\n",
              "<div id=\"df-30c4e0da-5f92-43a7-a351-350466d255e1\">\n",
              "  <button class=\"colab-df-quickchart\" onclick=\"quickchart('df-30c4e0da-5f92-43a7-a351-350466d255e1')\"\n",
              "            title=\"Suggest charts\"\n",
              "            style=\"display:none;\">\n",
              "\n",
              "<svg xmlns=\"http://www.w3.org/2000/svg\" height=\"24px\"viewBox=\"0 0 24 24\"\n",
              "     width=\"24px\">\n",
              "    <g>\n",
              "        <path d=\"M19 3H5c-1.1 0-2 .9-2 2v14c0 1.1.9 2 2 2h14c1.1 0 2-.9 2-2V5c0-1.1-.9-2-2-2zM9 17H7v-7h2v7zm4 0h-2V7h2v10zm4 0h-2v-4h2v4z\"/>\n",
              "    </g>\n",
              "</svg>\n",
              "  </button>\n",
              "\n",
              "<style>\n",
              "  .colab-df-quickchart {\n",
              "      --bg-color: #E8F0FE;\n",
              "      --fill-color: #1967D2;\n",
              "      --hover-bg-color: #E2EBFA;\n",
              "      --hover-fill-color: #174EA6;\n",
              "      --disabled-fill-color: #AAA;\n",
              "      --disabled-bg-color: #DDD;\n",
              "  }\n",
              "\n",
              "  [theme=dark] .colab-df-quickchart {\n",
              "      --bg-color: #3B4455;\n",
              "      --fill-color: #D2E3FC;\n",
              "      --hover-bg-color: #434B5C;\n",
              "      --hover-fill-color: #FFFFFF;\n",
              "      --disabled-bg-color: #3B4455;\n",
              "      --disabled-fill-color: #666;\n",
              "  }\n",
              "\n",
              "  .colab-df-quickchart {\n",
              "    background-color: var(--bg-color);\n",
              "    border: none;\n",
              "    border-radius: 50%;\n",
              "    cursor: pointer;\n",
              "    display: none;\n",
              "    fill: var(--fill-color);\n",
              "    height: 32px;\n",
              "    padding: 0;\n",
              "    width: 32px;\n",
              "  }\n",
              "\n",
              "  .colab-df-quickchart:hover {\n",
              "    background-color: var(--hover-bg-color);\n",
              "    box-shadow: 0 1px 2px rgba(60, 64, 67, 0.3), 0 1px 3px 1px rgba(60, 64, 67, 0.15);\n",
              "    fill: var(--button-hover-fill-color);\n",
              "  }\n",
              "\n",
              "  .colab-df-quickchart-complete:disabled,\n",
              "  .colab-df-quickchart-complete:disabled:hover {\n",
              "    background-color: var(--disabled-bg-color);\n",
              "    fill: var(--disabled-fill-color);\n",
              "    box-shadow: none;\n",
              "  }\n",
              "\n",
              "  .colab-df-spinner {\n",
              "    border: 2px solid var(--fill-color);\n",
              "    border-color: transparent;\n",
              "    border-bottom-color: var(--fill-color);\n",
              "    animation:\n",
              "      spin 1s steps(1) infinite;\n",
              "  }\n",
              "\n",
              "  @keyframes spin {\n",
              "    0% {\n",
              "      border-color: transparent;\n",
              "      border-bottom-color: var(--fill-color);\n",
              "      border-left-color: var(--fill-color);\n",
              "    }\n",
              "    20% {\n",
              "      border-color: transparent;\n",
              "      border-left-color: var(--fill-color);\n",
              "      border-top-color: var(--fill-color);\n",
              "    }\n",
              "    30% {\n",
              "      border-color: transparent;\n",
              "      border-left-color: var(--fill-color);\n",
              "      border-top-color: var(--fill-color);\n",
              "      border-right-color: var(--fill-color);\n",
              "    }\n",
              "    40% {\n",
              "      border-color: transparent;\n",
              "      border-right-color: var(--fill-color);\n",
              "      border-top-color: var(--fill-color);\n",
              "    }\n",
              "    60% {\n",
              "      border-color: transparent;\n",
              "      border-right-color: var(--fill-color);\n",
              "    }\n",
              "    80% {\n",
              "      border-color: transparent;\n",
              "      border-right-color: var(--fill-color);\n",
              "      border-bottom-color: var(--fill-color);\n",
              "    }\n",
              "    90% {\n",
              "      border-color: transparent;\n",
              "      border-bottom-color: var(--fill-color);\n",
              "    }\n",
              "  }\n",
              "</style>\n",
              "\n",
              "  <script>\n",
              "    async function quickchart(key) {\n",
              "      const quickchartButtonEl =\n",
              "        document.querySelector('#' + key + ' button');\n",
              "      quickchartButtonEl.disabled = true;  // To prevent multiple clicks.\n",
              "      quickchartButtonEl.classList.add('colab-df-spinner');\n",
              "      try {\n",
              "        const charts = await google.colab.kernel.invokeFunction(\n",
              "            'suggestCharts', [key], {});\n",
              "      } catch (error) {\n",
              "        console.error('Error during call to suggestCharts:', error);\n",
              "      }\n",
              "      quickchartButtonEl.classList.remove('colab-df-spinner');\n",
              "      quickchartButtonEl.classList.add('colab-df-quickchart-complete');\n",
              "    }\n",
              "    (() => {\n",
              "      let quickchartButtonEl =\n",
              "        document.querySelector('#df-30c4e0da-5f92-43a7-a351-350466d255e1 button');\n",
              "      quickchartButtonEl.style.display =\n",
              "        google.colab.kernel.accessAllowed ? 'block' : 'none';\n",
              "    })();\n",
              "  </script>\n",
              "</div>\n",
              "    </div>\n",
              "  </div>\n"
            ],
            "application/vnd.google.colaboratory.intrinsic+json": {
              "type": "dataframe",
              "summary": "{\n  \"name\": \"df\",\n  \"rows\": 4,\n  \"fields\": [\n    {\n      \"column\": \"date\",\n      \"properties\": {\n        \"dtype\": \"date\",\n        \"min\": \"1970-01-01 00:00:00.000000020\",\n        \"max\": \"2021-07-08 00:00:00\",\n        \"num_unique_values\": 4,\n        \"samples\": [\n          89,\n          \"20\",\n          \"1000\"\n        ],\n        \"semantic_type\": \"\",\n        \"description\": \"\"\n      }\n    },\n    {\n      \"column\": \"warehouse\",\n      \"properties\": {\n        \"dtype\": \"string\",\n        \"num_unique_values\": 4,\n        \"samples\": [\n          3,\n          \"480\",\n          \"1000\"\n        ],\n        \"semantic_type\": \"\",\n        \"description\": \"\"\n      }\n    },\n    {\n      \"column\": \"client_type\",\n      \"properties\": {\n        \"dtype\": \"string\",\n        \"num_unique_values\": 4,\n        \"samples\": [\n          2,\n          \"775\",\n          \"1000\"\n        ],\n        \"semantic_type\": \"\",\n        \"description\": \"\"\n      }\n    },\n    {\n      \"column\": \"product_line\",\n      \"properties\": {\n        \"dtype\": \"string\",\n        \"num_unique_values\": 4,\n        \"samples\": [\n          6,\n          \"230\",\n          \"1000\"\n        ],\n        \"semantic_type\": \"\",\n        \"description\": \"\"\n      }\n    },\n    {\n      \"column\": \"payment\",\n      \"properties\": {\n        \"dtype\": \"string\",\n        \"num_unique_values\": 4,\n        \"samples\": [\n          3,\n          \"659\",\n          \"1000\"\n        ],\n        \"semantic_type\": \"\",\n        \"description\": \"\"\n      }\n    }\n  ]\n}"
            }
          },
          "metadata": {},
          "execution_count": 126
        }
      ]
    },
    {
      "cell_type": "markdown",
      "source": [
        "Dalam dataset penjualan sparepart motor terdapat kolom yang memiliki data kategorikal. Kolom yang memiliki data kategorikal adalah date, warehouse, client_type, product_line dan payment. Berdasarkan hasil di atas, dapat diketahui **jumlah nilai (count)**, **jumlah data unique (unique)**, **data yang sering muncul (top)** dan **frekuensinya (freq)**. Jadi hasil diatas menampilkan data yang sering muncul dalam dataset dan disertai dengan jumlah frekuensinya. Berikut adalah penjelasannya:\n",
        "\n",
        "1. **\"date\"** : nilai count adalah 1000, data unique adalah 89, data top adalah 2021-07-08, dan jumlah freq adalah 20.\n",
        "2. **\"warehouse\"** : nilai count adalah 1000, data unique adalah 3, data top adalah Central, dan jumlah freq adalah 480.\n",
        "3. **\"client_type\"** : nilai count adalah 1000, data unique adalah 2, data top adalah Retail, dan jumlah freq adalah 775.\n",
        "4. **\"product_line\"** : nilai count adalah 1000, data unique adalah 6, data top adalah Breaking System, dan jumlah freq adalah 230.\n",
        "5. **\"payment\"** : nilai count adalah 1000, data unique adalah 3, data top adalah Credit Card, dan jumlah freq adalah 659."
      ],
      "metadata": {
        "id": "Bb9eTTIVNpPK"
      }
    },
    {
      "cell_type": "markdown",
      "source": [
        "### **Exploratory Data Analysis**"
      ],
      "metadata": {
        "id": "rubGVGQXQTEM"
      }
    },
    {
      "cell_type": "markdown",
      "source": [
        "##### Univariate"
      ],
      "metadata": {
        "id": "3xjKUDxMVdcN"
      }
    },
    {
      "cell_type": "markdown",
      "source": [
        "Berikut adalah visualisasi data yang menampilkan distribusi variabel tunggal."
      ],
      "metadata": {
        "id": "t0yvU5fYW1yV"
      }
    },
    {
      "cell_type": "code",
      "source": [
        "colors = ['#ff6666', '#bfbfbf', '#f0f0f0']\n",
        "\n",
        "visual_warehouse = df['warehouse'].value_counts()\n",
        "visual_warehouse.plot(kind='pie', autopct='%1.1f%%', startangle=0, colors=colors)\n",
        "plt.title('Warehouse')"
      ],
      "metadata": {
        "colab": {
          "base_uri": "https://localhost:8080/",
          "height": 445
        },
        "id": "IPxamr48YXtN",
        "outputId": "a3369640-dcf0-4bd9-8483-5c2d8d76235b"
      },
      "execution_count": 127,
      "outputs": [
        {
          "output_type": "execute_result",
          "data": {
            "text/plain": [
              "Text(0.5, 1.0, 'Warehouse')"
            ]
          },
          "metadata": {},
          "execution_count": 127
        },
        {
          "output_type": "display_data",
          "data": {
            "text/plain": [
              "<Figure size 640x480 with 1 Axes>"
            ],
            "image/png": "[encoded data removed]"
          },
          "metadata": {}
        }
      ]
    },
    {
      "cell_type": "markdown",
      "source": [
        "Berdasarkan visualisasi diatas, dapat dilihat bahwa:\n",
        "* **Central** menunjukkan bahwa sebesar **48%** dari keseluruhan distribusi produk berada di gudang Central. Gudang Central memiliki proporsi terbesar dari total distribusi, sehingga merupakan gudang utama dan pusat distribusi utama.\n",
        "* **North** menunjukkan bahwa sebesar **34%** dari keseluruhan distribusi produk berada di gudang North. Gudang North memiliki proporsi yang signifikan, tetapi tidak sebesar proporsi gudang Central.\n",
        "* **West** menunjukkan bahwa sebesar **18%** dari keseluruhan distribusi produk berada di gudang West. Gudang West memiliki proporsi yang lebih kecil dibandingkan dengan gudang Central dan gudang North. Ini menunjukkan bahwa gudang West memiliki peran yang lebih kecil dalam distribusi produk dibandingkan gudang-gudang lain."
      ],
      "metadata": {
        "id": "NxhM8__Sf50l"
      }
    },
    {
      "cell_type": "code",
      "source": [
        "colors = ['#1e90ff', '#bfbfbf']\n",
        "\n",
        "visual_warehouse = df['client_type'].value_counts()\n",
        "visual_warehouse.plot(kind='pie', autopct='%1.1f%%', startangle=0, colors=colors)\n",
        "plt.title('Client Type')"
      ],
      "metadata": {
        "colab": {
          "base_uri": "https://localhost:8080/",
          "height": 445
        },
        "id": "jVvD_kuqdGii",
        "outputId": "b9689141-f7cb-446e-e069-10a01e9d7a6d"
      },
      "execution_count": 128,
      "outputs": [
        {
          "output_type": "execute_result",
          "data": {
            "text/plain": [
              "Text(0.5, 1.0, 'Client Type')"
            ]
          },
          "metadata": {},
          "execution_count": 128
        },
        {
          "output_type": "display_data",
          "data": {
            "text/plain": [
              "<Figure size 640x480 with 1 Axes>"
            ],
            "image/png": "[encoded data removed]"
          },
          "metadata": {}
        }
      ]
    },
    {
      "cell_type": "markdown",
      "source": [
        "Berdasarkan visualisasi diatas, dapat dilihat bahwa:\n",
        "* Sebanyak **77.5%** dari total klien yang melakukan transaksi merupakan klient **retail**. Ini menunjukkan bahwa mayoritas transaksi pada perusahaan dilakukan oleh klien retail yang ingin membeli produk untuk kebutuhan pribadi mereka sendiri.\n",
        "* Sebanyak **22.5%** dari total klien yang melakukan transaksi merupakan klien **grosir (wholesale)**. Meskipun proporsinya lebih kecil dibandingkan dengan klien retail, tetapi klien grosir biasanya membeli produk dengan jumlah yang besar untuk menjualkan kembali kepada konsumen."
      ],
      "metadata": {
        "id": "OQFaL75Rkiz3"
      }
    },
    {
      "cell_type": "code",
      "source": [
        "colors = ['#cccc00', '#bfbfbf', '#f0f0f0']\n",
        "\n",
        "visual_warehouse = df['payment'].value_counts()\n",
        "visual_warehouse.plot(kind='pie', autopct='%1.1f%%', startangle=0, colors=colors)\n",
        "plt.title('Payment')"
      ],
      "metadata": {
        "colab": {
          "base_uri": "https://localhost:8080/",
          "height": 445
        },
        "id": "x1taLd81dtQm",
        "outputId": "cea528ab-f407-42a9-b69e-9379a0be47d0"
      },
      "execution_count": 129,
      "outputs": [
        {
          "output_type": "execute_result",
          "data": {
            "text/plain": [
              "Text(0.5, 1.0, 'Payment')"
            ]
          },
          "metadata": {},
          "execution_count": 129
        },
        {
          "output_type": "display_data",
          "data": {
            "text/plain": [
              "<Figure size 640x480 with 1 Axes>"
            ],
            "image/png": "[encoded data removed]"
          },
          "metadata": {}
        }
      ]
    },
    {
      "cell_type": "markdown",
      "source": [
        "Berdasarkan visualisasi diatas, dapat dilihat bahwa:\n",
        "* Sebanyak **65.9%** dari metode pembayaran dilakukan dengan menggunakan **kartu kredit**. Ini menunjukkan bahwa mayoritas pembayaran dilakukan menggunakan kartu kredit.\n",
        "* Sebanyak **22.5%** dari metode pembayaran dilakukan dengan menggunakan **transfer**. Pembayaran dengan cara transfer banyak dilakukan, tetapi tidak sebanyak yang melakukan pembayaran menggunakan kartu kredit.\n",
        "* Sebanyak **11.6%** dari metode pembayaran dilakukan dengan menggunakan **uang tunai**. Metode pembayaran tunai lebih sedikit dilakukan dibandingkan metode pembayaran lain."
      ],
      "metadata": {
        "id": "XnGbVDJImep4"
      }
    },
    {
      "cell_type": "code",
      "source": [
        "# sns.countplot(df, y = \"product_line\")\n",
        "colors = ['#bfbfbf', '#FF1493', '#bfbfbf', '#bfbfbf', '#bfbfbf', '#bfbfbf' ]\n",
        "\n",
        "sns.countplot(y = \"product_line\",\n",
        "              hue = \"product_line\",\n",
        "              data = df,\n",
        "              legend = False,\n",
        "              palette = colors)\n",
        "              # data = df,\n",
        "              # palette = \"Greens_d\")\n",
        "plt.title('Product Line')"
      ],
      "metadata": {
        "colab": {
          "base_uri": "https://localhost:8080/",
          "height": 489
        },
        "id": "psDOZJRYeP7Q",
        "outputId": "8f5c9555-22ec-4832-be69-0cd04eb0c8dc"
      },
      "execution_count": 130,
      "outputs": [
        {
          "output_type": "execute_result",
          "data": {
            "text/plain": [
              "Text(0.5, 1.0, 'Product Line')"
            ]
          },
          "metadata": {},
          "execution_count": 130
        },
        {
          "output_type": "display_data",
          "data": {
            "text/plain": [
              "<Figure size 640x480 with 1 Axes>"
            ],
            "image/png": "[encoded data removed]"
          },
          "metadata": {}
        }
      ]
    },
    {
      "cell_type": "markdown",
      "source": [
        "Berdasarkan visualisasi di atas, dapat dilihat bahwa dari keenam jenis produk sparepart motor (miscellaneous, breaking system, suspension & trantion, frame & body, engine, electrical system) yang paling banyak diminati oleh kalangan pembeli adalah **Breaking System**."
      ],
      "metadata": {
        "id": "O9rsco4cpDdZ"
      }
    },
    {
      "cell_type": "code",
      "source": [
        "sns.histplot(df[\"quantity\"], kde=True)\n",
        "\n",
        "plt.axvline(df[\"quantity\"].mean(), color='red', linestyle='dashed', linewidth=1, label='Mean')\n",
        "plt.axvline(df[\"quantity\"].median(), color='blue', linestyle='dashed', linewidth=1, label='Median')\n",
        "plt.title(\"Distribusi Quantity\")\n",
        "\n",
        "plt.legend()"
      ],
      "metadata": {
        "colab": {
          "base_uri": "https://localhost:8080/",
          "height": 489
        },
        "id": "vrYNy-Au7__M",
        "outputId": "e9608f51-ce03-4aa8-acd0-b465358dfa2a"
      },
      "execution_count": 131,
      "outputs": [
        {
          "output_type": "execute_result",
          "data": {
            "text/plain": [
              "<matplotlib.legend.Legend at 0x79aad52f45e0>"
            ]
          },
          "metadata": {},
          "execution_count": 131
        },
        {
          "output_type": "display_data",
          "data": {
            "text/plain": [
              "<Figure size 640x480 with 1 Axes>"
            ],
            "image/png": "[encoded data removed]"
          },
          "metadata": {}
        }
      ]
    },
    {
      "cell_type": "markdown",
      "source": [
        "Berdasarkan visualisasi di atas, dapat dilihat bahwa puncak kurva lebih ke kiri dari median dan median lebih ke kiri dari mean, sehingga distibusi data tidak membentuk lonceng sempurna. Artinya adalah dari data tersebut lebih banyak pembelian dengan jumlah kecil dibandingkan dengan pembelian dengan jumlah besar."
      ],
      "metadata": {
        "id": "3L88Ex9uuBNu"
      }
    },
    {
      "cell_type": "code",
      "source": [
        "sns.histplot(df[\"unit_price\"], kde=True)\n",
        "\n",
        "plt.axvline(df[\"unit_price\"].mean(), color='red', linestyle='dashed', linewidth=1, label='Mean')\n",
        "plt.axvline(df[\"unit_price\"].median(), color='blue', linestyle='dashed', linewidth=1, label='Median')\n",
        "plt.title(\"Distribusi Unit Price\")\n",
        "\n",
        "plt.legend()"
      ],
      "metadata": {
        "colab": {
          "base_uri": "https://localhost:8080/",
          "height": 489
        },
        "id": "Y5HBFK3M74CI",
        "outputId": "4ea7338b-6b16-465b-acba-b989427669a0"
      },
      "execution_count": 132,
      "outputs": [
        {
          "output_type": "execute_result",
          "data": {
            "text/plain": [
              "<matplotlib.legend.Legend at 0x79aad51c20b0>"
            ]
          },
          "metadata": {},
          "execution_count": 132
        },
        {
          "output_type": "display_data",
          "data": {
            "text/plain": [
              "<Figure size 640x480 with 1 Axes>"
            ],
            "image/png": "[encoded data removed]"
          },
          "metadata": {}
        }
      ]
    },
    {
      "cell_type": "markdown",
      "source": [
        "Berdasarkan visualisasi di atas, dapat dilihat bahwa puncak kurva lebih ke kiri dari median dan median lebih ke kiri dari mean, sehingga distibusi data tidak membentuk lonceng sempurna. Artinya adalah dari data tersebut harga produk yang ditawarkan cenderung lebih banyak yang kecil dibandingkan yang besar."
      ],
      "metadata": {
        "id": "PSv0VD2K3RYy"
      }
    },
    {
      "cell_type": "code",
      "source": [
        "sns.histplot(df[\"total\"], kde=True)\n",
        "\n",
        "plt.axvline(df[\"total\"].mean(), color='red', linestyle='dashed', linewidth=1, label='Mean')\n",
        "plt.axvline(df[\"total\"].median(), color='blue', linestyle='dashed', linewidth=1, label='Median')\n",
        "\n",
        "plt.xlabel(\"Total\")\n",
        "plt.ylabel(\"Density\")\n",
        "plt.title(\"Distribution Total\")\n",
        "\n",
        "plt.legend()"
      ],
      "metadata": {
        "colab": {
          "base_uri": "https://localhost:8080/",
          "height": 489
        },
        "id": "vSj8wdbt4pRw",
        "outputId": "1486b28d-2b7b-4e78-c1e2-d9aef4da477a"
      },
      "execution_count": 133,
      "outputs": [
        {
          "output_type": "execute_result",
          "data": {
            "text/plain": [
              "<matplotlib.legend.Legend at 0x79aad50823e0>"
            ]
          },
          "metadata": {},
          "execution_count": 133
        },
        {
          "output_type": "display_data",
          "data": {
            "text/plain": [
              "<Figure size 640x480 with 1 Axes>"
            ],
            "image/png": "[encoded data removed]"
          },
          "metadata": {}
        }
      ]
    },
    {
      "cell_type": "markdown",
      "source": [
        "Berdasarkan visualisasi di atas, dapat dilihat bahwa puncak kurva lebih ke kiri dari median dan median lebih ke kiri dari mean, sehingga distibusi data tidak membentuk lonceng sempurna. Artinya adalah dari data tersebut lebih banyak pembelian dengan total bayar yang kecil dibandingkan dengan pembelian dengan total bayar yang besar."
      ],
      "metadata": {
        "id": "aF2wF_FU4jMa"
      }
    },
    {
      "cell_type": "markdown",
      "source": [
        "##### Bivariate"
      ],
      "metadata": {
        "id": "xCYS0gg3VjHx"
      }
    },
    {
      "cell_type": "markdown",
      "source": [
        "Berikut adalah visualisasi data yang menampilkan distribusi variabel ganda."
      ],
      "metadata": {
        "id": "VcgAtXEnW_GR"
      }
    },
    {
      "cell_type": "code",
      "source": [
        "sns.countplot(data=df, y=\"product_line\", hue=\"client_type\")\n",
        "plt.xlabel(\"frekuensi\")\n",
        "\n",
        "plt.title(\"Perbandingan pembelian produk berdasarkan tipe pembeli\")"
      ],
      "metadata": {
        "colab": {
          "base_uri": "https://localhost:8080/",
          "height": 489
        },
        "id": "qmZkRf-QQzbp",
        "outputId": "99944ec4-0412-4a63-b4c1-694dd8cec5f6"
      },
      "execution_count": 134,
      "outputs": [
        {
          "output_type": "execute_result",
          "data": {
            "text/plain": [
              "Text(0.5, 1.0, 'Perbandingan pembelian produk berdasarkan tipe pembeli')"
            ]
          },
          "metadata": {},
          "execution_count": 134
        },
        {
          "output_type": "display_data",
          "data": {
            "text/plain": [
              "<Figure size 640x480 with 1 Axes>"
            ],
            "image/png": "[encoded data removed]"
          },
          "metadata": {}
        }
      ]
    },
    {
      "cell_type": "markdown",
      "source": [
        "Dari hasil visualisasi di atas dihasilkan sebuah grafik yang menyatakan sebuah perbandingan yang signifikan antara tipe pembeli retail dan wholesale. Hasil menunjukkan bahwa frekuensi pembelian produk miscellaneous, breaking system, suspension & tranction, frame & body, engine, dan electrical system yang dilakukan oleh retail lebih sering ketimbang yang dilakukan oleh wholesale."
      ],
      "metadata": {
        "id": "bSDQ14KXvFoT"
      }
    },
    {
      "cell_type": "code",
      "source": [
        "sns.barplot(data=df,  x=\"quantity\", y=\"product_line\", hue=\"client_type\")\n",
        "\n",
        "plt.title(\"Perbandingan jenis dan jumlah produk berdasarkan tipe pembeli\")"
      ],
      "metadata": {
        "colab": {
          "base_uri": "https://localhost:8080/",
          "height": 489
        },
        "id": "y4mfWsEg7fxF",
        "outputId": "2d5babc9-3160-45b5-f2cc-cb95d80096d8"
      },
      "execution_count": 135,
      "outputs": [
        {
          "output_type": "execute_result",
          "data": {
            "text/plain": [
              "Text(0.5, 1.0, 'Perbandingan jenis dan jumlah produk berdasarkan tipe pembeli')"
            ]
          },
          "metadata": {},
          "execution_count": 135
        },
        {
          "output_type": "display_data",
          "data": {
            "text/plain": [
              "<Figure size 640x480 with 1 Axes>"
            ],
            "image/png": "[encoded data removed]"
          },
          "metadata": {}
        }
      ]
    },
    {
      "cell_type": "markdown",
      "source": [
        "Dari hasil visualisasi di atas dihasilkan sebuah grafik yang menyatakan sebuah perbandingan yang antara jenis produk dengan quantity berdasarkan tipe pembeli. Hasil dari grafik tersebut menunjukkan bahwa jumlah barang tiap produk yang dibeli oleh wholeshale cenderung lebih banyak, sedangkan jumlah barang tiap produk yang dibeli oleh retail cenderung lebih sedikit."
      ],
      "metadata": {
        "id": "ajjNRHWA_IAu"
      }
    },
    {
      "cell_type": "code",
      "source": [
        "sns.catplot(data=df, x=\"quantity\", y=\"unit_price\", kind = \"point\", errorbar=None)\n",
        "\n",
        "plt.title(\"Hubungan antara harga produk dengan quantity produk\")"
      ],
      "metadata": {
        "colab": {
          "base_uri": "https://localhost:8080/",
          "height": 546
        },
        "id": "lGy5vHyIYk1C",
        "outputId": "bb9f5a4f-71f5-4ca9-83e5-a7ca81c199bf"
      },
      "execution_count": 136,
      "outputs": [
        {
          "output_type": "execute_result",
          "data": {
            "text/plain": [
              "Text(0.5, 1.0, 'Hubungan antara harga produk dengan quantity produk')"
            ]
          },
          "metadata": {},
          "execution_count": 136
        },
        {
          "output_type": "display_data",
          "data": {
            "text/plain": [
              "<Figure size 511.111x500 with 1 Axes>"
            ],
            "image/png": "[encoded data removed]"
          },
          "metadata": {}
        }
      ]
    },
    {
      "cell_type": "markdown",
      "source": [
        "Dari hasil visualisasi di atas dihasilkan sebuah grafik yang menyatakan hubungan antara quantity dengan harga produk. Dapat dilihat bahwa data tidak konstans. Perubahan pada harga produk tidak mempengaruhi quantity dan perubahan tersebut dapat terjadi karena faktor lain. Sehingga grafik tersebut menunjukkan bahwa harga produk tidak mempengaruhi quantity."
      ],
      "metadata": {
        "id": "vElOumGFCmzk"
      }
    },
    {
      "cell_type": "code",
      "source": [
        "sns.catplot(data=df, x=\"quantity\", y=\"total\", kind = \"point\", errorbar=None)\n",
        "\n",
        "plt.title(\"Hubungan antara quantity produk dengan total harga\")"
      ],
      "metadata": {
        "colab": {
          "base_uri": "https://localhost:8080/",
          "height": 546
        },
        "id": "_yDbuMqaYXDl",
        "outputId": "9002e593-4497-4acf-ad46-bdf6f3d5719b"
      },
      "execution_count": 137,
      "outputs": [
        {
          "output_type": "execute_result",
          "data": {
            "text/plain": [
              "Text(0.5, 1.0, 'Hubungan antara quantity produk dengan total harga')"
            ]
          },
          "metadata": {},
          "execution_count": 137
        },
        {
          "output_type": "display_data",
          "data": {
            "text/plain": [
              "<Figure size 511.111x500 with 1 Axes>"
            ],
            "image/png": "[encoded data removed]"
          },
          "metadata": {}
        }
      ]
    },
    {
      "cell_type": "markdown",
      "source": [
        "Dari hasil visualisasi di atas dihasilkan sebuah grafik yang menyatakan sebuah hubungan antara quantity produk yang dibeli pelanggan dengan total harga. Jadi semakin banyak quantity produk yang dibeli oleh pelanggan, maka total harga yang dibayarkan juga semakin besar. Sebaliknya, jika semakin sedikit quantity produk yang dibeli oleh pelanggan, maka semakin sedikit juga total harga yang dibayarkan. Sehingga grafik tersebut menunjukkan bahwa quantity berpengaruh positif terhadap total, dikarenakan setiap meningkatnya quantity akan membuat total juga meningkat."
      ],
      "metadata": {
        "id": "3CO4iiOez9aE"
      }
    },
    {
      "cell_type": "markdown",
      "source": [
        "### **Verify Data Quality**"
      ],
      "metadata": {
        "id": "wLrJBwOUQZN9"
      }
    },
    {
      "cell_type": "markdown",
      "source": [
        "#### Missing Values"
      ],
      "metadata": {
        "id": "ZVSGIXDUY5On"
      }
    },
    {
      "cell_type": "code",
      "source": [
        "missing_values = df.isna().sum()\n",
        "print(f\"Jumlah data kosong:\")\n",
        "missing_values"
      ],
      "metadata": {
        "colab": {
          "base_uri": "https://localhost:8080/"
        },
        "id": "dSpK4Aj2mMkd",
        "outputId": "3922a55e-6e42-4a98-f957-9f1558c6eb52"
      },
      "execution_count": 138,
      "outputs": [
        {
          "output_type": "stream",
          "name": "stdout",
          "text": [
            "Jumlah data kosong:\n"
          ]
        },
        {
          "output_type": "execute_result",
          "data": {
            "text/plain": [
              "date            0\n",
              "warehouse       0\n",
              "client_type     0\n",
              "product_line    0\n",
              "quantity        0\n",
              "unit_price      0\n",
              "total           0\n",
              "payment         0\n",
              "dtype: int64"
            ]
          },
          "metadata": {},
          "execution_count": 138
        }
      ]
    },
    {
      "cell_type": "markdown",
      "source": [
        "Berdasarkan hasil diatas, dapat diketahui bahwa tidak ada kolom yang memiliki data kosong atau *NaN* pada dataset penjualan sparepart motor."
      ],
      "metadata": {
        "id": "_PjyLVcwSy8s"
      }
    },
    {
      "cell_type": "markdown",
      "source": [
        "#### Outliers Values"
      ],
      "metadata": {
        "id": "7WEgkjJLY8qs"
      }
    },
    {
      "cell_type": "code",
      "source": [
        "results = []\n",
        "\n",
        "cols = df.select_dtypes(include=['float64', 'int64'])\n",
        "\n",
        "for col in cols:\n",
        "  q1 = df[col].quantile(0.25)\n",
        "  q3 = df[col].quantile(0.75)\n",
        "  iqr = q3 - q1\n",
        "  lower_bound = q1 - 1.5*iqr\n",
        "  upper_bound = q3 + 1.5*iqr\n",
        "  outliers = df[(df[col] < lower_bound) | (df[col] > upper_bound)]\n",
        "  percent_outliers = (len(outliers)/len(df))*100\n",
        "  results.append({'Kolom': col, 'Persentase Outliers': percent_outliers})\n",
        "\n",
        "# Dataframe dari list hasil\n",
        "results_df = pd.DataFrame(results)\n",
        "results_df.set_index('Kolom', inplace=True)\n",
        "results_df = results_df.rename_axis(None, axis=0).rename_axis('Kolom', axis=1)\n",
        "\n",
        "# Tampilkan dataframe\n",
        "display(results_df)"
      ],
      "metadata": {
        "colab": {
          "base_uri": "https://localhost:8080/",
          "height": 143
        },
        "id": "R-a3RfWyXuYE",
        "outputId": "7ed9ab41-cb90-4af7-d409-88eeef2a1064"
      },
      "execution_count": 139,
      "outputs": [
        {
          "output_type": "display_data",
          "data": {
            "text/plain": [
              "Kolom       Persentase Outliers\n",
              "quantity                   13.5\n",
              "unit_price                  1.8\n",
              "total                      10.2"
            ],
            "text/html": [
              "\n",
              "  <div id=\"df-62fc1d7a-b50a-401d-9bc8-e82ae8c544b6\" class=\"colab-df-container\">\n",
              "    <div>\n",
              "<style scoped>\n",
              "    .dataframe tbody tr th:only-of-type {\n",
              "        vertical-align: middle;\n",
              "    }\n",
              "\n",
              "    .dataframe tbody tr th {\n",
              "        vertical-align: top;\n",
              "    }\n",
              "\n",
              "    .dataframe thead th {\n",
              "        text-align: right;\n",
              "    }\n",
              "</style>\n",
              "<table border=\"1\" class=\"dataframe\">\n",
              "  <thead>\n",
              "    <tr style=\"text-align: right;\">\n",
              "      <th>Kolom</th>\n",
              "      <th>Persentase Outliers</th>\n",
              "    </tr>\n",
              "  </thead>\n",
              "  <tbody>\n",
              "    <tr>\n",
              "      <th>quantity</th>\n",
              "      <td>13.5</td>\n",
              "    </tr>\n",
              "    <tr>\n",
              "      <th>unit_price</th>\n",
              "      <td>1.8</td>\n",
              "    </tr>\n",
              "    <tr>\n",
              "      <th>total</th>\n",
              "      <td>10.2</td>\n",
              "    </tr>\n",
              "  </tbody>\n",
              "</table>\n",
              "</div>\n",
              "    <div class=\"colab-df-buttons\">\n",
              "\n",
              "  <div class=\"colab-df-container\">\n",
              "    <button class=\"colab-df-convert\" onclick=\"convertToInteractive('df-62fc1d7a-b50a-401d-9bc8-e82ae8c544b6')\"\n",
              "            title=\"Convert this dataframe to an interactive table.\"\n",
              "            style=\"display:none;\">\n",
              "\n",
              "  <svg xmlns=\"http://www.w3.org/2000/svg\" height=\"24px\" viewBox=\"0 -960 960 960\">\n",
              "    <path d=\"M120-120v-720h720v720H120Zm60-500h600v-160H180v160Zm220 220h160v-160H400v160Zm0 220h160v-160H400v160ZM180-400h160v-160H180v160Zm440 0h160v-160H620v160ZM180-180h160v-160H180v160Zm440 0h160v-160H620v160Z\"/>\n",
              "  </svg>\n",
              "    </button>\n",
              "\n",
              "  <style>\n",
              "    .colab-df-container {\n",
              "      display:flex;\n",
              "      gap: 12px;\n",
              "    }\n",
              "\n",
              "    .colab-df-convert {\n",
              "      background-color: #E8F0FE;\n",
              "      border: none;\n",
              "      border-radius: 50%;\n",
              "      cursor: pointer;\n",
              "      display: none;\n",
              "      fill: #1967D2;\n",
              "      height: 32px;\n",
              "      padding: 0 0 0 0;\n",
              "      width: 32px;\n",
              "    }\n",
              "\n",
              "    .colab-df-convert:hover {\n",
              "      background-color: #E2EBFA;\n",
              "      box-shadow: 0px 1px 2px rgba(60, 64, 67, 0.3), 0px 1px 3px 1px rgba(60, 64, 67, 0.15);\n",
              "      fill: #174EA6;\n",
              "    }\n",
              "\n",
              "    .colab-df-buttons div {\n",
              "      margin-bottom: 4px;\n",
              "    }\n",
              "\n",
              "    [theme=dark] .colab-df-convert {\n",
              "      background-color: #3B4455;\n",
              "      fill: #D2E3FC;\n",
              "    }\n",
              "\n",
              "    [theme=dark] .colab-df-convert:hover {\n",
              "      background-color: #434B5C;\n",
              "      box-shadow: 0px 1px 3px 1px rgba(0, 0, 0, 0.15);\n",
              "      filter: drop-shadow(0px 1px 2px rgba(0, 0, 0, 0.3));\n",
              "      fill: #FFFFFF;\n",
              "    }\n",
              "  </style>\n",
              "\n",
              "    <script>\n",
              "      const buttonEl =\n",
              "        document.querySelector('#df-62fc1d7a-b50a-401d-9bc8-e82ae8c544b6 button.colab-df-convert');\n",
              "      buttonEl.style.display =\n",
              "        google.colab.kernel.accessAllowed ? 'block' : 'none';\n",
              "\n",
              "      async function convertToInteractive(key) {\n",
              "        const element = document.querySelector('#df-62fc1d7a-b50a-401d-9bc8-e82ae8c544b6');\n",
              "        const dataTable =\n",
              "          await google.colab.kernel.invokeFunction('convertToInteractive',\n",
              "                                                    [key], {});\n",
              "        if (!dataTable) return;\n",
              "\n",
              "        const docLinkHtml = 'Like what you see? Visit the ' +\n",
              "          '<a target=\"_blank\" href=https://colab.research.google.com/notebooks/data_table.ipynb>data table notebook</a>'\n",
              "          + ' to learn more about interactive tables.';\n",
              "        element.innerHTML = '';\n",
              "        dataTable['output_type'] = 'display_data';\n",
              "        await google.colab.output.renderOutput(dataTable, element);\n",
              "        const docLink = document.createElement('div');\n",
              "        docLink.innerHTML = docLinkHtml;\n",
              "        element.appendChild(docLink);\n",
              "      }\n",
              "    </script>\n",
              "  </div>\n",
              "\n",
              "\n",
              "<div id=\"df-a1322231-1a97-4452-b192-b84d168f8afb\">\n",
              "  <button class=\"colab-df-quickchart\" onclick=\"quickchart('df-a1322231-1a97-4452-b192-b84d168f8afb')\"\n",
              "            title=\"Suggest charts\"\n",
              "            style=\"display:none;\">\n",
              "\n",
              "<svg xmlns=\"http://www.w3.org/2000/svg\" height=\"24px\"viewBox=\"0 0 24 24\"\n",
              "     width=\"24px\">\n",
              "    <g>\n",
              "        <path d=\"M19 3H5c-1.1 0-2 .9-2 2v14c0 1.1.9 2 2 2h14c1.1 0 2-.9 2-2V5c0-1.1-.9-2-2-2zM9 17H7v-7h2v7zm4 0h-2V7h2v10zm4 0h-2v-4h2v4z\"/>\n",
              "    </g>\n",
              "</svg>\n",
              "  </button>\n",
              "\n",
              "<style>\n",
              "  .colab-df-quickchart {\n",
              "      --bg-color: #E8F0FE;\n",
              "      --fill-color: #1967D2;\n",
              "      --hover-bg-color: #E2EBFA;\n",
              "      --hover-fill-color: #174EA6;\n",
              "      --disabled-fill-color: #AAA;\n",
              "      --disabled-bg-color: #DDD;\n",
              "  }\n",
              "\n",
              "  [theme=dark] .colab-df-quickchart {\n",
              "      --bg-color: #3B4455;\n",
              "      --fill-color: #D2E3FC;\n",
              "      --hover-bg-color: #434B5C;\n",
              "      --hover-fill-color: #FFFFFF;\n",
              "      --disabled-bg-color: #3B4455;\n",
              "      --disabled-fill-color: #666;\n",
              "  }\n",
              "\n",
              "  .colab-df-quickchart {\n",
              "    background-color: var(--bg-color);\n",
              "    border: none;\n",
              "    border-radius: 50%;\n",
              "    cursor: pointer;\n",
              "    display: none;\n",
              "    fill: var(--fill-color);\n",
              "    height: 32px;\n",
              "    padding: 0;\n",
              "    width: 32px;\n",
              "  }\n",
              "\n",
              "  .colab-df-quickchart:hover {\n",
              "    background-color: var(--hover-bg-color);\n",
              "    box-shadow: 0 1px 2px rgba(60, 64, 67, 0.3), 0 1px 3px 1px rgba(60, 64, 67, 0.15);\n",
              "    fill: var(--button-hover-fill-color);\n",
              "  }\n",
              "\n",
              "  .colab-df-quickchart-complete:disabled,\n",
              "  .colab-df-quickchart-complete:disabled:hover {\n",
              "    background-color: var(--disabled-bg-color);\n",
              "    fill: var(--disabled-fill-color);\n",
              "    box-shadow: none;\n",
              "  }\n",
              "\n",
              "  .colab-df-spinner {\n",
              "    border: 2px solid var(--fill-color);\n",
              "    border-color: transparent;\n",
              "    border-bottom-color: var(--fill-color);\n",
              "    animation:\n",
              "      spin 1s steps(1) infinite;\n",
              "  }\n",
              "\n",
              "  @keyframes spin {\n",
              "    0% {\n",
              "      border-color: transparent;\n",
              "      border-bottom-color: var(--fill-color);\n",
              "      border-left-color: var(--fill-color);\n",
              "    }\n",
              "    20% {\n",
              "      border-color: transparent;\n",
              "      border-left-color: var(--fill-color);\n",
              "      border-top-color: var(--fill-color);\n",
              "    }\n",
              "    30% {\n",
              "      border-color: transparent;\n",
              "      border-left-color: var(--fill-color);\n",
              "      border-top-color: var(--fill-color);\n",
              "      border-right-color: var(--fill-color);\n",
              "    }\n",
              "    40% {\n",
              "      border-color: transparent;\n",
              "      border-right-color: var(--fill-color);\n",
              "      border-top-color: var(--fill-color);\n",
              "    }\n",
              "    60% {\n",
              "      border-color: transparent;\n",
              "      border-right-color: var(--fill-color);\n",
              "    }\n",
              "    80% {\n",
              "      border-color: transparent;\n",
              "      border-right-color: var(--fill-color);\n",
              "      border-bottom-color: var(--fill-color);\n",
              "    }\n",
              "    90% {\n",
              "      border-color: transparent;\n",
              "      border-bottom-color: var(--fill-color);\n",
              "    }\n",
              "  }\n",
              "</style>\n",
              "\n",
              "  <script>\n",
              "    async function quickchart(key) {\n",
              "      const quickchartButtonEl =\n",
              "        document.querySelector('#' + key + ' button');\n",
              "      quickchartButtonEl.disabled = true;  // To prevent multiple clicks.\n",
              "      quickchartButtonEl.classList.add('colab-df-spinner');\n",
              "      try {\n",
              "        const charts = await google.colab.kernel.invokeFunction(\n",
              "            'suggestCharts', [key], {});\n",
              "      } catch (error) {\n",
              "        console.error('Error during call to suggestCharts:', error);\n",
              "      }\n",
              "      quickchartButtonEl.classList.remove('colab-df-spinner');\n",
              "      quickchartButtonEl.classList.add('colab-df-quickchart-complete');\n",
              "    }\n",
              "    (() => {\n",
              "      let quickchartButtonEl =\n",
              "        document.querySelector('#df-a1322231-1a97-4452-b192-b84d168f8afb button');\n",
              "      quickchartButtonEl.style.display =\n",
              "        google.colab.kernel.accessAllowed ? 'block' : 'none';\n",
              "    })();\n",
              "  </script>\n",
              "</div>\n",
              "    </div>\n",
              "  </div>\n"
            ],
            "application/vnd.google.colaboratory.intrinsic+json": {
              "type": "dataframe",
              "variable_name": "results_df",
              "summary": "{\n  \"name\": \"results_df\",\n  \"rows\": 3,\n  \"fields\": [\n    {\n      \"column\": \"Persentase Outliers\",\n      \"properties\": {\n        \"dtype\": \"number\",\n        \"std\": 6.032412452742269,\n        \"min\": 1.7999999999999998,\n        \"max\": 13.5,\n        \"num_unique_values\": 3,\n        \"samples\": [\n          13.5,\n          1.7999999999999998,\n          10.2\n        ],\n        \"semantic_type\": \"\",\n        \"description\": \"\"\n      }\n    }\n  ]\n}"
            }
          },
          "metadata": {}
        }
      ]
    },
    {
      "cell_type": "markdown",
      "source": [
        "Berdasarkan hasil di atas, menunjukkan persentase outliers pada kolom tertentu. Berikut adalah penjelasannya:\n",
        "\n",
        "* Persentase outliers pada kolom quantity menunjukkan persentase sebesar **13.5%** yang artinya terdapat banyak quantity pembelian yang lebih besar dari mayoritas quantity pembelian lainnya.\n",
        "* Persentase outliers pada kolom unit_price menunjukkan persentasi sebesar **1.8%** yang artinya terdapat beberapa harga produk yang lebih besar dari mayoritas harga produk lainnya.\n",
        "* Persentase outliers pada kolom total menunjukkan persentase sebesar **10.2%** yang artinya terdapat banyak total harga yang lebih besar dari mayoritas harga produk lainnya.\n",
        "\n",
        "Dari hasil tersebut outliers akan dipertimbangkan karena beberapa kolom memiliki jumlah data outliers yang banyak dan persentasenya melebihi 5%. Outliers nantinya dapat mempengaruhi dalam melakukan analisis."
      ],
      "metadata": {
        "id": "FwvCJ0DjS1PS"
      }
    },
    {
      "cell_type": "markdown",
      "source": [
        "#### Duplicated Values"
      ],
      "metadata": {
        "id": "i7DVZODGY_vy"
      }
    },
    {
      "cell_type": "code",
      "source": [
        "df[df.duplicated()]"
      ],
      "metadata": {
        "colab": {
          "base_uri": "https://localhost:8080/",
          "height": 53
        },
        "id": "G1wFXBbHS-_G",
        "outputId": "cd20360e-465b-4fc3-eda9-424b70094242"
      },
      "execution_count": 140,
      "outputs": [
        {
          "output_type": "execute_result",
          "data": {
            "text/plain": [
              "Empty DataFrame\n",
              "Columns: [date, warehouse, client_type, product_line, quantity, unit_price, total, payment]\n",
              "Index: []"
            ],
            "text/html": [
              "\n",
              "  <div id=\"df-ffb39b0f-3e60-42a0-856f-ee77b3cad558\" class=\"colab-df-container\">\n",
              "    <div>\n",
              "<style scoped>\n",
              "    .dataframe tbody tr th:only-of-type {\n",
              "        vertical-align: middle;\n",
              "    }\n",
              "\n",
              "    .dataframe tbody tr th {\n",
              "        vertical-align: top;\n",
              "    }\n",
              "\n",
              "    .dataframe thead th {\n",
              "        text-align: right;\n",
              "    }\n",
              "</style>\n",
              "<table border=\"1\" class=\"dataframe\">\n",
              "  <thead>\n",
              "    <tr style=\"text-align: right;\">\n",
              "      <th></th>\n",
              "      <th>date</th>\n",
              "      <th>warehouse</th>\n",
              "      <th>client_type</th>\n",
              "      <th>product_line</th>\n",
              "      <th>quantity</th>\n",
              "      <th>unit_price</th>\n",
              "      <th>total</th>\n",
              "      <th>payment</th>\n",
              "    </tr>\n",
              "  </thead>\n",
              "  <tbody>\n",
              "  </tbody>\n",
              "</table>\n",
              "</div>\n",
              "    <div class=\"colab-df-buttons\">\n",
              "\n",
              "  <div class=\"colab-df-container\">\n",
              "    <button class=\"colab-df-convert\" onclick=\"convertToInteractive('df-ffb39b0f-3e60-42a0-856f-ee77b3cad558')\"\n",
              "            title=\"Convert this dataframe to an interactive table.\"\n",
              "            style=\"display:none;\">\n",
              "\n",
              "  <svg xmlns=\"http://www.w3.org/2000/svg\" height=\"24px\" viewBox=\"0 -960 960 960\">\n",
              "    <path d=\"M120-120v-720h720v720H120Zm60-500h600v-160H180v160Zm220 220h160v-160H400v160Zm0 220h160v-160H400v160ZM180-400h160v-160H180v160Zm440 0h160v-160H620v160ZM180-180h160v-160H180v160Zm440 0h160v-160H620v160Z\"/>\n",
              "  </svg>\n",
              "    </button>\n",
              "\n",
              "  <style>\n",
              "    .colab-df-container {\n",
              "      display:flex;\n",
              "      gap: 12px;\n",
              "    }\n",
              "\n",
              "    .colab-df-convert {\n",
              "      background-color: #E8F0FE;\n",
              "      border: none;\n",
              "      border-radius: 50%;\n",
              "      cursor: pointer;\n",
              "      display: none;\n",
              "      fill: #1967D2;\n",
              "      height: 32px;\n",
              "      padding: 0 0 0 0;\n",
              "      width: 32px;\n",
              "    }\n",
              "\n",
              "    .colab-df-convert:hover {\n",
              "      background-color: #E2EBFA;\n",
              "      box-shadow: 0px 1px 2px rgba(60, 64, 67, 0.3), 0px 1px 3px 1px rgba(60, 64, 67, 0.15);\n",
              "      fill: #174EA6;\n",
              "    }\n",
              "\n",
              "    .colab-df-buttons div {\n",
              "      margin-bottom: 4px;\n",
              "    }\n",
              "\n",
              "    [theme=dark] .colab-df-convert {\n",
              "      background-color: #3B4455;\n",
              "      fill: #D2E3FC;\n",
              "    }\n",
              "\n",
              "    [theme=dark] .colab-df-convert:hover {\n",
              "      background-color: #434B5C;\n",
              "      box-shadow: 0px 1px 3px 1px rgba(0, 0, 0, 0.15);\n",
              "      filter: drop-shadow(0px 1px 2px rgba(0, 0, 0, 0.3));\n",
              "      fill: #FFFFFF;\n",
              "    }\n",
              "  </style>\n",
              "\n",
              "    <script>\n",
              "      const buttonEl =\n",
              "        document.querySelector('#df-ffb39b0f-3e60-42a0-856f-ee77b3cad558 button.colab-df-convert');\n",
              "      buttonEl.style.display =\n",
              "        google.colab.kernel.accessAllowed ? 'block' : 'none';\n",
              "\n",
              "      async function convertToInteractive(key) {\n",
              "        const element = document.querySelector('#df-ffb39b0f-3e60-42a0-856f-ee77b3cad558');\n",
              "        const dataTable =\n",
              "          await google.colab.kernel.invokeFunction('convertToInteractive',\n",
              "                                                    [key], {});\n",
              "        if (!dataTable) return;\n",
              "\n",
              "        const docLinkHtml = 'Like what you see? Visit the ' +\n",
              "          '<a target=\"_blank\" href=https://colab.research.google.com/notebooks/data_table.ipynb>data table notebook</a>'\n",
              "          + ' to learn more about interactive tables.';\n",
              "        element.innerHTML = '';\n",
              "        dataTable['output_type'] = 'display_data';\n",
              "        await google.colab.output.renderOutput(dataTable, element);\n",
              "        const docLink = document.createElement('div');\n",
              "        docLink.innerHTML = docLinkHtml;\n",
              "        element.appendChild(docLink);\n",
              "      }\n",
              "    </script>\n",
              "  </div>\n",
              "\n",
              "    </div>\n",
              "  </div>\n"
            ],
            "application/vnd.google.colaboratory.intrinsic+json": {
              "type": "dataframe",
              "repr_error": "Out of range float values are not JSON compliant: nan"
            }
          },
          "metadata": {},
          "execution_count": 140
        }
      ]
    },
    {
      "cell_type": "markdown",
      "source": [
        "Berdasarkan hasil di atas, dapat diketahui bahwa tidak ada baris yang terduplikasi pada dataset penjualan sparepart motor."
      ],
      "metadata": {
        "id": "r6Xu8DE4S4fA"
      }
    },
    {
      "cell_type": "markdown",
      "source": [
        "## **Data Preparation**"
      ],
      "metadata": {
        "id": "-Df9KuG9nqKc"
      }
    },
    {
      "cell_type": "markdown",
      "source": [
        "### **Data Cleaning**"
      ],
      "metadata": {
        "id": "kZIFh8TLn2z8"
      }
    },
    {
      "cell_type": "markdown",
      "source": [
        "#### **Penanganan Missing Values**"
      ],
      "metadata": {
        "id": "YVA0Ow23omWK"
      }
    },
    {
      "cell_type": "markdown",
      "source": [
        "**Melakukan Pengecekan Missing Values**\n",
        "\n",
        "Pengecekan ini dilakukan untuk melihat apakah terdapat missing values pada dataframe. Jika terdapat missing values, maka akan dilakukan sebuah penanganan."
      ],
      "metadata": {
        "id": "pVVuWD6ko-87"
      }
    },
    {
      "cell_type": "code",
      "source": [
        "print((df.isna().sum() / len(df)) * 100)"
      ],
      "metadata": {
        "colab": {
          "base_uri": "https://localhost:8080/"
        },
        "id": "naX5sztFpEVn",
        "outputId": "7336a10b-82da-4e55-c678-bdc660806170"
      },
      "execution_count": 141,
      "outputs": [
        {
          "output_type": "stream",
          "name": "stdout",
          "text": [
            "date            0.0\n",
            "warehouse       0.0\n",
            "client_type     0.0\n",
            "product_line    0.0\n",
            "quantity        0.0\n",
            "unit_price      0.0\n",
            "total           0.0\n",
            "payment         0.0\n",
            "dtype: float64\n"
          ]
        }
      ]
    },
    {
      "cell_type": "markdown",
      "source": [
        "Dapat dilihat pada tabel diatas bahwa pada tiap kolom dari dataframe yang dianalisis tidak terdapat sebuah missing values atau nilai yang kosong. Sehingga, dapat disimpulkan bahwa dataframe terhindar dari missing values dan tidak perlu dilakukan penanganan lebih lanjut."
      ],
      "metadata": {
        "id": "UA9Ar519pLRF"
      }
    },
    {
      "cell_type": "markdown",
      "source": [
        "#### **Penanganan Duplicated Values**"
      ],
      "metadata": {
        "id": "sNSO3mneoxx8"
      }
    },
    {
      "cell_type": "markdown",
      "source": [
        "**Melakukan Pengecekan Duplicated Values**\n",
        "\n",
        "Pengecekan ini dilakukan untuk melihat apakah terdapat duplicated values pada dataframe. Jika terdapat duplicated values, maka akan dilakukan sebuah penangana."
      ],
      "metadata": {
        "id": "ePhldgA6pPju"
      }
    },
    {
      "cell_type": "code",
      "source": [
        "df[df.duplicated()]"
      ],
      "metadata": {
        "colab": {
          "base_uri": "https://localhost:8080/",
          "height": 53
        },
        "id": "53dy8-1qpTeT",
        "outputId": "014e827a-c395-49f0-c0dc-ac527f9068cb"
      },
      "execution_count": 142,
      "outputs": [
        {
          "output_type": "execute_result",
          "data": {
            "text/plain": [
              "Empty DataFrame\n",
              "Columns: [date, warehouse, client_type, product_line, quantity, unit_price, total, payment]\n",
              "Index: []"
            ],
            "text/html": [
              "\n",
              "  <div id=\"df-026e5eb6-c057-4324-98b2-21cb9b0c7b6a\" class=\"colab-df-container\">\n",
              "    <div>\n",
              "<style scoped>\n",
              "    .dataframe tbody tr th:only-of-type {\n",
              "        vertical-align: middle;\n",
              "    }\n",
              "\n",
              "    .dataframe tbody tr th {\n",
              "        vertical-align: top;\n",
              "    }\n",
              "\n",
              "    .dataframe thead th {\n",
              "        text-align: right;\n",
              "    }\n",
              "</style>\n",
              "<table border=\"1\" class=\"dataframe\">\n",
              "  <thead>\n",
              "    <tr style=\"text-align: right;\">\n",
              "      <th></th>\n",
              "      <th>date</th>\n",
              "      <th>warehouse</th>\n",
              "      <th>client_type</th>\n",
              "      <th>product_line</th>\n",
              "      <th>quantity</th>\n",
              "      <th>unit_price</th>\n",
              "      <th>total</th>\n",
              "      <th>payment</th>\n",
              "    </tr>\n",
              "  </thead>\n",
              "  <tbody>\n",
              "  </tbody>\n",
              "</table>\n",
              "</div>\n",
              "    <div class=\"colab-df-buttons\">\n",
              "\n",
              "  <div class=\"colab-df-container\">\n",
              "    <button class=\"colab-df-convert\" onclick=\"convertToInteractive('df-026e5eb6-c057-4324-98b2-21cb9b0c7b6a')\"\n",
              "            title=\"Convert this dataframe to an interactive table.\"\n",
              "            style=\"display:none;\">\n",
              "\n",
              "  <svg xmlns=\"http://www.w3.org/2000/svg\" height=\"24px\" viewBox=\"0 -960 960 960\">\n",
              "    <path d=\"M120-120v-720h720v720H120Zm60-500h600v-160H180v160Zm220 220h160v-160H400v160Zm0 220h160v-160H400v160ZM180-400h160v-160H180v160Zm440 0h160v-160H620v160ZM180-180h160v-160H180v160Zm440 0h160v-160H620v160Z\"/>\n",
              "  </svg>\n",
              "    </button>\n",
              "\n",
              "  <style>\n",
              "    .colab-df-container {\n",
              "      display:flex;\n",
              "      gap: 12px;\n",
              "    }\n",
              "\n",
              "    .colab-df-convert {\n",
              "      background-color: #E8F0FE;\n",
              "      border: none;\n",
              "      border-radius: 50%;\n",
              "      cursor: pointer;\n",
              "      display: none;\n",
              "      fill: #1967D2;\n",
              "      height: 32px;\n",
              "      padding: 0 0 0 0;\n",
              "      width: 32px;\n",
              "    }\n",
              "\n",
              "    .colab-df-convert:hover {\n",
              "      background-color: #E2EBFA;\n",
              "      box-shadow: 0px 1px 2px rgba(60, 64, 67, 0.3), 0px 1px 3px 1px rgba(60, 64, 67, 0.15);\n",
              "      fill: #174EA6;\n",
              "    }\n",
              "\n",
              "    .colab-df-buttons div {\n",
              "      margin-bottom: 4px;\n",
              "    }\n",
              "\n",
              "    [theme=dark] .colab-df-convert {\n",
              "      background-color: #3B4455;\n",
              "      fill: #D2E3FC;\n",
              "    }\n",
              "\n",
              "    [theme=dark] .colab-df-convert:hover {\n",
              "      background-color: #434B5C;\n",
              "      box-shadow: 0px 1px 3px 1px rgba(0, 0, 0, 0.15);\n",
              "      filter: drop-shadow(0px 1px 2px rgba(0, 0, 0, 0.3));\n",
              "      fill: #FFFFFF;\n",
              "    }\n",
              "  </style>\n",
              "\n",
              "    <script>\n",
              "      const buttonEl =\n",
              "        document.querySelector('#df-026e5eb6-c057-4324-98b2-21cb9b0c7b6a button.colab-df-convert');\n",
              "      buttonEl.style.display =\n",
              "        google.colab.kernel.accessAllowed ? 'block' : 'none';\n",
              "\n",
              "      async function convertToInteractive(key) {\n",
              "        const element = document.querySelector('#df-026e5eb6-c057-4324-98b2-21cb9b0c7b6a');\n",
              "        const dataTable =\n",
              "          await google.colab.kernel.invokeFunction('convertToInteractive',\n",
              "                                                    [key], {});\n",
              "        if (!dataTable) return;\n",
              "\n",
              "        const docLinkHtml = 'Like what you see? Visit the ' +\n",
              "          '<a target=\"_blank\" href=https://colab.research.google.com/notebooks/data_table.ipynb>data table notebook</a>'\n",
              "          + ' to learn more about interactive tables.';\n",
              "        element.innerHTML = '';\n",
              "        dataTable['output_type'] = 'display_data';\n",
              "        await google.colab.output.renderOutput(dataTable, element);\n",
              "        const docLink = document.createElement('div');\n",
              "        docLink.innerHTML = docLinkHtml;\n",
              "        element.appendChild(docLink);\n",
              "      }\n",
              "    </script>\n",
              "  </div>\n",
              "\n",
              "    </div>\n",
              "  </div>\n"
            ],
            "application/vnd.google.colaboratory.intrinsic+json": {
              "type": "dataframe",
              "repr_error": "Out of range float values are not JSON compliant: nan"
            }
          },
          "metadata": {},
          "execution_count": 142
        }
      ]
    },
    {
      "cell_type": "markdown",
      "source": [
        "Dapat dilihat pada hasil diatas bahwa pada tiap baris dari dataframe yang dianalisis tidak terdapat sebuah duplicated values atau duplikasi data. Sehingga, dapat disimpulkan bahwa dataframe terhindar dari duplicated values dan tidak perlu dilakukan penanganan lebih lanjut."
      ],
      "metadata": {
        "id": "0i582ccMpe-x"
      }
    },
    {
      "cell_type": "markdown",
      "source": [
        "#### **Penanganan Outliers Values**"
      ],
      "metadata": {
        "id": "cJ-_gU4Ao4JG"
      }
    },
    {
      "cell_type": "markdown",
      "source": [
        "**Melakukan Pengecekan Outliers Values**\n",
        "\n",
        "Pengecekan ini dilakukan untuk melihat apakah terdapat outliers values pada dataframe. Jika terdapat outliers values, maka akan dilakukan sebuah penanganan."
      ],
      "metadata": {
        "id": "1qdUJatxpjFE"
      }
    },
    {
      "cell_type": "code",
      "source": [
        "results = []\n",
        "\n",
        "cols = df.select_dtypes(include=['float64', 'int64'])\n",
        "\n",
        "for col in cols:\n",
        "  q1 = df[col].quantile(0.25)\n",
        "  q3 = df[col].quantile(0.75)\n",
        "  iqr = q3 - q1\n",
        "  lower_bound = q1 - 1.5*iqr\n",
        "  upper_bound = q3 + 1.5*iqr\n",
        "  outliers = df[(df[col] < lower_bound) | (df[col] > upper_bound)]\n",
        "  percent_outliers = (len(outliers)/len(df))*100\n",
        "  results.append({'Kolom': col, 'Persentase Outliers': percent_outliers})\n",
        "\n",
        "# Dataframe dari list hasil\n",
        "results_df = pd.DataFrame(results)\n",
        "results_df.set_index('Kolom', inplace=True)\n",
        "results_df = results_df.rename_axis(None, axis=0).rename_axis('Kolom', axis=1)\n",
        "\n",
        "# Tampilkan dataframe\n",
        "display(results_df)"
      ],
      "metadata": {
        "colab": {
          "base_uri": "https://localhost:8080/",
          "height": 143
        },
        "id": "nTNLAu84pyyO",
        "outputId": "16404561-6638-482d-b89c-3a326c2640d2"
      },
      "execution_count": 143,
      "outputs": [
        {
          "output_type": "display_data",
          "data": {
            "text/plain": [
              "Kolom       Persentase Outliers\n",
              "quantity                   13.5\n",
              "unit_price                  1.8\n",
              "total                      10.2"
            ],
            "text/html": [
              "\n",
              "  <div id=\"df-9a0be433-00cb-471c-8304-f6775a67183e\" class=\"colab-df-container\">\n",
              "    <div>\n",
              "<style scoped>\n",
              "    .dataframe tbody tr th:only-of-type {\n",
              "        vertical-align: middle;\n",
              "    }\n",
              "\n",
              "    .dataframe tbody tr th {\n",
              "        vertical-align: top;\n",
              "    }\n",
              "\n",
              "    .dataframe thead th {\n",
              "        text-align: right;\n",
              "    }\n",
              "</style>\n",
              "<table border=\"1\" class=\"dataframe\">\n",
              "  <thead>\n",
              "    <tr style=\"text-align: right;\">\n",
              "      <th>Kolom</th>\n",
              "      <th>Persentase Outliers</th>\n",
              "    </tr>\n",
              "  </thead>\n",
              "  <tbody>\n",
              "    <tr>\n",
              "      <th>quantity</th>\n",
              "      <td>13.5</td>\n",
              "    </tr>\n",
              "    <tr>\n",
              "      <th>unit_price</th>\n",
              "      <td>1.8</td>\n",
              "    </tr>\n",
              "    <tr>\n",
              "      <th>total</th>\n",
              "      <td>10.2</td>\n",
              "    </tr>\n",
              "  </tbody>\n",
              "</table>\n",
              "</div>\n",
              "    <div class=\"colab-df-buttons\">\n",
              "\n",
              "  <div class=\"colab-df-container\">\n",
              "    <button class=\"colab-df-convert\" onclick=\"convertToInteractive('df-9a0be433-00cb-471c-8304-f6775a67183e')\"\n",
              "            title=\"Convert this dataframe to an interactive table.\"\n",
              "            style=\"display:none;\">\n",
              "\n",
              "  <svg xmlns=\"http://www.w3.org/2000/svg\" height=\"24px\" viewBox=\"0 -960 960 960\">\n",
              "    <path d=\"M120-120v-720h720v720H120Zm60-500h600v-160H180v160Zm220 220h160v-160H400v160Zm0 220h160v-160H400v160ZM180-400h160v-160H180v160Zm440 0h160v-160H620v160ZM180-180h160v-160H180v160Zm440 0h160v-160H620v160Z\"/>\n",
              "  </svg>\n",
              "    </button>\n",
              "\n",
              "  <style>\n",
              "    .colab-df-container {\n",
              "      display:flex;\n",
              "      gap: 12px;\n",
              "    }\n",
              "\n",
              "    .colab-df-convert {\n",
              "      background-color: #E8F0FE;\n",
              "      border: none;\n",
              "      border-radius: 50%;\n",
              "      cursor: pointer;\n",
              "      display: none;\n",
              "      fill: #1967D2;\n",
              "      height: 32px;\n",
              "      padding: 0 0 0 0;\n",
              "      width: 32px;\n",
              "    }\n",
              "\n",
              "    .colab-df-convert:hover {\n",
              "      background-color: #E2EBFA;\n",
              "      box-shadow: 0px 1px 2px rgba(60, 64, 67, 0.3), 0px 1px 3px 1px rgba(60, 64, 67, 0.15);\n",
              "      fill: #174EA6;\n",
              "    }\n",
              "\n",
              "    .colab-df-buttons div {\n",
              "      margin-bottom: 4px;\n",
              "    }\n",
              "\n",
              "    [theme=dark] .colab-df-convert {\n",
              "      background-color: #3B4455;\n",
              "      fill: #D2E3FC;\n",
              "    }\n",
              "\n",
              "    [theme=dark] .colab-df-convert:hover {\n",
              "      background-color: #434B5C;\n",
              "      box-shadow: 0px 1px 3px 1px rgba(0, 0, 0, 0.15);\n",
              "      filter: drop-shadow(0px 1px 2px rgba(0, 0, 0, 0.3));\n",
              "      fill: #FFFFFF;\n",
              "    }\n",
              "  </style>\n",
              "\n",
              "    <script>\n",
              "      const buttonEl =\n",
              "        document.querySelector('#df-9a0be433-00cb-471c-8304-f6775a67183e button.colab-df-convert');\n",
              "      buttonEl.style.display =\n",
              "        google.colab.kernel.accessAllowed ? 'block' : 'none';\n",
              "\n",
              "      async function convertToInteractive(key) {\n",
              "        const element = document.querySelector('#df-9a0be433-00cb-471c-8304-f6775a67183e');\n",
              "        const dataTable =\n",
              "          await google.colab.kernel.invokeFunction('convertToInteractive',\n",
              "                                                    [key], {});\n",
              "        if (!dataTable) return;\n",
              "\n",
              "        const docLinkHtml = 'Like what you see? Visit the ' +\n",
              "          '<a target=\"_blank\" href=https://colab.research.google.com/notebooks/data_table.ipynb>data table notebook</a>'\n",
              "          + ' to learn more about interactive tables.';\n",
              "        element.innerHTML = '';\n",
              "        dataTable['output_type'] = 'display_data';\n",
              "        await google.colab.output.renderOutput(dataTable, element);\n",
              "        const docLink = document.createElement('div');\n",
              "        docLink.innerHTML = docLinkHtml;\n",
              "        element.appendChild(docLink);\n",
              "      }\n",
              "    </script>\n",
              "  </div>\n",
              "\n",
              "\n",
              "<div id=\"df-51b2f50d-46a7-4092-b0aa-c1e1d9a8c4b5\">\n",
              "  <button class=\"colab-df-quickchart\" onclick=\"quickchart('df-51b2f50d-46a7-4092-b0aa-c1e1d9a8c4b5')\"\n",
              "            title=\"Suggest charts\"\n",
              "            style=\"display:none;\">\n",
              "\n",
              "<svg xmlns=\"http://www.w3.org/2000/svg\" height=\"24px\"viewBox=\"0 0 24 24\"\n",
              "     width=\"24px\">\n",
              "    <g>\n",
              "        <path d=\"M19 3H5c-1.1 0-2 .9-2 2v14c0 1.1.9 2 2 2h14c1.1 0 2-.9 2-2V5c0-1.1-.9-2-2-2zM9 17H7v-7h2v7zm4 0h-2V7h2v10zm4 0h-2v-4h2v4z\"/>\n",
              "    </g>\n",
              "</svg>\n",
              "  </button>\n",
              "\n",
              "<style>\n",
              "  .colab-df-quickchart {\n",
              "      --bg-color: #E8F0FE;\n",
              "      --fill-color: #1967D2;\n",
              "      --hover-bg-color: #E2EBFA;\n",
              "      --hover-fill-color: #174EA6;\n",
              "      --disabled-fill-color: #AAA;\n",
              "      --disabled-bg-color: #DDD;\n",
              "  }\n",
              "\n",
              "  [theme=dark] .colab-df-quickchart {\n",
              "      --bg-color: #3B4455;\n",
              "      --fill-color: #D2E3FC;\n",
              "      --hover-bg-color: #434B5C;\n",
              "      --hover-fill-color: #FFFFFF;\n",
              "      --disabled-bg-color: #3B4455;\n",
              "      --disabled-fill-color: #666;\n",
              "  }\n",
              "\n",
              "  .colab-df-quickchart {\n",
              "    background-color: var(--bg-color);\n",
              "    border: none;\n",
              "    border-radius: 50%;\n",
              "    cursor: pointer;\n",
              "    display: none;\n",
              "    fill: var(--fill-color);\n",
              "    height: 32px;\n",
              "    padding: 0;\n",
              "    width: 32px;\n",
              "  }\n",
              "\n",
              "  .colab-df-quickchart:hover {\n",
              "    background-color: var(--hover-bg-color);\n",
              "    box-shadow: 0 1px 2px rgba(60, 64, 67, 0.3), 0 1px 3px 1px rgba(60, 64, 67, 0.15);\n",
              "    fill: var(--button-hover-fill-color);\n",
              "  }\n",
              "\n",
              "  .colab-df-quickchart-complete:disabled,\n",
              "  .colab-df-quickchart-complete:disabled:hover {\n",
              "    background-color: var(--disabled-bg-color);\n",
              "    fill: var(--disabled-fill-color);\n",
              "    box-shadow: none;\n",
              "  }\n",
              "\n",
              "  .colab-df-spinner {\n",
              "    border: 2px solid var(--fill-color);\n",
              "    border-color: transparent;\n",
              "    border-bottom-color: var(--fill-color);\n",
              "    animation:\n",
              "      spin 1s steps(1) infinite;\n",
              "  }\n",
              "\n",
              "  @keyframes spin {\n",
              "    0% {\n",
              "      border-color: transparent;\n",
              "      border-bottom-color: var(--fill-color);\n",
              "      border-left-color: var(--fill-color);\n",
              "    }\n",
              "    20% {\n",
              "      border-color: transparent;\n",
              "      border-left-color: var(--fill-color);\n",
              "      border-top-color: var(--fill-color);\n",
              "    }\n",
              "    30% {\n",
              "      border-color: transparent;\n",
              "      border-left-color: var(--fill-color);\n",
              "      border-top-color: var(--fill-color);\n",
              "      border-right-color: var(--fill-color);\n",
              "    }\n",
              "    40% {\n",
              "      border-color: transparent;\n",
              "      border-right-color: var(--fill-color);\n",
              "      border-top-color: var(--fill-color);\n",
              "    }\n",
              "    60% {\n",
              "      border-color: transparent;\n",
              "      border-right-color: var(--fill-color);\n",
              "    }\n",
              "    80% {\n",
              "      border-color: transparent;\n",
              "      border-right-color: var(--fill-color);\n",
              "      border-bottom-color: var(--fill-color);\n",
              "    }\n",
              "    90% {\n",
              "      border-color: transparent;\n",
              "      border-bottom-color: var(--fill-color);\n",
              "    }\n",
              "  }\n",
              "</style>\n",
              "\n",
              "  <script>\n",
              "    async function quickchart(key) {\n",
              "      const quickchartButtonEl =\n",
              "        document.querySelector('#' + key + ' button');\n",
              "      quickchartButtonEl.disabled = true;  // To prevent multiple clicks.\n",
              "      quickchartButtonEl.classList.add('colab-df-spinner');\n",
              "      try {\n",
              "        const charts = await google.colab.kernel.invokeFunction(\n",
              "            'suggestCharts', [key], {});\n",
              "      } catch (error) {\n",
              "        console.error('Error during call to suggestCharts:', error);\n",
              "      }\n",
              "      quickchartButtonEl.classList.remove('colab-df-spinner');\n",
              "      quickchartButtonEl.classList.add('colab-df-quickchart-complete');\n",
              "    }\n",
              "    (() => {\n",
              "      let quickchartButtonEl =\n",
              "        document.querySelector('#df-51b2f50d-46a7-4092-b0aa-c1e1d9a8c4b5 button');\n",
              "      quickchartButtonEl.style.display =\n",
              "        google.colab.kernel.accessAllowed ? 'block' : 'none';\n",
              "    })();\n",
              "  </script>\n",
              "</div>\n",
              "    </div>\n",
              "  </div>\n"
            ],
            "application/vnd.google.colaboratory.intrinsic+json": {
              "type": "dataframe",
              "variable_name": "results_df",
              "summary": "{\n  \"name\": \"results_df\",\n  \"rows\": 3,\n  \"fields\": [\n    {\n      \"column\": \"Persentase Outliers\",\n      \"properties\": {\n        \"dtype\": \"number\",\n        \"std\": 6.032412452742269,\n        \"min\": 1.7999999999999998,\n        \"max\": 13.5,\n        \"num_unique_values\": 3,\n        \"samples\": [\n          13.5,\n          1.7999999999999998,\n          10.2\n        ],\n        \"semantic_type\": \"\",\n        \"description\": \"\"\n      }\n    }\n  ]\n}"
            }
          },
          "metadata": {}
        }
      ]
    },
    {
      "cell_type": "code",
      "source": [
        "boxplot = df.boxplot(grid=False, rot=45,  figsize=(8,6))"
      ],
      "metadata": {
        "colab": {
          "base_uri": "https://localhost:8080/",
          "height": 567
        },
        "id": "c0Zp4VSCsakN",
        "outputId": "3f7bf59b-f3c5-44bb-f8e8-79989c1916f6"
      },
      "execution_count": 144,
      "outputs": [
        {
          "output_type": "display_data",
          "data": {
            "text/plain": [
              "<Figure size 800x600 with 1 Axes>"
            ],
            "image/png": "[encoded data removed]"
          },
          "metadata": {}
        }
      ]
    },
    {
      "cell_type": "markdown",
      "source": [
        "Dari hasil diatas ditampilkan persentase outliers pada kolom numerik dari dataframe yang dianalisis. Kolom yang ditampilkan adalah quantity dengan persentase **13.5%**, unit_price dengan persentase **1.8%**, dan total dengan persentase **10.2%**. Dikarenakan terdapat persentase outliers yang dibawah 10%, maka perlu dilakukan penghapusan outliers pada kolom unit_price."
      ],
      "metadata": {
        "id": "2y50Ak2-qCN_"
      }
    },
    {
      "cell_type": "markdown",
      "source": [
        "Kemudian dapat dilihat juga dari boxplot yang telah ditampilkan, bahwa terdapat titik-titik outliers yang berjarak cukup jauh pada kolom total. Oleh karena itu, perlu dilakukan imputasi dengan metode flooring dan capping."
      ],
      "metadata": {
        "id": "ROKTY76mrQjR"
      }
    },
    {
      "cell_type": "code",
      "source": [
        "Q1 = df['unit_price'].quantile(0.25)\n",
        "Q3 = df['unit_price'].quantile(0.75)\n",
        "IQR = Q3 - Q1\n",
        "lower_bound = Q1 - 1.5 * IQR\n",
        "upper_bound = Q3 + 1.5 * IQR\n",
        "\n",
        "df = df[(df['unit_price'] >= lower_bound) & (df['unit_price'] <= upper_bound)]"
      ],
      "metadata": {
        "id": "EiJhivHWtAgT"
      },
      "execution_count": 145,
      "outputs": []
    },
    {
      "cell_type": "markdown",
      "source": [
        "Kode diatas adalah kode untuk menghapus outliers pada kolom unit_price."
      ],
      "metadata": {
        "id": "dlilvxGttIOn"
      }
    },
    {
      "cell_type": "code",
      "source": [
        "Q1 = df['total'].quantile(0.25)\n",
        "Q3 = df['total'].quantile(0.75)\n",
        "IQR = Q3 - Q1\n",
        "whisker_width = 1.5\n",
        "lower_whisker = Q1 -(whisker_width * IQR)\n",
        "upper_whisker = Q3 + (whisker_width * IQR)\n",
        "df['total']=np.where(df['total']>upper_whisker,upper_whisker,np.where(df['total']<lower_whisker,lower_whisker,df['total']))"
      ],
      "metadata": {
        "colab": {
          "base_uri": "https://localhost:8080/"
        },
        "id": "JtWtK4zjtQoc",
        "outputId": "9fbc105f-7e47-4f1e-bac2-3b8d2c5cee37"
      },
      "execution_count": 146,
      "outputs": [
        {
          "output_type": "stream",
          "name": "stderr",
          "text": [
            "<ipython-input-146-56d7a43e3334>:7: SettingWithCopyWarning: \n",
            "A value is trying to be set on a copy of a slice from a DataFrame.\n",
            "Try using .loc[row_indexer,col_indexer] = value instead\n",
            "\n",
            "See the caveats in the documentation: https://pandas.pydata.org/pandas-docs/stable/user_guide/indexing.html#returning-a-view-versus-a-copy\n",
            "  df['total']=np.where(df['total']>upper_whisker,upper_whisker,np.where(df['total']<lower_whisker,lower_whisker,df['total']))\n"
          ]
        }
      ]
    },
    {
      "cell_type": "markdown",
      "source": [
        "Kode diatas adalah kode untuk mengimputasi outliers pada kolom total."
      ],
      "metadata": {
        "id": "_pVl3zHktq5E"
      }
    },
    {
      "cell_type": "code",
      "source": [
        "results = []\n",
        "\n",
        "cols = df.select_dtypes(include=['float64', 'int64'])\n",
        "\n",
        "for col in cols:\n",
        "  q1 = df[col].quantile(0.25)\n",
        "  q3 = df[col].quantile(0.75)\n",
        "  iqr = q3 - q1\n",
        "  lower_bound = q1 - 1.5*iqr\n",
        "  upper_bound = q3 + 1.5*iqr\n",
        "  outliers = df[(df[col] < lower_bound) | (df[col] > upper_bound)]\n",
        "  percent_outliers = (len(outliers)/len(df))*100\n",
        "  results.append({'Kolom': col, 'Persentase Outliers': percent_outliers})\n",
        "\n",
        "# Dataframe dari list hasil\n",
        "results_df = pd.DataFrame(results)\n",
        "results_df.set_index('Kolom', inplace=True)\n",
        "results_df = results_df.rename_axis(None, axis=0).rename_axis('Kolom', axis=1)\n",
        "\n",
        "# Tampilkan dataframe\n",
        "display(results_df)"
      ],
      "metadata": {
        "colab": {
          "base_uri": "https://localhost:8080/",
          "height": 143
        },
        "id": "g1Rq2g3kthNu",
        "outputId": "27f65d93-d252-4980-a6c3-d5120d21b485"
      },
      "execution_count": 147,
      "outputs": [
        {
          "output_type": "display_data",
          "data": {
            "text/plain": [
              "Kolom       Persentase Outliers\n",
              "quantity              13.441955\n",
              "unit_price             0.407332\n",
              "total                  0.000000"
            ],
            "text/html": [
              "\n",
              "  <div id=\"df-e5e11247-c4ae-46c4-9780-f6c131aee95b\" class=\"colab-df-container\">\n",
              "    <div>\n",
              "<style scoped>\n",
              "    .dataframe tbody tr th:only-of-type {\n",
              "        vertical-align: middle;\n",
              "    }\n",
              "\n",
              "    .dataframe tbody tr th {\n",
              "        vertical-align: top;\n",
              "    }\n",
              "\n",
              "    .dataframe thead th {\n",
              "        text-align: right;\n",
              "    }\n",
              "</style>\n",
              "<table border=\"1\" class=\"dataframe\">\n",
              "  <thead>\n",
              "    <tr style=\"text-align: right;\">\n",
              "      <th>Kolom</th>\n",
              "      <th>Persentase Outliers</th>\n",
              "    </tr>\n",
              "  </thead>\n",
              "  <tbody>\n",
              "    <tr>\n",
              "      <th>quantity</th>\n",
              "      <td>13.441955</td>\n",
              "    </tr>\n",
              "    <tr>\n",
              "      <th>unit_price</th>\n",
              "      <td>0.407332</td>\n",
              "    </tr>\n",
              "    <tr>\n",
              "      <th>total</th>\n",
              "      <td>0.000000</td>\n",
              "    </tr>\n",
              "  </tbody>\n",
              "</table>\n",
              "</div>\n",
              "    <div class=\"colab-df-buttons\">\n",
              "\n",
              "  <div class=\"colab-df-container\">\n",
              "    <button class=\"colab-df-convert\" onclick=\"convertToInteractive('df-e5e11247-c4ae-46c4-9780-f6c131aee95b')\"\n",
              "            title=\"Convert this dataframe to an interactive table.\"\n",
              "            style=\"display:none;\">\n",
              "\n",
              "  <svg xmlns=\"http://www.w3.org/2000/svg\" height=\"24px\" viewBox=\"0 -960 960 960\">\n",
              "    <path d=\"M120-120v-720h720v720H120Zm60-500h600v-160H180v160Zm220 220h160v-160H400v160Zm0 220h160v-160H400v160ZM180-400h160v-160H180v160Zm440 0h160v-160H620v160ZM180-180h160v-160H180v160Zm440 0h160v-160H620v160Z\"/>\n",
              "  </svg>\n",
              "    </button>\n",
              "\n",
              "  <style>\n",
              "    .colab-df-container {\n",
              "      display:flex;\n",
              "      gap: 12px;\n",
              "    }\n",
              "\n",
              "    .colab-df-convert {\n",
              "      background-color: #E8F0FE;\n",
              "      border: none;\n",
              "      border-radius: 50%;\n",
              "      cursor: pointer;\n",
              "      display: none;\n",
              "      fill: #1967D2;\n",
              "      height: 32px;\n",
              "      padding: 0 0 0 0;\n",
              "      width: 32px;\n",
              "    }\n",
              "\n",
              "    .colab-df-convert:hover {\n",
              "      background-color: #E2EBFA;\n",
              "      box-shadow: 0px 1px 2px rgba(60, 64, 67, 0.3), 0px 1px 3px 1px rgba(60, 64, 67, 0.15);\n",
              "      fill: #174EA6;\n",
              "    }\n",
              "\n",
              "    .colab-df-buttons div {\n",
              "      margin-bottom: 4px;\n",
              "    }\n",
              "\n",
              "    [theme=dark] .colab-df-convert {\n",
              "      background-color: #3B4455;\n",
              "      fill: #D2E3FC;\n",
              "    }\n",
              "\n",
              "    [theme=dark] .colab-df-convert:hover {\n",
              "      background-color: #434B5C;\n",
              "      box-shadow: 0px 1px 3px 1px rgba(0, 0, 0, 0.15);\n",
              "      filter: drop-shadow(0px 1px 2px rgba(0, 0, 0, 0.3));\n",
              "      fill: #FFFFFF;\n",
              "    }\n",
              "  </style>\n",
              "\n",
              "    <script>\n",
              "      const buttonEl =\n",
              "        document.querySelector('#df-e5e11247-c4ae-46c4-9780-f6c131aee95b button.colab-df-convert');\n",
              "      buttonEl.style.display =\n",
              "        google.colab.kernel.accessAllowed ? 'block' : 'none';\n",
              "\n",
              "      async function convertToInteractive(key) {\n",
              "        const element = document.querySelector('#df-e5e11247-c4ae-46c4-9780-f6c131aee95b');\n",
              "        const dataTable =\n",
              "          await google.colab.kernel.invokeFunction('convertToInteractive',\n",
              "                                                    [key], {});\n",
              "        if (!dataTable) return;\n",
              "\n",
              "        const docLinkHtml = 'Like what you see? Visit the ' +\n",
              "          '<a target=\"_blank\" href=https://colab.research.google.com/notebooks/data_table.ipynb>data table notebook</a>'\n",
              "          + ' to learn more about interactive tables.';\n",
              "        element.innerHTML = '';\n",
              "        dataTable['output_type'] = 'display_data';\n",
              "        await google.colab.output.renderOutput(dataTable, element);\n",
              "        const docLink = document.createElement('div');\n",
              "        docLink.innerHTML = docLinkHtml;\n",
              "        element.appendChild(docLink);\n",
              "      }\n",
              "    </script>\n",
              "  </div>\n",
              "\n",
              "\n",
              "<div id=\"df-99ab6cb5-2f1f-4956-8dec-6ee330cd33b1\">\n",
              "  <button class=\"colab-df-quickchart\" onclick=\"quickchart('df-99ab6cb5-2f1f-4956-8dec-6ee330cd33b1')\"\n",
              "            title=\"Suggest charts\"\n",
              "            style=\"display:none;\">\n",
              "\n",
              "<svg xmlns=\"http://www.w3.org/2000/svg\" height=\"24px\"viewBox=\"0 0 24 24\"\n",
              "     width=\"24px\">\n",
              "    <g>\n",
              "        <path d=\"M19 3H5c-1.1 0-2 .9-2 2v14c0 1.1.9 2 2 2h14c1.1 0 2-.9 2-2V5c0-1.1-.9-2-2-2zM9 17H7v-7h2v7zm4 0h-2V7h2v10zm4 0h-2v-4h2v4z\"/>\n",
              "    </g>\n",
              "</svg>\n",
              "  </button>\n",
              "\n",
              "<style>\n",
              "  .colab-df-quickchart {\n",
              "      --bg-color: #E8F0FE;\n",
              "      --fill-color: #1967D2;\n",
              "      --hover-bg-color: #E2EBFA;\n",
              "      --hover-fill-color: #174EA6;\n",
              "      --disabled-fill-color: #AAA;\n",
              "      --disabled-bg-color: #DDD;\n",
              "  }\n",
              "\n",
              "  [theme=dark] .colab-df-quickchart {\n",
              "      --bg-color: #3B4455;\n",
              "      --fill-color: #D2E3FC;\n",
              "      --hover-bg-color: #434B5C;\n",
              "      --hover-fill-color: #FFFFFF;\n",
              "      --disabled-bg-color: #3B4455;\n",
              "      --disabled-fill-color: #666;\n",
              "  }\n",
              "\n",
              "  .colab-df-quickchart {\n",
              "    background-color: var(--bg-color);\n",
              "    border: none;\n",
              "    border-radius: 50%;\n",
              "    cursor: pointer;\n",
              "    display: none;\n",
              "    fill: var(--fill-color);\n",
              "    height: 32px;\n",
              "    padding: 0;\n",
              "    width: 32px;\n",
              "  }\n",
              "\n",
              "  .colab-df-quickchart:hover {\n",
              "    background-color: var(--hover-bg-color);\n",
              "    box-shadow: 0 1px 2px rgba(60, 64, 67, 0.3), 0 1px 3px 1px rgba(60, 64, 67, 0.15);\n",
              "    fill: var(--button-hover-fill-color);\n",
              "  }\n",
              "\n",
              "  .colab-df-quickchart-complete:disabled,\n",
              "  .colab-df-quickchart-complete:disabled:hover {\n",
              "    background-color: var(--disabled-bg-color);\n",
              "    fill: var(--disabled-fill-color);\n",
              "    box-shadow: none;\n",
              "  }\n",
              "\n",
              "  .colab-df-spinner {\n",
              "    border: 2px solid var(--fill-color);\n",
              "    border-color: transparent;\n",
              "    border-bottom-color: var(--fill-color);\n",
              "    animation:\n",
              "      spin 1s steps(1) infinite;\n",
              "  }\n",
              "\n",
              "  @keyframes spin {\n",
              "    0% {\n",
              "      border-color: transparent;\n",
              "      border-bottom-color: var(--fill-color);\n",
              "      border-left-color: var(--fill-color);\n",
              "    }\n",
              "    20% {\n",
              "      border-color: transparent;\n",
              "      border-left-color: var(--fill-color);\n",
              "      border-top-color: var(--fill-color);\n",
              "    }\n",
              "    30% {\n",
              "      border-color: transparent;\n",
              "      border-left-color: var(--fill-color);\n",
              "      border-top-color: var(--fill-color);\n",
              "      border-right-color: var(--fill-color);\n",
              "    }\n",
              "    40% {\n",
              "      border-color: transparent;\n",
              "      border-right-color: var(--fill-color);\n",
              "      border-top-color: var(--fill-color);\n",
              "    }\n",
              "    60% {\n",
              "      border-color: transparent;\n",
              "      border-right-color: var(--fill-color);\n",
              "    }\n",
              "    80% {\n",
              "      border-color: transparent;\n",
              "      border-right-color: var(--fill-color);\n",
              "      border-bottom-color: var(--fill-color);\n",
              "    }\n",
              "    90% {\n",
              "      border-color: transparent;\n",
              "      border-bottom-color: var(--fill-color);\n",
              "    }\n",
              "  }\n",
              "</style>\n",
              "\n",
              "  <script>\n",
              "    async function quickchart(key) {\n",
              "      const quickchartButtonEl =\n",
              "        document.querySelector('#' + key + ' button');\n",
              "      quickchartButtonEl.disabled = true;  // To prevent multiple clicks.\n",
              "      quickchartButtonEl.classList.add('colab-df-spinner');\n",
              "      try {\n",
              "        const charts = await google.colab.kernel.invokeFunction(\n",
              "            'suggestCharts', [key], {});\n",
              "      } catch (error) {\n",
              "        console.error('Error during call to suggestCharts:', error);\n",
              "      }\n",
              "      quickchartButtonEl.classList.remove('colab-df-spinner');\n",
              "      quickchartButtonEl.classList.add('colab-df-quickchart-complete');\n",
              "    }\n",
              "    (() => {\n",
              "      let quickchartButtonEl =\n",
              "        document.querySelector('#df-99ab6cb5-2f1f-4956-8dec-6ee330cd33b1 button');\n",
              "      quickchartButtonEl.style.display =\n",
              "        google.colab.kernel.accessAllowed ? 'block' : 'none';\n",
              "    })();\n",
              "  </script>\n",
              "</div>\n",
              "    </div>\n",
              "  </div>\n"
            ],
            "application/vnd.google.colaboratory.intrinsic+json": {
              "type": "dataframe",
              "variable_name": "results_df",
              "summary": "{\n  \"name\": \"results_df\",\n  \"rows\": 3,\n  \"fields\": [\n    {\n      \"column\": \"Persentase Outliers\",\n      \"properties\": {\n        \"dtype\": \"number\",\n        \"std\": 7.645842892220549,\n        \"min\": 0.0,\n        \"max\": 13.441955193482688,\n        \"num_unique_values\": 3,\n        \"samples\": [\n          13.441955193482688,\n          0.40733197556008144,\n          0.0\n        ],\n        \"semantic_type\": \"\",\n        \"description\": \"\"\n      }\n    }\n  ]\n}"
            }
          },
          "metadata": {}
        }
      ]
    },
    {
      "cell_type": "code",
      "source": [
        "boxplot = df.boxplot(grid=False, rot=45,  figsize=(8,6))"
      ],
      "metadata": {
        "colab": {
          "base_uri": "https://localhost:8080/",
          "height": 567
        },
        "id": "5htSA2Tyt16Z",
        "outputId": "790fe751-24a6-4adc-b9d8-d5d9d915ca5c"
      },
      "execution_count": 148,
      "outputs": [
        {
          "output_type": "display_data",
          "data": {
            "text/plain": [
              "<Figure size 800x600 with 1 Axes>"
            ],
            "image/png": "[encoded data removed]"
          },
          "metadata": {}
        }
      ]
    },
    {
      "cell_type": "markdown",
      "source": [
        "Jadi, setelah melakukan proses menghapusan dan mengimputasi outliers dari dataframe yang akan dianalisis, maka akan ditampilkan hasil seperti diatas, yaitu pada tabel persentase outliers dan boxplot."
      ],
      "metadata": {
        "id": "vZIq_8hPuBZb"
      }
    },
    {
      "cell_type": "markdown",
      "source": [
        "### **Construct Data**"
      ],
      "metadata": {
        "id": "pf5DmwCSoZv3"
      }
    },
    {
      "cell_type": "markdown",
      "source": [
        "#### **Melakukan Penambahan Kolom**"
      ],
      "metadata": {
        "id": "3QV2xVxi3Bok"
      }
    },
    {
      "cell_type": "markdown",
      "source": [
        "Untuk membantu dan memudahkan proses analisis, perlu dilakukan construct data dengan mengubah struktur data agar sesuai dengan kebutuhan analisis. Pada dataframe yang dianalisis terdapat kolom date yang mencakup tanggal, bulan, dan tahun yang digabungkan menjadi satu. Untuk memudahkan analisis dilakukan penambahan kolom baru, yaitu bulan."
      ],
      "metadata": {
        "id": "XhrquGM-onDE"
      }
    },
    {
      "cell_type": "code",
      "source": [
        "# Membuat kolom baru untuk bulan\n",
        "df['date'] = pd.to_datetime(df['date'])\n",
        "df['bulan'] = df['date'].dt.month\n",
        "\n",
        "# Membuat dictionary nama bulan\n",
        "nama_bulan = {1: 'January', 2: 'February', 3: 'March', 4: 'April', 5: 'May', 6: 'June', 7: 'July', 8: 'August', 9: 'September', 10: 'October', 11: 'November', 12: 'December'}\n",
        "\n",
        "# Mengonversi nilai bulan menjadi nama bulan\n",
        "df['bulan'] = df['bulan'].map(nama_bulan)\n",
        "\n",
        "# Menampilkan dataframe\n",
        "print(df)"
      ],
      "metadata": {
        "colab": {
          "base_uri": "https://localhost:8080/"
        },
        "id": "khK7TJ-Iw7C5",
        "outputId": "6c39944a-bc61-49b8-b1a6-f74e320ea097"
      },
      "execution_count": 149,
      "outputs": [
        {
          "output_type": "stream",
          "name": "stdout",
          "text": [
            "          date warehouse client_type           product_line  quantity  \\\n",
            "0   2021-06-01   Central      Retail          Miscellaneous         8   \n",
            "1   2021-06-01     North      Retail        Breaking system         9   \n",
            "2   2021-06-01     North      Retail  Suspension & traction         8   \n",
            "3   2021-06-01     North   Wholesale           Frame & body        16   \n",
            "4   2021-06-01   Central      Retail                 Engine         2   \n",
            "..         ...       ...         ...                    ...       ...   \n",
            "995 2021-08-28   Central      Retail      Electrical system         9   \n",
            "996 2021-08-28      West   Wholesale        Breaking system        32   \n",
            "997 2021-08-28      West   Wholesale      Electrical system        12   \n",
            "998 2021-08-28     North      Retail           Frame & body         5   \n",
            "999 2021-08-28     North   Wholesale      Electrical system        20   \n",
            "\n",
            "     unit_price   total      payment   bulan  \n",
            "0         16.85  134.83  Credit card    June  \n",
            "1         19.29  173.61         Cash    June  \n",
            "2         32.93  263.45  Credit card    June  \n",
            "3         37.84  605.44     Transfer    June  \n",
            "4         60.48  120.96  Credit card    June  \n",
            "..          ...     ...          ...     ...  \n",
            "995       32.87  295.83  Credit card  August  \n",
            "996       10.03  320.96     Transfer  August  \n",
            "997       32.80  393.64     Transfer  August  \n",
            "998       48.25  241.23         Cash  August  \n",
            "999       27.41  548.13     Transfer  August  \n",
            "\n",
            "[982 rows x 9 columns]\n"
          ]
        },
        {
          "output_type": "stream",
          "name": "stderr",
          "text": [
            "<ipython-input-149-5761d185e81a>:2: SettingWithCopyWarning: \n",
            "A value is trying to be set on a copy of a slice from a DataFrame.\n",
            "Try using .loc[row_indexer,col_indexer] = value instead\n",
            "\n",
            "See the caveats in the documentation: https://pandas.pydata.org/pandas-docs/stable/user_guide/indexing.html#returning-a-view-versus-a-copy\n",
            "  df['date'] = pd.to_datetime(df['date'])\n",
            "<ipython-input-149-5761d185e81a>:3: SettingWithCopyWarning: \n",
            "A value is trying to be set on a copy of a slice from a DataFrame.\n",
            "Try using .loc[row_indexer,col_indexer] = value instead\n",
            "\n",
            "See the caveats in the documentation: https://pandas.pydata.org/pandas-docs/stable/user_guide/indexing.html#returning-a-view-versus-a-copy\n",
            "  df['bulan'] = df['date'].dt.month\n",
            "<ipython-input-149-5761d185e81a>:9: SettingWithCopyWarning: \n",
            "A value is trying to be set on a copy of a slice from a DataFrame.\n",
            "Try using .loc[row_indexer,col_indexer] = value instead\n",
            "\n",
            "See the caveats in the documentation: https://pandas.pydata.org/pandas-docs/stable/user_guide/indexing.html#returning-a-view-versus-a-copy\n",
            "  df['bulan'] = df['bulan'].map(nama_bulan)\n"
          ]
        }
      ]
    },
    {
      "cell_type": "markdown",
      "source": [
        "#### **Pengecekan Hasil**"
      ],
      "metadata": {
        "id": "0HUTXWR63JYW"
      }
    },
    {
      "cell_type": "code",
      "source": [
        "df.head()"
      ],
      "metadata": {
        "colab": {
          "base_uri": "https://localhost:8080/",
          "height": 206
        },
        "id": "mJoiGCECw7zK",
        "outputId": "fca2bce7-4250-4148-8f52-afae9d862e81"
      },
      "execution_count": 150,
      "outputs": [
        {
          "output_type": "execute_result",
          "data": {
            "text/plain": [
              "        date warehouse client_type           product_line  quantity  \\\n",
              "0 2021-06-01   Central      Retail          Miscellaneous         8   \n",
              "1 2021-06-01     North      Retail        Breaking system         9   \n",
              "2 2021-06-01     North      Retail  Suspension & traction         8   \n",
              "3 2021-06-01     North   Wholesale           Frame & body        16   \n",
              "4 2021-06-01   Central      Retail                 Engine         2   \n",
              "\n",
              "   unit_price   total      payment bulan  \n",
              "0       16.85  134.83  Credit card  June  \n",
              "1       19.29  173.61         Cash  June  \n",
              "2       32.93  263.45  Credit card  June  \n",
              "3       37.84  605.44     Transfer  June  \n",
              "4       60.48  120.96  Credit card  June  "
            ],
            "text/html": [
              "\n",
              "  <div id=\"df-4c6d6462-9f9f-4d7a-9b05-dc94ef30c2df\" class=\"colab-df-container\">\n",
              "    <div>\n",
              "<style scoped>\n",
              "    .dataframe tbody tr th:only-of-type {\n",
              "        vertical-align: middle;\n",
              "    }\n",
              "\n",
              "    .dataframe tbody tr th {\n",
              "        vertical-align: top;\n",
              "    }\n",
              "\n",
              "    .dataframe thead th {\n",
              "        text-align: right;\n",
              "    }\n",
              "</style>\n",
              "<table border=\"1\" class=\"dataframe\">\n",
              "  <thead>\n",
              "    <tr style=\"text-align: right;\">\n",
              "      <th></th>\n",
              "      <th>date</th>\n",
              "      <th>warehouse</th>\n",
              "      <th>client_type</th>\n",
              "      <th>product_line</th>\n",
              "      <th>quantity</th>\n",
              "      <th>unit_price</th>\n",
              "      <th>total</th>\n",
              "      <th>payment</th>\n",
              "      <th>bulan</th>\n",
              "    </tr>\n",
              "  </thead>\n",
              "  <tbody>\n",
              "    <tr>\n",
              "      <th>0</th>\n",
              "      <td>2021-06-01</td>\n",
              "      <td>Central</td>\n",
              "      <td>Retail</td>\n",
              "      <td>Miscellaneous</td>\n",
              "      <td>8</td>\n",
              "      <td>16.85</td>\n",
              "      <td>134.83</td>\n",
              "      <td>Credit card</td>\n",
              "      <td>June</td>\n",
              "    </tr>\n",
              "    <tr>\n",
              "      <th>1</th>\n",
              "      <td>2021-06-01</td>\n",
              "      <td>North</td>\n",
              "      <td>Retail</td>\n",
              "      <td>Breaking system</td>\n",
              "      <td>9</td>\n",
              "      <td>19.29</td>\n",
              "      <td>173.61</td>\n",
              "      <td>Cash</td>\n",
              "      <td>June</td>\n",
              "    </tr>\n",
              "    <tr>\n",
              "      <th>2</th>\n",
              "      <td>2021-06-01</td>\n",
              "      <td>North</td>\n",
              "      <td>Retail</td>\n",
              "      <td>Suspension &amp; traction</td>\n",
              "      <td>8</td>\n",
              "      <td>32.93</td>\n",
              "      <td>263.45</td>\n",
              "      <td>Credit card</td>\n",
              "      <td>June</td>\n",
              "    </tr>\n",
              "    <tr>\n",
              "      <th>3</th>\n",
              "      <td>2021-06-01</td>\n",
              "      <td>North</td>\n",
              "      <td>Wholesale</td>\n",
              "      <td>Frame &amp; body</td>\n",
              "      <td>16</td>\n",
              "      <td>37.84</td>\n",
              "      <td>605.44</td>\n",
              "      <td>Transfer</td>\n",
              "      <td>June</td>\n",
              "    </tr>\n",
              "    <tr>\n",
              "      <th>4</th>\n",
              "      <td>2021-06-01</td>\n",
              "      <td>Central</td>\n",
              "      <td>Retail</td>\n",
              "      <td>Engine</td>\n",
              "      <td>2</td>\n",
              "      <td>60.48</td>\n",
              "      <td>120.96</td>\n",
              "      <td>Credit card</td>\n",
              "      <td>June</td>\n",
              "    </tr>\n",
              "  </tbody>\n",
              "</table>\n",
              "</div>\n",
              "    <div class=\"colab-df-buttons\">\n",
              "\n",
              "  <div class=\"colab-df-container\">\n",
              "    <button class=\"colab-df-convert\" onclick=\"convertToInteractive('df-4c6d6462-9f9f-4d7a-9b05-dc94ef30c2df')\"\n",
              "            title=\"Convert this dataframe to an interactive table.\"\n",
              "            style=\"display:none;\">\n",
              "\n",
              "  <svg xmlns=\"http://www.w3.org/2000/svg\" height=\"24px\" viewBox=\"0 -960 960 960\">\n",
              "    <path d=\"M120-120v-720h720v720H120Zm60-500h600v-160H180v160Zm220 220h160v-160H400v160Zm0 220h160v-160H400v160ZM180-400h160v-160H180v160Zm440 0h160v-160H620v160ZM180-180h160v-160H180v160Zm440 0h160v-160H620v160Z\"/>\n",
              "  </svg>\n",
              "    </button>\n",
              "\n",
              "  <style>\n",
              "    .colab-df-container {\n",
              "      display:flex;\n",
              "      gap: 12px;\n",
              "    }\n",
              "\n",
              "    .colab-df-convert {\n",
              "      background-color: #E8F0FE;\n",
              "      border: none;\n",
              "      border-radius: 50%;\n",
              "      cursor: pointer;\n",
              "      display: none;\n",
              "      fill: #1967D2;\n",
              "      height: 32px;\n",
              "      padding: 0 0 0 0;\n",
              "      width: 32px;\n",
              "    }\n",
              "\n",
              "    .colab-df-convert:hover {\n",
              "      background-color: #E2EBFA;\n",
              "      box-shadow: 0px 1px 2px rgba(60, 64, 67, 0.3), 0px 1px 3px 1px rgba(60, 64, 67, 0.15);\n",
              "      fill: #174EA6;\n",
              "    }\n",
              "\n",
              "    .colab-df-buttons div {\n",
              "      margin-bottom: 4px;\n",
              "    }\n",
              "\n",
              "    [theme=dark] .colab-df-convert {\n",
              "      background-color: #3B4455;\n",
              "      fill: #D2E3FC;\n",
              "    }\n",
              "\n",
              "    [theme=dark] .colab-df-convert:hover {\n",
              "      background-color: #434B5C;\n",
              "      box-shadow: 0px 1px 3px 1px rgba(0, 0, 0, 0.15);\n",
              "      filter: drop-shadow(0px 1px 2px rgba(0, 0, 0, 0.3));\n",
              "      fill: #FFFFFF;\n",
              "    }\n",
              "  </style>\n",
              "\n",
              "    <script>\n",
              "      const buttonEl =\n",
              "        document.querySelector('#df-4c6d6462-9f9f-4d7a-9b05-dc94ef30c2df button.colab-df-convert');\n",
              "      buttonEl.style.display =\n",
              "        google.colab.kernel.accessAllowed ? 'block' : 'none';\n",
              "\n",
              "      async function convertToInteractive(key) {\n",
              "        const element = document.querySelector('#df-4c6d6462-9f9f-4d7a-9b05-dc94ef30c2df');\n",
              "        const dataTable =\n",
              "          await google.colab.kernel.invokeFunction('convertToInteractive',\n",
              "                                                    [key], {});\n",
              "        if (!dataTable) return;\n",
              "\n",
              "        const docLinkHtml = 'Like what you see? Visit the ' +\n",
              "          '<a target=\"_blank\" href=https://colab.research.google.com/notebooks/data_table.ipynb>data table notebook</a>'\n",
              "          + ' to learn more about interactive tables.';\n",
              "        element.innerHTML = '';\n",
              "        dataTable['output_type'] = 'display_data';\n",
              "        await google.colab.output.renderOutput(dataTable, element);\n",
              "        const docLink = document.createElement('div');\n",
              "        docLink.innerHTML = docLinkHtml;\n",
              "        element.appendChild(docLink);\n",
              "      }\n",
              "    </script>\n",
              "  </div>\n",
              "\n",
              "\n",
              "<div id=\"df-915a8d4f-6f2d-487d-bcd5-eba06bb359e9\">\n",
              "  <button class=\"colab-df-quickchart\" onclick=\"quickchart('df-915a8d4f-6f2d-487d-bcd5-eba06bb359e9')\"\n",
              "            title=\"Suggest charts\"\n",
              "            style=\"display:none;\">\n",
              "\n",
              "<svg xmlns=\"http://www.w3.org/2000/svg\" height=\"24px\"viewBox=\"0 0 24 24\"\n",
              "     width=\"24px\">\n",
              "    <g>\n",
              "        <path d=\"M19 3H5c-1.1 0-2 .9-2 2v14c0 1.1.9 2 2 2h14c1.1 0 2-.9 2-2V5c0-1.1-.9-2-2-2zM9 17H7v-7h2v7zm4 0h-2V7h2v10zm4 0h-2v-4h2v4z\"/>\n",
              "    </g>\n",
              "</svg>\n",
              "  </button>\n",
              "\n",
              "<style>\n",
              "  .colab-df-quickchart {\n",
              "      --bg-color: #E8F0FE;\n",
              "      --fill-color: #1967D2;\n",
              "      --hover-bg-color: #E2EBFA;\n",
              "      --hover-fill-color: #174EA6;\n",
              "      --disabled-fill-color: #AAA;\n",
              "      --disabled-bg-color: #DDD;\n",
              "  }\n",
              "\n",
              "  [theme=dark] .colab-df-quickchart {\n",
              "      --bg-color: #3B4455;\n",
              "      --fill-color: #D2E3FC;\n",
              "      --hover-bg-color: #434B5C;\n",
              "      --hover-fill-color: #FFFFFF;\n",
              "      --disabled-bg-color: #3B4455;\n",
              "      --disabled-fill-color: #666;\n",
              "  }\n",
              "\n",
              "  .colab-df-quickchart {\n",
              "    background-color: var(--bg-color);\n",
              "    border: none;\n",
              "    border-radius: 50%;\n",
              "    cursor: pointer;\n",
              "    display: none;\n",
              "    fill: var(--fill-color);\n",
              "    height: 32px;\n",
              "    padding: 0;\n",
              "    width: 32px;\n",
              "  }\n",
              "\n",
              "  .colab-df-quickchart:hover {\n",
              "    background-color: var(--hover-bg-color);\n",
              "    box-shadow: 0 1px 2px rgba(60, 64, 67, 0.3), 0 1px 3px 1px rgba(60, 64, 67, 0.15);\n",
              "    fill: var(--button-hover-fill-color);\n",
              "  }\n",
              "\n",
              "  .colab-df-quickchart-complete:disabled,\n",
              "  .colab-df-quickchart-complete:disabled:hover {\n",
              "    background-color: var(--disabled-bg-color);\n",
              "    fill: var(--disabled-fill-color);\n",
              "    box-shadow: none;\n",
              "  }\n",
              "\n",
              "  .colab-df-spinner {\n",
              "    border: 2px solid var(--fill-color);\n",
              "    border-color: transparent;\n",
              "    border-bottom-color: var(--fill-color);\n",
              "    animation:\n",
              "      spin 1s steps(1) infinite;\n",
              "  }\n",
              "\n",
              "  @keyframes spin {\n",
              "    0% {\n",
              "      border-color: transparent;\n",
              "      border-bottom-color: var(--fill-color);\n",
              "      border-left-color: var(--fill-color);\n",
              "    }\n",
              "    20% {\n",
              "      border-color: transparent;\n",
              "      border-left-color: var(--fill-color);\n",
              "      border-top-color: var(--fill-color);\n",
              "    }\n",
              "    30% {\n",
              "      border-color: transparent;\n",
              "      border-left-color: var(--fill-color);\n",
              "      border-top-color: var(--fill-color);\n",
              "      border-right-color: var(--fill-color);\n",
              "    }\n",
              "    40% {\n",
              "      border-color: transparent;\n",
              "      border-right-color: var(--fill-color);\n",
              "      border-top-color: var(--fill-color);\n",
              "    }\n",
              "    60% {\n",
              "      border-color: transparent;\n",
              "      border-right-color: var(--fill-color);\n",
              "    }\n",
              "    80% {\n",
              "      border-color: transparent;\n",
              "      border-right-color: var(--fill-color);\n",
              "      border-bottom-color: var(--fill-color);\n",
              "    }\n",
              "    90% {\n",
              "      border-color: transparent;\n",
              "      border-bottom-color: var(--fill-color);\n",
              "    }\n",
              "  }\n",
              "</style>\n",
              "\n",
              "  <script>\n",
              "    async function quickchart(key) {\n",
              "      const quickchartButtonEl =\n",
              "        document.querySelector('#' + key + ' button');\n",
              "      quickchartButtonEl.disabled = true;  // To prevent multiple clicks.\n",
              "      quickchartButtonEl.classList.add('colab-df-spinner');\n",
              "      try {\n",
              "        const charts = await google.colab.kernel.invokeFunction(\n",
              "            'suggestCharts', [key], {});\n",
              "      } catch (error) {\n",
              "        console.error('Error during call to suggestCharts:', error);\n",
              "      }\n",
              "      quickchartButtonEl.classList.remove('colab-df-spinner');\n",
              "      quickchartButtonEl.classList.add('colab-df-quickchart-complete');\n",
              "    }\n",
              "    (() => {\n",
              "      let quickchartButtonEl =\n",
              "        document.querySelector('#df-915a8d4f-6f2d-487d-bcd5-eba06bb359e9 button');\n",
              "      quickchartButtonEl.style.display =\n",
              "        google.colab.kernel.accessAllowed ? 'block' : 'none';\n",
              "    })();\n",
              "  </script>\n",
              "</div>\n",
              "    </div>\n",
              "  </div>\n"
            ],
            "application/vnd.google.colaboratory.intrinsic+json": {
              "type": "dataframe",
              "variable_name": "df",
              "summary": "{\n  \"name\": \"df\",\n  \"rows\": 982,\n  \"fields\": [\n    {\n      \"column\": \"date\",\n      \"properties\": {\n        \"dtype\": \"date\",\n        \"min\": \"2021-06-01 00:00:00\",\n        \"max\": \"2021-08-28 00:00:00\",\n        \"num_unique_values\": 89,\n        \"samples\": [\n          \"2021-07-15 00:00:00\",\n          \"2021-07-24 00:00:00\",\n          \"2021-07-01 00:00:00\"\n        ],\n        \"semantic_type\": \"\",\n        \"description\": \"\"\n      }\n    },\n    {\n      \"column\": \"warehouse\",\n      \"properties\": {\n        \"dtype\": \"category\",\n        \"num_unique_values\": 3,\n        \"samples\": [\n          \"Central\",\n          \"North\",\n          \"West\"\n        ],\n        \"semantic_type\": \"\",\n        \"description\": \"\"\n      }\n    },\n    {\n      \"column\": \"client_type\",\n      \"properties\": {\n        \"dtype\": \"category\",\n        \"num_unique_values\": 2,\n        \"samples\": [\n          \"Wholesale\",\n          \"Retail\"\n        ],\n        \"semantic_type\": \"\",\n        \"description\": \"\"\n      }\n    },\n    {\n      \"column\": \"product_line\",\n      \"properties\": {\n        \"dtype\": \"category\",\n        \"num_unique_values\": 6,\n        \"samples\": [\n          \"Miscellaneous\",\n          \"Breaking system\"\n        ],\n        \"semantic_type\": \"\",\n        \"description\": \"\"\n      }\n    },\n    {\n      \"column\": \"quantity\",\n      \"properties\": {\n        \"dtype\": \"number\",\n        \"std\": 9,\n        \"min\": 1,\n        \"max\": 40,\n        \"num_unique_values\": 18,\n        \"samples\": [\n          8,\n          9\n        ],\n        \"semantic_type\": \"\",\n        \"description\": \"\"\n      }\n    },\n    {\n      \"column\": \"unit_price\",\n      \"properties\": {\n        \"dtype\": \"number\",\n        \"std\": 11.43063075957737,\n        \"min\": 10.03,\n        \"max\": 63.15,\n        \"num_unique_values\": 857,\n        \"samples\": [\n          40.48,\n          32.72\n        ],\n        \"semantic_type\": \"\",\n        \"description\": \"\"\n      }\n    },\n    {\n      \"column\": \"total\",\n      \"properties\": {\n        \"dtype\": \"number\",\n        \"std\": 191.22551733184764,\n        \"min\": 10.35,\n        \"max\": 646.3774999999999,\n        \"num_unique_values\": 874,\n        \"samples\": [\n          237.02,\n          135.49\n        ],\n        \"semantic_type\": \"\",\n        \"description\": \"\"\n      }\n    },\n    {\n      \"column\": \"payment\",\n      \"properties\": {\n        \"dtype\": \"category\",\n        \"num_unique_values\": 3,\n        \"samples\": [\n          \"Credit card\",\n          \"Cash\"\n        ],\n        \"semantic_type\": \"\",\n        \"description\": \"\"\n      }\n    },\n    {\n      \"column\": \"bulan\",\n      \"properties\": {\n        \"dtype\": \"category\",\n        \"num_unique_values\": 3,\n        \"samples\": [\n          \"June\",\n          \"July\"\n        ],\n        \"semantic_type\": \"\",\n        \"description\": \"\"\n      }\n    }\n  ]\n}"
            }
          },
          "metadata": {},
          "execution_count": 150
        }
      ]
    },
    {
      "cell_type": "markdown",
      "source": [
        "Setelah dilakukan proses penambahan kolom, yaitu kolom bulan, maka struktur data dari dataframe telah berubah."
      ],
      "metadata": {
        "id": "7xWzPX8Ww97v"
      }
    },
    {
      "cell_type": "markdown",
      "source": [
        "### **Data Reduction**"
      ],
      "metadata": {
        "id": "6UPIh1nUodYL"
      }
    },
    {
      "cell_type": "markdown",
      "source": [
        "#### **Penghapusan Kolom**"
      ],
      "metadata": {
        "id": "NnCy-vga3TkD"
      }
    },
    {
      "cell_type": "markdown",
      "source": [
        "Dapat dianalisis dari dataframe penjualan produk sparepart motor, bahwa sebelumnya telah ditambahkan kolom bulan. Karena kolom bulan sudah cukup mewakili, maka kolom date perlu dihapuskan agar tidak membuat bingung saat melakukan proses analisis."
      ],
      "metadata": {
        "id": "nqm2-d9fonfy"
      }
    },
    {
      "cell_type": "code",
      "source": [
        "df = df.drop(['date'], axis=1)"
      ],
      "metadata": {
        "id": "OWXctGTm00m9"
      },
      "execution_count": 151,
      "outputs": []
    },
    {
      "cell_type": "markdown",
      "source": [
        "#### **Pengecekan Hasil**"
      ],
      "metadata": {
        "id": "owRGYgnv3XoE"
      }
    },
    {
      "cell_type": "code",
      "source": [
        "df.head()"
      ],
      "metadata": {
        "colab": {
          "base_uri": "https://localhost:8080/",
          "height": 206
        },
        "id": "kfVGwvjE09mC",
        "outputId": "54ee5070-5011-420b-fbac-023b903e23c8"
      },
      "execution_count": 152,
      "outputs": [
        {
          "output_type": "execute_result",
          "data": {
            "text/plain": [
              "  warehouse client_type           product_line  quantity  unit_price   total  \\\n",
              "0   Central      Retail          Miscellaneous         8       16.85  134.83   \n",
              "1     North      Retail        Breaking system         9       19.29  173.61   \n",
              "2     North      Retail  Suspension & traction         8       32.93  263.45   \n",
              "3     North   Wholesale           Frame & body        16       37.84  605.44   \n",
              "4   Central      Retail                 Engine         2       60.48  120.96   \n",
              "\n",
              "       payment bulan  \n",
              "0  Credit card  June  \n",
              "1         Cash  June  \n",
              "2  Credit card  June  \n",
              "3     Transfer  June  \n",
              "4  Credit card  June  "
            ],
            "text/html": [
              "\n",
              "  <div id=\"df-417c2205-0afd-4f4a-aec6-8624aa2d481d\" class=\"colab-df-container\">\n",
              "    <div>\n",
              "<style scoped>\n",
              "    .dataframe tbody tr th:only-of-type {\n",
              "        vertical-align: middle;\n",
              "    }\n",
              "\n",
              "    .dataframe tbody tr th {\n",
              "        vertical-align: top;\n",
              "    }\n",
              "\n",
              "    .dataframe thead th {\n",
              "        text-align: right;\n",
              "    }\n",
              "</style>\n",
              "<table border=\"1\" class=\"dataframe\">\n",
              "  <thead>\n",
              "    <tr style=\"text-align: right;\">\n",
              "      <th></th>\n",
              "      <th>warehouse</th>\n",
              "      <th>client_type</th>\n",
              "      <th>product_line</th>\n",
              "      <th>quantity</th>\n",
              "      <th>unit_price</th>\n",
              "      <th>total</th>\n",
              "      <th>payment</th>\n",
              "      <th>bulan</th>\n",
              "    </tr>\n",
              "  </thead>\n",
              "  <tbody>\n",
              "    <tr>\n",
              "      <th>0</th>\n",
              "      <td>Central</td>\n",
              "      <td>Retail</td>\n",
              "      <td>Miscellaneous</td>\n",
              "      <td>8</td>\n",
              "      <td>16.85</td>\n",
              "      <td>134.83</td>\n",
              "      <td>Credit card</td>\n",
              "      <td>June</td>\n",
              "    </tr>\n",
              "    <tr>\n",
              "      <th>1</th>\n",
              "      <td>North</td>\n",
              "      <td>Retail</td>\n",
              "      <td>Breaking system</td>\n",
              "      <td>9</td>\n",
              "      <td>19.29</td>\n",
              "      <td>173.61</td>\n",
              "      <td>Cash</td>\n",
              "      <td>June</td>\n",
              "    </tr>\n",
              "    <tr>\n",
              "      <th>2</th>\n",
              "      <td>North</td>\n",
              "      <td>Retail</td>\n",
              "      <td>Suspension &amp; traction</td>\n",
              "      <td>8</td>\n",
              "      <td>32.93</td>\n",
              "      <td>263.45</td>\n",
              "      <td>Credit card</td>\n",
              "      <td>June</td>\n",
              "    </tr>\n",
              "    <tr>\n",
              "      <th>3</th>\n",
              "      <td>North</td>\n",
              "      <td>Wholesale</td>\n",
              "      <td>Frame &amp; body</td>\n",
              "      <td>16</td>\n",
              "      <td>37.84</td>\n",
              "      <td>605.44</td>\n",
              "      <td>Transfer</td>\n",
              "      <td>June</td>\n",
              "    </tr>\n",
              "    <tr>\n",
              "      <th>4</th>\n",
              "      <td>Central</td>\n",
              "      <td>Retail</td>\n",
              "      <td>Engine</td>\n",
              "      <td>2</td>\n",
              "      <td>60.48</td>\n",
              "      <td>120.96</td>\n",
              "      <td>Credit card</td>\n",
              "      <td>June</td>\n",
              "    </tr>\n",
              "  </tbody>\n",
              "</table>\n",
              "</div>\n",
              "    <div class=\"colab-df-buttons\">\n",
              "\n",
              "  <div class=\"colab-df-container\">\n",
              "    <button class=\"colab-df-convert\" onclick=\"convertToInteractive('df-417c2205-0afd-4f4a-aec6-8624aa2d481d')\"\n",
              "            title=\"Convert this dataframe to an interactive table.\"\n",
              "            style=\"display:none;\">\n",
              "\n",
              "  <svg xmlns=\"http://www.w3.org/2000/svg\" height=\"24px\" viewBox=\"0 -960 960 960\">\n",
              "    <path d=\"M120-120v-720h720v720H120Zm60-500h600v-160H180v160Zm220 220h160v-160H400v160Zm0 220h160v-160H400v160ZM180-400h160v-160H180v160Zm440 0h160v-160H620v160ZM180-180h160v-160H180v160Zm440 0h160v-160H620v160Z\"/>\n",
              "  </svg>\n",
              "    </button>\n",
              "\n",
              "  <style>\n",
              "    .colab-df-container {\n",
              "      display:flex;\n",
              "      gap: 12px;\n",
              "    }\n",
              "\n",
              "    .colab-df-convert {\n",
              "      background-color: #E8F0FE;\n",
              "      border: none;\n",
              "      border-radius: 50%;\n",
              "      cursor: pointer;\n",
              "      display: none;\n",
              "      fill: #1967D2;\n",
              "      height: 32px;\n",
              "      padding: 0 0 0 0;\n",
              "      width: 32px;\n",
              "    }\n",
              "\n",
              "    .colab-df-convert:hover {\n",
              "      background-color: #E2EBFA;\n",
              "      box-shadow: 0px 1px 2px rgba(60, 64, 67, 0.3), 0px 1px 3px 1px rgba(60, 64, 67, 0.15);\n",
              "      fill: #174EA6;\n",
              "    }\n",
              "\n",
              "    .colab-df-buttons div {\n",
              "      margin-bottom: 4px;\n",
              "    }\n",
              "\n",
              "    [theme=dark] .colab-df-convert {\n",
              "      background-color: #3B4455;\n",
              "      fill: #D2E3FC;\n",
              "    }\n",
              "\n",
              "    [theme=dark] .colab-df-convert:hover {\n",
              "      background-color: #434B5C;\n",
              "      box-shadow: 0px 1px 3px 1px rgba(0, 0, 0, 0.15);\n",
              "      filter: drop-shadow(0px 1px 2px rgba(0, 0, 0, 0.3));\n",
              "      fill: #FFFFFF;\n",
              "    }\n",
              "  </style>\n",
              "\n",
              "    <script>\n",
              "      const buttonEl =\n",
              "        document.querySelector('#df-417c2205-0afd-4f4a-aec6-8624aa2d481d button.colab-df-convert');\n",
              "      buttonEl.style.display =\n",
              "        google.colab.kernel.accessAllowed ? 'block' : 'none';\n",
              "\n",
              "      async function convertToInteractive(key) {\n",
              "        const element = document.querySelector('#df-417c2205-0afd-4f4a-aec6-8624aa2d481d');\n",
              "        const dataTable =\n",
              "          await google.colab.kernel.invokeFunction('convertToInteractive',\n",
              "                                                    [key], {});\n",
              "        if (!dataTable) return;\n",
              "\n",
              "        const docLinkHtml = 'Like what you see? Visit the ' +\n",
              "          '<a target=\"_blank\" href=https://colab.research.google.com/notebooks/data_table.ipynb>data table notebook</a>'\n",
              "          + ' to learn more about interactive tables.';\n",
              "        element.innerHTML = '';\n",
              "        dataTable['output_type'] = 'display_data';\n",
              "        await google.colab.output.renderOutput(dataTable, element);\n",
              "        const docLink = document.createElement('div');\n",
              "        docLink.innerHTML = docLinkHtml;\n",
              "        element.appendChild(docLink);\n",
              "      }\n",
              "    </script>\n",
              "  </div>\n",
              "\n",
              "\n",
              "<div id=\"df-b5254ccb-a346-4bfe-94fa-74adfeb5cd98\">\n",
              "  <button class=\"colab-df-quickchart\" onclick=\"quickchart('df-b5254ccb-a346-4bfe-94fa-74adfeb5cd98')\"\n",
              "            title=\"Suggest charts\"\n",
              "            style=\"display:none;\">\n",
              "\n",
              "<svg xmlns=\"http://www.w3.org/2000/svg\" height=\"24px\"viewBox=\"0 0 24 24\"\n",
              "     width=\"24px\">\n",
              "    <g>\n",
              "        <path d=\"M19 3H5c-1.1 0-2 .9-2 2v14c0 1.1.9 2 2 2h14c1.1 0 2-.9 2-2V5c0-1.1-.9-2-2-2zM9 17H7v-7h2v7zm4 0h-2V7h2v10zm4 0h-2v-4h2v4z\"/>\n",
              "    </g>\n",
              "</svg>\n",
              "  </button>\n",
              "\n",
              "<style>\n",
              "  .colab-df-quickchart {\n",
              "      --bg-color: #E8F0FE;\n",
              "      --fill-color: #1967D2;\n",
              "      --hover-bg-color: #E2EBFA;\n",
              "      --hover-fill-color: #174EA6;\n",
              "      --disabled-fill-color: #AAA;\n",
              "      --disabled-bg-color: #DDD;\n",
              "  }\n",
              "\n",
              "  [theme=dark] .colab-df-quickchart {\n",
              "      --bg-color: #3B4455;\n",
              "      --fill-color: #D2E3FC;\n",
              "      --hover-bg-color: #434B5C;\n",
              "      --hover-fill-color: #FFFFFF;\n",
              "      --disabled-bg-color: #3B4455;\n",
              "      --disabled-fill-color: #666;\n",
              "  }\n",
              "\n",
              "  .colab-df-quickchart {\n",
              "    background-color: var(--bg-color);\n",
              "    border: none;\n",
              "    border-radius: 50%;\n",
              "    cursor: pointer;\n",
              "    display: none;\n",
              "    fill: var(--fill-color);\n",
              "    height: 32px;\n",
              "    padding: 0;\n",
              "    width: 32px;\n",
              "  }\n",
              "\n",
              "  .colab-df-quickchart:hover {\n",
              "    background-color: var(--hover-bg-color);\n",
              "    box-shadow: 0 1px 2px rgba(60, 64, 67, 0.3), 0 1px 3px 1px rgba(60, 64, 67, 0.15);\n",
              "    fill: var(--button-hover-fill-color);\n",
              "  }\n",
              "\n",
              "  .colab-df-quickchart-complete:disabled,\n",
              "  .colab-df-quickchart-complete:disabled:hover {\n",
              "    background-color: var(--disabled-bg-color);\n",
              "    fill: var(--disabled-fill-color);\n",
              "    box-shadow: none;\n",
              "  }\n",
              "\n",
              "  .colab-df-spinner {\n",
              "    border: 2px solid var(--fill-color);\n",
              "    border-color: transparent;\n",
              "    border-bottom-color: var(--fill-color);\n",
              "    animation:\n",
              "      spin 1s steps(1) infinite;\n",
              "  }\n",
              "\n",
              "  @keyframes spin {\n",
              "    0% {\n",
              "      border-color: transparent;\n",
              "      border-bottom-color: var(--fill-color);\n",
              "      border-left-color: var(--fill-color);\n",
              "    }\n",
              "    20% {\n",
              "      border-color: transparent;\n",
              "      border-left-color: var(--fill-color);\n",
              "      border-top-color: var(--fill-color);\n",
              "    }\n",
              "    30% {\n",
              "      border-color: transparent;\n",
              "      border-left-color: var(--fill-color);\n",
              "      border-top-color: var(--fill-color);\n",
              "      border-right-color: var(--fill-color);\n",
              "    }\n",
              "    40% {\n",
              "      border-color: transparent;\n",
              "      border-right-color: var(--fill-color);\n",
              "      border-top-color: var(--fill-color);\n",
              "    }\n",
              "    60% {\n",
              "      border-color: transparent;\n",
              "      border-right-color: var(--fill-color);\n",
              "    }\n",
              "    80% {\n",
              "      border-color: transparent;\n",
              "      border-right-color: var(--fill-color);\n",
              "      border-bottom-color: var(--fill-color);\n",
              "    }\n",
              "    90% {\n",
              "      border-color: transparent;\n",
              "      border-bottom-color: var(--fill-color);\n",
              "    }\n",
              "  }\n",
              "</style>\n",
              "\n",
              "  <script>\n",
              "    async function quickchart(key) {\n",
              "      const quickchartButtonEl =\n",
              "        document.querySelector('#' + key + ' button');\n",
              "      quickchartButtonEl.disabled = true;  // To prevent multiple clicks.\n",
              "      quickchartButtonEl.classList.add('colab-df-spinner');\n",
              "      try {\n",
              "        const charts = await google.colab.kernel.invokeFunction(\n",
              "            'suggestCharts', [key], {});\n",
              "      } catch (error) {\n",
              "        console.error('Error during call to suggestCharts:', error);\n",
              "      }\n",
              "      quickchartButtonEl.classList.remove('colab-df-spinner');\n",
              "      quickchartButtonEl.classList.add('colab-df-quickchart-complete');\n",
              "    }\n",
              "    (() => {\n",
              "      let quickchartButtonEl =\n",
              "        document.querySelector('#df-b5254ccb-a346-4bfe-94fa-74adfeb5cd98 button');\n",
              "      quickchartButtonEl.style.display =\n",
              "        google.colab.kernel.accessAllowed ? 'block' : 'none';\n",
              "    })();\n",
              "  </script>\n",
              "</div>\n",
              "    </div>\n",
              "  </div>\n"
            ],
            "application/vnd.google.colaboratory.intrinsic+json": {
              "type": "dataframe",
              "variable_name": "df",
              "summary": "{\n  \"name\": \"df\",\n  \"rows\": 982,\n  \"fields\": [\n    {\n      \"column\": \"warehouse\",\n      \"properties\": {\n        \"dtype\": \"category\",\n        \"num_unique_values\": 3,\n        \"samples\": [\n          \"Central\",\n          \"North\",\n          \"West\"\n        ],\n        \"semantic_type\": \"\",\n        \"description\": \"\"\n      }\n    },\n    {\n      \"column\": \"client_type\",\n      \"properties\": {\n        \"dtype\": \"category\",\n        \"num_unique_values\": 2,\n        \"samples\": [\n          \"Wholesale\",\n          \"Retail\"\n        ],\n        \"semantic_type\": \"\",\n        \"description\": \"\"\n      }\n    },\n    {\n      \"column\": \"product_line\",\n      \"properties\": {\n        \"dtype\": \"category\",\n        \"num_unique_values\": 6,\n        \"samples\": [\n          \"Miscellaneous\",\n          \"Breaking system\"\n        ],\n        \"semantic_type\": \"\",\n        \"description\": \"\"\n      }\n    },\n    {\n      \"column\": \"quantity\",\n      \"properties\": {\n        \"dtype\": \"number\",\n        \"std\": 9,\n        \"min\": 1,\n        \"max\": 40,\n        \"num_unique_values\": 18,\n        \"samples\": [\n          8,\n          9\n        ],\n        \"semantic_type\": \"\",\n        \"description\": \"\"\n      }\n    },\n    {\n      \"column\": \"unit_price\",\n      \"properties\": {\n        \"dtype\": \"number\",\n        \"std\": 11.43063075957737,\n        \"min\": 10.03,\n        \"max\": 63.15,\n        \"num_unique_values\": 857,\n        \"samples\": [\n          40.48,\n          32.72\n        ],\n        \"semantic_type\": \"\",\n        \"description\": \"\"\n      }\n    },\n    {\n      \"column\": \"total\",\n      \"properties\": {\n        \"dtype\": \"number\",\n        \"std\": 191.22551733184764,\n        \"min\": 10.35,\n        \"max\": 646.3774999999999,\n        \"num_unique_values\": 874,\n        \"samples\": [\n          237.02,\n          135.49\n        ],\n        \"semantic_type\": \"\",\n        \"description\": \"\"\n      }\n    },\n    {\n      \"column\": \"payment\",\n      \"properties\": {\n        \"dtype\": \"category\",\n        \"num_unique_values\": 3,\n        \"samples\": [\n          \"Credit card\",\n          \"Cash\"\n        ],\n        \"semantic_type\": \"\",\n        \"description\": \"\"\n      }\n    },\n    {\n      \"column\": \"bulan\",\n      \"properties\": {\n        \"dtype\": \"category\",\n        \"num_unique_values\": 3,\n        \"samples\": [\n          \"June\",\n          \"July\"\n        ],\n        \"semantic_type\": \"\",\n        \"description\": \"\"\n      }\n    }\n  ]\n}"
            }
          },
          "metadata": {},
          "execution_count": 152
        }
      ]
    },
    {
      "cell_type": "markdown",
      "source": [
        "Hasil diatas adalah dataframe terbaru dengan kolom date yang dihapuskan, karena sudah terdapat kolom bulan."
      ],
      "metadata": {
        "id": "rtQtDzhB1ADT"
      }
    },
    {
      "cell_type": "markdown",
      "source": [
        "### **Data Transformation**"
      ],
      "metadata": {
        "id": "Jm2Sh4cBog1D"
      }
    },
    {
      "cell_type": "markdown",
      "source": [
        "#### **Melakukan Mapping**"
      ],
      "metadata": {
        "id": "yVMccetfooH9"
      }
    },
    {
      "cell_type": "markdown",
      "source": [
        "Dari dataframe yang dianalisis, perlu dilakukan transformasi data dengan melakukan proses mapping dengan menerapkan metode ordinal encoding. Mapping ini dilakukan untuk mengubah kolom kategorikal menjadi numerik guna memudahkan dalam melakukan analisis kedepannya."
      ],
      "metadata": {
        "id": "kEsQsW_X3kTd"
      }
    },
    {
      "cell_type": "code",
      "source": [
        "df['warehouse'] = df['warehouse'].map({'Central':0,'West':1, 'North':2})\n",
        "df['client_type'] = df['client_type'].map({'Retail': 0, 'Wholesale': 1})\n",
        "df['product_line'] = df['product_line'].map({'Breaking system': 0, 'Electrical system': 1, 'Engine': 2,\n",
        "                                             'Frame & body': 3, 'Miscellaneous': 4, 'Suspension & traction': 5})\n",
        "df['payment'] = df['payment'].map({'Cash': 0, 'Credit card': 1, 'Transfer': 2})\n",
        "df['bulan'] = df['bulan'].map({'June': 0, 'July': 1, 'August': 2})"
      ],
      "metadata": {
        "id": "Timu723i2xZq"
      },
      "execution_count": 153,
      "outputs": []
    },
    {
      "cell_type": "markdown",
      "source": [
        "Kolom kategorical yang diubah menjadi numerik ada 3, yaitu sebagai berikut.\n",
        "\n",
        "1. warehouse : data pada warehouse di representasikan dengan angka 0 sebagai central, 1 sebagai west, dan 2 sebagai north.\n",
        "2. client_type : data pada client_type direpresentasikan dengan angka 0 sebagai retail dan 1 sebagai wholesale.\n",
        "3. product_line : data pada product_client direpresentasikan dengan angka 0 sebagai breaking system, 1 sebagai electrical system, 2 sebagai engine, 3 sebagai frame & body, 4 sebagai miscellaneous, dan 5 sebagai suspension & tranction.\n",
        "4. payment : data pada payment direpresentasikan dengan angka 0 sebagai cash, 1 sebagai credit card, dan 2 sebagai transfer.\n",
        "5. bulan : data pada bulan direpresentasikan dengan angka 0 sebagai june, 1 sebagai july, dan 2 sebagai august.\n",
        "\n"
      ],
      "metadata": {
        "id": "WNiD1LuR4jPu"
      }
    },
    {
      "cell_type": "markdown",
      "source": [
        "#### **Pengecekan Hasil**"
      ],
      "metadata": {
        "id": "iWER7ZSQ3pmD"
      }
    },
    {
      "cell_type": "code",
      "source": [
        "df.head()"
      ],
      "metadata": {
        "colab": {
          "base_uri": "https://localhost:8080/",
          "height": 206
        },
        "id": "DDN4bLV821xX",
        "outputId": "f3525204-27f9-4900-dbbb-ebe7dcb611d9"
      },
      "execution_count": 154,
      "outputs": [
        {
          "output_type": "execute_result",
          "data": {
            "text/plain": [
              "   warehouse  client_type  product_line  quantity  unit_price   total  \\\n",
              "0          0            0             4         8       16.85  134.83   \n",
              "1          2            0             0         9       19.29  173.61   \n",
              "2          2            0             5         8       32.93  263.45   \n",
              "3          2            1             3        16       37.84  605.44   \n",
              "4          0            0             2         2       60.48  120.96   \n",
              "\n",
              "   payment  bulan  \n",
              "0        1      0  \n",
              "1        0      0  \n",
              "2        1      0  \n",
              "3        2      0  \n",
              "4        1      0  "
            ],
            "text/html": [
              "\n",
              "  <div id=\"df-6090dd8f-4ba1-4e1b-8f8b-fc6290be8c6a\" class=\"colab-df-container\">\n",
              "    <div>\n",
              "<style scoped>\n",
              "    .dataframe tbody tr th:only-of-type {\n",
              "        vertical-align: middle;\n",
              "    }\n",
              "\n",
              "    .dataframe tbody tr th {\n",
              "        vertical-align: top;\n",
              "    }\n",
              "\n",
              "    .dataframe thead th {\n",
              "        text-align: right;\n",
              "    }\n",
              "</style>\n",
              "<table border=\"1\" class=\"dataframe\">\n",
              "  <thead>\n",
              "    <tr style=\"text-align: right;\">\n",
              "      <th></th>\n",
              "      <th>warehouse</th>\n",
              "      <th>client_type</th>\n",
              "      <th>product_line</th>\n",
              "      <th>quantity</th>\n",
              "      <th>unit_price</th>\n",
              "      <th>total</th>\n",
              "      <th>payment</th>\n",
              "      <th>bulan</th>\n",
              "    </tr>\n",
              "  </thead>\n",
              "  <tbody>\n",
              "    <tr>\n",
              "      <th>0</th>\n",
              "      <td>0</td>\n",
              "      <td>0</td>\n",
              "      <td>4</td>\n",
              "      <td>8</td>\n",
              "      <td>16.85</td>\n",
              "      <td>134.83</td>\n",
              "      <td>1</td>\n",
              "      <td>0</td>\n",
              "    </tr>\n",
              "    <tr>\n",
              "      <th>1</th>\n",
              "      <td>2</td>\n",
              "      <td>0</td>\n",
              "      <td>0</td>\n",
              "      <td>9</td>\n",
              "      <td>19.29</td>\n",
              "      <td>173.61</td>\n",
              "      <td>0</td>\n",
              "      <td>0</td>\n",
              "    </tr>\n",
              "    <tr>\n",
              "      <th>2</th>\n",
              "      <td>2</td>\n",
              "      <td>0</td>\n",
              "      <td>5</td>\n",
              "      <td>8</td>\n",
              "      <td>32.93</td>\n",
              "      <td>263.45</td>\n",
              "      <td>1</td>\n",
              "      <td>0</td>\n",
              "    </tr>\n",
              "    <tr>\n",
              "      <th>3</th>\n",
              "      <td>2</td>\n",
              "      <td>1</td>\n",
              "      <td>3</td>\n",
              "      <td>16</td>\n",
              "      <td>37.84</td>\n",
              "      <td>605.44</td>\n",
              "      <td>2</td>\n",
              "      <td>0</td>\n",
              "    </tr>\n",
              "    <tr>\n",
              "      <th>4</th>\n",
              "      <td>0</td>\n",
              "      <td>0</td>\n",
              "      <td>2</td>\n",
              "      <td>2</td>\n",
              "      <td>60.48</td>\n",
              "      <td>120.96</td>\n",
              "      <td>1</td>\n",
              "      <td>0</td>\n",
              "    </tr>\n",
              "  </tbody>\n",
              "</table>\n",
              "</div>\n",
              "    <div class=\"colab-df-buttons\">\n",
              "\n",
              "  <div class=\"colab-df-container\">\n",
              "    <button class=\"colab-df-convert\" onclick=\"convertToInteractive('df-6090dd8f-4ba1-4e1b-8f8b-fc6290be8c6a')\"\n",
              "            title=\"Convert this dataframe to an interactive table.\"\n",
              "            style=\"display:none;\">\n",
              "\n",
              "  <svg xmlns=\"http://www.w3.org/2000/svg\" height=\"24px\" viewBox=\"0 -960 960 960\">\n",
              "    <path d=\"M120-120v-720h720v720H120Zm60-500h600v-160H180v160Zm220 220h160v-160H400v160Zm0 220h160v-160H400v160ZM180-400h160v-160H180v160Zm440 0h160v-160H620v160ZM180-180h160v-160H180v160Zm440 0h160v-160H620v160Z\"/>\n",
              "  </svg>\n",
              "    </button>\n",
              "\n",
              "  <style>\n",
              "    .colab-df-container {\n",
              "      display:flex;\n",
              "      gap: 12px;\n",
              "    }\n",
              "\n",
              "    .colab-df-convert {\n",
              "      background-color: #E8F0FE;\n",
              "      border: none;\n",
              "      border-radius: 50%;\n",
              "      cursor: pointer;\n",
              "      display: none;\n",
              "      fill: #1967D2;\n",
              "      height: 32px;\n",
              "      padding: 0 0 0 0;\n",
              "      width: 32px;\n",
              "    }\n",
              "\n",
              "    .colab-df-convert:hover {\n",
              "      background-color: #E2EBFA;\n",
              "      box-shadow: 0px 1px 2px rgba(60, 64, 67, 0.3), 0px 1px 3px 1px rgba(60, 64, 67, 0.15);\n",
              "      fill: #174EA6;\n",
              "    }\n",
              "\n",
              "    .colab-df-buttons div {\n",
              "      margin-bottom: 4px;\n",
              "    }\n",
              "\n",
              "    [theme=dark] .colab-df-convert {\n",
              "      background-color: #3B4455;\n",
              "      fill: #D2E3FC;\n",
              "    }\n",
              "\n",
              "    [theme=dark] .colab-df-convert:hover {\n",
              "      background-color: #434B5C;\n",
              "      box-shadow: 0px 1px 3px 1px rgba(0, 0, 0, 0.15);\n",
              "      filter: drop-shadow(0px 1px 2px rgba(0, 0, 0, 0.3));\n",
              "      fill: #FFFFFF;\n",
              "    }\n",
              "  </style>\n",
              "\n",
              "    <script>\n",
              "      const buttonEl =\n",
              "        document.querySelector('#df-6090dd8f-4ba1-4e1b-8f8b-fc6290be8c6a button.colab-df-convert');\n",
              "      buttonEl.style.display =\n",
              "        google.colab.kernel.accessAllowed ? 'block' : 'none';\n",
              "\n",
              "      async function convertToInteractive(key) {\n",
              "        const element = document.querySelector('#df-6090dd8f-4ba1-4e1b-8f8b-fc6290be8c6a');\n",
              "        const dataTable =\n",
              "          await google.colab.kernel.invokeFunction('convertToInteractive',\n",
              "                                                    [key], {});\n",
              "        if (!dataTable) return;\n",
              "\n",
              "        const docLinkHtml = 'Like what you see? Visit the ' +\n",
              "          '<a target=\"_blank\" href=https://colab.research.google.com/notebooks/data_table.ipynb>data table notebook</a>'\n",
              "          + ' to learn more about interactive tables.';\n",
              "        element.innerHTML = '';\n",
              "        dataTable['output_type'] = 'display_data';\n",
              "        await google.colab.output.renderOutput(dataTable, element);\n",
              "        const docLink = document.createElement('div');\n",
              "        docLink.innerHTML = docLinkHtml;\n",
              "        element.appendChild(docLink);\n",
              "      }\n",
              "    </script>\n",
              "  </div>\n",
              "\n",
              "\n",
              "<div id=\"df-ef3978a7-cdc9-454f-a9b9-f413c128c4a3\">\n",
              "  <button class=\"colab-df-quickchart\" onclick=\"quickchart('df-ef3978a7-cdc9-454f-a9b9-f413c128c4a3')\"\n",
              "            title=\"Suggest charts\"\n",
              "            style=\"display:none;\">\n",
              "\n",
              "<svg xmlns=\"http://www.w3.org/2000/svg\" height=\"24px\"viewBox=\"0 0 24 24\"\n",
              "     width=\"24px\">\n",
              "    <g>\n",
              "        <path d=\"M19 3H5c-1.1 0-2 .9-2 2v14c0 1.1.9 2 2 2h14c1.1 0 2-.9 2-2V5c0-1.1-.9-2-2-2zM9 17H7v-7h2v7zm4 0h-2V7h2v10zm4 0h-2v-4h2v4z\"/>\n",
              "    </g>\n",
              "</svg>\n",
              "  </button>\n",
              "\n",
              "<style>\n",
              "  .colab-df-quickchart {\n",
              "      --bg-color: #E8F0FE;\n",
              "      --fill-color: #1967D2;\n",
              "      --hover-bg-color: #E2EBFA;\n",
              "      --hover-fill-color: #174EA6;\n",
              "      --disabled-fill-color: #AAA;\n",
              "      --disabled-bg-color: #DDD;\n",
              "  }\n",
              "\n",
              "  [theme=dark] .colab-df-quickchart {\n",
              "      --bg-color: #3B4455;\n",
              "      --fill-color: #D2E3FC;\n",
              "      --hover-bg-color: #434B5C;\n",
              "      --hover-fill-color: #FFFFFF;\n",
              "      --disabled-bg-color: #3B4455;\n",
              "      --disabled-fill-color: #666;\n",
              "  }\n",
              "\n",
              "  .colab-df-quickchart {\n",
              "    background-color: var(--bg-color);\n",
              "    border: none;\n",
              "    border-radius: 50%;\n",
              "    cursor: pointer;\n",
              "    display: none;\n",
              "    fill: var(--fill-color);\n",
              "    height: 32px;\n",
              "    padding: 0;\n",
              "    width: 32px;\n",
              "  }\n",
              "\n",
              "  .colab-df-quickchart:hover {\n",
              "    background-color: var(--hover-bg-color);\n",
              "    box-shadow: 0 1px 2px rgba(60, 64, 67, 0.3), 0 1px 3px 1px rgba(60, 64, 67, 0.15);\n",
              "    fill: var(--button-hover-fill-color);\n",
              "  }\n",
              "\n",
              "  .colab-df-quickchart-complete:disabled,\n",
              "  .colab-df-quickchart-complete:disabled:hover {\n",
              "    background-color: var(--disabled-bg-color);\n",
              "    fill: var(--disabled-fill-color);\n",
              "    box-shadow: none;\n",
              "  }\n",
              "\n",
              "  .colab-df-spinner {\n",
              "    border: 2px solid var(--fill-color);\n",
              "    border-color: transparent;\n",
              "    border-bottom-color: var(--fill-color);\n",
              "    animation:\n",
              "      spin 1s steps(1) infinite;\n",
              "  }\n",
              "\n",
              "  @keyframes spin {\n",
              "    0% {\n",
              "      border-color: transparent;\n",
              "      border-bottom-color: var(--fill-color);\n",
              "      border-left-color: var(--fill-color);\n",
              "    }\n",
              "    20% {\n",
              "      border-color: transparent;\n",
              "      border-left-color: var(--fill-color);\n",
              "      border-top-color: var(--fill-color);\n",
              "    }\n",
              "    30% {\n",
              "      border-color: transparent;\n",
              "      border-left-color: var(--fill-color);\n",
              "      border-top-color: var(--fill-color);\n",
              "      border-right-color: var(--fill-color);\n",
              "    }\n",
              "    40% {\n",
              "      border-color: transparent;\n",
              "      border-right-color: var(--fill-color);\n",
              "      border-top-color: var(--fill-color);\n",
              "    }\n",
              "    60% {\n",
              "      border-color: transparent;\n",
              "      border-right-color: var(--fill-color);\n",
              "    }\n",
              "    80% {\n",
              "      border-color: transparent;\n",
              "      border-right-color: var(--fill-color);\n",
              "      border-bottom-color: var(--fill-color);\n",
              "    }\n",
              "    90% {\n",
              "      border-color: transparent;\n",
              "      border-bottom-color: var(--fill-color);\n",
              "    }\n",
              "  }\n",
              "</style>\n",
              "\n",
              "  <script>\n",
              "    async function quickchart(key) {\n",
              "      const quickchartButtonEl =\n",
              "        document.querySelector('#' + key + ' button');\n",
              "      quickchartButtonEl.disabled = true;  // To prevent multiple clicks.\n",
              "      quickchartButtonEl.classList.add('colab-df-spinner');\n",
              "      try {\n",
              "        const charts = await google.colab.kernel.invokeFunction(\n",
              "            'suggestCharts', [key], {});\n",
              "      } catch (error) {\n",
              "        console.error('Error during call to suggestCharts:', error);\n",
              "      }\n",
              "      quickchartButtonEl.classList.remove('colab-df-spinner');\n",
              "      quickchartButtonEl.classList.add('colab-df-quickchart-complete');\n",
              "    }\n",
              "    (() => {\n",
              "      let quickchartButtonEl =\n",
              "        document.querySelector('#df-ef3978a7-cdc9-454f-a9b9-f413c128c4a3 button');\n",
              "      quickchartButtonEl.style.display =\n",
              "        google.colab.kernel.accessAllowed ? 'block' : 'none';\n",
              "    })();\n",
              "  </script>\n",
              "</div>\n",
              "    </div>\n",
              "  </div>\n"
            ],
            "application/vnd.google.colaboratory.intrinsic+json": {
              "type": "dataframe",
              "variable_name": "df",
              "summary": "{\n  \"name\": \"df\",\n  \"rows\": 982,\n  \"fields\": [\n    {\n      \"column\": \"warehouse\",\n      \"properties\": {\n        \"dtype\": \"number\",\n        \"std\": 0,\n        \"min\": 0,\n        \"max\": 2,\n        \"num_unique_values\": 3,\n        \"samples\": [\n          0,\n          2,\n          1\n        ],\n        \"semantic_type\": \"\",\n        \"description\": \"\"\n      }\n    },\n    {\n      \"column\": \"client_type\",\n      \"properties\": {\n        \"dtype\": \"number\",\n        \"std\": 0,\n        \"min\": 0,\n        \"max\": 1,\n        \"num_unique_values\": 2,\n        \"samples\": [\n          1,\n          0\n        ],\n        \"semantic_type\": \"\",\n        \"description\": \"\"\n      }\n    },\n    {\n      \"column\": \"product_line\",\n      \"properties\": {\n        \"dtype\": \"number\",\n        \"std\": 1,\n        \"min\": 0,\n        \"max\": 5,\n        \"num_unique_values\": 6,\n        \"samples\": [\n          4,\n          0\n        ],\n        \"semantic_type\": \"\",\n        \"description\": \"\"\n      }\n    },\n    {\n      \"column\": \"quantity\",\n      \"properties\": {\n        \"dtype\": \"number\",\n        \"std\": 9,\n        \"min\": 1,\n        \"max\": 40,\n        \"num_unique_values\": 18,\n        \"samples\": [\n          8,\n          9\n        ],\n        \"semantic_type\": \"\",\n        \"description\": \"\"\n      }\n    },\n    {\n      \"column\": \"unit_price\",\n      \"properties\": {\n        \"dtype\": \"number\",\n        \"std\": 11.43063075957737,\n        \"min\": 10.03,\n        \"max\": 63.15,\n        \"num_unique_values\": 857,\n        \"samples\": [\n          40.48,\n          32.72\n        ],\n        \"semantic_type\": \"\",\n        \"description\": \"\"\n      }\n    },\n    {\n      \"column\": \"total\",\n      \"properties\": {\n        \"dtype\": \"number\",\n        \"std\": 191.22551733184764,\n        \"min\": 10.35,\n        \"max\": 646.3774999999999,\n        \"num_unique_values\": 874,\n        \"samples\": [\n          237.02,\n          135.49\n        ],\n        \"semantic_type\": \"\",\n        \"description\": \"\"\n      }\n    },\n    {\n      \"column\": \"payment\",\n      \"properties\": {\n        \"dtype\": \"number\",\n        \"std\": 0,\n        \"min\": 0,\n        \"max\": 2,\n        \"num_unique_values\": 3,\n        \"samples\": [\n          1,\n          0\n        ],\n        \"semantic_type\": \"\",\n        \"description\": \"\"\n      }\n    },\n    {\n      \"column\": \"bulan\",\n      \"properties\": {\n        \"dtype\": \"number\",\n        \"std\": 0,\n        \"min\": 0,\n        \"max\": 2,\n        \"num_unique_values\": 3,\n        \"samples\": [\n          0,\n          1\n        ],\n        \"semantic_type\": \"\",\n        \"description\": \"\"\n      }\n    }\n  ]\n}"
            }
          },
          "metadata": {},
          "execution_count": 154
        }
      ]
    },
    {
      "cell_type": "markdown",
      "source": [
        "Hasil diatas adalah hasil dari transformasi data dari yang awalnya kategorikal menjadi numerik. Proses transformasi ini berguna untuk mempermudah proses analisis kedepannya."
      ],
      "metadata": {
        "id": "NQk5cCzW6N0T"
      }
    },
    {
      "cell_type": "markdown",
      "source": [
        "### **Konversi Dataframe**"
      ],
      "metadata": {
        "id": "yuk26ogV6lii"
      }
    },
    {
      "cell_type": "code",
      "source": [
        "df.to_csv('Data Cleaned.csv', index=False)"
      ],
      "metadata": {
        "id": "cVkRE4if6iKl"
      },
      "execution_count": 155,
      "outputs": []
    },
    {
      "cell_type": "markdown",
      "source": [
        "## **Modelling**"
      ],
      "metadata": {
        "id": "m9MPsws7uk1v"
      }
    },
    {
      "cell_type": "markdown",
      "source": [
        "### **Select Modelling Techniques**"
      ],
      "metadata": {
        "id": "mQsHCUPguu5G"
      }
    },
    {
      "cell_type": "markdown",
      "source": [
        "Dalam analisis yang dilakukan kali ini menggunakan model asosiatif. Model asosiatif digunakan untuk mengidentifikasi pola-pola hubungan antara produk-produk dalam penjualan produk sparepart motor. Lebih khusus lagi, untuk melihat korelasi antara produk-produk yang sering dibeli bersama-sama oleh pelanggan. Dengan menggunakan model asosiatif akan mendapat gambaran hubungan antara produk-produk yang akan berguna untuk perusahaan di masa depan. Dalam analisis model asosiatif, terdapat dua jenis algoritma yang digunakan, yaitu K-Means dan Hierarchical Clustering.\n",
        "\n",
        "1. **K-Means** : algoritma ini adalah salah satu algoritma yang digunakan untuk analisis klaster yang digunakan untuk mengelompokkan data berdasarkan variabel berdasarkan jarak antara data terhadap titik cendoid klaster yang didapatkan melalui proses berulang sebanyak jumlah k. Analisis yang dilakukan menggunakan k-means pada dataframe penjualan produk sparepart motor bertujuan untuk untuk mengelompokkan data penjualan produk sparepart motor berdasarkan pola pembelian produk yang serupa.\n",
        "\n",
        "2. **Hierarchical Clustering** : algoritma ini adalah salah satu algoritma yang digunakan untuk analisis klaster dengan membangun sebuah hirarki dari data dengan mengelompokkan entitas-entitas yang memiliki kesamaan dengan tujuan menghasilkan representasi visual hubungan entitas-entitas tersebut. Analisis yang dilakukan menggunakan hierarchical clustering pada dataframe penjualan produk sparepart motor bertujuan untuk membangun hirarki dari data penjualan produk sparepart motor dengan mengelompokkan produk-produk yang memiliki kesamaan."
      ],
      "metadata": {
        "id": "y0EZjavt5XmR"
      }
    },
    {
      "cell_type": "markdown",
      "source": [
        "### **Pre-Processing**"
      ],
      "metadata": {
        "id": "ilVhBn_wu3L3"
      }
    },
    {
      "cell_type": "markdown",
      "source": [
        "#### **Normalisasi Data**"
      ],
      "metadata": {
        "id": "5TjkLff7ycEi"
      }
    },
    {
      "cell_type": "code",
      "source": [
        "x_final = df"
      ],
      "metadata": {
        "id": "vzsElPKPPFVj"
      },
      "execution_count": 156,
      "outputs": []
    },
    {
      "cell_type": "code",
      "source": [
        "scaler = MinMaxScaler()\n",
        "\n",
        "x_final_norm = scaler.fit_transform(x_final)"
      ],
      "metadata": {
        "id": "QTV9fW16yg_2"
      },
      "execution_count": 157,
      "outputs": []
    },
    {
      "cell_type": "markdown",
      "source": [
        "Dilakukan sebuah normalisasi data dari dataframe yang ada dengan tujuan untuk menyederhanakan perbandingan antar fitur, mempercepat konvergensi algoritma, dan meningkatkan hasil model. Normalisasi dilakukan untuk mengubah rentang tiap kolom numerik menjadi 0 hingga 1 untuk setiap nilainya."
      ],
      "metadata": {
        "id": "o5XBl4U8REr2"
      }
    },
    {
      "cell_type": "code",
      "source": [
        "df_x_final_norm = pd.DataFrame(x_final_norm, columns=x_final.columns)\n",
        "\n",
        "display(df_x_final_norm)"
      ],
      "metadata": {
        "colab": {
          "base_uri": "https://localhost:8080/",
          "height": 423
        },
        "id": "tIDnRY2PPTrs",
        "outputId": "ec569417-a4d6-46b0-a204-f8ff0deedd89"
      },
      "execution_count": 158,
      "outputs": [
        {
          "output_type": "display_data",
          "data": {
            "text/plain": [
              "     warehouse  client_type  product_line  quantity  unit_price     total  \\\n",
              "0          0.0          0.0           0.8  0.179487    0.128389  0.195715   \n",
              "1          1.0          0.0           0.0  0.205128    0.174322  0.256687   \n",
              "2          1.0          0.0           1.0  0.179487    0.431099  0.397939   \n",
              "3          1.0          1.0           0.6  0.384615    0.523532  0.935636   \n",
              "4          0.0          0.0           0.4  0.025641    0.949736  0.173908   \n",
              "..         ...          ...           ...       ...         ...       ...   \n",
              "977        0.0          0.0           0.2  0.205128    0.429970  0.448849   \n",
              "978        0.5          1.0           0.0  0.794872    0.000000  0.488359   \n",
              "979        0.5          1.0           0.2  0.282051    0.428652  0.602631   \n",
              "980        1.0          0.0           0.6  0.102564    0.719503  0.363003   \n",
              "981        1.0          1.0           0.2  0.487179    0.327184  0.845529   \n",
              "\n",
              "     payment  bulan  \n",
              "0        0.5    0.0  \n",
              "1        0.0    0.0  \n",
              "2        0.5    0.0  \n",
              "3        1.0    0.0  \n",
              "4        0.5    0.0  \n",
              "..       ...    ...  \n",
              "977      0.5    1.0  \n",
              "978      1.0    1.0  \n",
              "979      1.0    1.0  \n",
              "980      0.0    1.0  \n",
              "981      1.0    1.0  \n",
              "\n",
              "[982 rows x 8 columns]"
            ],
            "text/html": [
              "\n",
              "  <div id=\"df-82da72ab-575c-419a-8c95-05faec3f71c5\" class=\"colab-df-container\">\n",
              "    <div>\n",
              "<style scoped>\n",
              "    .dataframe tbody tr th:only-of-type {\n",
              "        vertical-align: middle;\n",
              "    }\n",
              "\n",
              "    .dataframe tbody tr th {\n",
              "        vertical-align: top;\n",
              "    }\n",
              "\n",
              "    .dataframe thead th {\n",
              "        text-align: right;\n",
              "    }\n",
              "</style>\n",
              "<table border=\"1\" class=\"dataframe\">\n",
              "  <thead>\n",
              "    <tr style=\"text-align: right;\">\n",
              "      <th></th>\n",
              "      <th>warehouse</th>\n",
              "      <th>client_type</th>\n",
              "      <th>product_line</th>\n",
              "      <th>quantity</th>\n",
              "      <th>unit_price</th>\n",
              "      <th>total</th>\n",
              "      <th>payment</th>\n",
              "      <th>bulan</th>\n",
              "    </tr>\n",
              "  </thead>\n",
              "  <tbody>\n",
              "    <tr>\n",
              "      <th>0</th>\n",
              "      <td>0.0</td>\n",
              "      <td>0.0</td>\n",
              "      <td>0.8</td>\n",
              "      <td>0.179487</td>\n",
              "      <td>0.128389</td>\n",
              "      <td>0.195715</td>\n",
              "      <td>0.5</td>\n",
              "      <td>0.0</td>\n",
              "    </tr>\n",
              "    <tr>\n",
              "      <th>1</th>\n",
              "      <td>1.0</td>\n",
              "      <td>0.0</td>\n",
              "      <td>0.0</td>\n",
              "      <td>0.205128</td>\n",
              "      <td>0.174322</td>\n",
              "      <td>0.256687</td>\n",
              "      <td>0.0</td>\n",
              "      <td>0.0</td>\n",
              "    </tr>\n",
              "    <tr>\n",
              "      <th>2</th>\n",
              "      <td>1.0</td>\n",
              "      <td>0.0</td>\n",
              "      <td>1.0</td>\n",
              "      <td>0.179487</td>\n",
              "      <td>0.431099</td>\n",
              "      <td>0.397939</td>\n",
              "      <td>0.5</td>\n",
              "      <td>0.0</td>\n",
              "    </tr>\n",
              "    <tr>\n",
              "      <th>3</th>\n",
              "      <td>1.0</td>\n",
              "      <td>1.0</td>\n",
              "      <td>0.6</td>\n",
              "      <td>0.384615</td>\n",
              "      <td>0.523532</td>\n",
              "      <td>0.935636</td>\n",
              "      <td>1.0</td>\n",
              "      <td>0.0</td>\n",
              "    </tr>\n",
              "    <tr>\n",
              "      <th>4</th>\n",
              "      <td>0.0</td>\n",
              "      <td>0.0</td>\n",
              "      <td>0.4</td>\n",
              "      <td>0.025641</td>\n",
              "      <td>0.949736</td>\n",
              "      <td>0.173908</td>\n",
              "      <td>0.5</td>\n",
              "      <td>0.0</td>\n",
              "    </tr>\n",
              "    <tr>\n",
              "      <th>...</th>\n",
              "      <td>...</td>\n",
              "      <td>...</td>\n",
              "      <td>...</td>\n",
              "      <td>...</td>\n",
              "      <td>...</td>\n",
              "      <td>...</td>\n",
              "      <td>...</td>\n",
              "      <td>...</td>\n",
              "    </tr>\n",
              "    <tr>\n",
              "      <th>977</th>\n",
              "      <td>0.0</td>\n",
              "      <td>0.0</td>\n",
              "      <td>0.2</td>\n",
              "      <td>0.205128</td>\n",
              "      <td>0.429970</td>\n",
              "      <td>0.448849</td>\n",
              "      <td>0.5</td>\n",
              "      <td>1.0</td>\n",
              "    </tr>\n",
              "    <tr>\n",
              "      <th>978</th>\n",
              "      <td>0.5</td>\n",
              "      <td>1.0</td>\n",
              "      <td>0.0</td>\n",
              "      <td>0.794872</td>\n",
              "      <td>0.000000</td>\n",
              "      <td>0.488359</td>\n",
              "      <td>1.0</td>\n",
              "      <td>1.0</td>\n",
              "    </tr>\n",
              "    <tr>\n",
              "      <th>979</th>\n",
              "      <td>0.5</td>\n",
              "      <td>1.0</td>\n",
              "      <td>0.2</td>\n",
              "      <td>0.282051</td>\n",
              "      <td>0.428652</td>\n",
              "      <td>0.602631</td>\n",
              "      <td>1.0</td>\n",
              "      <td>1.0</td>\n",
              "    </tr>\n",
              "    <tr>\n",
              "      <th>980</th>\n",
              "      <td>1.0</td>\n",
              "      <td>0.0</td>\n",
              "      <td>0.6</td>\n",
              "      <td>0.102564</td>\n",
              "      <td>0.719503</td>\n",
              "      <td>0.363003</td>\n",
              "      <td>0.0</td>\n",
              "      <td>1.0</td>\n",
              "    </tr>\n",
              "    <tr>\n",
              "      <th>981</th>\n",
              "      <td>1.0</td>\n",
              "      <td>1.0</td>\n",
              "      <td>0.2</td>\n",
              "      <td>0.487179</td>\n",
              "      <td>0.327184</td>\n",
              "      <td>0.845529</td>\n",
              "      <td>1.0</td>\n",
              "      <td>1.0</td>\n",
              "    </tr>\n",
              "  </tbody>\n",
              "</table>\n",
              "<p>982 rows × 8 columns</p>\n",
              "</div>\n",
              "    <div class=\"colab-df-buttons\">\n",
              "\n",
              "  <div class=\"colab-df-container\">\n",
              "    <button class=\"colab-df-convert\" onclick=\"convertToInteractive('df-82da72ab-575c-419a-8c95-05faec3f71c5')\"\n",
              "            title=\"Convert this dataframe to an interactive table.\"\n",
              "            style=\"display:none;\">\n",
              "\n",
              "  <svg xmlns=\"http://www.w3.org/2000/svg\" height=\"24px\" viewBox=\"0 -960 960 960\">\n",
              "    <path d=\"M120-120v-720h720v720H120Zm60-500h600v-160H180v160Zm220 220h160v-160H400v160Zm0 220h160v-160H400v160ZM180-400h160v-160H180v160Zm440 0h160v-160H620v160ZM180-180h160v-160H180v160Zm440 0h160v-160H620v160Z\"/>\n",
              "  </svg>\n",
              "    </button>\n",
              "\n",
              "  <style>\n",
              "    .colab-df-container {\n",
              "      display:flex;\n",
              "      gap: 12px;\n",
              "    }\n",
              "\n",
              "    .colab-df-convert {\n",
              "      background-color: #E8F0FE;\n",
              "      border: none;\n",
              "      border-radius: 50%;\n",
              "      cursor: pointer;\n",
              "      display: none;\n",
              "      fill: #1967D2;\n",
              "      height: 32px;\n",
              "      padding: 0 0 0 0;\n",
              "      width: 32px;\n",
              "    }\n",
              "\n",
              "    .colab-df-convert:hover {\n",
              "      background-color: #E2EBFA;\n",
              "      box-shadow: 0px 1px 2px rgba(60, 64, 67, 0.3), 0px 1px 3px 1px rgba(60, 64, 67, 0.15);\n",
              "      fill: #174EA6;\n",
              "    }\n",
              "\n",
              "    .colab-df-buttons div {\n",
              "      margin-bottom: 4px;\n",
              "    }\n",
              "\n",
              "    [theme=dark] .colab-df-convert {\n",
              "      background-color: #3B4455;\n",
              "      fill: #D2E3FC;\n",
              "    }\n",
              "\n",
              "    [theme=dark] .colab-df-convert:hover {\n",
              "      background-color: #434B5C;\n",
              "      box-shadow: 0px 1px 3px 1px rgba(0, 0, 0, 0.15);\n",
              "      filter: drop-shadow(0px 1px 2px rgba(0, 0, 0, 0.3));\n",
              "      fill: #FFFFFF;\n",
              "    }\n",
              "  </style>\n",
              "\n",
              "    <script>\n",
              "      const buttonEl =\n",
              "        document.querySelector('#df-82da72ab-575c-419a-8c95-05faec3f71c5 button.colab-df-convert');\n",
              "      buttonEl.style.display =\n",
              "        google.colab.kernel.accessAllowed ? 'block' : 'none';\n",
              "\n",
              "      async function convertToInteractive(key) {\n",
              "        const element = document.querySelector('#df-82da72ab-575c-419a-8c95-05faec3f71c5');\n",
              "        const dataTable =\n",
              "          await google.colab.kernel.invokeFunction('convertToInteractive',\n",
              "                                                    [key], {});\n",
              "        if (!dataTable) return;\n",
              "\n",
              "        const docLinkHtml = 'Like what you see? Visit the ' +\n",
              "          '<a target=\"_blank\" href=https://colab.research.google.com/notebooks/data_table.ipynb>data table notebook</a>'\n",
              "          + ' to learn more about interactive tables.';\n",
              "        element.innerHTML = '';\n",
              "        dataTable['output_type'] = 'display_data';\n",
              "        await google.colab.output.renderOutput(dataTable, element);\n",
              "        const docLink = document.createElement('div');\n",
              "        docLink.innerHTML = docLinkHtml;\n",
              "        element.appendChild(docLink);\n",
              "      }\n",
              "    </script>\n",
              "  </div>\n",
              "\n",
              "\n",
              "<div id=\"df-980210a7-3e10-4dc8-8b99-1dcdaee7815d\">\n",
              "  <button class=\"colab-df-quickchart\" onclick=\"quickchart('df-980210a7-3e10-4dc8-8b99-1dcdaee7815d')\"\n",
              "            title=\"Suggest charts\"\n",
              "            style=\"display:none;\">\n",
              "\n",
              "<svg xmlns=\"http://www.w3.org/2000/svg\" height=\"24px\"viewBox=\"0 0 24 24\"\n",
              "     width=\"24px\">\n",
              "    <g>\n",
              "        <path d=\"M19 3H5c-1.1 0-2 .9-2 2v14c0 1.1.9 2 2 2h14c1.1 0 2-.9 2-2V5c0-1.1-.9-2-2-2zM9 17H7v-7h2v7zm4 0h-2V7h2v10zm4 0h-2v-4h2v4z\"/>\n",
              "    </g>\n",
              "</svg>\n",
              "  </button>\n",
              "\n",
              "<style>\n",
              "  .colab-df-quickchart {\n",
              "      --bg-color: #E8F0FE;\n",
              "      --fill-color: #1967D2;\n",
              "      --hover-bg-color: #E2EBFA;\n",
              "      --hover-fill-color: #174EA6;\n",
              "      --disabled-fill-color: #AAA;\n",
              "      --disabled-bg-color: #DDD;\n",
              "  }\n",
              "\n",
              "  [theme=dark] .colab-df-quickchart {\n",
              "      --bg-color: #3B4455;\n",
              "      --fill-color: #D2E3FC;\n",
              "      --hover-bg-color: #434B5C;\n",
              "      --hover-fill-color: #FFFFFF;\n",
              "      --disabled-bg-color: #3B4455;\n",
              "      --disabled-fill-color: #666;\n",
              "  }\n",
              "\n",
              "  .colab-df-quickchart {\n",
              "    background-color: var(--bg-color);\n",
              "    border: none;\n",
              "    border-radius: 50%;\n",
              "    cursor: pointer;\n",
              "    display: none;\n",
              "    fill: var(--fill-color);\n",
              "    height: 32px;\n",
              "    padding: 0;\n",
              "    width: 32px;\n",
              "  }\n",
              "\n",
              "  .colab-df-quickchart:hover {\n",
              "    background-color: var(--hover-bg-color);\n",
              "    box-shadow: 0 1px 2px rgba(60, 64, 67, 0.3), 0 1px 3px 1px rgba(60, 64, 67, 0.15);\n",
              "    fill: var(--button-hover-fill-color);\n",
              "  }\n",
              "\n",
              "  .colab-df-quickchart-complete:disabled,\n",
              "  .colab-df-quickchart-complete:disabled:hover {\n",
              "    background-color: var(--disabled-bg-color);\n",
              "    fill: var(--disabled-fill-color);\n",
              "    box-shadow: none;\n",
              "  }\n",
              "\n",
              "  .colab-df-spinner {\n",
              "    border: 2px solid var(--fill-color);\n",
              "    border-color: transparent;\n",
              "    border-bottom-color: var(--fill-color);\n",
              "    animation:\n",
              "      spin 1s steps(1) infinite;\n",
              "  }\n",
              "\n",
              "  @keyframes spin {\n",
              "    0% {\n",
              "      border-color: transparent;\n",
              "      border-bottom-color: var(--fill-color);\n",
              "      border-left-color: var(--fill-color);\n",
              "    }\n",
              "    20% {\n",
              "      border-color: transparent;\n",
              "      border-left-color: var(--fill-color);\n",
              "      border-top-color: var(--fill-color);\n",
              "    }\n",
              "    30% {\n",
              "      border-color: transparent;\n",
              "      border-left-color: var(--fill-color);\n",
              "      border-top-color: var(--fill-color);\n",
              "      border-right-color: var(--fill-color);\n",
              "    }\n",
              "    40% {\n",
              "      border-color: transparent;\n",
              "      border-right-color: var(--fill-color);\n",
              "      border-top-color: var(--fill-color);\n",
              "    }\n",
              "    60% {\n",
              "      border-color: transparent;\n",
              "      border-right-color: var(--fill-color);\n",
              "    }\n",
              "    80% {\n",
              "      border-color: transparent;\n",
              "      border-right-color: var(--fill-color);\n",
              "      border-bottom-color: var(--fill-color);\n",
              "    }\n",
              "    90% {\n",
              "      border-color: transparent;\n",
              "      border-bottom-color: var(--fill-color);\n",
              "    }\n",
              "  }\n",
              "</style>\n",
              "\n",
              "  <script>\n",
              "    async function quickchart(key) {\n",
              "      const quickchartButtonEl =\n",
              "        document.querySelector('#' + key + ' button');\n",
              "      quickchartButtonEl.disabled = true;  // To prevent multiple clicks.\n",
              "      quickchartButtonEl.classList.add('colab-df-spinner');\n",
              "      try {\n",
              "        const charts = await google.colab.kernel.invokeFunction(\n",
              "            'suggestCharts', [key], {});\n",
              "      } catch (error) {\n",
              "        console.error('Error during call to suggestCharts:', error);\n",
              "      }\n",
              "      quickchartButtonEl.classList.remove('colab-df-spinner');\n",
              "      quickchartButtonEl.classList.add('colab-df-quickchart-complete');\n",
              "    }\n",
              "    (() => {\n",
              "      let quickchartButtonEl =\n",
              "        document.querySelector('#df-980210a7-3e10-4dc8-8b99-1dcdaee7815d button');\n",
              "      quickchartButtonEl.style.display =\n",
              "        google.colab.kernel.accessAllowed ? 'block' : 'none';\n",
              "    })();\n",
              "  </script>\n",
              "</div>\n",
              "    </div>\n",
              "  </div>\n"
            ],
            "application/vnd.google.colaboratory.intrinsic+json": {
              "type": "dataframe",
              "variable_name": "df_x_final_norm",
              "summary": "{\n  \"name\": \"df_x_final_norm\",\n  \"rows\": 982,\n  \"fields\": [\n    {\n      \"column\": \"warehouse\",\n      \"properties\": {\n        \"dtype\": \"number\",\n        \"std\": 0.4484049093390554,\n        \"min\": 0.0,\n        \"max\": 1.0,\n        \"num_unique_values\": 3,\n        \"samples\": [\n          0.0,\n          1.0,\n          0.5\n        ],\n        \"semantic_type\": \"\",\n        \"description\": \"\"\n      }\n    },\n    {\n      \"column\": \"client_type\",\n      \"properties\": {\n        \"dtype\": \"number\",\n        \"std\": 0.4178286518636813,\n        \"min\": 0.0,\n        \"max\": 1.0,\n        \"num_unique_values\": 2,\n        \"samples\": [\n          1.0,\n          0.0\n        ],\n        \"semantic_type\": \"\",\n        \"description\": \"\"\n      }\n    },\n    {\n      \"column\": \"product_line\",\n      \"properties\": {\n        \"dtype\": \"number\",\n        \"std\": 0.3842439218042846,\n        \"min\": 0.0,\n        \"max\": 1.0,\n        \"num_unique_values\": 6,\n        \"samples\": [\n          0.8,\n          0.0\n        ],\n        \"semantic_type\": \"\",\n        \"description\": \"\"\n      }\n    },\n    {\n      \"column\": \"quantity\",\n      \"properties\": {\n        \"dtype\": \"number\",\n        \"std\": 0.2468496699722162,\n        \"min\": 0.0,\n        \"max\": 0.9999999999999999,\n        \"num_unique_values\": 18,\n        \"samples\": [\n          0.1794871794871795,\n          0.20512820512820512\n        ],\n        \"semantic_type\": \"\",\n        \"description\": \"\"\n      }\n    },\n    {\n      \"column\": \"unit_price\",\n      \"properties\": {\n        \"dtype\": \"number\",\n        \"std\": 0.21518506701011617,\n        \"min\": 0.0,\n        \"max\": 1.0000000000000002,\n        \"num_unique_values\": 857,\n        \"samples\": [\n          0.573230421686747,\n          0.42714608433734935\n        ],\n        \"semantic_type\": \"\",\n        \"description\": \"\"\n      }\n    },\n    {\n      \"column\": \"total\",\n      \"properties\": {\n        \"dtype\": \"number\",\n        \"std\": 0.30065605234340914,\n        \"min\": 0.0,\n        \"max\": 1.0,\n        \"num_unique_values\": 874,\n        \"samples\": [\n          0.3563839613853176,\n          0.19675249890924532\n        ],\n        \"semantic_type\": \"\",\n        \"description\": \"\"\n      }\n    },\n    {\n      \"column\": \"payment\",\n      \"properties\": {\n        \"dtype\": \"number\",\n        \"std\": 0.28705557349687477,\n        \"min\": 0.0,\n        \"max\": 1.0,\n        \"num_unique_values\": 3,\n        \"samples\": [\n          0.5,\n          0.0\n        ],\n        \"semantic_type\": \"\",\n        \"description\": \"\"\n      }\n    },\n    {\n      \"column\": \"bulan\",\n      \"properties\": {\n        \"dtype\": \"number\",\n        \"std\": 0.4050113139142177,\n        \"min\": 0.0,\n        \"max\": 1.0,\n        \"num_unique_values\": 3,\n        \"samples\": [\n          0.0,\n          0.5\n        ],\n        \"semantic_type\": \"\",\n        \"description\": \"\"\n      }\n    }\n  ]\n}"
            }
          },
          "metadata": {}
        }
      ]
    },
    {
      "cell_type": "markdown",
      "source": [
        "Hasil diatas ditampilkan sebuah hasil dari normalisasi yang dilakukan pada dataframe yang digunakan untuk dilakukan analisis. Dan Normalisasi  tersebut membuat rentang tiap kolom numerik menjadi 0 hingga 1."
      ],
      "metadata": {
        "id": "4BqBsGiBR2wW"
      }
    },
    {
      "cell_type": "markdown",
      "source": [
        "#### **Validasi Silang**"
      ],
      "metadata": {
        "id": "cT-Ptt59QpdK"
      }
    },
    {
      "cell_type": "code",
      "source": [
        "inertia_values = []\n",
        "\n",
        "k_range = range(2, 10)\n",
        "\n",
        "for k in k_range:\n",
        "    kmeans = KMeans(n_clusters=k, random_state=42)\n",
        "    kmeans.fit(x_final_norm)\n",
        "    inertia_values.append(kmeans.inertia_)\n",
        "\n",
        "plt.plot(k_range, inertia_values, marker='o')\n",
        "plt.xlabel('Number of clusters (K)')\n",
        "plt.ylabel('Inertia')\n",
        "plt.title('Elbow Method for Optimal K')\n",
        "plt.xticks(k_range)\n",
        "plt.show()"
      ],
      "metadata": {
        "colab": {
          "base_uri": "https://localhost:8080/",
          "height": 770
        },
        "id": "sFTW6CtEQ2Q2",
        "outputId": "85dcf420-a134-4903-bbc3-231d4e1d7332"
      },
      "execution_count": 159,
      "outputs": [
        {
          "output_type": "stream",
          "name": "stderr",
          "text": [
            "/usr/local/lib/python3.10/dist-packages/sklearn/cluster/_kmeans.py:870: FutureWarning: The default value of `n_init` will change from 10 to 'auto' in 1.4. Set the value of `n_init` explicitly to suppress the warning\n",
            "  warnings.warn(\n",
            "/usr/local/lib/python3.10/dist-packages/sklearn/cluster/_kmeans.py:870: FutureWarning: The default value of `n_init` will change from 10 to 'auto' in 1.4. Set the value of `n_init` explicitly to suppress the warning\n",
            "  warnings.warn(\n",
            "/usr/local/lib/python3.10/dist-packages/sklearn/cluster/_kmeans.py:870: FutureWarning: The default value of `n_init` will change from 10 to 'auto' in 1.4. Set the value of `n_init` explicitly to suppress the warning\n",
            "  warnings.warn(\n",
            "/usr/local/lib/python3.10/dist-packages/sklearn/cluster/_kmeans.py:870: FutureWarning: The default value of `n_init` will change from 10 to 'auto' in 1.4. Set the value of `n_init` explicitly to suppress the warning\n",
            "  warnings.warn(\n",
            "/usr/local/lib/python3.10/dist-packages/sklearn/cluster/_kmeans.py:870: FutureWarning: The default value of `n_init` will change from 10 to 'auto' in 1.4. Set the value of `n_init` explicitly to suppress the warning\n",
            "  warnings.warn(\n",
            "/usr/local/lib/python3.10/dist-packages/sklearn/cluster/_kmeans.py:870: FutureWarning: The default value of `n_init` will change from 10 to 'auto' in 1.4. Set the value of `n_init` explicitly to suppress the warning\n",
            "  warnings.warn(\n",
            "/usr/local/lib/python3.10/dist-packages/sklearn/cluster/_kmeans.py:870: FutureWarning: The default value of `n_init` will change from 10 to 'auto' in 1.4. Set the value of `n_init` explicitly to suppress the warning\n",
            "  warnings.warn(\n",
            "/usr/local/lib/python3.10/dist-packages/sklearn/cluster/_kmeans.py:870: FutureWarning: The default value of `n_init` will change from 10 to 'auto' in 1.4. Set the value of `n_init` explicitly to suppress the warning\n",
            "  warnings.warn(\n"
          ]
        },
        {
          "output_type": "display_data",
          "data": {
            "text/plain": [
              "<Figure size 640x480 with 1 Axes>"
            ],
            "image/png": "[encoded data removed]"
          },
          "metadata": {}
        }
      ]
    },
    {
      "cell_type": "markdown",
      "source": [
        "Validasi silang dilakukan pada model asosiatif yang digunakan untuk menemukan jumlah klaster yang optimal. Pada hasil diatas dilakukan validasi silang dengan metode elbow untuk menemukan jumlah klaster optimal dari 2 hingga 9. Untuk menemukannya dilihat dari titik di mana kurva elbow mulai menunjukkan penurunan yang kurang signifikan dan berbentuk seperti siku. Sehingga, dapat disimpulkan dari hasil validasi silang tersebut bahwa jumlah klaster yang optimal adalah 3."
      ],
      "metadata": {
        "id": "NFCcqPF7S_Hg"
      }
    },
    {
      "cell_type": "markdown",
      "source": [
        "### **Build Model**\n",
        "\n"
      ],
      "metadata": {
        "id": "nhXlADT-u6N5"
      }
    },
    {
      "cell_type": "markdown",
      "source": [
        "#### **K-Means**"
      ],
      "metadata": {
        "id": "xFAB4hdfUVgM"
      }
    },
    {
      "cell_type": "code",
      "source": [
        "kmeans = KMeans(n_clusters=3, random_state=42)\n",
        "kmeans.fit(x_final_norm)"
      ],
      "metadata": {
        "colab": {
          "base_uri": "https://localhost:8080/",
          "height": 129
        },
        "id": "W_zzx9m9VIe3",
        "outputId": "e62ef6dd-fa87-4ff4-aada-fdcfbf48923e"
      },
      "execution_count": 160,
      "outputs": [
        {
          "output_type": "stream",
          "name": "stderr",
          "text": [
            "/usr/local/lib/python3.10/dist-packages/sklearn/cluster/_kmeans.py:870: FutureWarning: The default value of `n_init` will change from 10 to 'auto' in 1.4. Set the value of `n_init` explicitly to suppress the warning\n",
            "  warnings.warn(\n"
          ]
        },
        {
          "output_type": "execute_result",
          "data": {
            "text/plain": [
              "KMeans(n_clusters=3, random_state=42)"
            ],
            "text/html": [
              "<style>#sk-container-id-3 {color: black;background-color: white;}#sk-container-id-3 pre{padding: 0;}#sk-container-id-3 div.sk-toggleable {background-color: white;}#sk-container-id-3 label.sk-toggleable__label {cursor: pointer;display: block;width: 100%;margin-bottom: 0;padding: 0.3em;box-sizing: border-box;text-align: center;}#sk-container-id-3 label.sk-toggleable__label-arrow:before {content: \"▸\";float: left;margin-right: 0.25em;color: #696969;}#sk-container-id-3 label.sk-toggleable__label-arrow:hover:before {color: black;}#sk-container-id-3 div.sk-estimator:hover label.sk-toggleable__label-arrow:before {color: black;}#sk-container-id-3 div.sk-toggleable__content {max-height: 0;max-width: 0;overflow: hidden;text-align: left;background-color: #f0f8ff;}#sk-container-id-3 div.sk-toggleable__content pre {margin: 0.2em;color: black;border-radius: 0.25em;background-color: #f0f8ff;}#sk-container-id-3 input.sk-toggleable__control:checked~div.sk-toggleable__content {max-height: 200px;max-width: 100%;overflow: auto;}#sk-container-id-3 input.sk-toggleable__control:checked~label.sk-toggleable__label-arrow:before {content: \"▾\";}#sk-container-id-3 div.sk-estimator input.sk-toggleable__control:checked~label.sk-toggleable__label {background-color: #d4ebff;}#sk-container-id-3 div.sk-label input.sk-toggleable__control:checked~label.sk-toggleable__label {background-color: #d4ebff;}#sk-container-id-3 input.sk-hidden--visually {border: 0;clip: rect(1px 1px 1px 1px);clip: rect(1px, 1px, 1px, 1px);height: 1px;margin: -1px;overflow: hidden;padding: 0;position: absolute;width: 1px;}#sk-container-id-3 div.sk-estimator {font-family: monospace;background-color: #f0f8ff;border: 1px dotted black;border-radius: 0.25em;box-sizing: border-box;margin-bottom: 0.5em;}#sk-container-id-3 div.sk-estimator:hover {background-color: #d4ebff;}#sk-container-id-3 div.sk-parallel-item::after {content: \"\";width: 100%;border-bottom: 1px solid gray;flex-grow: 1;}#sk-container-id-3 div.sk-label:hover label.sk-toggleable__label {background-color: #d4ebff;}#sk-container-id-3 div.sk-serial::before {content: \"\";position: absolute;border-left: 1px solid gray;box-sizing: border-box;top: 0;bottom: 0;left: 50%;z-index: 0;}#sk-container-id-3 div.sk-serial {display: flex;flex-direction: column;align-items: center;background-color: white;padding-right: 0.2em;padding-left: 0.2em;position: relative;}#sk-container-id-3 div.sk-item {position: relative;z-index: 1;}#sk-container-id-3 div.sk-parallel {display: flex;align-items: stretch;justify-content: center;background-color: white;position: relative;}#sk-container-id-3 div.sk-item::before, #sk-container-id-3 div.sk-parallel-item::before {content: \"\";position: absolute;border-left: 1px solid gray;box-sizing: border-box;top: 0;bottom: 0;left: 50%;z-index: -1;}#sk-container-id-3 div.sk-parallel-item {display: flex;flex-direction: column;z-index: 1;position: relative;background-color: white;}#sk-container-id-3 div.sk-parallel-item:first-child::after {align-self: flex-end;width: 50%;}#sk-container-id-3 div.sk-parallel-item:last-child::after {align-self: flex-start;width: 50%;}#sk-container-id-3 div.sk-parallel-item:only-child::after {width: 0;}#sk-container-id-3 div.sk-dashed-wrapped {border: 1px dashed gray;margin: 0 0.4em 0.5em 0.4em;box-sizing: border-box;padding-bottom: 0.4em;background-color: white;}#sk-container-id-3 div.sk-label label {font-family: monospace;font-weight: bold;display: inline-block;line-height: 1.2em;}#sk-container-id-3 div.sk-label-container {text-align: center;}#sk-container-id-3 div.sk-container {/* jupyter's `normalize.less` sets `[hidden] { display: none; }` but bootstrap.min.css set `[hidden] { display: none !important; }` so we also need the `!important` here to be able to override the default hidden behavior on the sphinx rendered scikit-learn.org. See: https://github.com/scikit-learn/scikit-learn/issues/21755 */display: inline-block !important;position: relative;}#sk-container-id-3 div.sk-text-repr-fallback {display: none;}</style><div id=\"sk-container-id-3\" class=\"sk-top-container\"><div class=\"sk-text-repr-fallback\"><pre>KMeans(n_clusters=3, random_state=42)</pre><b>In a Jupyter environment, please rerun this cell to show the HTML representation or trust the notebook. <br />On GitHub, the HTML representation is unable to render, please try loading this page with nbviewer.org.</b></div><div class=\"sk-container\" hidden><div class=\"sk-item\"><div class=\"sk-estimator sk-toggleable\"><input class=\"sk-toggleable__control sk-hidden--visually\" id=\"sk-estimator-id-3\" type=\"checkbox\" checked><label for=\"sk-estimator-id-3\" class=\"sk-toggleable__label sk-toggleable__label-arrow\">KMeans</label><div class=\"sk-toggleable__content\"><pre>KMeans(n_clusters=3, random_state=42)</pre></div></div></div></div></div>"
            ]
          },
          "metadata": {},
          "execution_count": 160
        }
      ]
    },
    {
      "cell_type": "markdown",
      "source": [
        "Dalam melakukan build model k-means langkah awal dilakukan normalisasi data dan menentukan jumlah kluster. Selanjutnya menginisiasikan syntax seperti diatas dalam melakukan build model k-means. Pada k-means menggunakan 3 kluster dan menggunakan data yang telah dinormalisasikan."
      ],
      "metadata": {
        "id": "QRohBxoeaB76"
      }
    },
    {
      "cell_type": "markdown",
      "source": [
        "#### **Hierarchical Clustering**"
      ],
      "metadata": {
        "id": "v5NfJUilU2QE"
      }
    },
    {
      "cell_type": "code",
      "source": [
        "hc = AgglomerativeClustering(n_clusters=3, affinity='euclidean', linkage='ward')\n",
        "hc.fit(x_final_norm)"
      ],
      "metadata": {
        "colab": {
          "base_uri": "https://localhost:8080/",
          "height": 129
        },
        "id": "6GbVbmTyVJDQ",
        "outputId": "4e36ef6f-48e5-4a02-a85f-6388528b9a17"
      },
      "execution_count": 161,
      "outputs": [
        {
          "output_type": "stream",
          "name": "stderr",
          "text": [
            "/usr/local/lib/python3.10/dist-packages/sklearn/cluster/_agglomerative.py:983: FutureWarning: Attribute `affinity` was deprecated in version 1.2 and will be removed in 1.4. Use `metric` instead\n",
            "  warnings.warn(\n"
          ]
        },
        {
          "output_type": "execute_result",
          "data": {
            "text/plain": [
              "AgglomerativeClustering(affinity='euclidean', n_clusters=3)"
            ],
            "text/html": [
              "<style>#sk-container-id-4 {color: black;background-color: white;}#sk-container-id-4 pre{padding: 0;}#sk-container-id-4 div.sk-toggleable {background-color: white;}#sk-container-id-4 label.sk-toggleable__label {cursor: pointer;display: block;width: 100%;margin-bottom: 0;padding: 0.3em;box-sizing: border-box;text-align: center;}#sk-container-id-4 label.sk-toggleable__label-arrow:before {content: \"▸\";float: left;margin-right: 0.25em;color: #696969;}#sk-container-id-4 label.sk-toggleable__label-arrow:hover:before {color: black;}#sk-container-id-4 div.sk-estimator:hover label.sk-toggleable__label-arrow:before {color: black;}#sk-container-id-4 div.sk-toggleable__content {max-height: 0;max-width: 0;overflow: hidden;text-align: left;background-color: #f0f8ff;}#sk-container-id-4 div.sk-toggleable__content pre {margin: 0.2em;color: black;border-radius: 0.25em;background-color: #f0f8ff;}#sk-container-id-4 input.sk-toggleable__control:checked~div.sk-toggleable__content {max-height: 200px;max-width: 100%;overflow: auto;}#sk-container-id-4 input.sk-toggleable__control:checked~label.sk-toggleable__label-arrow:before {content: \"▾\";}#sk-container-id-4 div.sk-estimator input.sk-toggleable__control:checked~label.sk-toggleable__label {background-color: #d4ebff;}#sk-container-id-4 div.sk-label input.sk-toggleable__control:checked~label.sk-toggleable__label {background-color: #d4ebff;}#sk-container-id-4 input.sk-hidden--visually {border: 0;clip: rect(1px 1px 1px 1px);clip: rect(1px, 1px, 1px, 1px);height: 1px;margin: -1px;overflow: hidden;padding: 0;position: absolute;width: 1px;}#sk-container-id-4 div.sk-estimator {font-family: monospace;background-color: #f0f8ff;border: 1px dotted black;border-radius: 0.25em;box-sizing: border-box;margin-bottom: 0.5em;}#sk-container-id-4 div.sk-estimator:hover {background-color: #d4ebff;}#sk-container-id-4 div.sk-parallel-item::after {content: \"\";width: 100%;border-bottom: 1px solid gray;flex-grow: 1;}#sk-container-id-4 div.sk-label:hover label.sk-toggleable__label {background-color: #d4ebff;}#sk-container-id-4 div.sk-serial::before {content: \"\";position: absolute;border-left: 1px solid gray;box-sizing: border-box;top: 0;bottom: 0;left: 50%;z-index: 0;}#sk-container-id-4 div.sk-serial {display: flex;flex-direction: column;align-items: center;background-color: white;padding-right: 0.2em;padding-left: 0.2em;position: relative;}#sk-container-id-4 div.sk-item {position: relative;z-index: 1;}#sk-container-id-4 div.sk-parallel {display: flex;align-items: stretch;justify-content: center;background-color: white;position: relative;}#sk-container-id-4 div.sk-item::before, #sk-container-id-4 div.sk-parallel-item::before {content: \"\";position: absolute;border-left: 1px solid gray;box-sizing: border-box;top: 0;bottom: 0;left: 50%;z-index: -1;}#sk-container-id-4 div.sk-parallel-item {display: flex;flex-direction: column;z-index: 1;position: relative;background-color: white;}#sk-container-id-4 div.sk-parallel-item:first-child::after {align-self: flex-end;width: 50%;}#sk-container-id-4 div.sk-parallel-item:last-child::after {align-self: flex-start;width: 50%;}#sk-container-id-4 div.sk-parallel-item:only-child::after {width: 0;}#sk-container-id-4 div.sk-dashed-wrapped {border: 1px dashed gray;margin: 0 0.4em 0.5em 0.4em;box-sizing: border-box;padding-bottom: 0.4em;background-color: white;}#sk-container-id-4 div.sk-label label {font-family: monospace;font-weight: bold;display: inline-block;line-height: 1.2em;}#sk-container-id-4 div.sk-label-container {text-align: center;}#sk-container-id-4 div.sk-container {/* jupyter's `normalize.less` sets `[hidden] { display: none; }` but bootstrap.min.css set `[hidden] { display: none !important; }` so we also need the `!important` here to be able to override the default hidden behavior on the sphinx rendered scikit-learn.org. See: https://github.com/scikit-learn/scikit-learn/issues/21755 */display: inline-block !important;position: relative;}#sk-container-id-4 div.sk-text-repr-fallback {display: none;}</style><div id=\"sk-container-id-4\" class=\"sk-top-container\"><div class=\"sk-text-repr-fallback\"><pre>AgglomerativeClustering(affinity=&#x27;euclidean&#x27;, n_clusters=3)</pre><b>In a Jupyter environment, please rerun this cell to show the HTML representation or trust the notebook. <br />On GitHub, the HTML representation is unable to render, please try loading this page with nbviewer.org.</b></div><div class=\"sk-container\" hidden><div class=\"sk-item\"><div class=\"sk-estimator sk-toggleable\"><input class=\"sk-toggleable__control sk-hidden--visually\" id=\"sk-estimator-id-4\" type=\"checkbox\" checked><label for=\"sk-estimator-id-4\" class=\"sk-toggleable__label sk-toggleable__label-arrow\">AgglomerativeClustering</label><div class=\"sk-toggleable__content\"><pre>AgglomerativeClustering(affinity=&#x27;euclidean&#x27;, n_clusters=3)</pre></div></div></div></div></div>"
            ]
          },
          "metadata": {},
          "execution_count": 161
        }
      ]
    },
    {
      "cell_type": "markdown",
      "source": [
        "Dalam melakukan build model hierarchical clustering langkah awal dilakukan normalisasi data dan menentukan jumlah kluster. Selanjutnya menginisiasikan syntax seperti diatas dalam melakukan build model hierarchical clustering. Pada hierarchical clustering menggunakan 3 cluster dan menggunakan data yang telah dinormalisasikan."
      ],
      "metadata": {
        "id": "RjW8l_SbapUI"
      }
    },
    {
      "cell_type": "markdown",
      "source": [
        "### **Begins and Compare Predict**"
      ],
      "metadata": {
        "id": "mvQjZWnnzANC"
      }
    },
    {
      "cell_type": "code",
      "source": [
        "kmeans_clust = kmeans.predict(x_final_norm)\n",
        "hierarchy_clust = hc.fit_predict(x_final_norm)"
      ],
      "metadata": {
        "id": "Vn9t7jyUzE0A",
        "colab": {
          "base_uri": "https://localhost:8080/"
        },
        "outputId": "36e92953-a8c9-43d0-8d56-ac1b8b372747"
      },
      "execution_count": 162,
      "outputs": [
        {
          "output_type": "stream",
          "name": "stderr",
          "text": [
            "/usr/local/lib/python3.10/dist-packages/sklearn/cluster/_agglomerative.py:983: FutureWarning: Attribute `affinity` was deprecated in version 1.2 and will be removed in 1.4. Use `metric` instead\n",
            "  warnings.warn(\n"
          ]
        }
      ]
    },
    {
      "cell_type": "code",
      "source": [
        "x_final = pd.DataFrame(x_final).reset_index(drop=True)\n",
        "\n",
        "kmeans_col = pd.DataFrame(kmeans_clust, columns=[\"kmeans_cluster\"])\n",
        "hierarchy_col = pd.DataFrame(hierarchy_clust, columns=[\"hierarchy_cluster\"])\n",
        "\n",
        "combined_data_assoc = pd.concat([x_final, kmeans_col, hierarchy_col], axis=1)"
      ],
      "metadata": {
        "id": "QbRDhbeO5ZU5"
      },
      "execution_count": 163,
      "outputs": []
    },
    {
      "cell_type": "code",
      "source": [
        "combined_data_assoc.head()"
      ],
      "metadata": {
        "id": "0TLzbhjM5cIq",
        "colab": {
          "base_uri": "https://localhost:8080/",
          "height": 206
        },
        "outputId": "a01522f1-c3e6-4237-e976-69574d2e9930"
      },
      "execution_count": 164,
      "outputs": [
        {
          "output_type": "execute_result",
          "data": {
            "text/plain": [
              "   warehouse  client_type  product_line  quantity  unit_price   total  \\\n",
              "0          0            0             4         8       16.85  134.83   \n",
              "1          2            0             0         9       19.29  173.61   \n",
              "2          2            0             5         8       32.93  263.45   \n",
              "3          2            1             3        16       37.84  605.44   \n",
              "4          0            0             2         2       60.48  120.96   \n",
              "\n",
              "   payment  bulan  kmeans_cluster  hierarchy_cluster  \n",
              "0        1      0               0                  0  \n",
              "1        0      0               1                  2  \n",
              "2        1      0               1                  0  \n",
              "3        2      0               2                  1  \n",
              "4        1      0               0                  0  "
            ],
            "text/html": [
              "\n",
              "  <div id=\"df-948c7676-67ef-4cc8-b597-27b5468b3aaa\" class=\"colab-df-container\">\n",
              "    <div>\n",
              "<style scoped>\n",
              "    .dataframe tbody tr th:only-of-type {\n",
              "        vertical-align: middle;\n",
              "    }\n",
              "\n",
              "    .dataframe tbody tr th {\n",
              "        vertical-align: top;\n",
              "    }\n",
              "\n",
              "    .dataframe thead th {\n",
              "        text-align: right;\n",
              "    }\n",
              "</style>\n",
              "<table border=\"1\" class=\"dataframe\">\n",
              "  <thead>\n",
              "    <tr style=\"text-align: right;\">\n",
              "      <th></th>\n",
              "      <th>warehouse</th>\n",
              "      <th>client_type</th>\n",
              "      <th>product_line</th>\n",
              "      <th>quantity</th>\n",
              "      <th>unit_price</th>\n",
              "      <th>total</th>\n",
              "      <th>payment</th>\n",
              "      <th>bulan</th>\n",
              "      <th>kmeans_cluster</th>\n",
              "      <th>hierarchy_cluster</th>\n",
              "    </tr>\n",
              "  </thead>\n",
              "  <tbody>\n",
              "    <tr>\n",
              "      <th>0</th>\n",
              "      <td>0</td>\n",
              "      <td>0</td>\n",
              "      <td>4</td>\n",
              "      <td>8</td>\n",
              "      <td>16.85</td>\n",
              "      <td>134.83</td>\n",
              "      <td>1</td>\n",
              "      <td>0</td>\n",
              "      <td>0</td>\n",
              "      <td>0</td>\n",
              "    </tr>\n",
              "    <tr>\n",
              "      <th>1</th>\n",
              "      <td>2</td>\n",
              "      <td>0</td>\n",
              "      <td>0</td>\n",
              "      <td>9</td>\n",
              "      <td>19.29</td>\n",
              "      <td>173.61</td>\n",
              "      <td>0</td>\n",
              "      <td>0</td>\n",
              "      <td>1</td>\n",
              "      <td>2</td>\n",
              "    </tr>\n",
              "    <tr>\n",
              "      <th>2</th>\n",
              "      <td>2</td>\n",
              "      <td>0</td>\n",
              "      <td>5</td>\n",
              "      <td>8</td>\n",
              "      <td>32.93</td>\n",
              "      <td>263.45</td>\n",
              "      <td>1</td>\n",
              "      <td>0</td>\n",
              "      <td>1</td>\n",
              "      <td>0</td>\n",
              "    </tr>\n",
              "    <tr>\n",
              "      <th>3</th>\n",
              "      <td>2</td>\n",
              "      <td>1</td>\n",
              "      <td>3</td>\n",
              "      <td>16</td>\n",
              "      <td>37.84</td>\n",
              "      <td>605.44</td>\n",
              "      <td>2</td>\n",
              "      <td>0</td>\n",
              "      <td>2</td>\n",
              "      <td>1</td>\n",
              "    </tr>\n",
              "    <tr>\n",
              "      <th>4</th>\n",
              "      <td>0</td>\n",
              "      <td>0</td>\n",
              "      <td>2</td>\n",
              "      <td>2</td>\n",
              "      <td>60.48</td>\n",
              "      <td>120.96</td>\n",
              "      <td>1</td>\n",
              "      <td>0</td>\n",
              "      <td>0</td>\n",
              "      <td>0</td>\n",
              "    </tr>\n",
              "  </tbody>\n",
              "</table>\n",
              "</div>\n",
              "    <div class=\"colab-df-buttons\">\n",
              "\n",
              "  <div class=\"colab-df-container\">\n",
              "    <button class=\"colab-df-convert\" onclick=\"convertToInteractive('df-948c7676-67ef-4cc8-b597-27b5468b3aaa')\"\n",
              "            title=\"Convert this dataframe to an interactive table.\"\n",
              "            style=\"display:none;\">\n",
              "\n",
              "  <svg xmlns=\"http://www.w3.org/2000/svg\" height=\"24px\" viewBox=\"0 -960 960 960\">\n",
              "    <path d=\"M120-120v-720h720v720H120Zm60-500h600v-160H180v160Zm220 220h160v-160H400v160Zm0 220h160v-160H400v160ZM180-400h160v-160H180v160Zm440 0h160v-160H620v160ZM180-180h160v-160H180v160Zm440 0h160v-160H620v160Z\"/>\n",
              "  </svg>\n",
              "    </button>\n",
              "\n",
              "  <style>\n",
              "    .colab-df-container {\n",
              "      display:flex;\n",
              "      gap: 12px;\n",
              "    }\n",
              "\n",
              "    .colab-df-convert {\n",
              "      background-color: #E8F0FE;\n",
              "      border: none;\n",
              "      border-radius: 50%;\n",
              "      cursor: pointer;\n",
              "      display: none;\n",
              "      fill: #1967D2;\n",
              "      height: 32px;\n",
              "      padding: 0 0 0 0;\n",
              "      width: 32px;\n",
              "    }\n",
              "\n",
              "    .colab-df-convert:hover {\n",
              "      background-color: #E2EBFA;\n",
              "      box-shadow: 0px 1px 2px rgba(60, 64, 67, 0.3), 0px 1px 3px 1px rgba(60, 64, 67, 0.15);\n",
              "      fill: #174EA6;\n",
              "    }\n",
              "\n",
              "    .colab-df-buttons div {\n",
              "      margin-bottom: 4px;\n",
              "    }\n",
              "\n",
              "    [theme=dark] .colab-df-convert {\n",
              "      background-color: #3B4455;\n",
              "      fill: #D2E3FC;\n",
              "    }\n",
              "\n",
              "    [theme=dark] .colab-df-convert:hover {\n",
              "      background-color: #434B5C;\n",
              "      box-shadow: 0px 1px 3px 1px rgba(0, 0, 0, 0.15);\n",
              "      filter: drop-shadow(0px 1px 2px rgba(0, 0, 0, 0.3));\n",
              "      fill: #FFFFFF;\n",
              "    }\n",
              "  </style>\n",
              "\n",
              "    <script>\n",
              "      const buttonEl =\n",
              "        document.querySelector('#df-948c7676-67ef-4cc8-b597-27b5468b3aaa button.colab-df-convert');\n",
              "      buttonEl.style.display =\n",
              "        google.colab.kernel.accessAllowed ? 'block' : 'none';\n",
              "\n",
              "      async function convertToInteractive(key) {\n",
              "        const element = document.querySelector('#df-948c7676-67ef-4cc8-b597-27b5468b3aaa');\n",
              "        const dataTable =\n",
              "          await google.colab.kernel.invokeFunction('convertToInteractive',\n",
              "                                                    [key], {});\n",
              "        if (!dataTable) return;\n",
              "\n",
              "        const docLinkHtml = 'Like what you see? Visit the ' +\n",
              "          '<a target=\"_blank\" href=https://colab.research.google.com/notebooks/data_table.ipynb>data table notebook</a>'\n",
              "          + ' to learn more about interactive tables.';\n",
              "        element.innerHTML = '';\n",
              "        dataTable['output_type'] = 'display_data';\n",
              "        await google.colab.output.renderOutput(dataTable, element);\n",
              "        const docLink = document.createElement('div');\n",
              "        docLink.innerHTML = docLinkHtml;\n",
              "        element.appendChild(docLink);\n",
              "      }\n",
              "    </script>\n",
              "  </div>\n",
              "\n",
              "\n",
              "<div id=\"df-fe942db9-942f-4730-9230-07a1ff6da0dd\">\n",
              "  <button class=\"colab-df-quickchart\" onclick=\"quickchart('df-fe942db9-942f-4730-9230-07a1ff6da0dd')\"\n",
              "            title=\"Suggest charts\"\n",
              "            style=\"display:none;\">\n",
              "\n",
              "<svg xmlns=\"http://www.w3.org/2000/svg\" height=\"24px\"viewBox=\"0 0 24 24\"\n",
              "     width=\"24px\">\n",
              "    <g>\n",
              "        <path d=\"M19 3H5c-1.1 0-2 .9-2 2v14c0 1.1.9 2 2 2h14c1.1 0 2-.9 2-2V5c0-1.1-.9-2-2-2zM9 17H7v-7h2v7zm4 0h-2V7h2v10zm4 0h-2v-4h2v4z\"/>\n",
              "    </g>\n",
              "</svg>\n",
              "  </button>\n",
              "\n",
              "<style>\n",
              "  .colab-df-quickchart {\n",
              "      --bg-color: #E8F0FE;\n",
              "      --fill-color: #1967D2;\n",
              "      --hover-bg-color: #E2EBFA;\n",
              "      --hover-fill-color: #174EA6;\n",
              "      --disabled-fill-color: #AAA;\n",
              "      --disabled-bg-color: #DDD;\n",
              "  }\n",
              "\n",
              "  [theme=dark] .colab-df-quickchart {\n",
              "      --bg-color: #3B4455;\n",
              "      --fill-color: #D2E3FC;\n",
              "      --hover-bg-color: #434B5C;\n",
              "      --hover-fill-color: #FFFFFF;\n",
              "      --disabled-bg-color: #3B4455;\n",
              "      --disabled-fill-color: #666;\n",
              "  }\n",
              "\n",
              "  .colab-df-quickchart {\n",
              "    background-color: var(--bg-color);\n",
              "    border: none;\n",
              "    border-radius: 50%;\n",
              "    cursor: pointer;\n",
              "    display: none;\n",
              "    fill: var(--fill-color);\n",
              "    height: 32px;\n",
              "    padding: 0;\n",
              "    width: 32px;\n",
              "  }\n",
              "\n",
              "  .colab-df-quickchart:hover {\n",
              "    background-color: var(--hover-bg-color);\n",
              "    box-shadow: 0 1px 2px rgba(60, 64, 67, 0.3), 0 1px 3px 1px rgba(60, 64, 67, 0.15);\n",
              "    fill: var(--button-hover-fill-color);\n",
              "  }\n",
              "\n",
              "  .colab-df-quickchart-complete:disabled,\n",
              "  .colab-df-quickchart-complete:disabled:hover {\n",
              "    background-color: var(--disabled-bg-color);\n",
              "    fill: var(--disabled-fill-color);\n",
              "    box-shadow: none;\n",
              "  }\n",
              "\n",
              "  .colab-df-spinner {\n",
              "    border: 2px solid var(--fill-color);\n",
              "    border-color: transparent;\n",
              "    border-bottom-color: var(--fill-color);\n",
              "    animation:\n",
              "      spin 1s steps(1) infinite;\n",
              "  }\n",
              "\n",
              "  @keyframes spin {\n",
              "    0% {\n",
              "      border-color: transparent;\n",
              "      border-bottom-color: var(--fill-color);\n",
              "      border-left-color: var(--fill-color);\n",
              "    }\n",
              "    20% {\n",
              "      border-color: transparent;\n",
              "      border-left-color: var(--fill-color);\n",
              "      border-top-color: var(--fill-color);\n",
              "    }\n",
              "    30% {\n",
              "      border-color: transparent;\n",
              "      border-left-color: var(--fill-color);\n",
              "      border-top-color: var(--fill-color);\n",
              "      border-right-color: var(--fill-color);\n",
              "    }\n",
              "    40% {\n",
              "      border-color: transparent;\n",
              "      border-right-color: var(--fill-color);\n",
              "      border-top-color: var(--fill-color);\n",
              "    }\n",
              "    60% {\n",
              "      border-color: transparent;\n",
              "      border-right-color: var(--fill-color);\n",
              "    }\n",
              "    80% {\n",
              "      border-color: transparent;\n",
              "      border-right-color: var(--fill-color);\n",
              "      border-bottom-color: var(--fill-color);\n",
              "    }\n",
              "    90% {\n",
              "      border-color: transparent;\n",
              "      border-bottom-color: var(--fill-color);\n",
              "    }\n",
              "  }\n",
              "</style>\n",
              "\n",
              "  <script>\n",
              "    async function quickchart(key) {\n",
              "      const quickchartButtonEl =\n",
              "        document.querySelector('#' + key + ' button');\n",
              "      quickchartButtonEl.disabled = true;  // To prevent multiple clicks.\n",
              "      quickchartButtonEl.classList.add('colab-df-spinner');\n",
              "      try {\n",
              "        const charts = await google.colab.kernel.invokeFunction(\n",
              "            'suggestCharts', [key], {});\n",
              "      } catch (error) {\n",
              "        console.error('Error during call to suggestCharts:', error);\n",
              "      }\n",
              "      quickchartButtonEl.classList.remove('colab-df-spinner');\n",
              "      quickchartButtonEl.classList.add('colab-df-quickchart-complete');\n",
              "    }\n",
              "    (() => {\n",
              "      let quickchartButtonEl =\n",
              "        document.querySelector('#df-fe942db9-942f-4730-9230-07a1ff6da0dd button');\n",
              "      quickchartButtonEl.style.display =\n",
              "        google.colab.kernel.accessAllowed ? 'block' : 'none';\n",
              "    })();\n",
              "  </script>\n",
              "</div>\n",
              "    </div>\n",
              "  </div>\n"
            ],
            "application/vnd.google.colaboratory.intrinsic+json": {
              "type": "dataframe",
              "variable_name": "combined_data_assoc",
              "summary": "{\n  \"name\": \"combined_data_assoc\",\n  \"rows\": 982,\n  \"fields\": [\n    {\n      \"column\": \"warehouse\",\n      \"properties\": {\n        \"dtype\": \"number\",\n        \"std\": 0,\n        \"min\": 0,\n        \"max\": 2,\n        \"num_unique_values\": 3,\n        \"samples\": [\n          0,\n          2,\n          1\n        ],\n        \"semantic_type\": \"\",\n        \"description\": \"\"\n      }\n    },\n    {\n      \"column\": \"client_type\",\n      \"properties\": {\n        \"dtype\": \"number\",\n        \"std\": 0,\n        \"min\": 0,\n        \"max\": 1,\n        \"num_unique_values\": 2,\n        \"samples\": [\n          1,\n          0\n        ],\n        \"semantic_type\": \"\",\n        \"description\": \"\"\n      }\n    },\n    {\n      \"column\": \"product_line\",\n      \"properties\": {\n        \"dtype\": \"number\",\n        \"std\": 1,\n        \"min\": 0,\n        \"max\": 5,\n        \"num_unique_values\": 6,\n        \"samples\": [\n          4,\n          0\n        ],\n        \"semantic_type\": \"\",\n        \"description\": \"\"\n      }\n    },\n    {\n      \"column\": \"quantity\",\n      \"properties\": {\n        \"dtype\": \"number\",\n        \"std\": 9,\n        \"min\": 1,\n        \"max\": 40,\n        \"num_unique_values\": 18,\n        \"samples\": [\n          8,\n          9\n        ],\n        \"semantic_type\": \"\",\n        \"description\": \"\"\n      }\n    },\n    {\n      \"column\": \"unit_price\",\n      \"properties\": {\n        \"dtype\": \"number\",\n        \"std\": 11.43063075957737,\n        \"min\": 10.03,\n        \"max\": 63.15,\n        \"num_unique_values\": 857,\n        \"samples\": [\n          40.48,\n          32.72\n        ],\n        \"semantic_type\": \"\",\n        \"description\": \"\"\n      }\n    },\n    {\n      \"column\": \"total\",\n      \"properties\": {\n        \"dtype\": \"number\",\n        \"std\": 191.22551733184764,\n        \"min\": 10.35,\n        \"max\": 646.3774999999999,\n        \"num_unique_values\": 874,\n        \"samples\": [\n          237.02,\n          135.49\n        ],\n        \"semantic_type\": \"\",\n        \"description\": \"\"\n      }\n    },\n    {\n      \"column\": \"payment\",\n      \"properties\": {\n        \"dtype\": \"number\",\n        \"std\": 0,\n        \"min\": 0,\n        \"max\": 2,\n        \"num_unique_values\": 3,\n        \"samples\": [\n          1,\n          0\n        ],\n        \"semantic_type\": \"\",\n        \"description\": \"\"\n      }\n    },\n    {\n      \"column\": \"bulan\",\n      \"properties\": {\n        \"dtype\": \"number\",\n        \"std\": 0,\n        \"min\": 0,\n        \"max\": 2,\n        \"num_unique_values\": 3,\n        \"samples\": [\n          0,\n          1\n        ],\n        \"semantic_type\": \"\",\n        \"description\": \"\"\n      }\n    },\n    {\n      \"column\": \"kmeans_cluster\",\n      \"properties\": {\n        \"dtype\": \"int32\",\n        \"num_unique_values\": 3,\n        \"samples\": [\n          0,\n          1\n        ],\n        \"semantic_type\": \"\",\n        \"description\": \"\"\n      }\n    },\n    {\n      \"column\": \"hierarchy_cluster\",\n      \"properties\": {\n        \"dtype\": \"number\",\n        \"std\": 0,\n        \"min\": 0,\n        \"max\": 2,\n        \"num_unique_values\": 3,\n        \"samples\": [\n          0,\n          2\n        ],\n        \"semantic_type\": \"\",\n        \"description\": \"\"\n      }\n    }\n  ]\n}"
            }
          },
          "metadata": {},
          "execution_count": 164
        }
      ]
    },
    {
      "cell_type": "markdown",
      "source": [
        "Setelah semua proses modelling dilakukan, makan ditampilkan dataframe yang telah digabungkan dengan hasil prediksi dari model asosiatif yang dibuat untuk membandingkan hasil dari semua algoritma yang digunakan, yaitu k-means dan hierarchical clustering."
      ],
      "metadata": {
        "id": "UcPQh5b_bvPN"
      }
    },
    {
      "cell_type": "markdown",
      "source": [
        "## **Evaluation**"
      ],
      "metadata": {
        "id": "n5sl4FA4BJvl"
      }
    },
    {
      "cell_type": "markdown",
      "source": [
        "### **Evaluate Results**"
      ],
      "metadata": {
        "id": "a6JNblsQBOd2"
      }
    },
    {
      "cell_type": "code",
      "source": [
        "silhouette_avg_kmeans = silhouette_score(x_final_norm, kmeans.labels_)\n",
        "ch_score_kmeans = calinski_harabasz_score(x_final_norm, kmeans.labels_)\n",
        "db_score_kmeans = davies_bouldin_score(x_final_norm, kmeans.labels_)\n",
        "\n",
        "silhouette_avg_hc = silhouette_score(x_final_norm, hierarchy_clust)\n",
        "ch_score_hc = calinski_harabasz_score(x_final_norm, hierarchy_clust)\n",
        "db_score_hc = davies_bouldin_score(x_final_norm, hierarchy_clust)\n",
        "\n",
        "metrics = [\"Silhouette Score\", \"Calinski-Harabasz Score\", \"Davies-Bouldin Score\"]\n",
        "scores_kmeans = [silhouette_avg_kmeans, ch_score_kmeans, db_score_kmeans]\n",
        "scores_hc = [silhouette_avg_hc, ch_score_hc, db_score_hc]\n",
        "\n",
        "df_scores = pd.DataFrame({'': metrics,\n",
        "                          'KMeans Score': scores_kmeans,\n",
        "                          'Agglomerative Clustering Score': scores_hc})\n",
        "\n",
        "df_scores = df_scores.set_index('')\n",
        "\n",
        "df_scores = df_scores.T\n",
        "\n",
        "display(df_scores)"
      ],
      "metadata": {
        "colab": {
          "base_uri": "https://localhost:8080/",
          "height": 112
        },
        "id": "nxZZX8edXLlG",
        "outputId": "b5a729a1-79ec-48e0-d668-aed3f25a2aeb"
      },
      "execution_count": 165,
      "outputs": [
        {
          "output_type": "display_data",
          "data": {
            "text/plain": [
              "                                Silhouette Score  Calinski-Harabasz Score  \\\n",
              "KMeans Score                            0.265384               415.967384   \n",
              "Agglomerative Clustering Score          0.244320               379.939730   \n",
              "\n",
              "                                Davies-Bouldin Score  \n",
              "KMeans Score                                1.426523  \n",
              "Agglomerative Clustering Score              1.561643  "
            ],
            "text/html": [
              "\n",
              "  <div id=\"df-292a5f0c-06f5-4c7c-8c5a-c8633f708200\" class=\"colab-df-container\">\n",
              "    <div>\n",
              "<style scoped>\n",
              "    .dataframe tbody tr th:only-of-type {\n",
              "        vertical-align: middle;\n",
              "    }\n",
              "\n",
              "    .dataframe tbody tr th {\n",
              "        vertical-align: top;\n",
              "    }\n",
              "\n",
              "    .dataframe thead th {\n",
              "        text-align: right;\n",
              "    }\n",
              "</style>\n",
              "<table border=\"1\" class=\"dataframe\">\n",
              "  <thead>\n",
              "    <tr style=\"text-align: right;\">\n",
              "      <th></th>\n",
              "      <th>Silhouette Score</th>\n",
              "      <th>Calinski-Harabasz Score</th>\n",
              "      <th>Davies-Bouldin Score</th>\n",
              "    </tr>\n",
              "  </thead>\n",
              "  <tbody>\n",
              "    <tr>\n",
              "      <th>KMeans Score</th>\n",
              "      <td>0.265384</td>\n",
              "      <td>415.967384</td>\n",
              "      <td>1.426523</td>\n",
              "    </tr>\n",
              "    <tr>\n",
              "      <th>Agglomerative Clustering Score</th>\n",
              "      <td>0.244320</td>\n",
              "      <td>379.939730</td>\n",
              "      <td>1.561643</td>\n",
              "    </tr>\n",
              "  </tbody>\n",
              "</table>\n",
              "</div>\n",
              "    <div class=\"colab-df-buttons\">\n",
              "\n",
              "  <div class=\"colab-df-container\">\n",
              "    <button class=\"colab-df-convert\" onclick=\"convertToInteractive('df-292a5f0c-06f5-4c7c-8c5a-c8633f708200')\"\n",
              "            title=\"Convert this dataframe to an interactive table.\"\n",
              "            style=\"display:none;\">\n",
              "\n",
              "  <svg xmlns=\"http://www.w3.org/2000/svg\" height=\"24px\" viewBox=\"0 -960 960 960\">\n",
              "    <path d=\"M120-120v-720h720v720H120Zm60-500h600v-160H180v160Zm220 220h160v-160H400v160Zm0 220h160v-160H400v160ZM180-400h160v-160H180v160Zm440 0h160v-160H620v160ZM180-180h160v-160H180v160Zm440 0h160v-160H620v160Z\"/>\n",
              "  </svg>\n",
              "    </button>\n",
              "\n",
              "  <style>\n",
              "    .colab-df-container {\n",
              "      display:flex;\n",
              "      gap: 12px;\n",
              "    }\n",
              "\n",
              "    .colab-df-convert {\n",
              "      background-color: #E8F0FE;\n",
              "      border: none;\n",
              "      border-radius: 50%;\n",
              "      cursor: pointer;\n",
              "      display: none;\n",
              "      fill: #1967D2;\n",
              "      height: 32px;\n",
              "      padding: 0 0 0 0;\n",
              "      width: 32px;\n",
              "    }\n",
              "\n",
              "    .colab-df-convert:hover {\n",
              "      background-color: #E2EBFA;\n",
              "      box-shadow: 0px 1px 2px rgba(60, 64, 67, 0.3), 0px 1px 3px 1px rgba(60, 64, 67, 0.15);\n",
              "      fill: #174EA6;\n",
              "    }\n",
              "\n",
              "    .colab-df-buttons div {\n",
              "      margin-bottom: 4px;\n",
              "    }\n",
              "\n",
              "    [theme=dark] .colab-df-convert {\n",
              "      background-color: #3B4455;\n",
              "      fill: #D2E3FC;\n",
              "    }\n",
              "\n",
              "    [theme=dark] .colab-df-convert:hover {\n",
              "      background-color: #434B5C;\n",
              "      box-shadow: 0px 1px 3px 1px rgba(0, 0, 0, 0.15);\n",
              "      filter: drop-shadow(0px 1px 2px rgba(0, 0, 0, 0.3));\n",
              "      fill: #FFFFFF;\n",
              "    }\n",
              "  </style>\n",
              "\n",
              "    <script>\n",
              "      const buttonEl =\n",
              "        document.querySelector('#df-292a5f0c-06f5-4c7c-8c5a-c8633f708200 button.colab-df-convert');\n",
              "      buttonEl.style.display =\n",
              "        google.colab.kernel.accessAllowed ? 'block' : 'none';\n",
              "\n",
              "      async function convertToInteractive(key) {\n",
              "        const element = document.querySelector('#df-292a5f0c-06f5-4c7c-8c5a-c8633f708200');\n",
              "        const dataTable =\n",
              "          await google.colab.kernel.invokeFunction('convertToInteractive',\n",
              "                                                    [key], {});\n",
              "        if (!dataTable) return;\n",
              "\n",
              "        const docLinkHtml = 'Like what you see? Visit the ' +\n",
              "          '<a target=\"_blank\" href=https://colab.research.google.com/notebooks/data_table.ipynb>data table notebook</a>'\n",
              "          + ' to learn more about interactive tables.';\n",
              "        element.innerHTML = '';\n",
              "        dataTable['output_type'] = 'display_data';\n",
              "        await google.colab.output.renderOutput(dataTable, element);\n",
              "        const docLink = document.createElement('div');\n",
              "        docLink.innerHTML = docLinkHtml;\n",
              "        element.appendChild(docLink);\n",
              "      }\n",
              "    </script>\n",
              "  </div>\n",
              "\n",
              "\n",
              "<div id=\"df-0db8283b-7efc-4cc8-873a-ef7aaded8f58\">\n",
              "  <button class=\"colab-df-quickchart\" onclick=\"quickchart('df-0db8283b-7efc-4cc8-873a-ef7aaded8f58')\"\n",
              "            title=\"Suggest charts\"\n",
              "            style=\"display:none;\">\n",
              "\n",
              "<svg xmlns=\"http://www.w3.org/2000/svg\" height=\"24px\"viewBox=\"0 0 24 24\"\n",
              "     width=\"24px\">\n",
              "    <g>\n",
              "        <path d=\"M19 3H5c-1.1 0-2 .9-2 2v14c0 1.1.9 2 2 2h14c1.1 0 2-.9 2-2V5c0-1.1-.9-2-2-2zM9 17H7v-7h2v7zm4 0h-2V7h2v10zm4 0h-2v-4h2v4z\"/>\n",
              "    </g>\n",
              "</svg>\n",
              "  </button>\n",
              "\n",
              "<style>\n",
              "  .colab-df-quickchart {\n",
              "      --bg-color: #E8F0FE;\n",
              "      --fill-color: #1967D2;\n",
              "      --hover-bg-color: #E2EBFA;\n",
              "      --hover-fill-color: #174EA6;\n",
              "      --disabled-fill-color: #AAA;\n",
              "      --disabled-bg-color: #DDD;\n",
              "  }\n",
              "\n",
              "  [theme=dark] .colab-df-quickchart {\n",
              "      --bg-color: #3B4455;\n",
              "      --fill-color: #D2E3FC;\n",
              "      --hover-bg-color: #434B5C;\n",
              "      --hover-fill-color: #FFFFFF;\n",
              "      --disabled-bg-color: #3B4455;\n",
              "      --disabled-fill-color: #666;\n",
              "  }\n",
              "\n",
              "  .colab-df-quickchart {\n",
              "    background-color: var(--bg-color);\n",
              "    border: none;\n",
              "    border-radius: 50%;\n",
              "    cursor: pointer;\n",
              "    display: none;\n",
              "    fill: var(--fill-color);\n",
              "    height: 32px;\n",
              "    padding: 0;\n",
              "    width: 32px;\n",
              "  }\n",
              "\n",
              "  .colab-df-quickchart:hover {\n",
              "    background-color: var(--hover-bg-color);\n",
              "    box-shadow: 0 1px 2px rgba(60, 64, 67, 0.3), 0 1px 3px 1px rgba(60, 64, 67, 0.15);\n",
              "    fill: var(--button-hover-fill-color);\n",
              "  }\n",
              "\n",
              "  .colab-df-quickchart-complete:disabled,\n",
              "  .colab-df-quickchart-complete:disabled:hover {\n",
              "    background-color: var(--disabled-bg-color);\n",
              "    fill: var(--disabled-fill-color);\n",
              "    box-shadow: none;\n",
              "  }\n",
              "\n",
              "  .colab-df-spinner {\n",
              "    border: 2px solid var(--fill-color);\n",
              "    border-color: transparent;\n",
              "    border-bottom-color: var(--fill-color);\n",
              "    animation:\n",
              "      spin 1s steps(1) infinite;\n",
              "  }\n",
              "\n",
              "  @keyframes spin {\n",
              "    0% {\n",
              "      border-color: transparent;\n",
              "      border-bottom-color: var(--fill-color);\n",
              "      border-left-color: var(--fill-color);\n",
              "    }\n",
              "    20% {\n",
              "      border-color: transparent;\n",
              "      border-left-color: var(--fill-color);\n",
              "      border-top-color: var(--fill-color);\n",
              "    }\n",
              "    30% {\n",
              "      border-color: transparent;\n",
              "      border-left-color: var(--fill-color);\n",
              "      border-top-color: var(--fill-color);\n",
              "      border-right-color: var(--fill-color);\n",
              "    }\n",
              "    40% {\n",
              "      border-color: transparent;\n",
              "      border-right-color: var(--fill-color);\n",
              "      border-top-color: var(--fill-color);\n",
              "    }\n",
              "    60% {\n",
              "      border-color: transparent;\n",
              "      border-right-color: var(--fill-color);\n",
              "    }\n",
              "    80% {\n",
              "      border-color: transparent;\n",
              "      border-right-color: var(--fill-color);\n",
              "      border-bottom-color: var(--fill-color);\n",
              "    }\n",
              "    90% {\n",
              "      border-color: transparent;\n",
              "      border-bottom-color: var(--fill-color);\n",
              "    }\n",
              "  }\n",
              "</style>\n",
              "\n",
              "  <script>\n",
              "    async function quickchart(key) {\n",
              "      const quickchartButtonEl =\n",
              "        document.querySelector('#' + key + ' button');\n",
              "      quickchartButtonEl.disabled = true;  // To prevent multiple clicks.\n",
              "      quickchartButtonEl.classList.add('colab-df-spinner');\n",
              "      try {\n",
              "        const charts = await google.colab.kernel.invokeFunction(\n",
              "            'suggestCharts', [key], {});\n",
              "      } catch (error) {\n",
              "        console.error('Error during call to suggestCharts:', error);\n",
              "      }\n",
              "      quickchartButtonEl.classList.remove('colab-df-spinner');\n",
              "      quickchartButtonEl.classList.add('colab-df-quickchart-complete');\n",
              "    }\n",
              "    (() => {\n",
              "      let quickchartButtonEl =\n",
              "        document.querySelector('#df-0db8283b-7efc-4cc8-873a-ef7aaded8f58 button');\n",
              "      quickchartButtonEl.style.display =\n",
              "        google.colab.kernel.accessAllowed ? 'block' : 'none';\n",
              "    })();\n",
              "  </script>\n",
              "</div>\n",
              "    </div>\n",
              "  </div>\n"
            ],
            "application/vnd.google.colaboratory.intrinsic+json": {
              "type": "dataframe",
              "variable_name": "df_scores",
              "summary": "{\n  \"name\": \"df_scores\",\n  \"rows\": 2,\n  \"fields\": [\n    {\n      \"column\": \"Silhouette Score\",\n      \"properties\": {\n        \"dtype\": \"number\",\n        \"std\": 0.014894339861166023,\n        \"min\": 0.24432033475905163,\n        \"max\": 0.2653841121933068,\n        \"num_unique_values\": 2,\n        \"samples\": [\n          0.24432033475905163,\n          0.2653841121933068\n        ],\n        \"semantic_type\": \"\",\n        \"description\": \"\"\n      }\n    },\n    {\n      \"column\": \"Calinski-Harabasz Score\",\n      \"properties\": {\n        \"dtype\": \"number\",\n        \"std\": 25.47539835655531,\n        \"min\": 379.93973019817685,\n        \"max\": 415.9673840608746,\n        \"num_unique_values\": 2,\n        \"samples\": [\n          379.93973019817685,\n          415.9673840608746\n        ],\n        \"semantic_type\": \"\",\n        \"description\": \"\"\n      }\n    },\n    {\n      \"column\": \"Davies-Bouldin Score\",\n      \"properties\": {\n        \"dtype\": \"number\",\n        \"std\": 0.09554418988284485,\n        \"min\": 1.426523217256511,\n        \"max\": 1.5616431063947804,\n        \"num_unique_values\": 2,\n        \"samples\": [\n          1.5616431063947804,\n          1.426523217256511\n        ],\n        \"semantic_type\": \"\",\n        \"description\": \"\"\n      }\n    }\n  ]\n}"
            }
          },
          "metadata": {}
        }
      ]
    },
    {
      "cell_type": "markdown",
      "source": [
        "Dari hasil perhitungan score dalam tahap evaluate results, dapat dinyatakan bahwa:\n",
        "\n",
        "1. **KMeans Score** memiliki Silhuette Score sebesar 0.265384 yang menunjukkan bahwa data cenderung cocok dengan kluster terbagi. Lalu terdapat juga Calinski-Harabasz Score sebesar 415.967384 yang menunjukkan bahwa kluster terpisah dengan baik. Kemudian, untuk Davies-Bouldin Score sebesar 1.426523 yang menunjukkan bahwa kluster memiliki pemisahan yang baik juga.\n",
        "2. **Agglomerative Clustering Score** memiliki Silhuette Score sebesar 0.244320, jika dibandingkan dengan KMeans, score yang dimiliki Agglomerative Clustering lebih rendah sehingga menunjukkan bahwa data KMeans lebih cocok ketimbang Agglomerative Clustering. Lalu terdapat juga Calinski-Harabasz Score sebesar 397.939730, semakin besar scorenya maka akan semakin baik juga kluster terpisah. Namun, jika membandingkan score Agglomerative dengan KMeans menunjukkan bahwa score Agglomerative lebih rendah dibandingkan dengan KMeans. Kemudian, untuk Davies-Bouldin Score sebesar 1.561643. Semakin rendah scorenya, maka semakin baik juga pemisahannya, namun jika dibandingkan score Agglomerative Cluster lebih tinggi ketimbang KMeans.\n",
        "\n",
        "Sehingga dapat disimpulkan bahwa diantara kedua model tersebut, model K-Means cenderung memberikan hasil yang lebih baik ketimbang Agglomerative Clustering/Hierarchical Clustering. Hal tersebut terlihat dari score Silhuette dan Calinski-Harabasz yang tinggi dan score Davies-Bouldin yang rendah. Ini menunjukkan hasil yang optimal dan algoritma tersebut cukup ideal untuk dilakukan pengukuran."
      ],
      "metadata": {
        "id": "10fnf5ehYEIk"
      }
    },
    {
      "cell_type": "markdown",
      "source": [
        "### **Review Process**"
      ],
      "metadata": {
        "id": "vEohWvnPBddG"
      }
    },
    {
      "cell_type": "markdown",
      "source": [
        "#### **Cross Validation**"
      ],
      "metadata": {
        "id": "6dJMbsmpw9mx"
      }
    },
    {
      "cell_type": "markdown",
      "source": [
        "##### **KFold**"
      ],
      "metadata": {
        "id": "jn480YsrIIKg"
      }
    },
    {
      "cell_type": "markdown",
      "source": [
        "###### K-Means"
      ],
      "metadata": {
        "id": "Am4u5IwCzZ45"
      }
    },
    {
      "cell_type": "code",
      "source": [
        "kmeans = KMeans(n_clusters=3, n_init=10)\n",
        "kf = KFold(n_splits=5, shuffle=True, random_state=42)\n",
        "\n",
        "silhouette_scores = []\n",
        "ch_scores = []\n",
        "db_scores = []\n",
        "\n",
        "for train_index, test_index in kf.split(x_final_norm):\n",
        "    x_train, x_test = x_final_norm[train_index], x_final_norm[test_index]\n",
        "\n",
        "    kmeans.fit(x_train)\n",
        "    kmeans_labels = kmeans.predict(x_test)\n",
        "\n",
        "    silhouette_scores.append(silhouette_avg_kmeans)\n",
        "    ch_scores.append(ch_score_kmeans)\n",
        "    db_scores.append(db_score_kmeans)\n",
        "\n",
        "avg_kmeans_silhouette = sum(silhouette_scores) / len(silhouette_scores)\n",
        "avg_kmeans_ch = sum(ch_scores) / len(ch_scores)\n",
        "avg_kmeans_db = sum(db_scores) / len(db_scores)\n",
        "\n",
        "print(\"Average Silhouette Score (KFold - KM):\", avg_kmeans_silhouette)\n",
        "print(\"Average Calinski-Harabasz Score (KFold - KM):\", avg_kmeans_ch)\n",
        "print(\"Average Davies-Bouldin Score (KFold - KM):\", avg_kmeans_db)"
      ],
      "metadata": {
        "colab": {
          "base_uri": "https://localhost:8080/"
        },
        "id": "JsXUl8ddzkG9",
        "outputId": "eb1a5a83-b5d2-40b1-ee9e-80bbc3e46f0d"
      },
      "execution_count": 173,
      "outputs": [
        {
          "output_type": "stream",
          "name": "stdout",
          "text": [
            "Average Silhouette Score (KFold - KM): 0.2653841121933068\n",
            "Average Calinski-Harabasz Score (KFold - KM): 415.9673840608746\n",
            "Average Davies-Bouldin Score (KFold - KM): 1.426523217256511\n"
          ]
        }
      ]
    },
    {
      "cell_type": "markdown",
      "source": [
        " Langkah di atas dilakukan untuk evaluasi kinerja model KMeans dalam tugas clustering menggunakan pendekatan validasi silang KFold. Melalui proses ini, data dibagi menjadi lipatan yang saling terpisah untuk memvalidasi model secara lebih akurat. Setiap lipatan digunakan sebagai data uji sementara yang lainnya sebagai data latih. Model KMeans dilatih pada data latih dari setiap lipatan dan kemudian dievaluasi menggunakan data uji untuk menghitung skor evaluasi seperti silhouette score, Calinski-Harabasz score, dan Davies-Bouldin score. Skor-skor ini kemudian dirata-ratakan untuk memberikan gambaran yang lebih menyeluruh tentang kinerja model KMeans secara keseluruhan. Tujuan dari evaluasi ini adalah untuk memahami seberapa baik model mampu melakukan pengelompokan data menjadi kluster yang bermakna dan seberapa optimal model tersebut terhadap variasi dalam data, sehingga memungkinkan pemilihan model yang paling sesuai untuk tujuan analisis data yang dihadapi."
      ],
      "metadata": {
        "id": "iRatyxd4-lcv"
      }
    },
    {
      "cell_type": "markdown",
      "source": [
        "###### Hierarchical Clustering"
      ],
      "metadata": {
        "id": "8Ze38WQ3zfQf"
      }
    },
    {
      "cell_type": "code",
      "source": [
        "kf = KFold(n_splits=5, shuffle=True, random_state=42)\n",
        "\n",
        "silhouette_scores = []\n",
        "ch_scores = []\n",
        "db_scores = []\n",
        "\n",
        "for train_index, test_index in kf.split(x_final_norm):\n",
        "    x_train, x_test = x_final_norm[train_index], x_final_norm[test_index]\n",
        "\n",
        "    hierarchy_clust = AgglomerativeClustering(n_clusters=3)\n",
        "    hierarchy_clust.fit(x_train)\n",
        "    hierarchy_labels = hierarchy_clust.fit_predict(x_test)\n",
        "\n",
        "    silhouette_scores.append(silhouette_avg_hierarchy)\n",
        "    ch_scores.append(ch_score_hierarchy)\n",
        "    db_scores.append(db_score_hierarchy)\n",
        "\n",
        "avg_hierarchy_silhouette = sum(silhouette_scores) / len(silhouette_scores)\n",
        "avg_hierarchy_ch = sum(ch_scores) / len(ch_scores)\n",
        "avg_hierarchy_db = sum(db_scores) / len(db_scores)\n",
        "\n",
        "print(\"Average Silhouette Score (KFold - HC):\", avg_hierarchy_silhouette)\n",
        "print(\"Average Calinski-Harabasz Score (KFold - HC):\", avg_hierarchy_ch)\n",
        "print(\"Average Davies-Bouldin Score (KFold - HC):\", avg_hierarchy_db)"
      ],
      "metadata": {
        "colab": {
          "base_uri": "https://localhost:8080/"
        },
        "id": "iDPYAl5Izkw8",
        "outputId": "fe7f7c9f-49ed-45c7-8161-1d253d1c4b5f"
      },
      "execution_count": 174,
      "outputs": [
        {
          "output_type": "stream",
          "name": "stdout",
          "text": [
            "Average Silhouette Score (KFold - HC): 0.25237229230435854\n",
            "Average Calinski-Harabasz Score (KFold - HC): 77.48415924842318\n",
            "Average Davies-Bouldin Score (KFold - HC): 1.4803398882348084\n"
          ]
        }
      ]
    },
    {
      "cell_type": "markdown",
      "source": [
        "Langkah di atas dilakukan untuk evaluasi kinerja Hierarchical Clustering menggunakan pendekatan validasi silang KFold. Melalui proses ini, data dibagi menjadi lipatan yang saling terpisah untuk memvalidasi model secara lebih akurat. Setiap lipatan digunakan sebagai data uji sementara yang lainnya sebagai data latih. Model Hierarchical Clustering dilatih pada data latih dari setiap lipatan dan kemudian dievaluasi menggunakan data uji untuk menghitung skor evaluasi seperti silhouette score, Calinski-Harabasz score, dan Davies-Bouldin score. Skor-skor ini kemudian dirata-ratakan untuk memberikan gambaran yang lebih menyeluruh tentang kinerja model Hierarchical Clustering secara keseluruhan. Tujuan dari evaluasi ini adalah untuk memahami seberapa baik model mampu melakukan pengelompokan data menjadi kluster yang bermakna dan seberapa optimal model tersebut terhadap variasi dalam data, sehingga memungkinkan pemilihan model yang paling sesuai untuk tujuan analisis data yang dihadapi."
      ],
      "metadata": {
        "id": "3Sw4lGZIC1Fp"
      }
    },
    {
      "cell_type": "markdown",
      "source": [
        "###### Hasil"
      ],
      "metadata": {
        "id": "vJkpLap_IRx8"
      }
    },
    {
      "cell_type": "markdown",
      "source": [
        "Jadi, dari kedua langkah yang dilakukan tersebut didapatkan bahwa model KMeans lebih optimal dibandingkan dengan model Hierarchical Clustering saat dilihat melalui rata-rata yang sudah melalui proses perhitungan dari score evaluasi silhouette score, Calinski-Harabasz score, dan Davies-Bouldin score."
      ],
      "metadata": {
        "id": "ttgUDPTfIWuv"
      }
    },
    {
      "cell_type": "markdown",
      "source": [
        "##### **Validasi Silang KMeans dan Hierarchical Clustering**"
      ],
      "metadata": {
        "id": "Vx3ciDwoHvLt"
      }
    },
    {
      "cell_type": "code",
      "source": [
        "kmeans = KMeans(n_clusters=3, n_init=10)\n",
        "\n",
        "hierarchy_clust = AgglomerativeClustering(n_clusters=3)\n",
        "\n",
        "kf = KFold(n_splits=5, shuffle=True, random_state=42)\n",
        "\n",
        "kmeans_scores = {'silhouette': [], 'calinski_harabasz': [], 'davies_bouldin': []}\n",
        "hierarchy_scores = {'silhouette': [], 'calinski_harabasz': [], 'davies_bouldin': []}\n",
        "\n",
        "for train_index, test_index in kf.split(x_final_norm):\n",
        "    x_train, x_test = x_final_norm[train_index], x_final_norm[test_index]\n",
        "\n",
        "    kmeans.fit(x_train)\n",
        "    kmeans_labels = kmeans.predict(x_test)\n",
        "\n",
        "    silhouette_kmeans = silhouette_score(x_test, kmeans_labels)\n",
        "    ch_kmeans = calinski_harabasz_score(x_test, kmeans_labels)\n",
        "    db_kmeans = davies_bouldin_score(x_test, kmeans_labels)\n",
        "\n",
        "    kmeans_scores['silhouette'].append(silhouette_kmeans)\n",
        "    kmeans_scores['calinski_harabasz'].append(ch_kmeans)\n",
        "    kmeans_scores['davies_bouldin'].append(db_kmeans)\n",
        "\n",
        "    hierarchy_clust.fit(x_train)\n",
        "    hierarchy_labels = hierarchy_clust.fit_predict(x_test)\n",
        "\n",
        "    silhouette_hierarchy = silhouette_score(x_test, hierarchy_labels)\n",
        "    ch_hierarchy = calinski_harabasz_score(x_test, hierarchy_labels)\n",
        "    db_hierarchy = davies_bouldin_score(x_test, hierarchy_labels)\n",
        "\n",
        "    hierarchy_scores['silhouette'].append(silhouette_hierarchy)\n",
        "    hierarchy_scores['calinski_harabasz'].append(ch_hierarchy)\n",
        "    hierarchy_scores['davies_bouldin'].append(db_hierarchy)\n",
        "\n",
        "df_kmeans_scores = pd.DataFrame(kmeans_scores)\n",
        "df_hierarchy_scores = pd.DataFrame(hierarchy_scores)\n",
        "\n",
        "plt.figure(figsize=(15, 5))\n",
        "\n",
        "plt.subplot(1, 3, 1)\n",
        "sns.lineplot(data=df_kmeans_scores['silhouette'], markers=True, label='KMeans')\n",
        "sns.lineplot(data=df_hierarchy_scores['silhouette'], markers=True, label='Hierarchical Clustering')\n",
        "plt.title('Silhouette Score')\n",
        "plt.xlabel('Fold')\n",
        "plt.ylabel('Score')\n",
        "\n",
        "plt.subplot(1, 3, 2)\n",
        "sns.lineplot(data=df_kmeans_scores['calinski_harabasz'], markers=True, label='KMeans')\n",
        "sns.lineplot(data=df_hierarchy_scores['calinski_harabasz'], markers=True, label='Hierarchical Clustering')\n",
        "plt.title('Calinski-Harabasz Score')\n",
        "plt.xlabel('Fold')\n",
        "plt.ylabel('Score')\n",
        "\n",
        "plt.subplot(1, 3, 3)\n",
        "sns.lineplot(data=df_kmeans_scores['davies_bouldin'], markers=True, label='KMeans')\n",
        "sns.lineplot(data=df_hierarchy_scores['davies_bouldin'], markers=True, label='Hierarchical Clustering')\n",
        "plt.title('Davies-Bouldin Score')\n",
        "plt.xlabel('Fold')\n",
        "plt.ylabel('Score')\n",
        "\n",
        "plt.tight_layout()\n",
        "plt.show()"
      ],
      "metadata": {
        "colab": {
          "base_uri": "https://localhost:8080/",
          "height": 398
        },
        "id": "u40_vOzpFXXO",
        "outputId": "fb02c553-9dfd-49a7-f5d3-4f1afdf93401"
      },
      "execution_count": 175,
      "outputs": [
        {
          "output_type": "display_data",
          "data": {
            "text/plain": [
              "<Figure size 1500x500 with 3 Axes>"
            ],
            "image/png": "[encoded data removed]"
          },
          "metadata": {}
        }
      ]
    },
    {
      "cell_type": "markdown",
      "source": [
        "Berdasarkan validasi silang yang dilakukan dan disajikan dalam bentuk plot, maka dapat dinyatakan bahwa:\n",
        "\n",
        "1. **Silhouette Score**: Silhouette score mengukur seberapa baik setiap data point diklasifikasikan dalam clusternya. Skor yang lebih tinggi menunjukkan clustering yang lebih baik. Plot ini menunjukkan silhouette score untuk berbagai jumlah fold dan KMeans memiliki skor yang lebih tinggi.\n",
        "\n",
        "2. **Calinski-Harabasz Score**: Calinski-Harabasz score adalah metrik lain untuk mengevaluasi clustering. Skor yang lebih tinggi menunjukkan clustering yang lebih baik. Plot ini menunjukkan Calinski-Harabasz score untuk berbagai jumlah fold dan KMeans memiliki skor yang lebih tinggi.\n",
        "\n",
        "3. **Davies-Bouldin Score**: Davies-Bouldin score adalah metrik yang mengukur scatter antar cluster. Skor yang lebih rendah menunjukkan clustering yang lebih baik. Plot ini menunjukkan Davies-Bouldin score untuk berbagai jumlah fold dan KMeans memiliki skor yang lebih rendah.\n",
        "\n",
        "Jadi, dapat disimpulkan bahwa KMeans adalah algoritma yang lebih optimal dibandingkan dengan Hierarchical Clustering."
      ],
      "metadata": {
        "id": "g5Z6vgslKeRy"
      }
    },
    {
      "cell_type": "markdown",
      "source": [
        "#### **Feature Selection**"
      ],
      "metadata": {
        "id": "Atj6MyUsBwKZ"
      }
    },
    {
      "cell_type": "code",
      "source": [
        "selector = SelectKBest(score_func=chi2, k=3)\n",
        "\n",
        "kmeans_clust = KMeans(n_clusters=3, random_state=42)\n",
        "\n",
        "kmeans_clust.fit(x_final_norm)\n",
        "cluster_labels = kmeans_clust.labels_\n",
        "selector.fit(x_final_norm, cluster_labels)\n",
        "feature_ranks = selector.scores_\n",
        "feature_names = df_x_final_norm.columns\n",
        "\n",
        "feature_ranks_df = pd.DataFrame({'Feature': feature_names, 'Rank': feature_ranks})\n",
        "feature_ranks_df = feature_ranks_df.sort_values(by='Rank', ascending=False)\n",
        "\n",
        "plt.figure(figsize=(10, 6))\n",
        "plt.barh(feature_ranks_df['Feature'], feature_ranks_df['Rank'], color='skyblue')\n",
        "plt.xlabel('Rank')\n",
        "plt.ylabel('Feature')\n",
        "plt.title('K-Means Feature Ranking')\n",
        "plt.gca().invert_yaxis()\n",
        "plt.show()"
      ],
      "metadata": {
        "colab": {
          "base_uri": "https://localhost:8080/",
          "height": 619
        },
        "id": "rJEVL2ltcFZ7",
        "outputId": "72bf4e0c-d5da-48db-eb6e-f0f6174b784a"
      },
      "execution_count": 169,
      "outputs": [
        {
          "output_type": "stream",
          "name": "stderr",
          "text": [
            "/usr/local/lib/python3.10/dist-packages/sklearn/cluster/_kmeans.py:870: FutureWarning: The default value of `n_init` will change from 10 to 'auto' in 1.4. Set the value of `n_init` explicitly to suppress the warning\n",
            "  warnings.warn(\n"
          ]
        },
        {
          "output_type": "display_data",
          "data": {
            "text/plain": [
              "<Figure size 1000x600 with 1 Axes>"
            ],
            "image/png": "[encoded data removed]"
          },
          "metadata": {}
        }
      ]
    },
    {
      "cell_type": "markdown",
      "source": [
        "Setelah melakukan cross validation ditentukan bahwa model KMeans adalah algoritma yang paling optimal. Kemudian, dari model tersebut ditentukan fitur-fitur yang memiliki pengaruh terhadap algoritma tersebut dan didapatkan hasil seperti di atas. Dapat dilihat bahwa client_type adalah yang paling berpengaruh karena memiliki rank paling tinggi pertama, diikuti dengan warehouse dengan rank kedua, quantity dengan rank ketiga, total dengan rank keempat, payment dengan rank kelima, dst. Fitur-fitur tersebutlah yang nantinya berpengaruh pada algoritma kedepannya pada saat melakukan analisis."
      ],
      "metadata": {
        "id": "73VGpmqwVS_t"
      }
    },
    {
      "cell_type": "markdown",
      "source": [
        "#### **Tuning Hyperparameter**"
      ],
      "metadata": {
        "id": "xInvtxUhB1TY"
      }
    },
    {
      "cell_type": "code",
      "source": [
        "kmeans_before_tuning = KMeans(n_clusters=3, n_init=10)\n",
        "\n",
        "kmeans_after_tuning = KMeans(n_clusters=3, init='k-means++', n_init=20, max_iter=300)\n",
        "\n",
        "kf = KFold(n_splits=5, shuffle=True, random_state=42)\n",
        "\n",
        "silhouette_scores_before_tuning = []\n",
        "silhouette_scores_after_tuning = []\n",
        "\n",
        "for train_index, test_index in kf.split(x_final_norm):\n",
        "    x_train, x_test = x_final_norm[train_index], x_final_norm[test_index]\n",
        "\n",
        "    kmeans_before_tuning.fit(x_train)\n",
        "    kmeans_labels_before_tuning = kmeans_before_tuning.predict(x_test)\n",
        "    silhouette_avg_before_tuning = silhouette_score(x_test, kmeans_labels_before_tuning)\n",
        "    silhouette_scores_before_tuning.append(silhouette_avg_before_tuning)\n",
        "\n",
        "    kmeans_after_tuning.fit(x_train)\n",
        "    kmeans_labels_after_tuning = kmeans_after_tuning.predict(x_test)\n",
        "    silhouette_avg_after_tuning = silhouette_score(x_test, kmeans_labels_after_tuning)\n",
        "    silhouette_scores_after_tuning.append(silhouette_avg_after_tuning)\n",
        "\n",
        "avg_silhouette_before_tuning = np.mean(silhouette_scores_before_tuning)\n",
        "avg_silhouette_after_tuning = np.mean(silhouette_scores_after_tuning)\n",
        "\n",
        "print(\"Rata-rata Skor Silhouette Sebelum Tuning:\", avg_silhouette_before_tuning)\n",
        "print(\"Rata-rata Skor Silhouette Sesudah Tuning:\", avg_silhouette_after_tuning)\n"
      ],
      "metadata": {
        "colab": {
          "base_uri": "https://localhost:8080/"
        },
        "id": "2ShWbsjfWXRB",
        "outputId": "34a6b787-8738-4746-e948-2bcb0f2a16ea"
      },
      "execution_count": 178,
      "outputs": [
        {
          "output_type": "stream",
          "name": "stdout",
          "text": [
            "Rata-rata Skor Silhouette Sebelum Tuning: 0.26401349250511374\n",
            "Rata-rata Skor Silhouette Sesudah Tuning: 0.26548957468749335\n"
          ]
        }
      ]
    },
    {
      "cell_type": "markdown",
      "source": [
        "Seperti yang diketahui sebelumnya bahwa KMeans adalah algoritma yang lebih optimal dibandingkan algoritma lain, sehingga langkah selanjutnya yang dilakukan adalah tuning hyperparameter. Tuning Hyperparameter dilakukan pada KMeans sebagai algoritma yang paling optimal untuk melihat perbandingan kinerja algoritma dari sebelum dan sesudah dilakukan tuning. Dapat dilihat hasil tuning diatas bahwa skor sesudah melakukan tuning sedikit meningkat dibandingkan dengan sebelum dilakukan tuning. Dengan demikian, dapat dikatakan bahwa jika mengalami peningkatan menandakan bahwa data dalam keadaan baik."
      ],
      "metadata": {
        "id": "0uXtomHraQ4G"
      }
    },
    {
      "cell_type": "markdown",
      "source": [
        "### **Determine Next Steps**"
      ],
      "metadata": {
        "id": "HPVMeIN0Bg_P"
      }
    },
    {
      "cell_type": "markdown",
      "source": [
        "Dalam tahapan evaluasi adalah tahap yang dilakukan untuk dilakukan pengembangan pada model dengan mengevaluasi hasil yang sebelumnya telah dilakukan. Jadi yang pertama dilakukan adalah melakukan evaluate resul dengan hasil bahwa model KMeans adalah algoritma yang optimal. Kemudian untuk memastikan hal tersebut dilakukan review process dengan melakukan cross validation, fiture selection, dan tuning hyperparameter. Dengan dilakukannya ketiga hal tersebut didapatkan hasil bahwa KMeans merupakan model yang cocok untuk digunakan dalam analisis ini dan terdapat fitur-fitur ikut mempengaruhi, serta setelah dilakukan tuning hyperparameter didapatkan hasil bahwa data yang digunakan dalam keadaan baik karena hasil setelah dilakukan tuning sedikit mengalami peningkatan. Dengan demikian, proses analisis dapat dilanjutkan ketahap selanjutnya dengan menggunakan model KMeans sebagai algoritma yang lebih optimal dibandingkan dengan model Hierarchical Clustering."
      ],
      "metadata": {
        "id": "jS4IC3_DBq8-"
      }
    }
  ]
}